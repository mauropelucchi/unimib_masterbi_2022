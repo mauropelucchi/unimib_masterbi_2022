{
  "nbformat": 4,
  "nbformat_minor": 0,
  "metadata": {
    "colab": {
      "name": "2_Web_Scraping_with_Selenium.ipynb",
      "provenance": [],
      "collapsed_sections": [
        "STZyncI72HU0"
      ]
    },
    "kernelspec": {
      "name": "python3",
      "display_name": "Python 3"
    },
    "widgets": {
      "application/vnd.jupyter.widget-state+json": {
        "ce7382a2bb014eb2a5b692d139ff84d0": {
          "model_module": "@jupyter-widgets/controls",
          "model_name": "HBoxModel",
          "model_module_version": "1.5.0",
          "state": {
            "_dom_classes": [],
            "_model_module": "@jupyter-widgets/controls",
            "_model_module_version": "1.5.0",
            "_model_name": "HBoxModel",
            "_view_count": null,
            "_view_module": "@jupyter-widgets/controls",
            "_view_module_version": "1.5.0",
            "_view_name": "HBoxView",
            "box_style": "",
            "children": [
              "IPY_MODEL_ad0f27130f7e42e2a4f2b2e6f8009c28",
              "IPY_MODEL_68b6bd51118c4db9aaf30035145efdbf",
              "IPY_MODEL_f884b68755784d7da3d7d640e47deb4b"
            ],
            "layout": "IPY_MODEL_882ca4da4a6c40afae95f7792a0ae105"
          }
        },
        "ad0f27130f7e42e2a4f2b2e6f8009c28": {
          "model_module": "@jupyter-widgets/controls",
          "model_name": "HTMLModel",
          "model_module_version": "1.5.0",
          "state": {
            "_dom_classes": [],
            "_model_module": "@jupyter-widgets/controls",
            "_model_module_version": "1.5.0",
            "_model_name": "HTMLModel",
            "_view_count": null,
            "_view_module": "@jupyter-widgets/controls",
            "_view_module_version": "1.5.0",
            "_view_name": "HTMLView",
            "description": "",
            "description_tooltip": null,
            "layout": "IPY_MODEL_d17c1a741a2d46e0a3152640477bad1b",
            "placeholder": "​",
            "style": "IPY_MODEL_0552a5c7bb4c455b8292ad5df3dea104",
            "value": "100%"
          }
        },
        "68b6bd51118c4db9aaf30035145efdbf": {
          "model_module": "@jupyter-widgets/controls",
          "model_name": "FloatProgressModel",
          "model_module_version": "1.5.0",
          "state": {
            "_dom_classes": [],
            "_model_module": "@jupyter-widgets/controls",
            "_model_module_version": "1.5.0",
            "_model_name": "FloatProgressModel",
            "_view_count": null,
            "_view_module": "@jupyter-widgets/controls",
            "_view_module_version": "1.5.0",
            "_view_name": "ProgressView",
            "bar_style": "success",
            "description": "",
            "description_tooltip": null,
            "layout": "IPY_MODEL_448125a2915d463ea133657e84e0be41",
            "max": 12,
            "min": 0,
            "orientation": "horizontal",
            "style": "IPY_MODEL_b7c306eec8174e50bb56916bac53b8a7",
            "value": 12
          }
        },
        "f884b68755784d7da3d7d640e47deb4b": {
          "model_module": "@jupyter-widgets/controls",
          "model_name": "HTMLModel",
          "model_module_version": "1.5.0",
          "state": {
            "_dom_classes": [],
            "_model_module": "@jupyter-widgets/controls",
            "_model_module_version": "1.5.0",
            "_model_name": "HTMLModel",
            "_view_count": null,
            "_view_module": "@jupyter-widgets/controls",
            "_view_module_version": "1.5.0",
            "_view_name": "HTMLView",
            "description": "",
            "description_tooltip": null,
            "layout": "IPY_MODEL_3c3ba312e09e48089fa3197686a7d61f",
            "placeholder": "​",
            "style": "IPY_MODEL_abae6f33f382487ca28afcb84b234cf2",
            "value": " 12/12 [00:03&lt;00:00,  3.55it/s]"
          }
        },
        "882ca4da4a6c40afae95f7792a0ae105": {
          "model_module": "@jupyter-widgets/base",
          "model_name": "LayoutModel",
          "model_module_version": "1.2.0",
          "state": {
            "_model_module": "@jupyter-widgets/base",
            "_model_module_version": "1.2.0",
            "_model_name": "LayoutModel",
            "_view_count": null,
            "_view_module": "@jupyter-widgets/base",
            "_view_module_version": "1.2.0",
            "_view_name": "LayoutView",
            "align_content": null,
            "align_items": null,
            "align_self": null,
            "border": null,
            "bottom": null,
            "display": null,
            "flex": null,
            "flex_flow": null,
            "grid_area": null,
            "grid_auto_columns": null,
            "grid_auto_flow": null,
            "grid_auto_rows": null,
            "grid_column": null,
            "grid_gap": null,
            "grid_row": null,
            "grid_template_areas": null,
            "grid_template_columns": null,
            "grid_template_rows": null,
            "height": null,
            "justify_content": null,
            "justify_items": null,
            "left": null,
            "margin": null,
            "max_height": null,
            "max_width": null,
            "min_height": null,
            "min_width": null,
            "object_fit": null,
            "object_position": null,
            "order": null,
            "overflow": null,
            "overflow_x": null,
            "overflow_y": null,
            "padding": null,
            "right": null,
            "top": null,
            "visibility": null,
            "width": null
          }
        },
        "d17c1a741a2d46e0a3152640477bad1b": {
          "model_module": "@jupyter-widgets/base",
          "model_name": "LayoutModel",
          "model_module_version": "1.2.0",
          "state": {
            "_model_module": "@jupyter-widgets/base",
            "_model_module_version": "1.2.0",
            "_model_name": "LayoutModel",
            "_view_count": null,
            "_view_module": "@jupyter-widgets/base",
            "_view_module_version": "1.2.0",
            "_view_name": "LayoutView",
            "align_content": null,
            "align_items": null,
            "align_self": null,
            "border": null,
            "bottom": null,
            "display": null,
            "flex": null,
            "flex_flow": null,
            "grid_area": null,
            "grid_auto_columns": null,
            "grid_auto_flow": null,
            "grid_auto_rows": null,
            "grid_column": null,
            "grid_gap": null,
            "grid_row": null,
            "grid_template_areas": null,
            "grid_template_columns": null,
            "grid_template_rows": null,
            "height": null,
            "justify_content": null,
            "justify_items": null,
            "left": null,
            "margin": null,
            "max_height": null,
            "max_width": null,
            "min_height": null,
            "min_width": null,
            "object_fit": null,
            "object_position": null,
            "order": null,
            "overflow": null,
            "overflow_x": null,
            "overflow_y": null,
            "padding": null,
            "right": null,
            "top": null,
            "visibility": null,
            "width": null
          }
        },
        "0552a5c7bb4c455b8292ad5df3dea104": {
          "model_module": "@jupyter-widgets/controls",
          "model_name": "DescriptionStyleModel",
          "model_module_version": "1.5.0",
          "state": {
            "_model_module": "@jupyter-widgets/controls",
            "_model_module_version": "1.5.0",
            "_model_name": "DescriptionStyleModel",
            "_view_count": null,
            "_view_module": "@jupyter-widgets/base",
            "_view_module_version": "1.2.0",
            "_view_name": "StyleView",
            "description_width": ""
          }
        },
        "448125a2915d463ea133657e84e0be41": {
          "model_module": "@jupyter-widgets/base",
          "model_name": "LayoutModel",
          "model_module_version": "1.2.0",
          "state": {
            "_model_module": "@jupyter-widgets/base",
            "_model_module_version": "1.2.0",
            "_model_name": "LayoutModel",
            "_view_count": null,
            "_view_module": "@jupyter-widgets/base",
            "_view_module_version": "1.2.0",
            "_view_name": "LayoutView",
            "align_content": null,
            "align_items": null,
            "align_self": null,
            "border": null,
            "bottom": null,
            "display": null,
            "flex": null,
            "flex_flow": null,
            "grid_area": null,
            "grid_auto_columns": null,
            "grid_auto_flow": null,
            "grid_auto_rows": null,
            "grid_column": null,
            "grid_gap": null,
            "grid_row": null,
            "grid_template_areas": null,
            "grid_template_columns": null,
            "grid_template_rows": null,
            "height": null,
            "justify_content": null,
            "justify_items": null,
            "left": null,
            "margin": null,
            "max_height": null,
            "max_width": null,
            "min_height": null,
            "min_width": null,
            "object_fit": null,
            "object_position": null,
            "order": null,
            "overflow": null,
            "overflow_x": null,
            "overflow_y": null,
            "padding": null,
            "right": null,
            "top": null,
            "visibility": null,
            "width": null
          }
        },
        "b7c306eec8174e50bb56916bac53b8a7": {
          "model_module": "@jupyter-widgets/controls",
          "model_name": "ProgressStyleModel",
          "model_module_version": "1.5.0",
          "state": {
            "_model_module": "@jupyter-widgets/controls",
            "_model_module_version": "1.5.0",
            "_model_name": "ProgressStyleModel",
            "_view_count": null,
            "_view_module": "@jupyter-widgets/base",
            "_view_module_version": "1.2.0",
            "_view_name": "StyleView",
            "bar_color": null,
            "description_width": ""
          }
        },
        "3c3ba312e09e48089fa3197686a7d61f": {
          "model_module": "@jupyter-widgets/base",
          "model_name": "LayoutModel",
          "model_module_version": "1.2.0",
          "state": {
            "_model_module": "@jupyter-widgets/base",
            "_model_module_version": "1.2.0",
            "_model_name": "LayoutModel",
            "_view_count": null,
            "_view_module": "@jupyter-widgets/base",
            "_view_module_version": "1.2.0",
            "_view_name": "LayoutView",
            "align_content": null,
            "align_items": null,
            "align_self": null,
            "border": null,
            "bottom": null,
            "display": null,
            "flex": null,
            "flex_flow": null,
            "grid_area": null,
            "grid_auto_columns": null,
            "grid_auto_flow": null,
            "grid_auto_rows": null,
            "grid_column": null,
            "grid_gap": null,
            "grid_row": null,
            "grid_template_areas": null,
            "grid_template_columns": null,
            "grid_template_rows": null,
            "height": null,
            "justify_content": null,
            "justify_items": null,
            "left": null,
            "margin": null,
            "max_height": null,
            "max_width": null,
            "min_height": null,
            "min_width": null,
            "object_fit": null,
            "object_position": null,
            "order": null,
            "overflow": null,
            "overflow_x": null,
            "overflow_y": null,
            "padding": null,
            "right": null,
            "top": null,
            "visibility": null,
            "width": null
          }
        },
        "abae6f33f382487ca28afcb84b234cf2": {
          "model_module": "@jupyter-widgets/controls",
          "model_name": "DescriptionStyleModel",
          "model_module_version": "1.5.0",
          "state": {
            "_model_module": "@jupyter-widgets/controls",
            "_model_module_version": "1.5.0",
            "_model_name": "DescriptionStyleModel",
            "_view_count": null,
            "_view_module": "@jupyter-widgets/base",
            "_view_module_version": "1.2.0",
            "_view_name": "StyleView",
            "description_width": ""
          }
        },
        "467b67b5143f4674afbadfe3aedc4d99": {
          "model_module": "@jupyter-widgets/controls",
          "model_name": "HBoxModel",
          "model_module_version": "1.5.0",
          "state": {
            "_dom_classes": [],
            "_model_module": "@jupyter-widgets/controls",
            "_model_module_version": "1.5.0",
            "_model_name": "HBoxModel",
            "_view_count": null,
            "_view_module": "@jupyter-widgets/controls",
            "_view_module_version": "1.5.0",
            "_view_name": "HBoxView",
            "box_style": "",
            "children": [
              "IPY_MODEL_6e50ebcb687d4078b4e36946cc7db714",
              "IPY_MODEL_11580d8721de4996a6319b08217be44e",
              "IPY_MODEL_ee89c1e82f6c4f43bfa70e299628441c"
            ],
            "layout": "IPY_MODEL_314be0d2ca9545b28a49e1a0fc785648"
          }
        },
        "6e50ebcb687d4078b4e36946cc7db714": {
          "model_module": "@jupyter-widgets/controls",
          "model_name": "HTMLModel",
          "model_module_version": "1.5.0",
          "state": {
            "_dom_classes": [],
            "_model_module": "@jupyter-widgets/controls",
            "_model_module_version": "1.5.0",
            "_model_name": "HTMLModel",
            "_view_count": null,
            "_view_module": "@jupyter-widgets/controls",
            "_view_module_version": "1.5.0",
            "_view_name": "HTMLView",
            "description": "",
            "description_tooltip": null,
            "layout": "IPY_MODEL_df4bcdf7a3424495bffd08358be26b1c",
            "placeholder": "​",
            "style": "IPY_MODEL_88673b8480c5427482bb255b1972a4a2",
            "value": "100%"
          }
        },
        "11580d8721de4996a6319b08217be44e": {
          "model_module": "@jupyter-widgets/controls",
          "model_name": "FloatProgressModel",
          "model_module_version": "1.5.0",
          "state": {
            "_dom_classes": [],
            "_model_module": "@jupyter-widgets/controls",
            "_model_module_version": "1.5.0",
            "_model_name": "FloatProgressModel",
            "_view_count": null,
            "_view_module": "@jupyter-widgets/controls",
            "_view_module_version": "1.5.0",
            "_view_name": "ProgressView",
            "bar_style": "success",
            "description": "",
            "description_tooltip": null,
            "layout": "IPY_MODEL_6db1abc52f4b4f1a8e6503b76e58bc7c",
            "max": 9,
            "min": 0,
            "orientation": "horizontal",
            "style": "IPY_MODEL_9faa4582e05642a18c4de56eb619de4c",
            "value": 9
          }
        },
        "ee89c1e82f6c4f43bfa70e299628441c": {
          "model_module": "@jupyter-widgets/controls",
          "model_name": "HTMLModel",
          "model_module_version": "1.5.0",
          "state": {
            "_dom_classes": [],
            "_model_module": "@jupyter-widgets/controls",
            "_model_module_version": "1.5.0",
            "_model_name": "HTMLModel",
            "_view_count": null,
            "_view_module": "@jupyter-widgets/controls",
            "_view_module_version": "1.5.0",
            "_view_name": "HTMLView",
            "description": "",
            "description_tooltip": null,
            "layout": "IPY_MODEL_1a95a4a7744d459a9ca190025c87d9f1",
            "placeholder": "​",
            "style": "IPY_MODEL_37c3f54e5d7349ceb5af098f4515afe4",
            "value": " 9/9 [01:05&lt;00:00,  7.54s/it]"
          }
        },
        "314be0d2ca9545b28a49e1a0fc785648": {
          "model_module": "@jupyter-widgets/base",
          "model_name": "LayoutModel",
          "model_module_version": "1.2.0",
          "state": {
            "_model_module": "@jupyter-widgets/base",
            "_model_module_version": "1.2.0",
            "_model_name": "LayoutModel",
            "_view_count": null,
            "_view_module": "@jupyter-widgets/base",
            "_view_module_version": "1.2.0",
            "_view_name": "LayoutView",
            "align_content": null,
            "align_items": null,
            "align_self": null,
            "border": null,
            "bottom": null,
            "display": null,
            "flex": null,
            "flex_flow": null,
            "grid_area": null,
            "grid_auto_columns": null,
            "grid_auto_flow": null,
            "grid_auto_rows": null,
            "grid_column": null,
            "grid_gap": null,
            "grid_row": null,
            "grid_template_areas": null,
            "grid_template_columns": null,
            "grid_template_rows": null,
            "height": null,
            "justify_content": null,
            "justify_items": null,
            "left": null,
            "margin": null,
            "max_height": null,
            "max_width": null,
            "min_height": null,
            "min_width": null,
            "object_fit": null,
            "object_position": null,
            "order": null,
            "overflow": null,
            "overflow_x": null,
            "overflow_y": null,
            "padding": null,
            "right": null,
            "top": null,
            "visibility": null,
            "width": null
          }
        },
        "df4bcdf7a3424495bffd08358be26b1c": {
          "model_module": "@jupyter-widgets/base",
          "model_name": "LayoutModel",
          "model_module_version": "1.2.0",
          "state": {
            "_model_module": "@jupyter-widgets/base",
            "_model_module_version": "1.2.0",
            "_model_name": "LayoutModel",
            "_view_count": null,
            "_view_module": "@jupyter-widgets/base",
            "_view_module_version": "1.2.0",
            "_view_name": "LayoutView",
            "align_content": null,
            "align_items": null,
            "align_self": null,
            "border": null,
            "bottom": null,
            "display": null,
            "flex": null,
            "flex_flow": null,
            "grid_area": null,
            "grid_auto_columns": null,
            "grid_auto_flow": null,
            "grid_auto_rows": null,
            "grid_column": null,
            "grid_gap": null,
            "grid_row": null,
            "grid_template_areas": null,
            "grid_template_columns": null,
            "grid_template_rows": null,
            "height": null,
            "justify_content": null,
            "justify_items": null,
            "left": null,
            "margin": null,
            "max_height": null,
            "max_width": null,
            "min_height": null,
            "min_width": null,
            "object_fit": null,
            "object_position": null,
            "order": null,
            "overflow": null,
            "overflow_x": null,
            "overflow_y": null,
            "padding": null,
            "right": null,
            "top": null,
            "visibility": null,
            "width": null
          }
        },
        "88673b8480c5427482bb255b1972a4a2": {
          "model_module": "@jupyter-widgets/controls",
          "model_name": "DescriptionStyleModel",
          "model_module_version": "1.5.0",
          "state": {
            "_model_module": "@jupyter-widgets/controls",
            "_model_module_version": "1.5.0",
            "_model_name": "DescriptionStyleModel",
            "_view_count": null,
            "_view_module": "@jupyter-widgets/base",
            "_view_module_version": "1.2.0",
            "_view_name": "StyleView",
            "description_width": ""
          }
        },
        "6db1abc52f4b4f1a8e6503b76e58bc7c": {
          "model_module": "@jupyter-widgets/base",
          "model_name": "LayoutModel",
          "model_module_version": "1.2.0",
          "state": {
            "_model_module": "@jupyter-widgets/base",
            "_model_module_version": "1.2.0",
            "_model_name": "LayoutModel",
            "_view_count": null,
            "_view_module": "@jupyter-widgets/base",
            "_view_module_version": "1.2.0",
            "_view_name": "LayoutView",
            "align_content": null,
            "align_items": null,
            "align_self": null,
            "border": null,
            "bottom": null,
            "display": null,
            "flex": null,
            "flex_flow": null,
            "grid_area": null,
            "grid_auto_columns": null,
            "grid_auto_flow": null,
            "grid_auto_rows": null,
            "grid_column": null,
            "grid_gap": null,
            "grid_row": null,
            "grid_template_areas": null,
            "grid_template_columns": null,
            "grid_template_rows": null,
            "height": null,
            "justify_content": null,
            "justify_items": null,
            "left": null,
            "margin": null,
            "max_height": null,
            "max_width": null,
            "min_height": null,
            "min_width": null,
            "object_fit": null,
            "object_position": null,
            "order": null,
            "overflow": null,
            "overflow_x": null,
            "overflow_y": null,
            "padding": null,
            "right": null,
            "top": null,
            "visibility": null,
            "width": null
          }
        },
        "9faa4582e05642a18c4de56eb619de4c": {
          "model_module": "@jupyter-widgets/controls",
          "model_name": "ProgressStyleModel",
          "model_module_version": "1.5.0",
          "state": {
            "_model_module": "@jupyter-widgets/controls",
            "_model_module_version": "1.5.0",
            "_model_name": "ProgressStyleModel",
            "_view_count": null,
            "_view_module": "@jupyter-widgets/base",
            "_view_module_version": "1.2.0",
            "_view_name": "StyleView",
            "bar_color": null,
            "description_width": ""
          }
        },
        "1a95a4a7744d459a9ca190025c87d9f1": {
          "model_module": "@jupyter-widgets/base",
          "model_name": "LayoutModel",
          "model_module_version": "1.2.0",
          "state": {
            "_model_module": "@jupyter-widgets/base",
            "_model_module_version": "1.2.0",
            "_model_name": "LayoutModel",
            "_view_count": null,
            "_view_module": "@jupyter-widgets/base",
            "_view_module_version": "1.2.0",
            "_view_name": "LayoutView",
            "align_content": null,
            "align_items": null,
            "align_self": null,
            "border": null,
            "bottom": null,
            "display": null,
            "flex": null,
            "flex_flow": null,
            "grid_area": null,
            "grid_auto_columns": null,
            "grid_auto_flow": null,
            "grid_auto_rows": null,
            "grid_column": null,
            "grid_gap": null,
            "grid_row": null,
            "grid_template_areas": null,
            "grid_template_columns": null,
            "grid_template_rows": null,
            "height": null,
            "justify_content": null,
            "justify_items": null,
            "left": null,
            "margin": null,
            "max_height": null,
            "max_width": null,
            "min_height": null,
            "min_width": null,
            "object_fit": null,
            "object_position": null,
            "order": null,
            "overflow": null,
            "overflow_x": null,
            "overflow_y": null,
            "padding": null,
            "right": null,
            "top": null,
            "visibility": null,
            "width": null
          }
        },
        "37c3f54e5d7349ceb5af098f4515afe4": {
          "model_module": "@jupyter-widgets/controls",
          "model_name": "DescriptionStyleModel",
          "model_module_version": "1.5.0",
          "state": {
            "_model_module": "@jupyter-widgets/controls",
            "_model_module_version": "1.5.0",
            "_model_name": "DescriptionStyleModel",
            "_view_count": null,
            "_view_module": "@jupyter-widgets/base",
            "_view_module_version": "1.2.0",
            "_view_name": "StyleView",
            "description_width": ""
          }
        },
        "4fa2b9d4f8f747ebaedbff4e8541b095": {
          "model_module": "@jupyter-widgets/controls",
          "model_name": "HBoxModel",
          "model_module_version": "1.5.0",
          "state": {
            "_dom_classes": [],
            "_model_module": "@jupyter-widgets/controls",
            "_model_module_version": "1.5.0",
            "_model_name": "HBoxModel",
            "_view_count": null,
            "_view_module": "@jupyter-widgets/controls",
            "_view_module_version": "1.5.0",
            "_view_name": "HBoxView",
            "box_style": "",
            "children": [
              "IPY_MODEL_ee933956febb41ecbc59f5beca4bdd51",
              "IPY_MODEL_be3a46c5a0bc43ac9c0949ea54d18d03",
              "IPY_MODEL_2a6ea9ca69114dadb696f5722c817398"
            ],
            "layout": "IPY_MODEL_c73c67243d3e42a4a79db7d6d2303a14"
          }
        },
        "ee933956febb41ecbc59f5beca4bdd51": {
          "model_module": "@jupyter-widgets/controls",
          "model_name": "HTMLModel",
          "model_module_version": "1.5.0",
          "state": {
            "_dom_classes": [],
            "_model_module": "@jupyter-widgets/controls",
            "_model_module_version": "1.5.0",
            "_model_name": "HTMLModel",
            "_view_count": null,
            "_view_module": "@jupyter-widgets/controls",
            "_view_module_version": "1.5.0",
            "_view_name": "HTMLView",
            "description": "",
            "description_tooltip": null,
            "layout": "IPY_MODEL_2143f21151844465b8ec589da48e2c16",
            "placeholder": "​",
            "style": "IPY_MODEL_b10ae481394548e88385cf4273322b7c",
            "value": "100%"
          }
        },
        "be3a46c5a0bc43ac9c0949ea54d18d03": {
          "model_module": "@jupyter-widgets/controls",
          "model_name": "FloatProgressModel",
          "model_module_version": "1.5.0",
          "state": {
            "_dom_classes": [],
            "_model_module": "@jupyter-widgets/controls",
            "_model_module_version": "1.5.0",
            "_model_name": "FloatProgressModel",
            "_view_count": null,
            "_view_module": "@jupyter-widgets/controls",
            "_view_module_version": "1.5.0",
            "_view_name": "ProgressView",
            "bar_style": "success",
            "description": "",
            "description_tooltip": null,
            "layout": "IPY_MODEL_954c110466c7488090131dfc77feeb1e",
            "max": 10,
            "min": 0,
            "orientation": "horizontal",
            "style": "IPY_MODEL_dd17634a3ef4422fac923cd1448e0c38",
            "value": 10
          }
        },
        "2a6ea9ca69114dadb696f5722c817398": {
          "model_module": "@jupyter-widgets/controls",
          "model_name": "HTMLModel",
          "model_module_version": "1.5.0",
          "state": {
            "_dom_classes": [],
            "_model_module": "@jupyter-widgets/controls",
            "_model_module_version": "1.5.0",
            "_model_name": "HTMLModel",
            "_view_count": null,
            "_view_module": "@jupyter-widgets/controls",
            "_view_module_version": "1.5.0",
            "_view_name": "HTMLView",
            "description": "",
            "description_tooltip": null,
            "layout": "IPY_MODEL_d716e9977e9d489a90d13b8411dbe336",
            "placeholder": "​",
            "style": "IPY_MODEL_55ff39c7191142b1a3318dfa1a1efb6f",
            "value": " 10/10 [01:08&lt;00:00,  6.54s/it]"
          }
        },
        "c73c67243d3e42a4a79db7d6d2303a14": {
          "model_module": "@jupyter-widgets/base",
          "model_name": "LayoutModel",
          "model_module_version": "1.2.0",
          "state": {
            "_model_module": "@jupyter-widgets/base",
            "_model_module_version": "1.2.0",
            "_model_name": "LayoutModel",
            "_view_count": null,
            "_view_module": "@jupyter-widgets/base",
            "_view_module_version": "1.2.0",
            "_view_name": "LayoutView",
            "align_content": null,
            "align_items": null,
            "align_self": null,
            "border": null,
            "bottom": null,
            "display": null,
            "flex": null,
            "flex_flow": null,
            "grid_area": null,
            "grid_auto_columns": null,
            "grid_auto_flow": null,
            "grid_auto_rows": null,
            "grid_column": null,
            "grid_gap": null,
            "grid_row": null,
            "grid_template_areas": null,
            "grid_template_columns": null,
            "grid_template_rows": null,
            "height": null,
            "justify_content": null,
            "justify_items": null,
            "left": null,
            "margin": null,
            "max_height": null,
            "max_width": null,
            "min_height": null,
            "min_width": null,
            "object_fit": null,
            "object_position": null,
            "order": null,
            "overflow": null,
            "overflow_x": null,
            "overflow_y": null,
            "padding": null,
            "right": null,
            "top": null,
            "visibility": null,
            "width": null
          }
        },
        "2143f21151844465b8ec589da48e2c16": {
          "model_module": "@jupyter-widgets/base",
          "model_name": "LayoutModel",
          "model_module_version": "1.2.0",
          "state": {
            "_model_module": "@jupyter-widgets/base",
            "_model_module_version": "1.2.0",
            "_model_name": "LayoutModel",
            "_view_count": null,
            "_view_module": "@jupyter-widgets/base",
            "_view_module_version": "1.2.0",
            "_view_name": "LayoutView",
            "align_content": null,
            "align_items": null,
            "align_self": null,
            "border": null,
            "bottom": null,
            "display": null,
            "flex": null,
            "flex_flow": null,
            "grid_area": null,
            "grid_auto_columns": null,
            "grid_auto_flow": null,
            "grid_auto_rows": null,
            "grid_column": null,
            "grid_gap": null,
            "grid_row": null,
            "grid_template_areas": null,
            "grid_template_columns": null,
            "grid_template_rows": null,
            "height": null,
            "justify_content": null,
            "justify_items": null,
            "left": null,
            "margin": null,
            "max_height": null,
            "max_width": null,
            "min_height": null,
            "min_width": null,
            "object_fit": null,
            "object_position": null,
            "order": null,
            "overflow": null,
            "overflow_x": null,
            "overflow_y": null,
            "padding": null,
            "right": null,
            "top": null,
            "visibility": null,
            "width": null
          }
        },
        "b10ae481394548e88385cf4273322b7c": {
          "model_module": "@jupyter-widgets/controls",
          "model_name": "DescriptionStyleModel",
          "model_module_version": "1.5.0",
          "state": {
            "_model_module": "@jupyter-widgets/controls",
            "_model_module_version": "1.5.0",
            "_model_name": "DescriptionStyleModel",
            "_view_count": null,
            "_view_module": "@jupyter-widgets/base",
            "_view_module_version": "1.2.0",
            "_view_name": "StyleView",
            "description_width": ""
          }
        },
        "954c110466c7488090131dfc77feeb1e": {
          "model_module": "@jupyter-widgets/base",
          "model_name": "LayoutModel",
          "model_module_version": "1.2.0",
          "state": {
            "_model_module": "@jupyter-widgets/base",
            "_model_module_version": "1.2.0",
            "_model_name": "LayoutModel",
            "_view_count": null,
            "_view_module": "@jupyter-widgets/base",
            "_view_module_version": "1.2.0",
            "_view_name": "LayoutView",
            "align_content": null,
            "align_items": null,
            "align_self": null,
            "border": null,
            "bottom": null,
            "display": null,
            "flex": null,
            "flex_flow": null,
            "grid_area": null,
            "grid_auto_columns": null,
            "grid_auto_flow": null,
            "grid_auto_rows": null,
            "grid_column": null,
            "grid_gap": null,
            "grid_row": null,
            "grid_template_areas": null,
            "grid_template_columns": null,
            "grid_template_rows": null,
            "height": null,
            "justify_content": null,
            "justify_items": null,
            "left": null,
            "margin": null,
            "max_height": null,
            "max_width": null,
            "min_height": null,
            "min_width": null,
            "object_fit": null,
            "object_position": null,
            "order": null,
            "overflow": null,
            "overflow_x": null,
            "overflow_y": null,
            "padding": null,
            "right": null,
            "top": null,
            "visibility": null,
            "width": null
          }
        },
        "dd17634a3ef4422fac923cd1448e0c38": {
          "model_module": "@jupyter-widgets/controls",
          "model_name": "ProgressStyleModel",
          "model_module_version": "1.5.0",
          "state": {
            "_model_module": "@jupyter-widgets/controls",
            "_model_module_version": "1.5.0",
            "_model_name": "ProgressStyleModel",
            "_view_count": null,
            "_view_module": "@jupyter-widgets/base",
            "_view_module_version": "1.2.0",
            "_view_name": "StyleView",
            "bar_color": null,
            "description_width": ""
          }
        },
        "d716e9977e9d489a90d13b8411dbe336": {
          "model_module": "@jupyter-widgets/base",
          "model_name": "LayoutModel",
          "model_module_version": "1.2.0",
          "state": {
            "_model_module": "@jupyter-widgets/base",
            "_model_module_version": "1.2.0",
            "_model_name": "LayoutModel",
            "_view_count": null,
            "_view_module": "@jupyter-widgets/base",
            "_view_module_version": "1.2.0",
            "_view_name": "LayoutView",
            "align_content": null,
            "align_items": null,
            "align_self": null,
            "border": null,
            "bottom": null,
            "display": null,
            "flex": null,
            "flex_flow": null,
            "grid_area": null,
            "grid_auto_columns": null,
            "grid_auto_flow": null,
            "grid_auto_rows": null,
            "grid_column": null,
            "grid_gap": null,
            "grid_row": null,
            "grid_template_areas": null,
            "grid_template_columns": null,
            "grid_template_rows": null,
            "height": null,
            "justify_content": null,
            "justify_items": null,
            "left": null,
            "margin": null,
            "max_height": null,
            "max_width": null,
            "min_height": null,
            "min_width": null,
            "object_fit": null,
            "object_position": null,
            "order": null,
            "overflow": null,
            "overflow_x": null,
            "overflow_y": null,
            "padding": null,
            "right": null,
            "top": null,
            "visibility": null,
            "width": null
          }
        },
        "55ff39c7191142b1a3318dfa1a1efb6f": {
          "model_module": "@jupyter-widgets/controls",
          "model_name": "DescriptionStyleModel",
          "model_module_version": "1.5.0",
          "state": {
            "_model_module": "@jupyter-widgets/controls",
            "_model_module_version": "1.5.0",
            "_model_name": "DescriptionStyleModel",
            "_view_count": null,
            "_view_module": "@jupyter-widgets/base",
            "_view_module_version": "1.2.0",
            "_view_name": "StyleView",
            "description_width": ""
          }
        },
        "f2279ae683de4f35b9d20b740d0ad0a3": {
          "model_module": "@jupyter-widgets/controls",
          "model_name": "HBoxModel",
          "model_module_version": "1.5.0",
          "state": {
            "_dom_classes": [],
            "_model_module": "@jupyter-widgets/controls",
            "_model_module_version": "1.5.0",
            "_model_name": "HBoxModel",
            "_view_count": null,
            "_view_module": "@jupyter-widgets/controls",
            "_view_module_version": "1.5.0",
            "_view_name": "HBoxView",
            "box_style": "",
            "children": [
              "IPY_MODEL_9cd6f677a50a468fb9e726cec0f651e0",
              "IPY_MODEL_07de5b5f20634a3f98de563c060b77cb",
              "IPY_MODEL_6326ceaa5895472f9bd33cadc631b394"
            ],
            "layout": "IPY_MODEL_f29bdade1eec4b7f86a71ad0c8fd94e6"
          }
        },
        "9cd6f677a50a468fb9e726cec0f651e0": {
          "model_module": "@jupyter-widgets/controls",
          "model_name": "HTMLModel",
          "model_module_version": "1.5.0",
          "state": {
            "_dom_classes": [],
            "_model_module": "@jupyter-widgets/controls",
            "_model_module_version": "1.5.0",
            "_model_name": "HTMLModel",
            "_view_count": null,
            "_view_module": "@jupyter-widgets/controls",
            "_view_module_version": "1.5.0",
            "_view_name": "HTMLView",
            "description": "",
            "description_tooltip": null,
            "layout": "IPY_MODEL_65d9d924554e45f1885e7d9fb3256e85",
            "placeholder": "​",
            "style": "IPY_MODEL_65452f463f194c13a49fe0071ac23189",
            "value": "100%"
          }
        },
        "07de5b5f20634a3f98de563c060b77cb": {
          "model_module": "@jupyter-widgets/controls",
          "model_name": "FloatProgressModel",
          "model_module_version": "1.5.0",
          "state": {
            "_dom_classes": [],
            "_model_module": "@jupyter-widgets/controls",
            "_model_module_version": "1.5.0",
            "_model_name": "FloatProgressModel",
            "_view_count": null,
            "_view_module": "@jupyter-widgets/controls",
            "_view_module_version": "1.5.0",
            "_view_name": "ProgressView",
            "bar_style": "success",
            "description": "",
            "description_tooltip": null,
            "layout": "IPY_MODEL_5e586588272a4917b03c263c8551e9b7",
            "max": 116,
            "min": 0,
            "orientation": "horizontal",
            "style": "IPY_MODEL_56b0f77c8a5042c3959de5768c3531bb",
            "value": 116
          }
        },
        "6326ceaa5895472f9bd33cadc631b394": {
          "model_module": "@jupyter-widgets/controls",
          "model_name": "HTMLModel",
          "model_module_version": "1.5.0",
          "state": {
            "_dom_classes": [],
            "_model_module": "@jupyter-widgets/controls",
            "_model_module_version": "1.5.0",
            "_model_name": "HTMLModel",
            "_view_count": null,
            "_view_module": "@jupyter-widgets/controls",
            "_view_module_version": "1.5.0",
            "_view_name": "HTMLView",
            "description": "",
            "description_tooltip": null,
            "layout": "IPY_MODEL_f1a77432f716490d92171e12de06d7d9",
            "placeholder": "​",
            "style": "IPY_MODEL_7bc397d076c64b0a8bed4b847f6be2c0",
            "value": " 116/116 [00:33&lt;00:00,  4.24it/s]"
          }
        },
        "f29bdade1eec4b7f86a71ad0c8fd94e6": {
          "model_module": "@jupyter-widgets/base",
          "model_name": "LayoutModel",
          "model_module_version": "1.2.0",
          "state": {
            "_model_module": "@jupyter-widgets/base",
            "_model_module_version": "1.2.0",
            "_model_name": "LayoutModel",
            "_view_count": null,
            "_view_module": "@jupyter-widgets/base",
            "_view_module_version": "1.2.0",
            "_view_name": "LayoutView",
            "align_content": null,
            "align_items": null,
            "align_self": null,
            "border": null,
            "bottom": null,
            "display": null,
            "flex": null,
            "flex_flow": null,
            "grid_area": null,
            "grid_auto_columns": null,
            "grid_auto_flow": null,
            "grid_auto_rows": null,
            "grid_column": null,
            "grid_gap": null,
            "grid_row": null,
            "grid_template_areas": null,
            "grid_template_columns": null,
            "grid_template_rows": null,
            "height": null,
            "justify_content": null,
            "justify_items": null,
            "left": null,
            "margin": null,
            "max_height": null,
            "max_width": null,
            "min_height": null,
            "min_width": null,
            "object_fit": null,
            "object_position": null,
            "order": null,
            "overflow": null,
            "overflow_x": null,
            "overflow_y": null,
            "padding": null,
            "right": null,
            "top": null,
            "visibility": null,
            "width": null
          }
        },
        "65d9d924554e45f1885e7d9fb3256e85": {
          "model_module": "@jupyter-widgets/base",
          "model_name": "LayoutModel",
          "model_module_version": "1.2.0",
          "state": {
            "_model_module": "@jupyter-widgets/base",
            "_model_module_version": "1.2.0",
            "_model_name": "LayoutModel",
            "_view_count": null,
            "_view_module": "@jupyter-widgets/base",
            "_view_module_version": "1.2.0",
            "_view_name": "LayoutView",
            "align_content": null,
            "align_items": null,
            "align_self": null,
            "border": null,
            "bottom": null,
            "display": null,
            "flex": null,
            "flex_flow": null,
            "grid_area": null,
            "grid_auto_columns": null,
            "grid_auto_flow": null,
            "grid_auto_rows": null,
            "grid_column": null,
            "grid_gap": null,
            "grid_row": null,
            "grid_template_areas": null,
            "grid_template_columns": null,
            "grid_template_rows": null,
            "height": null,
            "justify_content": null,
            "justify_items": null,
            "left": null,
            "margin": null,
            "max_height": null,
            "max_width": null,
            "min_height": null,
            "min_width": null,
            "object_fit": null,
            "object_position": null,
            "order": null,
            "overflow": null,
            "overflow_x": null,
            "overflow_y": null,
            "padding": null,
            "right": null,
            "top": null,
            "visibility": null,
            "width": null
          }
        },
        "65452f463f194c13a49fe0071ac23189": {
          "model_module": "@jupyter-widgets/controls",
          "model_name": "DescriptionStyleModel",
          "model_module_version": "1.5.0",
          "state": {
            "_model_module": "@jupyter-widgets/controls",
            "_model_module_version": "1.5.0",
            "_model_name": "DescriptionStyleModel",
            "_view_count": null,
            "_view_module": "@jupyter-widgets/base",
            "_view_module_version": "1.2.0",
            "_view_name": "StyleView",
            "description_width": ""
          }
        },
        "5e586588272a4917b03c263c8551e9b7": {
          "model_module": "@jupyter-widgets/base",
          "model_name": "LayoutModel",
          "model_module_version": "1.2.0",
          "state": {
            "_model_module": "@jupyter-widgets/base",
            "_model_module_version": "1.2.0",
            "_model_name": "LayoutModel",
            "_view_count": null,
            "_view_module": "@jupyter-widgets/base",
            "_view_module_version": "1.2.0",
            "_view_name": "LayoutView",
            "align_content": null,
            "align_items": null,
            "align_self": null,
            "border": null,
            "bottom": null,
            "display": null,
            "flex": null,
            "flex_flow": null,
            "grid_area": null,
            "grid_auto_columns": null,
            "grid_auto_flow": null,
            "grid_auto_rows": null,
            "grid_column": null,
            "grid_gap": null,
            "grid_row": null,
            "grid_template_areas": null,
            "grid_template_columns": null,
            "grid_template_rows": null,
            "height": null,
            "justify_content": null,
            "justify_items": null,
            "left": null,
            "margin": null,
            "max_height": null,
            "max_width": null,
            "min_height": null,
            "min_width": null,
            "object_fit": null,
            "object_position": null,
            "order": null,
            "overflow": null,
            "overflow_x": null,
            "overflow_y": null,
            "padding": null,
            "right": null,
            "top": null,
            "visibility": null,
            "width": null
          }
        },
        "56b0f77c8a5042c3959de5768c3531bb": {
          "model_module": "@jupyter-widgets/controls",
          "model_name": "ProgressStyleModel",
          "model_module_version": "1.5.0",
          "state": {
            "_model_module": "@jupyter-widgets/controls",
            "_model_module_version": "1.5.0",
            "_model_name": "ProgressStyleModel",
            "_view_count": null,
            "_view_module": "@jupyter-widgets/base",
            "_view_module_version": "1.2.0",
            "_view_name": "StyleView",
            "bar_color": null,
            "description_width": ""
          }
        },
        "f1a77432f716490d92171e12de06d7d9": {
          "model_module": "@jupyter-widgets/base",
          "model_name": "LayoutModel",
          "model_module_version": "1.2.0",
          "state": {
            "_model_module": "@jupyter-widgets/base",
            "_model_module_version": "1.2.0",
            "_model_name": "LayoutModel",
            "_view_count": null,
            "_view_module": "@jupyter-widgets/base",
            "_view_module_version": "1.2.0",
            "_view_name": "LayoutView",
            "align_content": null,
            "align_items": null,
            "align_self": null,
            "border": null,
            "bottom": null,
            "display": null,
            "flex": null,
            "flex_flow": null,
            "grid_area": null,
            "grid_auto_columns": null,
            "grid_auto_flow": null,
            "grid_auto_rows": null,
            "grid_column": null,
            "grid_gap": null,
            "grid_row": null,
            "grid_template_areas": null,
            "grid_template_columns": null,
            "grid_template_rows": null,
            "height": null,
            "justify_content": null,
            "justify_items": null,
            "left": null,
            "margin": null,
            "max_height": null,
            "max_width": null,
            "min_height": null,
            "min_width": null,
            "object_fit": null,
            "object_position": null,
            "order": null,
            "overflow": null,
            "overflow_x": null,
            "overflow_y": null,
            "padding": null,
            "right": null,
            "top": null,
            "visibility": null,
            "width": null
          }
        },
        "7bc397d076c64b0a8bed4b847f6be2c0": {
          "model_module": "@jupyter-widgets/controls",
          "model_name": "DescriptionStyleModel",
          "model_module_version": "1.5.0",
          "state": {
            "_model_module": "@jupyter-widgets/controls",
            "_model_module_version": "1.5.0",
            "_model_name": "DescriptionStyleModel",
            "_view_count": null,
            "_view_module": "@jupyter-widgets/base",
            "_view_module_version": "1.2.0",
            "_view_name": "StyleView",
            "description_width": ""
          }
        },
        "845afb0c6ff2499dbe79bcba2325dc21": {
          "model_module": "@jupyter-widgets/controls",
          "model_name": "HBoxModel",
          "model_module_version": "1.5.0",
          "state": {
            "_dom_classes": [],
            "_model_module": "@jupyter-widgets/controls",
            "_model_module_version": "1.5.0",
            "_model_name": "HBoxModel",
            "_view_count": null,
            "_view_module": "@jupyter-widgets/controls",
            "_view_module_version": "1.5.0",
            "_view_name": "HBoxView",
            "box_style": "",
            "children": [
              "IPY_MODEL_21bac7b99fdc4db89d7feff49a37eab3",
              "IPY_MODEL_8aededa86faf4449828811760aac6548",
              "IPY_MODEL_5c03ac470f5a47449c22b9a49e9feb95"
            ],
            "layout": "IPY_MODEL_e6017b7a032341e6aa96957b9c6e73a4"
          }
        },
        "21bac7b99fdc4db89d7feff49a37eab3": {
          "model_module": "@jupyter-widgets/controls",
          "model_name": "HTMLModel",
          "model_module_version": "1.5.0",
          "state": {
            "_dom_classes": [],
            "_model_module": "@jupyter-widgets/controls",
            "_model_module_version": "1.5.0",
            "_model_name": "HTMLModel",
            "_view_count": null,
            "_view_module": "@jupyter-widgets/controls",
            "_view_module_version": "1.5.0",
            "_view_name": "HTMLView",
            "description": "",
            "description_tooltip": null,
            "layout": "IPY_MODEL_a9a3afce0d90462c8936f66afc3162a5",
            "placeholder": "​",
            "style": "IPY_MODEL_599921bfb41c4ae48d3e07dc25489e83",
            "value": "100%"
          }
        },
        "8aededa86faf4449828811760aac6548": {
          "model_module": "@jupyter-widgets/controls",
          "model_name": "FloatProgressModel",
          "model_module_version": "1.5.0",
          "state": {
            "_dom_classes": [],
            "_model_module": "@jupyter-widgets/controls",
            "_model_module_version": "1.5.0",
            "_model_name": "FloatProgressModel",
            "_view_count": null,
            "_view_module": "@jupyter-widgets/controls",
            "_view_module_version": "1.5.0",
            "_view_name": "ProgressView",
            "bar_style": "success",
            "description": "",
            "description_tooltip": null,
            "layout": "IPY_MODEL_64d5aaa8519844d49e94ddf14d6df935",
            "max": 116,
            "min": 0,
            "orientation": "horizontal",
            "style": "IPY_MODEL_bf75f82022c942089fdb6d32237373d5",
            "value": 116
          }
        },
        "5c03ac470f5a47449c22b9a49e9feb95": {
          "model_module": "@jupyter-widgets/controls",
          "model_name": "HTMLModel",
          "model_module_version": "1.5.0",
          "state": {
            "_dom_classes": [],
            "_model_module": "@jupyter-widgets/controls",
            "_model_module_version": "1.5.0",
            "_model_name": "HTMLModel",
            "_view_count": null,
            "_view_module": "@jupyter-widgets/controls",
            "_view_module_version": "1.5.0",
            "_view_name": "HTMLView",
            "description": "",
            "description_tooltip": null,
            "layout": "IPY_MODEL_7be060692ee14fb58a7608ec8cc76b80",
            "placeholder": "​",
            "style": "IPY_MODEL_47cb1191257c46f5ab11a78376343ff5",
            "value": " 116/116 [00:22&lt;00:00,  5.45it/s]"
          }
        },
        "e6017b7a032341e6aa96957b9c6e73a4": {
          "model_module": "@jupyter-widgets/base",
          "model_name": "LayoutModel",
          "model_module_version": "1.2.0",
          "state": {
            "_model_module": "@jupyter-widgets/base",
            "_model_module_version": "1.2.0",
            "_model_name": "LayoutModel",
            "_view_count": null,
            "_view_module": "@jupyter-widgets/base",
            "_view_module_version": "1.2.0",
            "_view_name": "LayoutView",
            "align_content": null,
            "align_items": null,
            "align_self": null,
            "border": null,
            "bottom": null,
            "display": null,
            "flex": null,
            "flex_flow": null,
            "grid_area": null,
            "grid_auto_columns": null,
            "grid_auto_flow": null,
            "grid_auto_rows": null,
            "grid_column": null,
            "grid_gap": null,
            "grid_row": null,
            "grid_template_areas": null,
            "grid_template_columns": null,
            "grid_template_rows": null,
            "height": null,
            "justify_content": null,
            "justify_items": null,
            "left": null,
            "margin": null,
            "max_height": null,
            "max_width": null,
            "min_height": null,
            "min_width": null,
            "object_fit": null,
            "object_position": null,
            "order": null,
            "overflow": null,
            "overflow_x": null,
            "overflow_y": null,
            "padding": null,
            "right": null,
            "top": null,
            "visibility": null,
            "width": null
          }
        },
        "a9a3afce0d90462c8936f66afc3162a5": {
          "model_module": "@jupyter-widgets/base",
          "model_name": "LayoutModel",
          "model_module_version": "1.2.0",
          "state": {
            "_model_module": "@jupyter-widgets/base",
            "_model_module_version": "1.2.0",
            "_model_name": "LayoutModel",
            "_view_count": null,
            "_view_module": "@jupyter-widgets/base",
            "_view_module_version": "1.2.0",
            "_view_name": "LayoutView",
            "align_content": null,
            "align_items": null,
            "align_self": null,
            "border": null,
            "bottom": null,
            "display": null,
            "flex": null,
            "flex_flow": null,
            "grid_area": null,
            "grid_auto_columns": null,
            "grid_auto_flow": null,
            "grid_auto_rows": null,
            "grid_column": null,
            "grid_gap": null,
            "grid_row": null,
            "grid_template_areas": null,
            "grid_template_columns": null,
            "grid_template_rows": null,
            "height": null,
            "justify_content": null,
            "justify_items": null,
            "left": null,
            "margin": null,
            "max_height": null,
            "max_width": null,
            "min_height": null,
            "min_width": null,
            "object_fit": null,
            "object_position": null,
            "order": null,
            "overflow": null,
            "overflow_x": null,
            "overflow_y": null,
            "padding": null,
            "right": null,
            "top": null,
            "visibility": null,
            "width": null
          }
        },
        "599921bfb41c4ae48d3e07dc25489e83": {
          "model_module": "@jupyter-widgets/controls",
          "model_name": "DescriptionStyleModel",
          "model_module_version": "1.5.0",
          "state": {
            "_model_module": "@jupyter-widgets/controls",
            "_model_module_version": "1.5.0",
            "_model_name": "DescriptionStyleModel",
            "_view_count": null,
            "_view_module": "@jupyter-widgets/base",
            "_view_module_version": "1.2.0",
            "_view_name": "StyleView",
            "description_width": ""
          }
        },
        "64d5aaa8519844d49e94ddf14d6df935": {
          "model_module": "@jupyter-widgets/base",
          "model_name": "LayoutModel",
          "model_module_version": "1.2.0",
          "state": {
            "_model_module": "@jupyter-widgets/base",
            "_model_module_version": "1.2.0",
            "_model_name": "LayoutModel",
            "_view_count": null,
            "_view_module": "@jupyter-widgets/base",
            "_view_module_version": "1.2.0",
            "_view_name": "LayoutView",
            "align_content": null,
            "align_items": null,
            "align_self": null,
            "border": null,
            "bottom": null,
            "display": null,
            "flex": null,
            "flex_flow": null,
            "grid_area": null,
            "grid_auto_columns": null,
            "grid_auto_flow": null,
            "grid_auto_rows": null,
            "grid_column": null,
            "grid_gap": null,
            "grid_row": null,
            "grid_template_areas": null,
            "grid_template_columns": null,
            "grid_template_rows": null,
            "height": null,
            "justify_content": null,
            "justify_items": null,
            "left": null,
            "margin": null,
            "max_height": null,
            "max_width": null,
            "min_height": null,
            "min_width": null,
            "object_fit": null,
            "object_position": null,
            "order": null,
            "overflow": null,
            "overflow_x": null,
            "overflow_y": null,
            "padding": null,
            "right": null,
            "top": null,
            "visibility": null,
            "width": null
          }
        },
        "bf75f82022c942089fdb6d32237373d5": {
          "model_module": "@jupyter-widgets/controls",
          "model_name": "ProgressStyleModel",
          "model_module_version": "1.5.0",
          "state": {
            "_model_module": "@jupyter-widgets/controls",
            "_model_module_version": "1.5.0",
            "_model_name": "ProgressStyleModel",
            "_view_count": null,
            "_view_module": "@jupyter-widgets/base",
            "_view_module_version": "1.2.0",
            "_view_name": "StyleView",
            "bar_color": null,
            "description_width": ""
          }
        },
        "7be060692ee14fb58a7608ec8cc76b80": {
          "model_module": "@jupyter-widgets/base",
          "model_name": "LayoutModel",
          "model_module_version": "1.2.0",
          "state": {
            "_model_module": "@jupyter-widgets/base",
            "_model_module_version": "1.2.0",
            "_model_name": "LayoutModel",
            "_view_count": null,
            "_view_module": "@jupyter-widgets/base",
            "_view_module_version": "1.2.0",
            "_view_name": "LayoutView",
            "align_content": null,
            "align_items": null,
            "align_self": null,
            "border": null,
            "bottom": null,
            "display": null,
            "flex": null,
            "flex_flow": null,
            "grid_area": null,
            "grid_auto_columns": null,
            "grid_auto_flow": null,
            "grid_auto_rows": null,
            "grid_column": null,
            "grid_gap": null,
            "grid_row": null,
            "grid_template_areas": null,
            "grid_template_columns": null,
            "grid_template_rows": null,
            "height": null,
            "justify_content": null,
            "justify_items": null,
            "left": null,
            "margin": null,
            "max_height": null,
            "max_width": null,
            "min_height": null,
            "min_width": null,
            "object_fit": null,
            "object_position": null,
            "order": null,
            "overflow": null,
            "overflow_x": null,
            "overflow_y": null,
            "padding": null,
            "right": null,
            "top": null,
            "visibility": null,
            "width": null
          }
        },
        "47cb1191257c46f5ab11a78376343ff5": {
          "model_module": "@jupyter-widgets/controls",
          "model_name": "DescriptionStyleModel",
          "model_module_version": "1.5.0",
          "state": {
            "_model_module": "@jupyter-widgets/controls",
            "_model_module_version": "1.5.0",
            "_model_name": "DescriptionStyleModel",
            "_view_count": null,
            "_view_module": "@jupyter-widgets/base",
            "_view_module_version": "1.2.0",
            "_view_name": "StyleView",
            "description_width": ""
          }
        },
        "7f31361ce38145ccab5d8ef5afd859a2": {
          "model_module": "@jupyter-widgets/controls",
          "model_name": "HBoxModel",
          "model_module_version": "1.5.0",
          "state": {
            "_dom_classes": [],
            "_model_module": "@jupyter-widgets/controls",
            "_model_module_version": "1.5.0",
            "_model_name": "HBoxModel",
            "_view_count": null,
            "_view_module": "@jupyter-widgets/controls",
            "_view_module_version": "1.5.0",
            "_view_name": "HBoxView",
            "box_style": "",
            "children": [
              "IPY_MODEL_3c10b4ec09e24002ad97cbcb7025676c",
              "IPY_MODEL_81fe856993e941cbbdc743f4059d9253",
              "IPY_MODEL_a974841a7cfa4ff090b3d1276ea0e4f4"
            ],
            "layout": "IPY_MODEL_5c4b500aa30d42bfb94ca5adede42749"
          }
        },
        "3c10b4ec09e24002ad97cbcb7025676c": {
          "model_module": "@jupyter-widgets/controls",
          "model_name": "HTMLModel",
          "model_module_version": "1.5.0",
          "state": {
            "_dom_classes": [],
            "_model_module": "@jupyter-widgets/controls",
            "_model_module_version": "1.5.0",
            "_model_name": "HTMLModel",
            "_view_count": null,
            "_view_module": "@jupyter-widgets/controls",
            "_view_module_version": "1.5.0",
            "_view_name": "HTMLView",
            "description": "",
            "description_tooltip": null,
            "layout": "IPY_MODEL_7bf8ec53faf2403caf95ca8e2d1fe339",
            "placeholder": "​",
            "style": "IPY_MODEL_29645faa18324fabab840eb68b90d73e",
            "value": "100%"
          }
        },
        "81fe856993e941cbbdc743f4059d9253": {
          "model_module": "@jupyter-widgets/controls",
          "model_name": "FloatProgressModel",
          "model_module_version": "1.5.0",
          "state": {
            "_dom_classes": [],
            "_model_module": "@jupyter-widgets/controls",
            "_model_module_version": "1.5.0",
            "_model_name": "FloatProgressModel",
            "_view_count": null,
            "_view_module": "@jupyter-widgets/controls",
            "_view_module_version": "1.5.0",
            "_view_name": "ProgressView",
            "bar_style": "success",
            "description": "",
            "description_tooltip": null,
            "layout": "IPY_MODEL_09e3c1271e0c4b8d8733777fa87dc5b9",
            "max": 10,
            "min": 0,
            "orientation": "horizontal",
            "style": "IPY_MODEL_5e931f1d43e5468e997379e59e87f961",
            "value": 10
          }
        },
        "a974841a7cfa4ff090b3d1276ea0e4f4": {
          "model_module": "@jupyter-widgets/controls",
          "model_name": "HTMLModel",
          "model_module_version": "1.5.0",
          "state": {
            "_dom_classes": [],
            "_model_module": "@jupyter-widgets/controls",
            "_model_module_version": "1.5.0",
            "_model_name": "HTMLModel",
            "_view_count": null,
            "_view_module": "@jupyter-widgets/controls",
            "_view_module_version": "1.5.0",
            "_view_name": "HTMLView",
            "description": "",
            "description_tooltip": null,
            "layout": "IPY_MODEL_be00b7bf91614950989d3236767358bd",
            "placeholder": "​",
            "style": "IPY_MODEL_f4871f77e90640fea50a7d550911df82",
            "value": " 10/10 [00:00&lt;00:00, 14.59it/s]"
          }
        },
        "5c4b500aa30d42bfb94ca5adede42749": {
          "model_module": "@jupyter-widgets/base",
          "model_name": "LayoutModel",
          "model_module_version": "1.2.0",
          "state": {
            "_model_module": "@jupyter-widgets/base",
            "_model_module_version": "1.2.0",
            "_model_name": "LayoutModel",
            "_view_count": null,
            "_view_module": "@jupyter-widgets/base",
            "_view_module_version": "1.2.0",
            "_view_name": "LayoutView",
            "align_content": null,
            "align_items": null,
            "align_self": null,
            "border": null,
            "bottom": null,
            "display": null,
            "flex": null,
            "flex_flow": null,
            "grid_area": null,
            "grid_auto_columns": null,
            "grid_auto_flow": null,
            "grid_auto_rows": null,
            "grid_column": null,
            "grid_gap": null,
            "grid_row": null,
            "grid_template_areas": null,
            "grid_template_columns": null,
            "grid_template_rows": null,
            "height": null,
            "justify_content": null,
            "justify_items": null,
            "left": null,
            "margin": null,
            "max_height": null,
            "max_width": null,
            "min_height": null,
            "min_width": null,
            "object_fit": null,
            "object_position": null,
            "order": null,
            "overflow": null,
            "overflow_x": null,
            "overflow_y": null,
            "padding": null,
            "right": null,
            "top": null,
            "visibility": null,
            "width": null
          }
        },
        "7bf8ec53faf2403caf95ca8e2d1fe339": {
          "model_module": "@jupyter-widgets/base",
          "model_name": "LayoutModel",
          "model_module_version": "1.2.0",
          "state": {
            "_model_module": "@jupyter-widgets/base",
            "_model_module_version": "1.2.0",
            "_model_name": "LayoutModel",
            "_view_count": null,
            "_view_module": "@jupyter-widgets/base",
            "_view_module_version": "1.2.0",
            "_view_name": "LayoutView",
            "align_content": null,
            "align_items": null,
            "align_self": null,
            "border": null,
            "bottom": null,
            "display": null,
            "flex": null,
            "flex_flow": null,
            "grid_area": null,
            "grid_auto_columns": null,
            "grid_auto_flow": null,
            "grid_auto_rows": null,
            "grid_column": null,
            "grid_gap": null,
            "grid_row": null,
            "grid_template_areas": null,
            "grid_template_columns": null,
            "grid_template_rows": null,
            "height": null,
            "justify_content": null,
            "justify_items": null,
            "left": null,
            "margin": null,
            "max_height": null,
            "max_width": null,
            "min_height": null,
            "min_width": null,
            "object_fit": null,
            "object_position": null,
            "order": null,
            "overflow": null,
            "overflow_x": null,
            "overflow_y": null,
            "padding": null,
            "right": null,
            "top": null,
            "visibility": null,
            "width": null
          }
        },
        "29645faa18324fabab840eb68b90d73e": {
          "model_module": "@jupyter-widgets/controls",
          "model_name": "DescriptionStyleModel",
          "model_module_version": "1.5.0",
          "state": {
            "_model_module": "@jupyter-widgets/controls",
            "_model_module_version": "1.5.0",
            "_model_name": "DescriptionStyleModel",
            "_view_count": null,
            "_view_module": "@jupyter-widgets/base",
            "_view_module_version": "1.2.0",
            "_view_name": "StyleView",
            "description_width": ""
          }
        },
        "09e3c1271e0c4b8d8733777fa87dc5b9": {
          "model_module": "@jupyter-widgets/base",
          "model_name": "LayoutModel",
          "model_module_version": "1.2.0",
          "state": {
            "_model_module": "@jupyter-widgets/base",
            "_model_module_version": "1.2.0",
            "_model_name": "LayoutModel",
            "_view_count": null,
            "_view_module": "@jupyter-widgets/base",
            "_view_module_version": "1.2.0",
            "_view_name": "LayoutView",
            "align_content": null,
            "align_items": null,
            "align_self": null,
            "border": null,
            "bottom": null,
            "display": null,
            "flex": null,
            "flex_flow": null,
            "grid_area": null,
            "grid_auto_columns": null,
            "grid_auto_flow": null,
            "grid_auto_rows": null,
            "grid_column": null,
            "grid_gap": null,
            "grid_row": null,
            "grid_template_areas": null,
            "grid_template_columns": null,
            "grid_template_rows": null,
            "height": null,
            "justify_content": null,
            "justify_items": null,
            "left": null,
            "margin": null,
            "max_height": null,
            "max_width": null,
            "min_height": null,
            "min_width": null,
            "object_fit": null,
            "object_position": null,
            "order": null,
            "overflow": null,
            "overflow_x": null,
            "overflow_y": null,
            "padding": null,
            "right": null,
            "top": null,
            "visibility": null,
            "width": null
          }
        },
        "5e931f1d43e5468e997379e59e87f961": {
          "model_module": "@jupyter-widgets/controls",
          "model_name": "ProgressStyleModel",
          "model_module_version": "1.5.0",
          "state": {
            "_model_module": "@jupyter-widgets/controls",
            "_model_module_version": "1.5.0",
            "_model_name": "ProgressStyleModel",
            "_view_count": null,
            "_view_module": "@jupyter-widgets/base",
            "_view_module_version": "1.2.0",
            "_view_name": "StyleView",
            "bar_color": null,
            "description_width": ""
          }
        },
        "be00b7bf91614950989d3236767358bd": {
          "model_module": "@jupyter-widgets/base",
          "model_name": "LayoutModel",
          "model_module_version": "1.2.0",
          "state": {
            "_model_module": "@jupyter-widgets/base",
            "_model_module_version": "1.2.0",
            "_model_name": "LayoutModel",
            "_view_count": null,
            "_view_module": "@jupyter-widgets/base",
            "_view_module_version": "1.2.0",
            "_view_name": "LayoutView",
            "align_content": null,
            "align_items": null,
            "align_self": null,
            "border": null,
            "bottom": null,
            "display": null,
            "flex": null,
            "flex_flow": null,
            "grid_area": null,
            "grid_auto_columns": null,
            "grid_auto_flow": null,
            "grid_auto_rows": null,
            "grid_column": null,
            "grid_gap": null,
            "grid_row": null,
            "grid_template_areas": null,
            "grid_template_columns": null,
            "grid_template_rows": null,
            "height": null,
            "justify_content": null,
            "justify_items": null,
            "left": null,
            "margin": null,
            "max_height": null,
            "max_width": null,
            "min_height": null,
            "min_width": null,
            "object_fit": null,
            "object_position": null,
            "order": null,
            "overflow": null,
            "overflow_x": null,
            "overflow_y": null,
            "padding": null,
            "right": null,
            "top": null,
            "visibility": null,
            "width": null
          }
        },
        "f4871f77e90640fea50a7d550911df82": {
          "model_module": "@jupyter-widgets/controls",
          "model_name": "DescriptionStyleModel",
          "model_module_version": "1.5.0",
          "state": {
            "_model_module": "@jupyter-widgets/controls",
            "_model_module_version": "1.5.0",
            "_model_name": "DescriptionStyleModel",
            "_view_count": null,
            "_view_module": "@jupyter-widgets/base",
            "_view_module_version": "1.2.0",
            "_view_name": "StyleView",
            "description_width": ""
          }
        },
        "12c0c27aa31844d3aedb5459158a6e01": {
          "model_module": "@jupyter-widgets/controls",
          "model_name": "HBoxModel",
          "model_module_version": "1.5.0",
          "state": {
            "_dom_classes": [],
            "_model_module": "@jupyter-widgets/controls",
            "_model_module_version": "1.5.0",
            "_model_name": "HBoxModel",
            "_view_count": null,
            "_view_module": "@jupyter-widgets/controls",
            "_view_module_version": "1.5.0",
            "_view_name": "HBoxView",
            "box_style": "",
            "children": [
              "IPY_MODEL_b5cd16f1f5504215ad257fc862c94317",
              "IPY_MODEL_ae0a3ea7f5e64f5b997f45b8807fa5fe",
              "IPY_MODEL_30ceb9a723914e078f2f2b25187214cb"
            ],
            "layout": "IPY_MODEL_654b53490b0541328c8614b8001f8985"
          }
        },
        "b5cd16f1f5504215ad257fc862c94317": {
          "model_module": "@jupyter-widgets/controls",
          "model_name": "HTMLModel",
          "model_module_version": "1.5.0",
          "state": {
            "_dom_classes": [],
            "_model_module": "@jupyter-widgets/controls",
            "_model_module_version": "1.5.0",
            "_model_name": "HTMLModel",
            "_view_count": null,
            "_view_module": "@jupyter-widgets/controls",
            "_view_module_version": "1.5.0",
            "_view_name": "HTMLView",
            "description": "",
            "description_tooltip": null,
            "layout": "IPY_MODEL_511a4b0738a04b998a1d2ed3c030e9a0",
            "placeholder": "​",
            "style": "IPY_MODEL_c59345c081b54bee83828cafc486af07",
            "value": "100%"
          }
        },
        "ae0a3ea7f5e64f5b997f45b8807fa5fe": {
          "model_module": "@jupyter-widgets/controls",
          "model_name": "FloatProgressModel",
          "model_module_version": "1.5.0",
          "state": {
            "_dom_classes": [],
            "_model_module": "@jupyter-widgets/controls",
            "_model_module_version": "1.5.0",
            "_model_name": "FloatProgressModel",
            "_view_count": null,
            "_view_module": "@jupyter-widgets/controls",
            "_view_module_version": "1.5.0",
            "_view_name": "ProgressView",
            "bar_style": "success",
            "description": "",
            "description_tooltip": null,
            "layout": "IPY_MODEL_acaf8071294341499d5cc6c256a11566",
            "max": 99,
            "min": 0,
            "orientation": "horizontal",
            "style": "IPY_MODEL_841bc86bd0ca468a83f8fa88af094ca7",
            "value": 99
          }
        },
        "30ceb9a723914e078f2f2b25187214cb": {
          "model_module": "@jupyter-widgets/controls",
          "model_name": "HTMLModel",
          "model_module_version": "1.5.0",
          "state": {
            "_dom_classes": [],
            "_model_module": "@jupyter-widgets/controls",
            "_model_module_version": "1.5.0",
            "_model_name": "HTMLModel",
            "_view_count": null,
            "_view_module": "@jupyter-widgets/controls",
            "_view_module_version": "1.5.0",
            "_view_name": "HTMLView",
            "description": "",
            "description_tooltip": null,
            "layout": "IPY_MODEL_082352fd484c4a9288ab95e6e807f611",
            "placeholder": "​",
            "style": "IPY_MODEL_05248150418647c39e1a0dd532ad6b1b",
            "value": " 99/99 [02:00&lt;00:00,  1.28s/it]"
          }
        },
        "654b53490b0541328c8614b8001f8985": {
          "model_module": "@jupyter-widgets/base",
          "model_name": "LayoutModel",
          "model_module_version": "1.2.0",
          "state": {
            "_model_module": "@jupyter-widgets/base",
            "_model_module_version": "1.2.0",
            "_model_name": "LayoutModel",
            "_view_count": null,
            "_view_module": "@jupyter-widgets/base",
            "_view_module_version": "1.2.0",
            "_view_name": "LayoutView",
            "align_content": null,
            "align_items": null,
            "align_self": null,
            "border": null,
            "bottom": null,
            "display": null,
            "flex": null,
            "flex_flow": null,
            "grid_area": null,
            "grid_auto_columns": null,
            "grid_auto_flow": null,
            "grid_auto_rows": null,
            "grid_column": null,
            "grid_gap": null,
            "grid_row": null,
            "grid_template_areas": null,
            "grid_template_columns": null,
            "grid_template_rows": null,
            "height": null,
            "justify_content": null,
            "justify_items": null,
            "left": null,
            "margin": null,
            "max_height": null,
            "max_width": null,
            "min_height": null,
            "min_width": null,
            "object_fit": null,
            "object_position": null,
            "order": null,
            "overflow": null,
            "overflow_x": null,
            "overflow_y": null,
            "padding": null,
            "right": null,
            "top": null,
            "visibility": null,
            "width": null
          }
        },
        "511a4b0738a04b998a1d2ed3c030e9a0": {
          "model_module": "@jupyter-widgets/base",
          "model_name": "LayoutModel",
          "model_module_version": "1.2.0",
          "state": {
            "_model_module": "@jupyter-widgets/base",
            "_model_module_version": "1.2.0",
            "_model_name": "LayoutModel",
            "_view_count": null,
            "_view_module": "@jupyter-widgets/base",
            "_view_module_version": "1.2.0",
            "_view_name": "LayoutView",
            "align_content": null,
            "align_items": null,
            "align_self": null,
            "border": null,
            "bottom": null,
            "display": null,
            "flex": null,
            "flex_flow": null,
            "grid_area": null,
            "grid_auto_columns": null,
            "grid_auto_flow": null,
            "grid_auto_rows": null,
            "grid_column": null,
            "grid_gap": null,
            "grid_row": null,
            "grid_template_areas": null,
            "grid_template_columns": null,
            "grid_template_rows": null,
            "height": null,
            "justify_content": null,
            "justify_items": null,
            "left": null,
            "margin": null,
            "max_height": null,
            "max_width": null,
            "min_height": null,
            "min_width": null,
            "object_fit": null,
            "object_position": null,
            "order": null,
            "overflow": null,
            "overflow_x": null,
            "overflow_y": null,
            "padding": null,
            "right": null,
            "top": null,
            "visibility": null,
            "width": null
          }
        },
        "c59345c081b54bee83828cafc486af07": {
          "model_module": "@jupyter-widgets/controls",
          "model_name": "DescriptionStyleModel",
          "model_module_version": "1.5.0",
          "state": {
            "_model_module": "@jupyter-widgets/controls",
            "_model_module_version": "1.5.0",
            "_model_name": "DescriptionStyleModel",
            "_view_count": null,
            "_view_module": "@jupyter-widgets/base",
            "_view_module_version": "1.2.0",
            "_view_name": "StyleView",
            "description_width": ""
          }
        },
        "acaf8071294341499d5cc6c256a11566": {
          "model_module": "@jupyter-widgets/base",
          "model_name": "LayoutModel",
          "model_module_version": "1.2.0",
          "state": {
            "_model_module": "@jupyter-widgets/base",
            "_model_module_version": "1.2.0",
            "_model_name": "LayoutModel",
            "_view_count": null,
            "_view_module": "@jupyter-widgets/base",
            "_view_module_version": "1.2.0",
            "_view_name": "LayoutView",
            "align_content": null,
            "align_items": null,
            "align_self": null,
            "border": null,
            "bottom": null,
            "display": null,
            "flex": null,
            "flex_flow": null,
            "grid_area": null,
            "grid_auto_columns": null,
            "grid_auto_flow": null,
            "grid_auto_rows": null,
            "grid_column": null,
            "grid_gap": null,
            "grid_row": null,
            "grid_template_areas": null,
            "grid_template_columns": null,
            "grid_template_rows": null,
            "height": null,
            "justify_content": null,
            "justify_items": null,
            "left": null,
            "margin": null,
            "max_height": null,
            "max_width": null,
            "min_height": null,
            "min_width": null,
            "object_fit": null,
            "object_position": null,
            "order": null,
            "overflow": null,
            "overflow_x": null,
            "overflow_y": null,
            "padding": null,
            "right": null,
            "top": null,
            "visibility": null,
            "width": null
          }
        },
        "841bc86bd0ca468a83f8fa88af094ca7": {
          "model_module": "@jupyter-widgets/controls",
          "model_name": "ProgressStyleModel",
          "model_module_version": "1.5.0",
          "state": {
            "_model_module": "@jupyter-widgets/controls",
            "_model_module_version": "1.5.0",
            "_model_name": "ProgressStyleModel",
            "_view_count": null,
            "_view_module": "@jupyter-widgets/base",
            "_view_module_version": "1.2.0",
            "_view_name": "StyleView",
            "bar_color": null,
            "description_width": ""
          }
        },
        "082352fd484c4a9288ab95e6e807f611": {
          "model_module": "@jupyter-widgets/base",
          "model_name": "LayoutModel",
          "model_module_version": "1.2.0",
          "state": {
            "_model_module": "@jupyter-widgets/base",
            "_model_module_version": "1.2.0",
            "_model_name": "LayoutModel",
            "_view_count": null,
            "_view_module": "@jupyter-widgets/base",
            "_view_module_version": "1.2.0",
            "_view_name": "LayoutView",
            "align_content": null,
            "align_items": null,
            "align_self": null,
            "border": null,
            "bottom": null,
            "display": null,
            "flex": null,
            "flex_flow": null,
            "grid_area": null,
            "grid_auto_columns": null,
            "grid_auto_flow": null,
            "grid_auto_rows": null,
            "grid_column": null,
            "grid_gap": null,
            "grid_row": null,
            "grid_template_areas": null,
            "grid_template_columns": null,
            "grid_template_rows": null,
            "height": null,
            "justify_content": null,
            "justify_items": null,
            "left": null,
            "margin": null,
            "max_height": null,
            "max_width": null,
            "min_height": null,
            "min_width": null,
            "object_fit": null,
            "object_position": null,
            "order": null,
            "overflow": null,
            "overflow_x": null,
            "overflow_y": null,
            "padding": null,
            "right": null,
            "top": null,
            "visibility": null,
            "width": null
          }
        },
        "05248150418647c39e1a0dd532ad6b1b": {
          "model_module": "@jupyter-widgets/controls",
          "model_name": "DescriptionStyleModel",
          "model_module_version": "1.5.0",
          "state": {
            "_model_module": "@jupyter-widgets/controls",
            "_model_module_version": "1.5.0",
            "_model_name": "DescriptionStyleModel",
            "_view_count": null,
            "_view_module": "@jupyter-widgets/base",
            "_view_module_version": "1.2.0",
            "_view_name": "StyleView",
            "description_width": ""
          }
        },
        "4acc2e525c624923b3764635b49a4453": {
          "model_module": "@jupyter-widgets/controls",
          "model_name": "HBoxModel",
          "model_module_version": "1.5.0",
          "state": {
            "_dom_classes": [],
            "_model_module": "@jupyter-widgets/controls",
            "_model_module_version": "1.5.0",
            "_model_name": "HBoxModel",
            "_view_count": null,
            "_view_module": "@jupyter-widgets/controls",
            "_view_module_version": "1.5.0",
            "_view_name": "HBoxView",
            "box_style": "",
            "children": [
              "IPY_MODEL_60beb029c58142619c9d09ac0ce0ea2e",
              "IPY_MODEL_7861874c18b54d3bbe3c1ce1b849c830",
              "IPY_MODEL_25635b1420f94c55bba3e00be474d4e7"
            ],
            "layout": "IPY_MODEL_efdaaf7c0f0b477da8bda3b93744ee6d"
          }
        },
        "60beb029c58142619c9d09ac0ce0ea2e": {
          "model_module": "@jupyter-widgets/controls",
          "model_name": "HTMLModel",
          "model_module_version": "1.5.0",
          "state": {
            "_dom_classes": [],
            "_model_module": "@jupyter-widgets/controls",
            "_model_module_version": "1.5.0",
            "_model_name": "HTMLModel",
            "_view_count": null,
            "_view_module": "@jupyter-widgets/controls",
            "_view_module_version": "1.5.0",
            "_view_name": "HTMLView",
            "description": "",
            "description_tooltip": null,
            "layout": "IPY_MODEL_11d75fa8b0514eaba953051759678d0b",
            "placeholder": "​",
            "style": "IPY_MODEL_42024b9c7897443f84fabfe1d7011378",
            "value": "  0%"
          }
        },
        "7861874c18b54d3bbe3c1ce1b849c830": {
          "model_module": "@jupyter-widgets/controls",
          "model_name": "FloatProgressModel",
          "model_module_version": "1.5.0",
          "state": {
            "_dom_classes": [],
            "_model_module": "@jupyter-widgets/controls",
            "_model_module_version": "1.5.0",
            "_model_name": "FloatProgressModel",
            "_view_count": null,
            "_view_module": "@jupyter-widgets/controls",
            "_view_module_version": "1.5.0",
            "_view_name": "ProgressView",
            "bar_style": "",
            "description": "",
            "description_tooltip": null,
            "layout": "IPY_MODEL_6e720afcc6ba4f53965852c124641314",
            "max": 9900,
            "min": 0,
            "orientation": "horizontal",
            "style": "IPY_MODEL_dd280cc79bb74fadbe458401d4df0ec5",
            "value": 12
          }
        },
        "25635b1420f94c55bba3e00be474d4e7": {
          "model_module": "@jupyter-widgets/controls",
          "model_name": "HTMLModel",
          "model_module_version": "1.5.0",
          "state": {
            "_dom_classes": [],
            "_model_module": "@jupyter-widgets/controls",
            "_model_module_version": "1.5.0",
            "_model_name": "HTMLModel",
            "_view_count": null,
            "_view_module": "@jupyter-widgets/controls",
            "_view_module_version": "1.5.0",
            "_view_name": "HTMLView",
            "description": "",
            "description_tooltip": null,
            "layout": "IPY_MODEL_c6586f695b41435080b67ac8005d6770",
            "placeholder": "​",
            "style": "IPY_MODEL_fbd793dae69f4dd599fd39f17a5c2ee4",
            "value": " 12/9900 [02:04&lt;33:16:32, 12.11s/it]"
          }
        },
        "efdaaf7c0f0b477da8bda3b93744ee6d": {
          "model_module": "@jupyter-widgets/base",
          "model_name": "LayoutModel",
          "model_module_version": "1.2.0",
          "state": {
            "_model_module": "@jupyter-widgets/base",
            "_model_module_version": "1.2.0",
            "_model_name": "LayoutModel",
            "_view_count": null,
            "_view_module": "@jupyter-widgets/base",
            "_view_module_version": "1.2.0",
            "_view_name": "LayoutView",
            "align_content": null,
            "align_items": null,
            "align_self": null,
            "border": null,
            "bottom": null,
            "display": null,
            "flex": null,
            "flex_flow": null,
            "grid_area": null,
            "grid_auto_columns": null,
            "grid_auto_flow": null,
            "grid_auto_rows": null,
            "grid_column": null,
            "grid_gap": null,
            "grid_row": null,
            "grid_template_areas": null,
            "grid_template_columns": null,
            "grid_template_rows": null,
            "height": null,
            "justify_content": null,
            "justify_items": null,
            "left": null,
            "margin": null,
            "max_height": null,
            "max_width": null,
            "min_height": null,
            "min_width": null,
            "object_fit": null,
            "object_position": null,
            "order": null,
            "overflow": null,
            "overflow_x": null,
            "overflow_y": null,
            "padding": null,
            "right": null,
            "top": null,
            "visibility": null,
            "width": null
          }
        },
        "11d75fa8b0514eaba953051759678d0b": {
          "model_module": "@jupyter-widgets/base",
          "model_name": "LayoutModel",
          "model_module_version": "1.2.0",
          "state": {
            "_model_module": "@jupyter-widgets/base",
            "_model_module_version": "1.2.0",
            "_model_name": "LayoutModel",
            "_view_count": null,
            "_view_module": "@jupyter-widgets/base",
            "_view_module_version": "1.2.0",
            "_view_name": "LayoutView",
            "align_content": null,
            "align_items": null,
            "align_self": null,
            "border": null,
            "bottom": null,
            "display": null,
            "flex": null,
            "flex_flow": null,
            "grid_area": null,
            "grid_auto_columns": null,
            "grid_auto_flow": null,
            "grid_auto_rows": null,
            "grid_column": null,
            "grid_gap": null,
            "grid_row": null,
            "grid_template_areas": null,
            "grid_template_columns": null,
            "grid_template_rows": null,
            "height": null,
            "justify_content": null,
            "justify_items": null,
            "left": null,
            "margin": null,
            "max_height": null,
            "max_width": null,
            "min_height": null,
            "min_width": null,
            "object_fit": null,
            "object_position": null,
            "order": null,
            "overflow": null,
            "overflow_x": null,
            "overflow_y": null,
            "padding": null,
            "right": null,
            "top": null,
            "visibility": null,
            "width": null
          }
        },
        "42024b9c7897443f84fabfe1d7011378": {
          "model_module": "@jupyter-widgets/controls",
          "model_name": "DescriptionStyleModel",
          "model_module_version": "1.5.0",
          "state": {
            "_model_module": "@jupyter-widgets/controls",
            "_model_module_version": "1.5.0",
            "_model_name": "DescriptionStyleModel",
            "_view_count": null,
            "_view_module": "@jupyter-widgets/base",
            "_view_module_version": "1.2.0",
            "_view_name": "StyleView",
            "description_width": ""
          }
        },
        "6e720afcc6ba4f53965852c124641314": {
          "model_module": "@jupyter-widgets/base",
          "model_name": "LayoutModel",
          "model_module_version": "1.2.0",
          "state": {
            "_model_module": "@jupyter-widgets/base",
            "_model_module_version": "1.2.0",
            "_model_name": "LayoutModel",
            "_view_count": null,
            "_view_module": "@jupyter-widgets/base",
            "_view_module_version": "1.2.0",
            "_view_name": "LayoutView",
            "align_content": null,
            "align_items": null,
            "align_self": null,
            "border": null,
            "bottom": null,
            "display": null,
            "flex": null,
            "flex_flow": null,
            "grid_area": null,
            "grid_auto_columns": null,
            "grid_auto_flow": null,
            "grid_auto_rows": null,
            "grid_column": null,
            "grid_gap": null,
            "grid_row": null,
            "grid_template_areas": null,
            "grid_template_columns": null,
            "grid_template_rows": null,
            "height": null,
            "justify_content": null,
            "justify_items": null,
            "left": null,
            "margin": null,
            "max_height": null,
            "max_width": null,
            "min_height": null,
            "min_width": null,
            "object_fit": null,
            "object_position": null,
            "order": null,
            "overflow": null,
            "overflow_x": null,
            "overflow_y": null,
            "padding": null,
            "right": null,
            "top": null,
            "visibility": null,
            "width": null
          }
        },
        "dd280cc79bb74fadbe458401d4df0ec5": {
          "model_module": "@jupyter-widgets/controls",
          "model_name": "ProgressStyleModel",
          "model_module_version": "1.5.0",
          "state": {
            "_model_module": "@jupyter-widgets/controls",
            "_model_module_version": "1.5.0",
            "_model_name": "ProgressStyleModel",
            "_view_count": null,
            "_view_module": "@jupyter-widgets/base",
            "_view_module_version": "1.2.0",
            "_view_name": "StyleView",
            "bar_color": null,
            "description_width": ""
          }
        },
        "c6586f695b41435080b67ac8005d6770": {
          "model_module": "@jupyter-widgets/base",
          "model_name": "LayoutModel",
          "model_module_version": "1.2.0",
          "state": {
            "_model_module": "@jupyter-widgets/base",
            "_model_module_version": "1.2.0",
            "_model_name": "LayoutModel",
            "_view_count": null,
            "_view_module": "@jupyter-widgets/base",
            "_view_module_version": "1.2.0",
            "_view_name": "LayoutView",
            "align_content": null,
            "align_items": null,
            "align_self": null,
            "border": null,
            "bottom": null,
            "display": null,
            "flex": null,
            "flex_flow": null,
            "grid_area": null,
            "grid_auto_columns": null,
            "grid_auto_flow": null,
            "grid_auto_rows": null,
            "grid_column": null,
            "grid_gap": null,
            "grid_row": null,
            "grid_template_areas": null,
            "grid_template_columns": null,
            "grid_template_rows": null,
            "height": null,
            "justify_content": null,
            "justify_items": null,
            "left": null,
            "margin": null,
            "max_height": null,
            "max_width": null,
            "min_height": null,
            "min_width": null,
            "object_fit": null,
            "object_position": null,
            "order": null,
            "overflow": null,
            "overflow_x": null,
            "overflow_y": null,
            "padding": null,
            "right": null,
            "top": null,
            "visibility": null,
            "width": null
          }
        },
        "fbd793dae69f4dd599fd39f17a5c2ee4": {
          "model_module": "@jupyter-widgets/controls",
          "model_name": "DescriptionStyleModel",
          "model_module_version": "1.5.0",
          "state": {
            "_model_module": "@jupyter-widgets/controls",
            "_model_module_version": "1.5.0",
            "_model_name": "DescriptionStyleModel",
            "_view_count": null,
            "_view_module": "@jupyter-widgets/base",
            "_view_module_version": "1.2.0",
            "_view_name": "StyleView",
            "description_width": ""
          }
        }
      }
    }
  },
  "cells": [
    {
      "cell_type": "markdown",
      "metadata": {
        "id": "VYfg3I_fSt6e"
      },
      "source": [
        "# WebScraping with Selenium\n",
        "\n",
        "This notebook shows how use selenium to scrape data from Indiegogo.com\n",
        "The scope is only to understand the capabilities of web scraping and prepare a dataset for academic purporse.\n",
        "\n",
        "Let’s begin writing our scraper!\n",
        "\n",
        "We will first install important modules and packages for our Notebook\n",
        "\n",
        "\n",
        "*   Selenium\n",
        "*   Chromium-chromedriver\n",
        "\n",
        "<a href=\"https://colab.research.google.com/drive/1_WyM24eXWf-pdcqJKCcsb1pWwnbEWRi8?authuser=2#scrollTo=VYfg3I_fSt6e\"><img align=\"left\" src=\"https://colab.research.google.com/assets/colab-badge.svg\" alt=\"Open in Colab\" title=\"Open and Execute in Google Colaboratory\"></a>\n"
      ]
    },
    {
      "cell_type": "code",
      "metadata": {
        "id": "6E11q1711nmO",
        "colab": {
          "base_uri": "https://localhost:8080/"
        },
        "outputId": "a72ffb08-223e-4795-852c-cfa84735c4fd"
      },
      "source": [
        "!pip install selenium\n",
        "!apt-get update\n",
        "!apt install chromium-chromedriver\n",
        "!cp /usr/lib/chromium-browser/chromedriver /usr/bin"
      ],
      "execution_count": 1,
      "outputs": [
        {
          "output_type": "stream",
          "name": "stdout",
          "text": [
            "Looking in indexes: https://pypi.org/simple, https://us-python.pkg.dev/colab-wheels/public/simple/\n",
            "Collecting selenium\n",
            "  Downloading selenium-4.2.0-py3-none-any.whl (983 kB)\n",
            "\u001b[K     |████████████████████████████████| 983 kB 8.4 MB/s \n",
            "\u001b[?25hCollecting trio-websocket~=0.9\n",
            "  Downloading trio_websocket-0.9.2-py3-none-any.whl (16 kB)\n",
            "Collecting urllib3[secure,socks]~=1.26\n",
            "  Downloading urllib3-1.26.9-py2.py3-none-any.whl (138 kB)\n",
            "\u001b[K     |████████████████████████████████| 138 kB 43.8 MB/s \n",
            "\u001b[?25hCollecting trio~=0.17\n",
            "  Downloading trio-0.20.0-py3-none-any.whl (359 kB)\n",
            "\u001b[K     |████████████████████████████████| 359 kB 46.1 MB/s \n",
            "\u001b[?25hRequirement already satisfied: sortedcontainers in /usr/local/lib/python3.7/dist-packages (from trio~=0.17->selenium) (2.4.0)\n",
            "Requirement already satisfied: attrs>=19.2.0 in /usr/local/lib/python3.7/dist-packages (from trio~=0.17->selenium) (21.4.0)\n",
            "Requirement already satisfied: idna in /usr/local/lib/python3.7/dist-packages (from trio~=0.17->selenium) (2.10)\n",
            "Collecting sniffio\n",
            "  Downloading sniffio-1.2.0-py3-none-any.whl (10 kB)\n",
            "Collecting async-generator>=1.9\n",
            "  Downloading async_generator-1.10-py3-none-any.whl (18 kB)\n",
            "Collecting outcome\n",
            "  Downloading outcome-1.1.0-py2.py3-none-any.whl (9.7 kB)\n",
            "Collecting wsproto>=0.14\n",
            "  Downloading wsproto-1.1.0-py3-none-any.whl (24 kB)\n",
            "Collecting pyOpenSSL>=0.14\n",
            "  Downloading pyOpenSSL-22.0.0-py2.py3-none-any.whl (55 kB)\n",
            "\u001b[K     |████████████████████████████████| 55 kB 540 kB/s \n",
            "\u001b[?25hCollecting cryptography>=1.3.4\n",
            "  Downloading cryptography-37.0.2-cp36-abi3-manylinux_2_24_x86_64.whl (4.0 MB)\n",
            "\u001b[K     |████████████████████████████████| 4.0 MB 38.8 MB/s \n",
            "\u001b[?25hRequirement already satisfied: certifi in /usr/local/lib/python3.7/dist-packages (from urllib3[secure,socks]~=1.26->selenium) (2022.5.18.1)\n",
            "Requirement already satisfied: PySocks!=1.5.7,<2.0,>=1.5.6 in /usr/local/lib/python3.7/dist-packages (from urllib3[secure,socks]~=1.26->selenium) (1.7.1)\n",
            "Requirement already satisfied: cffi>=1.12 in /usr/local/lib/python3.7/dist-packages (from cryptography>=1.3.4->urllib3[secure,socks]~=1.26->selenium) (1.15.0)\n",
            "Requirement already satisfied: pycparser in /usr/local/lib/python3.7/dist-packages (from cffi>=1.12->cryptography>=1.3.4->urllib3[secure,socks]~=1.26->selenium) (2.21)\n",
            "Collecting h11<1,>=0.9.0\n",
            "  Downloading h11-0.13.0-py3-none-any.whl (58 kB)\n",
            "\u001b[K     |████████████████████████████████| 58 kB 5.4 MB/s \n",
            "\u001b[?25hRequirement already satisfied: typing-extensions in /usr/local/lib/python3.7/dist-packages (from h11<1,>=0.9.0->wsproto>=0.14->trio-websocket~=0.9->selenium) (4.2.0)\n",
            "Installing collected packages: sniffio, outcome, h11, cryptography, async-generator, wsproto, urllib3, trio, pyOpenSSL, trio-websocket, selenium\n",
            "  Attempting uninstall: urllib3\n",
            "    Found existing installation: urllib3 1.24.3\n",
            "    Uninstalling urllib3-1.24.3:\n",
            "      Successfully uninstalled urllib3-1.24.3\n",
            "\u001b[31mERROR: pip's dependency resolver does not currently take into account all the packages that are installed. This behaviour is the source of the following dependency conflicts.\n",
            "requests 2.23.0 requires urllib3!=1.25.0,!=1.25.1,<1.26,>=1.21.1, but you have urllib3 1.26.9 which is incompatible.\n",
            "datascience 0.10.6 requires folium==0.2.1, but you have folium 0.8.3 which is incompatible.\u001b[0m\n",
            "Successfully installed async-generator-1.10 cryptography-37.0.2 h11-0.13.0 outcome-1.1.0 pyOpenSSL-22.0.0 selenium-4.2.0 sniffio-1.2.0 trio-0.20.0 trio-websocket-0.9.2 urllib3-1.26.9 wsproto-1.1.0\n",
            "Get:1 https://developer.download.nvidia.com/compute/cuda/repos/ubuntu1804/x86_64  InRelease [1,581 B]\n",
            "Get:2 https://cloud.r-project.org/bin/linux/ubuntu bionic-cran40/ InRelease [3,626 B]\n",
            "Hit:3 http://archive.ubuntu.com/ubuntu bionic InRelease\n",
            "Get:4 http://archive.ubuntu.com/ubuntu bionic-updates InRelease [88.7 kB]\n",
            "Ign:5 https://developer.download.nvidia.com/compute/machine-learning/repos/ubuntu1804/x86_64  InRelease\n",
            "Get:6 http://security.ubuntu.com/ubuntu bionic-security InRelease [88.7 kB]\n",
            "Hit:7 https://developer.download.nvidia.com/compute/machine-learning/repos/ubuntu1804/x86_64  Release\n",
            "Get:8 http://ppa.launchpad.net/c2d4u.team/c2d4u4.0+/ubuntu bionic InRelease [15.9 kB]\n",
            "Get:9 https://developer.download.nvidia.com/compute/cuda/repos/ubuntu1804/x86_64  Packages [804 kB]\n",
            "Get:10 http://archive.ubuntu.com/ubuntu bionic-backports InRelease [74.6 kB]\n",
            "Hit:11 http://ppa.launchpad.net/cran/libgit2/ubuntu bionic InRelease\n",
            "Get:12 http://ppa.launchpad.net/deadsnakes/ppa/ubuntu bionic InRelease [15.9 kB]\n",
            "Get:13 http://ppa.launchpad.net/graphics-drivers/ppa/ubuntu bionic InRelease [21.3 kB]\n",
            "Get:15 http://archive.ubuntu.com/ubuntu bionic-updates/universe amd64 Packages [2,286 kB]\n",
            "Get:16 http://archive.ubuntu.com/ubuntu bionic-updates/main amd64 Packages [3,231 kB]\n",
            "Get:17 http://ppa.launchpad.net/c2d4u.team/c2d4u4.0+/ubuntu bionic/main Sources [1,992 kB]\n",
            "Get:18 http://security.ubuntu.com/ubuntu bionic-security/main amd64 Packages [2,799 kB]\n",
            "Get:19 http://ppa.launchpad.net/c2d4u.team/c2d4u4.0+/ubuntu bionic/main amd64 Packages [1,021 kB]\n",
            "Get:20 http://security.ubuntu.com/ubuntu bionic-security/universe amd64 Packages [1,512 kB]\n",
            "Get:21 http://ppa.launchpad.net/deadsnakes/ppa/ubuntu bionic/main amd64 Packages [45.3 kB]\n",
            "Get:22 http://ppa.launchpad.net/graphics-drivers/ppa/ubuntu bionic/main amd64 Packages [47.7 kB]\n",
            "Fetched 14.0 MB in 8s (1,780 kB/s)\n",
            "Reading package lists... Done\n",
            "Reading package lists... Done\n",
            "Building dependency tree       \n",
            "Reading state information... Done\n",
            "The following package was automatically installed and is no longer required:\n",
            "  libnvidia-common-460\n",
            "Use 'apt autoremove' to remove it.\n",
            "The following additional packages will be installed:\n",
            "  chromium-browser chromium-browser-l10n chromium-codecs-ffmpeg-extra\n",
            "Suggested packages:\n",
            "  webaccounts-chromium-extension unity-chromium-extension\n",
            "The following NEW packages will be installed:\n",
            "  chromium-browser chromium-browser-l10n chromium-chromedriver\n",
            "  chromium-codecs-ffmpeg-extra\n",
            "0 upgraded, 4 newly installed, 0 to remove and 65 not upgraded.\n",
            "Need to get 89.8 MB of archives.\n",
            "After this operation, 302 MB of additional disk space will be used.\n",
            "Get:1 http://archive.ubuntu.com/ubuntu bionic-updates/universe amd64 chromium-codecs-ffmpeg-extra amd64 101.0.4951.64-0ubuntu0.18.04.1 [1,142 kB]\n",
            "Get:2 http://archive.ubuntu.com/ubuntu bionic-updates/universe amd64 chromium-browser amd64 101.0.4951.64-0ubuntu0.18.04.1 [78.5 MB]\n",
            "Get:3 http://archive.ubuntu.com/ubuntu bionic-updates/universe amd64 chromium-browser-l10n all 101.0.4951.64-0ubuntu0.18.04.1 [4,980 kB]\n",
            "Get:4 http://archive.ubuntu.com/ubuntu bionic-updates/universe amd64 chromium-chromedriver amd64 101.0.4951.64-0ubuntu0.18.04.1 [5,153 kB]\n",
            "Fetched 89.8 MB in 6s (15.8 MB/s)\n",
            "Selecting previously unselected package chromium-codecs-ffmpeg-extra.\n",
            "(Reading database ... 155632 files and directories currently installed.)\n",
            "Preparing to unpack .../chromium-codecs-ffmpeg-extra_101.0.4951.64-0ubuntu0.18.04.1_amd64.deb ...\n",
            "Unpacking chromium-codecs-ffmpeg-extra (101.0.4951.64-0ubuntu0.18.04.1) ...\n",
            "Selecting previously unselected package chromium-browser.\n",
            "Preparing to unpack .../chromium-browser_101.0.4951.64-0ubuntu0.18.04.1_amd64.deb ...\n",
            "Unpacking chromium-browser (101.0.4951.64-0ubuntu0.18.04.1) ...\n",
            "Selecting previously unselected package chromium-browser-l10n.\n",
            "Preparing to unpack .../chromium-browser-l10n_101.0.4951.64-0ubuntu0.18.04.1_all.deb ...\n",
            "Unpacking chromium-browser-l10n (101.0.4951.64-0ubuntu0.18.04.1) ...\n",
            "Selecting previously unselected package chromium-chromedriver.\n",
            "Preparing to unpack .../chromium-chromedriver_101.0.4951.64-0ubuntu0.18.04.1_amd64.deb ...\n",
            "Unpacking chromium-chromedriver (101.0.4951.64-0ubuntu0.18.04.1) ...\n",
            "Setting up chromium-codecs-ffmpeg-extra (101.0.4951.64-0ubuntu0.18.04.1) ...\n",
            "Setting up chromium-browser (101.0.4951.64-0ubuntu0.18.04.1) ...\n",
            "update-alternatives: using /usr/bin/chromium-browser to provide /usr/bin/x-www-browser (x-www-browser) in auto mode\n",
            "update-alternatives: using /usr/bin/chromium-browser to provide /usr/bin/gnome-www-browser (gnome-www-browser) in auto mode\n",
            "Setting up chromium-chromedriver (101.0.4951.64-0ubuntu0.18.04.1) ...\n",
            "Setting up chromium-browser-l10n (101.0.4951.64-0ubuntu0.18.04.1) ...\n",
            "Processing triggers for man-db (2.8.3-2ubuntu0.1) ...\n",
            "Processing triggers for hicolor-icon-theme (0.17-2) ...\n",
            "Processing triggers for mime-support (3.60ubuntu1) ...\n",
            "Processing triggers for libc-bin (2.27-3ubuntu1.3) ...\n",
            "/sbin/ldconfig.real: /usr/local/lib/python3.7/dist-packages/ideep4py/lib/libmkldnn.so.0 is not a symbolic link\n",
            "\n",
            "cp: '/usr/lib/chromium-browser/chromedriver' and '/usr/bin/chromedriver' are the same file\n"
          ]
        }
      ]
    },
    {
      "cell_type": "markdown",
      "metadata": {
        "id": "kuhZcDh4UHYp"
      },
      "source": [
        "And now we will import some modules on our Notebook\n",
        "\n",
        "\n",
        "1.   sys: to setup the path of chrome driver\n",
        "2.   selenium: to emulate the user behaviour\n",
        "3.   pandas: to work with data\n",
        "4.   tqdm: to show a progress bar in our notebook\n",
        "5.   json: to work with json format\n",
        "\n",
        "\n",
        "\n"
      ]
    },
    {
      "cell_type": "code",
      "metadata": {
        "id": "YRt5yEXxA-jW"
      },
      "source": [
        "import sys\n",
        "import logging\n",
        "from selenium.webdriver.remote.remote_connection import LOGGER\n",
        "LOGGER.setLevel(logging.WARNING)\n",
        "sys.path.insert(0,'/usr/lib/chromium-browser/chromedriver')\n",
        "from selenium import webdriver\n",
        "from selenium.webdriver.common.by import By\n",
        "from tqdm import tqdm_notebook as tqdm\n",
        "import pandas\n",
        "import json\n",
        "import pprint"
      ],
      "execution_count": 20,
      "outputs": []
    },
    {
      "cell_type": "markdown",
      "metadata": {
        "id": "ksyefP35VQc2"
      },
      "source": [
        "First we need to set the options for the ghost browser.\n",
        "The most important is `--headless` because we are in a \"cloud\" ntotebook. In our local notebook we can remove the `--headless` option.  \n"
      ]
    },
    {
      "cell_type": "code",
      "metadata": {
        "id": "DTfvdy_gBCBU"
      },
      "source": [
        "chrome_options = webdriver.ChromeOptions()\n",
        "chrome_options.add_argument('--headless')\n",
        "chrome_options.add_argument('--no-sandbox')\n",
        "chrome_options.add_argument('--disable-dev-shm-usage')\n",
        "chrome_options.add_argument(\"user-agent=Mozilla/5.0 (Macintosh; Intel Mac OS X 10_15_7) AppleWebKit/537.36 (KHTML, like Gecko) Chrome/90.0.4430.212 Safari/537.36\")"
      ],
      "execution_count": 3,
      "outputs": []
    },
    {
      "cell_type": "markdown",
      "metadata": {
        "id": "0DpumOn7VoFw"
      },
      "source": [
        "`webdriver` is the most importa object in Selenium.\n",
        "With `webdriver` we can start the phantom browser, emulate the user navigation and scrape our data. \n",
        "\n",
        "Let’s now create a new instance of google chrome.\n",
        "\n",
        "\n",
        "We will navitage to page by a `get` request. With http we can do a get or a post (or others but they are not important for us): https://www.w3schools.com/tags/ref_httpmethods.asp \n",
        "\n",
        "\n",
        "\n",
        "```\n",
        "wd.get(\"https://www.indiegogo.com/explore/all?project_type=campaign&project_timing=all&sort=trending\")\n",
        "```\n",
        "\n"
      ]
    },
    {
      "cell_type": "markdown",
      "metadata": {
        "id": "STZyncI72HU0"
      },
      "source": [
        "## [Advanced] How to use a proxy to hide our connection"
      ]
    },
    {
      "cell_type": "markdown",
      "metadata": {
        "id": "mCpjEkYGa5K4"
      },
      "source": [
        "RequestProxy is used to **hide** our connection..."
      ]
    },
    {
      "cell_type": "code",
      "metadata": {
        "colab": {
          "base_uri": "https://localhost:8080/"
        },
        "id": "4Q1DZJTJ2pm8",
        "outputId": "bf777b6d-7c2c-4f9c-f385-9f038b780e59"
      },
      "source": [
        "!pip install http-request-randomizer"
      ],
      "execution_count": null,
      "outputs": [
        {
          "output_type": "stream",
          "text": [
            "Requirement already satisfied: http-request-randomizer in /usr/local/lib/python3.7/dist-packages (1.3.2)\n",
            "Requirement already satisfied: python-dateutil>=2.8.1 in /usr/local/lib/python3.7/dist-packages (from http-request-randomizer) (2.8.1)\n",
            "Requirement already satisfied: pyOpenSSL>=19.1.0 in /usr/local/lib/python3.7/dist-packages (from http-request-randomizer) (20.0.1)\n",
            "Requirement already satisfied: beautifulsoup4>=4.9.3 in /usr/local/lib/python3.7/dist-packages (from http-request-randomizer) (4.9.3)\n",
            "Requirement already satisfied: fake-useragent>=0.1.11 in /usr/local/lib/python3.7/dist-packages (from http-request-randomizer) (0.1.11)\n",
            "Requirement already satisfied: requests>=2.24.0 in /usr/local/lib/python3.7/dist-packages (from http-request-randomizer) (2.25.1)\n",
            "Requirement already satisfied: httmock>=1.3.0 in /usr/local/lib/python3.7/dist-packages (from http-request-randomizer) (1.4.0)\n",
            "Requirement already satisfied: psutil>=5.7.2 in /usr/local/lib/python3.7/dist-packages (from http-request-randomizer) (5.8.0)\n",
            "Requirement already satisfied: six>=1.5 in /usr/local/lib/python3.7/dist-packages (from python-dateutil>=2.8.1->http-request-randomizer) (1.15.0)\n",
            "Requirement already satisfied: cryptography>=3.2 in /usr/local/lib/python3.7/dist-packages (from pyOpenSSL>=19.1.0->http-request-randomizer) (3.4.7)\n",
            "Requirement already satisfied: soupsieve>1.2; python_version >= \"3.0\" in /usr/local/lib/python3.7/dist-packages (from beautifulsoup4>=4.9.3->http-request-randomizer) (2.2.1)\n",
            "Requirement already satisfied: urllib3<1.27,>=1.21.1 in /usr/local/lib/python3.7/dist-packages (from requests>=2.24.0->http-request-randomizer) (1.24.3)\n",
            "Requirement already satisfied: chardet<5,>=3.0.2 in /usr/local/lib/python3.7/dist-packages (from requests>=2.24.0->http-request-randomizer) (3.0.4)\n",
            "Requirement already satisfied: certifi>=2017.4.17 in /usr/local/lib/python3.7/dist-packages (from requests>=2.24.0->http-request-randomizer) (2020.12.5)\n",
            "Requirement already satisfied: idna<3,>=2.5 in /usr/local/lib/python3.7/dist-packages (from requests>=2.24.0->http-request-randomizer) (2.10)\n",
            "Requirement already satisfied: cffi>=1.12 in /usr/local/lib/python3.7/dist-packages (from cryptography>=3.2->pyOpenSSL>=19.1.0->http-request-randomizer) (1.14.5)\n",
            "Requirement already satisfied: pycparser in /usr/local/lib/python3.7/dist-packages (from cffi>=1.12->cryptography>=3.2->pyOpenSSL>=19.1.0->http-request-randomizer) (2.20)\n"
          ],
          "name": "stdout"
        }
      ]
    },
    {
      "cell_type": "code",
      "metadata": {
        "colab": {
          "base_uri": "https://localhost:8080/"
        },
        "id": "Y90JyVfdHcQ7",
        "outputId": "c3d87080-96eb-42d5-87d7-56e25fc35376"
      },
      "source": [
        "from http_request_randomizer.requests.proxy.requestProxy import RequestProxy\n",
        "req_proxy = RequestProxy()\n",
        "proxies = req_proxy.get_proxy_list()"
      ],
      "execution_count": null,
      "outputs": [
        {
          "output_type": "stream",
          "text": [
            "2021-05-24 19:30:47,740 http_request_randomizer.requests.useragent.userAgent INFO     Using local file for user agents: /usr/local/lib/python3.7/dist-packages/http_request_randomizer/requests/proxy/../data/user_agents.txt\n",
            "2021-05-24 19:30:47,743 root   DEBUG    === Initialized Proxy Parsers ===\n",
            "2021-05-24 19:30:47,746 root   DEBUG    \t FreeProxy parser of 'http://free-proxy-list.net' with required bandwidth: '150' KBs\n",
            "2021-05-24 19:30:47,749 root   DEBUG    \t PremProxy parser of 'https://premproxy.com/list/' with required bandwidth: '150' KBs\n",
            "2021-05-24 19:30:47,751 root   DEBUG    \t SslProxy parser of 'https://www.sslproxies.org' with required bandwidth: '150' KBs\n",
            "2021-05-24 19:30:47,753 root   DEBUG    =================================\n",
            "2021-05-24 19:30:48,030 root   DEBUG    Added 300 proxies from FreeProxy\n",
            "2021-05-24 19:30:48,379 http_request_randomizer.requests.parsers.PremProxyParser WARNING  Proxy Provider url failed: https://premproxy.com/list/\n",
            "2021-05-24 19:30:48,380 http_request_randomizer.requests.parsers.PremProxyParser DEBUG    Pages: set()\n",
            "2021-05-24 19:30:48,821 http_request_randomizer.requests.parsers.PremProxyParser WARNING  Proxy Provider url failed: https://premproxy.com/list/\n",
            "2021-05-24 19:30:48,823 root   DEBUG    Added 0 proxies from PremProxy\n",
            "2021-05-24 19:30:48,944 root   DEBUG    Added 100 proxies from SslProxy\n",
            "2021-05-24 19:30:48,946 root   DEBUG    Total proxies = 400\n",
            "2021-05-24 19:30:48,951 root   DEBUG    Filtered proxies = 400\n"
          ],
          "name": "stderr"
        }
      ]
    },
    {
      "cell_type": "code",
      "metadata": {
        "colab": {
          "base_uri": "https://localhost:8080/"
        },
        "id": "Krm3ytiBHhZL",
        "outputId": "2cc4596a-438a-4593-e2c2-e6569a82d068"
      },
      "source": [
        "ind = [] #int is list of Italy proxy\n",
        "for proxy in proxies:\n",
        "    if proxy.country == 'Italy':\n",
        "        ind.append(proxy)\n",
        "\n",
        "PROXY = ind[0].get_address()\n",
        "print(PROXY)\n",
        "\n",
        "print(ind[0].country)"
      ],
      "execution_count": null,
      "outputs": [
        {
          "output_type": "stream",
          "text": [
            "213.203.177.218:3128\n",
            "Italy\n"
          ],
          "name": "stdout"
        }
      ]
    },
    {
      "cell_type": "code",
      "metadata": {
        "id": "Goac2YzPpLF_"
      },
      "source": [
        "# PROXY = '69.167.174.17:80'"
      ],
      "execution_count": null,
      "outputs": []
    },
    {
      "cell_type": "code",
      "metadata": {
        "id": "D6MLvqs9BIzI",
        "colab": {
          "base_uri": "https://localhost:8080/"
        },
        "outputId": "b8f2b951-1078-4fe8-b1e3-5d5bb2cae550"
      },
      "source": [
        "webdriver.DesiredCapabilities.CHROME['proxy']={\n",
        "    \"httpProxy\":PROXY,\n",
        "    \"ftpProxy\":PROXY,\n",
        "    \"sslProxy\":PROXY,\n",
        "    \"proxyType\":\"MANUAL\"\n",
        "}\n",
        "\n",
        "wd = webdriver.Chrome('chromedriver',chrome_options=chrome_options)\n"
      ],
      "execution_count": null,
      "outputs": [
        {
          "output_type": "stream",
          "text": [
            "/usr/local/lib/python3.7/dist-packages/ipykernel_launcher.py:8: DeprecationWarning: use options instead of chrome_options\n",
            "  \n"
          ],
          "name": "stderr"
        }
      ]
    },
    {
      "cell_type": "markdown",
      "metadata": {
        "id": "YUp_U6IY2Rgu"
      },
      "source": [
        "## First connection"
      ]
    },
    {
      "cell_type": "code",
      "metadata": {
        "colab": {
          "base_uri": "https://localhost:8080/"
        },
        "id": "ON4OHPZm1yTf",
        "outputId": "946de40a-5e18-4f69-d686-778b96a1c110"
      },
      "source": [
        "wd = webdriver.Chrome('chromedriver',chrome_options=chrome_options)"
      ],
      "execution_count": 31,
      "outputs": [
        {
          "output_type": "stream",
          "name": "stderr",
          "text": [
            "/usr/local/lib/python3.7/dist-packages/ipykernel_launcher.py:1: DeprecationWarning: use options instead of chrome_options\n",
            "  \"\"\"Entry point for launching an IPython kernel.\n"
          ]
        }
      ]
    },
    {
      "cell_type": "code",
      "metadata": {
        "id": "Y9Gviq-mn5Sg"
      },
      "source": [
        "wd.get(\"https://www.indiegogo.com/explore/all?project_type=campaign&project_timing=all&sort=trending\")"
      ],
      "execution_count": 5,
      "outputs": []
    },
    {
      "cell_type": "markdown",
      "metadata": {
        "id": "p3Sbfud-WbV-"
      },
      "source": [
        "Take a look to the screenshot from our phantom browser.\n",
        "\n",
        "Note:\n",
        "- la language and the locale: It is en_US!\n",
        "- the screen ration: is it the same of our notebook?"
      ]
    },
    {
      "cell_type": "code",
      "metadata": {
        "id": "iBCZSC4dWfKW",
        "colab": {
          "base_uri": "https://localhost:8080/",
          "height": 286
        },
        "outputId": "b6484ad5-3a38-4746-8809-eb830c3ee98a"
      },
      "source": [
        "wd.save_screenshot('screenshot.png')\n",
        "\n",
        "%pylab inline\n",
        "import matplotlib.pyplot as plt\n",
        "import matplotlib.image as mpimg\n",
        "img=mpimg.imread('/content/screenshot.png')\n",
        "imgplot = plt.imshow(img)\n",
        "plt.show()"
      ],
      "execution_count": 6,
      "outputs": [
        {
          "output_type": "stream",
          "name": "stdout",
          "text": [
            "Populating the interactive namespace from numpy and matplotlib\n"
          ]
        },
        {
          "output_type": "display_data",
          "data": {
            "text/plain": [
              "<Figure size 432x288 with 1 Axes>"
            ],
            "image/png": "[encoded data removed]"
          },
          "metadata": {
            "needs_background": "light"
          }
        }
      ]
    },
    {
      "cell_type": "markdown",
      "metadata": {
        "id": "kRr2IAQsa1s_"
      },
      "source": [
        "Let's try to extract some information from the page\n",
        "\n",
        "\n",
        "\n",
        "`title` contains the title of our page.\n",
        "\n",
        "\n"
      ]
    },
    {
      "cell_type": "code",
      "metadata": {
        "id": "X033nUzra6uq",
        "colab": {
          "base_uri": "https://localhost:8080/"
        },
        "outputId": "156cc1f9-2983-438e-f64c-1a293080c862"
      },
      "source": [
        "print(wd.title)"
      ],
      "execution_count": 15,
      "outputs": [
        {
          "output_type": "stream",
          "name": "stdout",
          "text": [
            "Explore Crowdfunding Campaigns & Unique Products | Indiegogo\n"
          ]
        }
      ]
    },
    {
      "cell_type": "markdown",
      "metadata": {
        "id": "C2FL7PA0jXdP"
      },
      "source": [
        "### First exercise with *Selenium*\n",
        "\n",
        "Try it yourself... Print the contents of the page on the screen!\n",
        "\n",
        "Complete the code and annotate the different behaviour. Try to use the attributes/methods applied to `wd`\n",
        "\n",
        "- `page_source`\n",
        "- `find_element_by_tag_name(\"body\")`\n",
        "- `find_element_by_tag_name(\"body\").text`\n",
        "\n",
        "\n"
      ]
    },
    {
      "cell_type": "code",
      "metadata": {
        "id": "wkPbJsAPj19o"
      },
      "source": [
        "print(....)"
      ],
      "execution_count": null,
      "outputs": []
    },
    {
      "cell_type": "markdown",
      "metadata": {
        "id": "zK7Cf_mradiL"
      },
      "source": [
        "### How do we extract the values inside a page with CSS Selector?\n",
        "\n",
        "Selenium has a method called `find_elements(by=By.CSS_SELECTOR, value='..')`.\n",
        "\n",
        "We will pass our CSS Selector into this method and get a list of selenium elements. Once we have the element, we can extract the text inside it using the `text` function."
      ]
    },
    {
      "cell_type": "code",
      "metadata": {
        "id": "WFuRVKIdbWN3",
        "colab": {
          "base_uri": "https://localhost:8080/"
        },
        "outputId": "a7c71475-e90e-42e1-f1dc-957a67b03c86"
      },
      "source": [
        "list_titles = wd.find_elements(by=By.CSS_SELECTOR, value=\"div.discoverableCard-title\")\n",
        "print(len(list_titles))"
      ],
      "execution_count": 16,
      "outputs": [
        {
          "output_type": "stream",
          "name": "stdout",
          "text": [
            "12\n"
          ]
        }
      ]
    },
    {
      "cell_type": "code",
      "metadata": {
        "id": "cRPP5xUrbwcE",
        "colab": {
          "base_uri": "https://localhost:8080/"
        },
        "outputId": "6bf5e1ec-5270-4a9d-81f1-8cfd2100d275"
      },
      "source": [
        "print(list_titles[0].text)"
      ],
      "execution_count": 10,
      "outputs": [
        {
          "output_type": "stream",
          "name": "stdout",
          "text": [
            "AAWireless\n"
          ]
        }
      ]
    },
    {
      "cell_type": "markdown",
      "metadata": {
        "id": "bAtLMeKVb8Wp"
      },
      "source": [
        "### Exercise on *find_elements_by_css_selector*\n",
        "\n",
        "Try to export the list of `div.discoverableCard-description` elements and show the content of the first element. Scope: get the description of the projects\n",
        "\n",
        "\n"
      ]
    },
    {
      "cell_type": "code",
      "metadata": {
        "id": "6_4-y31fcEYq"
      },
      "source": [
        "list_description = wd......(\"...\")\n",
        "print(len(list_description))"
      ],
      "execution_count": null,
      "outputs": []
    },
    {
      "cell_type": "markdown",
      "metadata": {
        "id": "A1ETBqlPcQhl"
      },
      "source": [
        "# Project List from Indiegogo\n",
        "\n",
        "Let's begin to download the list of projects.\n",
        "\n",
        "The list of projects is defined by the css selection rule\n",
        "`discoverable-card`\n",
        "\n"
      ]
    },
    {
      "cell_type": "code",
      "metadata": {
        "id": "_V1hNO9ZcJy6",
        "colab": {
          "base_uri": "https://localhost:8080/"
        },
        "outputId": "7c63776e-66ac-4e55-cad1-ec638725e3b8"
      },
      "source": [
        "list_projects = wd.find_elements(by=By.CSS_SELECTOR, value=\"discoverable-card\")\n",
        "print(len(list_projects))"
      ],
      "execution_count": 11,
      "outputs": [
        {
          "output_type": "stream",
          "name": "stdout",
          "text": [
            "12\n"
          ]
        },
        {
          "output_type": "stream",
          "name": "stderr",
          "text": [
            "/usr/local/lib/python3.7/dist-packages/ipykernel_launcher.py:1: DeprecationWarning: find_elements_by_css_selector is deprecated. Please use find_elements(by=By.CSS_SELECTOR, value=css_selector) instead\n",
            "  \"\"\"Entry point for launching an IPython kernel.\n"
          ]
        }
      ]
    },
    {
      "cell_type": "markdown",
      "metadata": {
        "id": "k_fSFWX0cktI"
      },
      "source": [
        "Gread! We find 12 project!\n",
        "\n",
        "Now, we will extract the attribute from each single element.\n",
        "The scope is to create one dict for each project in the list with the attribute:\n",
        "\n",
        "\n",
        "1.   url\n",
        "2.   title\n",
        "3.   description\n",
        "4.   category\n",
        "5.   progress\n",
        "\n"
      ]
    },
    {
      "cell_type": "code",
      "metadata": {
        "id": "1J2xAL6qcj9-",
        "colab": {
          "base_uri": "https://localhost:8080/"
        },
        "outputId": "277c427c-e846-49b8-e30f-88f15abc0736"
      },
      "source": [
        "import pprint\n",
        "detail_projects = []\n",
        "for project in list_projects:\n",
        "    url = project.find_elements(by=By.CSS_SELECTOR, value=\"a\")[0].get_attribute(\"href\")\n",
        "    title = \"\"\n",
        "    description = \"\"\n",
        "    category = \"\"\n",
        "    project_id = \"\"\n",
        "    balance = \"\"\n",
        "    currency = \"\"\n",
        "    image = \"\"\n",
        "    progress = \"\"\n",
        "    if(len(project.find_elements(by=By.CSS_SELECTOR, value=\".discoverableCard-title\")) > 0):\n",
        "      title = project.find_elements(by=By.CSS_SELECTOR, value=\".discoverableCard-title\")[0].text\n",
        "    if(len(project.find_elements(by=By.CSS_SELECTOR, value=\".discoverableCard-description\")) > 0):\n",
        "      description = project.find_elements(by=By.CSS_SELECTOR, value=\".discoverableCard-description\")[0].text\n",
        "    if(len(project.find_elements(by=By.CSS_SELECTOR, value=\".discoverableCard-category\")) > 0):\n",
        "      category = project.find_elements(by=By.CSS_SELECTOR, value=\".discoverableCard-category\")[0].text\n",
        "    if(len(project.find_elements(by=By.CSS_SELECTOR, value=\".discoverableCard-balance\")) > 0):\n",
        "      balance = project.find_elements(by=By.CSS_SELECTOR, value=\".discoverableCard-balance\")[0].text\n",
        "    if(len(project.find_elements(by=By.CSS_SELECTOR, value=\".discoverableCard-percent\")) > 0):\n",
        "      progress = project.find_elements(by=By.CSS_SELECTOR, value=\".discoverableCard-percent\")[0].text\n",
        "    if(len(project.find_elements(by=By.CSS_SELECTOR, value=\".discoverableCard-unitsRaised\")) > 0):\n",
        "      currency = project.find_elements(by=By.CSS_SELECTOR, value=\".discoverableCard-unitsRaised\")[0].text\n",
        "    project_id = url\n",
        "    if(len(project.find_elements(by=By.CSS_SELECTOR, value=\".discoverableCard-image\")) > 0):\n",
        "      image = project.find_elements(by=By.CSS_SELECTOR, value=\".discoverableCard-image\")[0].get_attribute(\"data-bgset\")\n",
        "\n",
        "    detail_projects.append({'url': url,\n",
        "                            'image': image,\n",
        "                            'title': title,\n",
        "                            'description': description,\n",
        "                            'category': category,\n",
        "                            'balance': balance,\n",
        "                            'currency': currency,\n",
        "                            'progress': progress,\n",
        "                            'project_id': project_id})\n",
        "\n",
        "len(detail_projects)\n",
        "pprint.pprint(detail_projects[0:5])"
      ],
      "execution_count": 17,
      "outputs": [
        {
          "output_type": "stream",
          "name": "stdout",
          "text": [
            "[{'balance': '$6,636,447 ',\n",
            "  'category': 'PHONES & ACCESSORIES',\n",
            "  'currency': 'USD raised',\n",
            "  'description': 'Bring wireless Android Auto connection to your car',\n",
            "  'image': 'https://c1.iggcdn.com/indiegogo-media-prod-cld/image/upload/c_fill,f_auto,h_273,w_273/vuhdhxrvgagorxi07vr7.jpg',\n",
            "  'progress': '295%',\n",
            "  'project_id': 'https://www.indiegogo.com/projects/aawireless/pica',\n",
            "  'title': 'AAWireless',\n",
            "  'url': 'https://www.indiegogo.com/projects/aawireless/pica'},\n",
            " {'balance': '$7,120 ',\n",
            "  'category': 'FILM',\n",
            "  'currency': 'USD raised',\n",
            "  'description': 'Coming of age film about two best friends having a once in a '\n",
            "                 'life time night. With a twist.',\n",
            "  'image': 'https://c1.iggcdn.com/indiegogo-media-prod-cld/image/upload/c_fill,f_auto,h_273,w_273/k2zignd7ick14rtviaqd.jpg',\n",
            "  'progress': '128%',\n",
            "  'project_id': 'https://www.indiegogo.com/projects/my-first-kiss-coming-of-age-short-film/pica',\n",
            "  'title': 'My First Kiss- Coming of Age- Short Film',\n",
            "  'url': 'https://www.indiegogo.com/projects/my-first-kiss-coming-of-age-short-film/pica'},\n",
            " {'balance': '$7,044 ',\n",
            "  'category': 'HOME',\n",
            "  'currency': 'USD raised',\n",
            "  'description': 'Mount is the ultimate smart digital frame to decorate your '\n",
            "                 'home and display your daily information.',\n",
            "  'image': 'https://c1.iggcdn.com/indiegogo-media-prod-cld/image/upload/c_fill,f_auto,h_273,w_273/dd8iu1gghoiqgfa71yy2.jpg',\n",
            "  'progress': '70%',\n",
            "  'project_id': 'https://www.indiegogo.com/projects/mount-the-ultimate-smart-digital-frame--2/pica',\n",
            "  'title': 'Mount: The Ultimate Smart Digital Frame',\n",
            "  'url': 'https://www.indiegogo.com/projects/mount-the-ultimate-smart-digital-frame--2/pica'},\n",
            " {'balance': '$5,185 ',\n",
            "  'category': 'DANCE & THEATER',\n",
            "  'currency': 'USD raised',\n",
            "  'description': 'A modern riff on greek tragedy where siblings figure out if '\n",
            "                 'they’re family or just partners in crime',\n",
            "  'image': 'https://c1.iggcdn.com/indiegogo-media-prod-cld/image/upload/c_fill,f_auto,h_273,w_273/s7icf4u4uet6ca2fxmzg.jpg',\n",
            "  'progress': '104%',\n",
            "  'project_id': 'https://www.indiegogo.com/projects/atreus-29-hour-reading/pica',\n",
            "  'title': 'ATREUS 29-Hour Reading',\n",
            "  'url': 'https://www.indiegogo.com/projects/atreus-29-hour-reading/pica'},\n",
            " {'balance': '$4,610 ',\n",
            "  'category': 'FILM',\n",
            "  'currency': 'USD raised',\n",
            "  'description': 'A short film that uses jazz to tell a story of self worth '\n",
            "                 'and recognition.',\n",
            "  'image': 'https://c1.iggcdn.com/indiegogo-media-prod-cld/image/upload/c_fill,f_auto,h_273,w_273/hoj7ui1ahh1lsu92ypsu.jpg',\n",
            "  'progress': '38%',\n",
            "  'project_id': 'https://www.indiegogo.com/projects/piano-man--3/pica',\n",
            "  'title': 'Piano Man',\n",
            "  'url': 'https://www.indiegogo.com/projects/piano-man--3/pica'}]\n"
          ]
        }
      ]
    },
    {
      "cell_type": "markdown",
      "metadata": {
        "id": "9Sn0txryfR4c"
      },
      "source": [
        "Now let's try downloading all the ads on the front page...\n",
        "and then move on to the second.\n",
        "\n",
        "First we define a `parse_project` function to make the code cleaner and to reuse the function."
      ]
    },
    {
      "cell_type": "code",
      "metadata": {
        "id": "tD3KLUrIfTJd"
      },
      "source": [
        "def parse_project(project):\n",
        "  url = project.find_elements(by=By.CSS_SELECTOR, value=\"a\")[0].get_attribute(\"href\")\n",
        "  title = \"\"\n",
        "  description = \"\"\n",
        "  category = \"\"\n",
        "  project_id = \"\"\n",
        "  balance = \"\"\n",
        "  currency = \"\"\n",
        "  progress = \"\"\n",
        "  image = \"\"\n",
        "  try:\n",
        "    if(len(project.find_elements(by=By.CSS_SELECTOR, value=\".discoverableCard-title\")) > 0):\n",
        "      title = project.find_elements(by=By.CSS_SELECTOR, value=\".discoverableCard-title\")[0].text\n",
        "    if(len(project.find_elements(by=By.CSS_SELECTOR, value=\".discoverableCard-description\")) > 0):\n",
        "      description = project.find_elements(by=By.CSS_SELECTOR, value=\".discoverableCard-description\")[0].text\n",
        "    if(len(project.find_elements(by=By.CSS_SELECTOR, value=\".discoverableCard-category\")) > 0):\n",
        "      category = project.find_elements(by=By.CSS_SELECTOR, value=\".discoverableCard-category\")[0].text\n",
        "    if(len(project.find_elements(by=By.CSS_SELECTOR, value=\".discoverableCard-balance\")) > 0):\n",
        "      balance = project.find_elements(by=By.CSS_SELECTOR, value=\".discoverableCard-balance\")[0].text\n",
        "    if(len(project.find_elements(by=By.CSS_SELECTOR, value=\".discoverableCard-percent\")) > 0):\n",
        "      progress = project.find_elements(by=By.CSS_SELECTOR, value=\".discoverableCard-percent\")[0].text\n",
        "    if(len(project.find_elements(by=By.CSS_SELECTOR, value=\".discoverableCard-unitsRaised\")) > 0):\n",
        "      currency = project.find_elements(by=By.CSS_SELECTOR, value=\".discoverableCard-unitsRaised\")[0].text\n",
        "    if(len(project.find_elements(by=By.CSS_SELECTOR, value=\".discoverableCard-image\")) > 0):\n",
        "      image = project.find_elements(by=By.CSS_SELECTOR, value=\".discoverableCard-image\")[0].get_attribute(\"data-bgset\")\n",
        "    project_id = url\n",
        "  except:\n",
        "    pass\n",
        "  return {'url': url,\n",
        "          'title': title,\n",
        "          'image': image,\n",
        "          'description': description,\n",
        "          'category': category,\n",
        "          'balance': balance,\n",
        "          'currency': currency,\n",
        "          'progress': progress,\n",
        "          'project_id': project_id}\n"
      ],
      "execution_count": 18,
      "outputs": []
    },
    {
      "cell_type": "markdown",
      "metadata": {
        "id": "SR-xG0FIgf7u"
      },
      "source": [
        "Here's how to download the first page of projects..."
      ]
    },
    {
      "cell_type": "code",
      "metadata": {
        "id": "TfWSS_33fbZg",
        "colab": {
          "base_uri": "https://localhost:8080/",
          "height": 118,
          "referenced_widgets": [
            "ce7382a2bb014eb2a5b692d139ff84d0",
            "ad0f27130f7e42e2a4f2b2e6f8009c28",
            "68b6bd51118c4db9aaf30035145efdbf",
            "f884b68755784d7da3d7d640e47deb4b",
            "882ca4da4a6c40afae95f7792a0ae105",
            "d17c1a741a2d46e0a3152640477bad1b",
            "0552a5c7bb4c455b8292ad5df3dea104",
            "448125a2915d463ea133657e84e0be41",
            "b7c306eec8174e50bb56916bac53b8a7",
            "3c3ba312e09e48089fa3197686a7d61f",
            "abae6f33f382487ca28afcb84b234cf2"
          ]
        },
        "outputId": "b984bcc5-3297-45c4-e18d-d0d144360fd2"
      },
      "source": [
        "detail_projects = []\n",
        "wd.get(\"https://www.indiegogo.com/explore/all?project_type=campaign&project_timing=all&sort=trending\")\n",
        "wd.save_screenshot(f'screenshot.png')\n",
        "list_projects = wd.find_elements(by=By.CSS_SELECTOR, value=\"discoverable-card\")\n",
        "for project in tqdm(list_projects):\n",
        "  detail_projects.append(parse_project(project))\n",
        "\n",
        "print(len(detail_projects))"
      ],
      "execution_count": 21,
      "outputs": [
        {
          "output_type": "stream",
          "name": "stderr",
          "text": [
            "/usr/local/lib/python3.7/dist-packages/ipykernel_launcher.py:5: TqdmDeprecationWarning: This function will be removed in tqdm==5.0.0\n",
            "Please use `tqdm.notebook.tqdm` instead of `tqdm.tqdm_notebook`\n",
            "  \"\"\"\n"
          ]
        },
        {
          "output_type": "display_data",
          "data": {
            "text/plain": [
              "  0%|          | 0/12 [00:00<?, ?it/s]"
            ],
            "application/vnd.jupyter.widget-view+json": {
              "version_major": 2,
              "version_minor": 0,
              "model_id": "ce7382a2bb014eb2a5b692d139ff84d0"
            }
          },
          "metadata": {}
        },
        {
          "output_type": "stream",
          "name": "stdout",
          "text": [
            "12\n"
          ]
        }
      ]
    },
    {
      "cell_type": "markdown",
      "metadata": {
        "id": "HbjVFLOOgnNx"
      },
      "source": [
        "Have you seen the bookstore **tqdm**!\n",
        "Find at this link all the documentation **https://github.com/tqdm/tqdm**:\n",
        "is very useful to make our notebook more nice..."
      ]
    },
    {
      "cell_type": "markdown",
      "metadata": {
        "id": "S9MsWLutg4Oi"
      },
      "source": [
        "### How to end scraping?\n",
        "Problem: When do we stop?\n",
        "\n",
        "There are several ways. Some simpler and some more advanced:\n",
        "- We can search inside the page for the ad number and divide it by 12\n",
        "- We can check the status of the request (if (status_code == 200):... for a list of possible http status codes please check https://en.wikipedia.org/wiki/List_of_HTTP_status_codes)\n",
        "- We can check the number of ads found (if > 0...)\n",
        "- Other more advanced techniques...\n",
        "\n",
        "For example, in our case, let's go to verify the presence, or not, of the *Snow more* button inside the page. If present, we continue scraping, otherwise we stop.\n",
        "\n",
        "Actually, we can also combine more than one of these techniques.\n",
        "\n"
      ]
    },
    {
      "cell_type": "code",
      "metadata": {
        "id": "nkofmsCGgwQA",
        "colab": {
          "base_uri": "https://localhost:8080/",
          "height": 190,
          "referenced_widgets": [
            "467b67b5143f4674afbadfe3aedc4d99",
            "6e50ebcb687d4078b4e36946cc7db714",
            "11580d8721de4996a6319b08217be44e",
            "ee89c1e82f6c4f43bfa70e299628441c",
            "314be0d2ca9545b28a49e1a0fc785648",
            "df4bcdf7a3424495bffd08358be26b1c",
            "88673b8480c5427482bb255b1972a4a2",
            "6db1abc52f4b4f1a8e6503b76e58bc7c",
            "9faa4582e05642a18c4de56eb619de4c",
            "1a95a4a7744d459a9ca190025c87d9f1",
            "37c3f54e5d7349ceb5af098f4515afe4"
          ]
        },
        "outputId": "3d2d4f48-91c6-4678-9b54-c9bebe6576bd"
      },
      "source": [
        "import time\n",
        "detail_projects = []\n",
        "wd.get(\"https://www.indiegogo.com/explore/all?project_type=campaign&project_timing=all&sort=trending\")\n",
        "time.sleep(5)\n",
        "wd.save_screenshot(\"check_browser.png\")\n",
        "if (len(wd.find_elements_by_id(\"CybotCookiebotDialogBodyButtonAccept\")) > 0):\n",
        "  print(\"Click cookie law button\")\n",
        "  wd.find_elements_by_id(\"CybotCookiebotDialogBodyButtonAccept\")[0].click()\n",
        "for num in tqdm(range(1,10)):\n",
        "  items = (num - 1) * 12\n",
        "  list_projects = wd.find_elements(by=By.CSS_SELECTOR, value=f\"discoverable-card:nth-child(n+{items})\")\n",
        "  for project in list_projects:\n",
        "    detail_projects.append(parse_project(project))\n",
        "  if (len(wd.find_elements(by=By.CSS_SELECTOR, value=\".i-cta-1\")) > 0):\n",
        "    wd.find_element_by_css_selector(\".i-cta-1\").click()\n",
        "    time.sleep(3)\n",
        "    wd.save_screenshot(\"check_browser.png\")\n",
        "  else:\n",
        "    break\n",
        "\n"
      ],
      "execution_count": 22,
      "outputs": [
        {
          "output_type": "stream",
          "name": "stderr",
          "text": [
            "/usr/local/lib/python3.7/dist-packages/ipykernel_launcher.py:6: DeprecationWarning: find_elements_by_id is deprecated. Please use find_elements(by=By.ID, value=id_) instead\n",
            "  \n",
            "/usr/local/lib/python3.7/dist-packages/ipykernel_launcher.py:9: TqdmDeprecationWarning: This function will be removed in tqdm==5.0.0\n",
            "Please use `tqdm.notebook.tqdm` instead of `tqdm.tqdm_notebook`\n",
            "  if __name__ == '__main__':\n"
          ]
        },
        {
          "output_type": "display_data",
          "data": {
            "text/plain": [
              "  0%|          | 0/9 [00:00<?, ?it/s]"
            ],
            "application/vnd.jupyter.widget-view+json": {
              "version_major": 2,
              "version_minor": 0,
              "model_id": "467b67b5143f4674afbadfe3aedc4d99"
            }
          },
          "metadata": {}
        },
        {
          "output_type": "stream",
          "name": "stderr",
          "text": [
            "/usr/local/lib/python3.7/dist-packages/ipykernel_launcher.py:15: DeprecationWarning: find_element_by_css_selector is deprecated. Please use find_element(by=By.CSS_SELECTOR, value=css_selector) instead\n",
            "  from ipykernel import kernelapp as app\n"
          ]
        }
      ]
    },
    {
      "cell_type": "code",
      "metadata": {
        "colab": {
          "base_uri": "https://localhost:8080/"
        },
        "id": "Gmq5qNHoAUk7",
        "outputId": "840f45e9-2df6-434c-b0b3-5d96be0cdbb2"
      },
      "source": [
        "print(len(detail_projects))\n",
        "print(detail_projects[30:32])"
      ],
      "execution_count": 23,
      "outputs": [
        {
          "output_type": "stream",
          "name": "stdout",
          "text": [
            "116\n",
            "[{'url': 'https://www.indiegogo.com/projects/wastereviver-kitchen-composter/pica', 'title': 'WasteReviver: Kitchen Composter', 'image': 'https://c1.iggcdn.com/indiegogo-media-prod-cld/image/upload/c_fill,f_auto,h_273,w_273/jo4rmdezqrwxcjodx3d1.jpg', 'description': 'Built-in UVC Light Sanitizer| Fast Compost in 2Hrs |Odor-free|Child-Safe Lock| Dishwasher Safe', 'category': 'ENERGY & GREEN TECH', 'balance': '$338,383 ', 'currency': 'USD raised', 'progress': '16,825%', 'project_id': 'https://www.indiegogo.com/projects/wastereviver-kitchen-composter/pica'}, {'url': 'https://www.indiegogo.com/projects/the-big-podcast-boost/pica', 'title': 'The Big Podcast Boost', 'image': 'https://c1.iggcdn.com/indiegogo-media-prod-cld/image/upload/c_fill,f_auto,h_273,w_273/d6hsrk6x752vlgootpbb.jpg', 'description': 'Supporting the future of Film Pro Productivity & Success', 'category': 'PODCASTS, BLOGS & VLOGS', 'balance': '£680 ', 'currency': 'GBP raised', 'progress': '136%', 'project_id': 'https://www.indiegogo.com/projects/the-big-podcast-boost/pica'}]\n"
          ]
        }
      ]
    },
    {
      "cell_type": "markdown",
      "metadata": {
        "id": "TqxsicNNovfy"
      },
      "source": [
        "# Pandas and data processing\n",
        "\n",
        "**Well!**\n",
        "We're starting to see another amazing library for working with data!\n",
        "\n",
        "It's **pandas**: *Python library for data analysis*.\n",
        "\n",
        "Basically, with pandas we can manipulate a data set or a historical series in Python.\n",
        "\n",
        "For now, we start to give a couple of concepts.\n",
        "\n",
        "Pandas is based on two types of data: **Series** and **DataFrame**:\n",
        "- `Series` represents a list of data\n",
        "- `DataFrame` represent a data set in tabular format\n",
        "\n",
        "Each column of a `DataFrame` is a `Series`.\n",
        "\n",
        "We can create a `DataFrame` using the `pd.DataFrame` method by passing our dictionary as an input parameter.\n",
        "\n",
        "A `DataFrame` pandas can be easily exported in *CSV*, *Excel*, ...\n",
        "\n",
        "For more information about `Pandas` see\n",
        "\n",
        "https://pandas.pydata.org/getting_started.html\n"
      ]
    },
    {
      "cell_type": "code",
      "metadata": {
        "id": "MumFgyNypoBo",
        "colab": {
          "base_uri": "https://localhost:8080/",
          "height": 565
        },
        "outputId": "a9d1aa77-2d87-49bc-96fc-2913b726dc81"
      },
      "source": [
        "import pandas as pd\n",
        "ds_detail_projects = pd.DataFrame(detail_projects)\n",
        "ds_detail_projects.set_index(\"project_id\")\n",
        "ds_detail_projects.head()"
      ],
      "execution_count": 24,
      "outputs": [
        {
          "output_type": "execute_result",
          "data": {
            "text/plain": [
              "                                                 url  \\\n",
              "0  https://www.indiegogo.com/projects/aawireless/...   \n",
              "1  https://www.indiegogo.com/projects/my-first-ki...   \n",
              "2  https://www.indiegogo.com/projects/mount-the-u...   \n",
              "3  https://www.indiegogo.com/projects/atreus-29-h...   \n",
              "4  https://www.indiegogo.com/projects/piano-man--...   \n",
              "\n",
              "                                      title  \\\n",
              "0                                AAWireless   \n",
              "1  My First Kiss- Coming of Age- Short Film   \n",
              "2   Mount: The Ultimate Smart Digital Frame   \n",
              "3                    ATREUS 29-Hour Reading   \n",
              "4                                 Piano Man   \n",
              "\n",
              "                                               image  \\\n",
              "0  https://c1.iggcdn.com/indiegogo-media-prod-cld...   \n",
              "1  https://c1.iggcdn.com/indiegogo-media-prod-cld...   \n",
              "2  https://c1.iggcdn.com/indiegogo-media-prod-cld...   \n",
              "3  https://c1.iggcdn.com/indiegogo-media-prod-cld...   \n",
              "4  https://c1.iggcdn.com/indiegogo-media-prod-cld...   \n",
              "\n",
              "                                         description              category  \\\n",
              "0  Bring wireless Android Auto connection to your...  PHONES & ACCESSORIES   \n",
              "1  Coming of age film about two best friends havi...                  FILM   \n",
              "2  Mount is the ultimate smart digital frame to d...                  HOME   \n",
              "3  A modern riff on greek tragedy where siblings ...       DANCE & THEATER   \n",
              "4  A short film that uses jazz to tell a story of...                  FILM   \n",
              "\n",
              "       balance    currency progress  \\\n",
              "0  $6,636,447   USD raised     295%   \n",
              "1      $7,120   USD raised     128%   \n",
              "2      $7,044   USD raised      70%   \n",
              "3      $5,185   USD raised     104%   \n",
              "4      $4,610   USD raised      38%   \n",
              "\n",
              "                                          project_id  \n",
              "0  https://www.indiegogo.com/projects/aawireless/...  \n",
              "1  https://www.indiegogo.com/projects/my-first-ki...  \n",
              "2  https://www.indiegogo.com/projects/mount-the-u...  \n",
              "3  https://www.indiegogo.com/projects/atreus-29-h...  \n",
              "4  https://www.indiegogo.com/projects/piano-man--...  "
            ],
            "text/html": [
              "\n",
              "  <div id=\"df-5520a09b-32e8-4f4d-a566-3bc5a0c2a0fb\">\n",
              "    <div class=\"colab-df-container\">\n",
              "      <div>\n",
              "<style scoped>\n",
              "    .dataframe tbody tr th:only-of-type {\n",
              "        vertical-align: middle;\n",
              "    }\n",
              "\n",
              "    .dataframe tbody tr th {\n",
              "        vertical-align: top;\n",
              "    }\n",
              "\n",
              "    .dataframe thead th {\n",
              "        text-align: right;\n",
              "    }\n",
              "</style>\n",
              "<table border=\"1\" class=\"dataframe\">\n",
              "  <thead>\n",
              "    <tr style=\"text-align: right;\">\n",
              "      <th></th>\n",
              "      <th>url</th>\n",
              "      <th>title</th>\n",
              "      <th>image</th>\n",
              "      <th>description</th>\n",
              "      <th>category</th>\n",
              "      <th>balance</th>\n",
              "      <th>currency</th>\n",
              "      <th>progress</th>\n",
              "      <th>project_id</th>\n",
              "    </tr>\n",
              "  </thead>\n",
              "  <tbody>\n",
              "    <tr>\n",
              "      <th>0</th>\n",
              "      <td>https://www.indiegogo.com/projects/aawireless/...</td>\n",
              "      <td>AAWireless</td>\n",
              "      <td>https://c1.iggcdn.com/indiegogo-media-prod-cld...</td>\n",
              "      <td>Bring wireless Android Auto connection to your...</td>\n",
              "      <td>PHONES &amp; ACCESSORIES</td>\n",
              "      <td>$6,636,447</td>\n",
              "      <td>USD raised</td>\n",
              "      <td>295%</td>\n",
              "      <td>https://www.indiegogo.com/projects/aawireless/...</td>\n",
              "    </tr>\n",
              "    <tr>\n",
              "      <th>1</th>\n",
              "      <td>https://www.indiegogo.com/projects/my-first-ki...</td>\n",
              "      <td>My First Kiss- Coming of Age- Short Film</td>\n",
              "      <td>https://c1.iggcdn.com/indiegogo-media-prod-cld...</td>\n",
              "      <td>Coming of age film about two best friends havi...</td>\n",
              "      <td>FILM</td>\n",
              "      <td>$7,120</td>\n",
              "      <td>USD raised</td>\n",
              "      <td>128%</td>\n",
              "      <td>https://www.indiegogo.com/projects/my-first-ki...</td>\n",
              "    </tr>\n",
              "    <tr>\n",
              "      <th>2</th>\n",
              "      <td>https://www.indiegogo.com/projects/mount-the-u...</td>\n",
              "      <td>Mount: The Ultimate Smart Digital Frame</td>\n",
              "      <td>https://c1.iggcdn.com/indiegogo-media-prod-cld...</td>\n",
              "      <td>Mount is the ultimate smart digital frame to d...</td>\n",
              "      <td>HOME</td>\n",
              "      <td>$7,044</td>\n",
              "      <td>USD raised</td>\n",
              "      <td>70%</td>\n",
              "      <td>https://www.indiegogo.com/projects/mount-the-u...</td>\n",
              "    </tr>\n",
              "    <tr>\n",
              "      <th>3</th>\n",
              "      <td>https://www.indiegogo.com/projects/atreus-29-h...</td>\n",
              "      <td>ATREUS 29-Hour Reading</td>\n",
              "      <td>https://c1.iggcdn.com/indiegogo-media-prod-cld...</td>\n",
              "      <td>A modern riff on greek tragedy where siblings ...</td>\n",
              "      <td>DANCE &amp; THEATER</td>\n",
              "      <td>$5,185</td>\n",
              "      <td>USD raised</td>\n",
              "      <td>104%</td>\n",
              "      <td>https://www.indiegogo.com/projects/atreus-29-h...</td>\n",
              "    </tr>\n",
              "    <tr>\n",
              "      <th>4</th>\n",
              "      <td>https://www.indiegogo.com/projects/piano-man--...</td>\n",
              "      <td>Piano Man</td>\n",
              "      <td>https://c1.iggcdn.com/indiegogo-media-prod-cld...</td>\n",
              "      <td>A short film that uses jazz to tell a story of...</td>\n",
              "      <td>FILM</td>\n",
              "      <td>$4,610</td>\n",
              "      <td>USD raised</td>\n",
              "      <td>38%</td>\n",
              "      <td>https://www.indiegogo.com/projects/piano-man--...</td>\n",
              "    </tr>\n",
              "  </tbody>\n",
              "</table>\n",
              "</div>\n",
              "      <button class=\"colab-df-convert\" onclick=\"convertToInteractive('df-5520a09b-32e8-4f4d-a566-3bc5a0c2a0fb')\"\n",
              "              title=\"Convert this dataframe to an interactive table.\"\n",
              "              style=\"display:none;\">\n",
              "        \n",
              "  <svg xmlns=\"http://www.w3.org/2000/svg\" height=\"24px\"viewBox=\"0 0 24 24\"\n",
              "       width=\"24px\">\n",
              "    <path d=\"M0 0h24v24H0V0z\" fill=\"none\"/>\n",
              "    <path d=\"M18.56 5.44l.94 2.06.94-2.06 2.06-.94-2.06-.94-.94-2.06-.94 2.06-2.06.94zm-11 1L8.5 8.5l.94-2.06 2.06-.94-2.06-.94L8.5 2.5l-.94 2.06-2.06.94zm10 10l.94 2.06.94-2.06 2.06-.94-2.06-.94-.94-2.06-.94 2.06-2.06.94z\"/><path d=\"M17.41 7.96l-1.37-1.37c-.4-.4-.92-.59-1.43-.59-.52 0-1.04.2-1.43.59L10.3 9.45l-7.72 7.72c-.78.78-.78 2.05 0 2.83L4 21.41c.39.39.9.59 1.41.59.51 0 1.02-.2 1.41-.59l7.78-7.78 2.81-2.81c.8-.78.8-2.07 0-2.86zM5.41 20L4 18.59l7.72-7.72 1.47 1.35L5.41 20z\"/>\n",
              "  </svg>\n",
              "      </button>\n",
              "      \n",
              "  <style>\n",
              "    .colab-df-container {\n",
              "      display:flex;\n",
              "      flex-wrap:wrap;\n",
              "      gap: 12px;\n",
              "    }\n",
              "\n",
              "    .colab-df-convert {\n",
              "      background-color: #E8F0FE;\n",
              "      border: none;\n",
              "      border-radius: 50%;\n",
              "      cursor: pointer;\n",
              "      display: none;\n",
              "      fill: #1967D2;\n",
              "      height: 32px;\n",
              "      padding: 0 0 0 0;\n",
              "      width: 32px;\n",
              "    }\n",
              "\n",
              "    .colab-df-convert:hover {\n",
              "      background-color: #E2EBFA;\n",
              "      box-shadow: 0px 1px 2px rgba(60, 64, 67, 0.3), 0px 1px 3px 1px rgba(60, 64, 67, 0.15);\n",
              "      fill: #174EA6;\n",
              "    }\n",
              "\n",
              "    [theme=dark] .colab-df-convert {\n",
              "      background-color: #3B4455;\n",
              "      fill: #D2E3FC;\n",
              "    }\n",
              "\n",
              "    [theme=dark] .colab-df-convert:hover {\n",
              "      background-color: #434B5C;\n",
              "      box-shadow: 0px 1px 3px 1px rgba(0, 0, 0, 0.15);\n",
              "      filter: drop-shadow(0px 1px 2px rgba(0, 0, 0, 0.3));\n",
              "      fill: #FFFFFF;\n",
              "    }\n",
              "  </style>\n",
              "\n",
              "      <script>\n",
              "        const buttonEl =\n",
              "          document.querySelector('#df-5520a09b-32e8-4f4d-a566-3bc5a0c2a0fb button.colab-df-convert');\n",
              "        buttonEl.style.display =\n",
              "          google.colab.kernel.accessAllowed ? 'block' : 'none';\n",
              "\n",
              "        async function convertToInteractive(key) {\n",
              "          const element = document.querySelector('#df-5520a09b-32e8-4f4d-a566-3bc5a0c2a0fb');\n",
              "          const dataTable =\n",
              "            await google.colab.kernel.invokeFunction('convertToInteractive',\n",
              "                                                     [key], {});\n",
              "          if (!dataTable) return;\n",
              "\n",
              "          const docLinkHtml = 'Like what you see? Visit the ' +\n",
              "            '<a target=\"_blank\" href=https://colab.research.google.com/notebooks/data_table.ipynb>data table notebook</a>'\n",
              "            + ' to learn more about interactive tables.';\n",
              "          element.innerHTML = '';\n",
              "          dataTable['output_type'] = 'display_data';\n",
              "          await google.colab.output.renderOutput(dataTable, element);\n",
              "          const docLink = document.createElement('div');\n",
              "          docLink.innerHTML = docLinkHtml;\n",
              "          element.appendChild(docLink);\n",
              "        }\n",
              "      </script>\n",
              "    </div>\n",
              "  </div>\n",
              "  "
            ]
          },
          "metadata": {},
          "execution_count": 24
        }
      ]
    },
    {
      "cell_type": "markdown",
      "metadata": {
        "id": "GwW7Sj7irFDT"
      },
      "source": [
        "The `.info()` method provides an indication of the structure and data of the `DataFrame`."
      ]
    },
    {
      "cell_type": "code",
      "metadata": {
        "id": "_tFbyPwcrNY4",
        "colab": {
          "base_uri": "https://localhost:8080/"
        },
        "outputId": "2b086c7f-8b17-4956-8c74-8c519b4aafa0"
      },
      "source": [
        "ds_detail_projects.info()"
      ],
      "execution_count": 25,
      "outputs": [
        {
          "output_type": "stream",
          "name": "stdout",
          "text": [
            "<class 'pandas.core.frame.DataFrame'>\n",
            "RangeIndex: 116 entries, 0 to 115\n",
            "Data columns (total 9 columns):\n",
            " #   Column       Non-Null Count  Dtype \n",
            "---  ------       --------------  ----- \n",
            " 0   url          116 non-null    object\n",
            " 1   title        116 non-null    object\n",
            " 2   image        116 non-null    object\n",
            " 3   description  116 non-null    object\n",
            " 4   category     116 non-null    object\n",
            " 5   balance      116 non-null    object\n",
            " 6   currency     116 non-null    object\n",
            " 7   progress     116 non-null    object\n",
            " 8   project_id   116 non-null    object\n",
            "dtypes: object(9)\n",
            "memory usage: 8.3+ KB\n"
          ]
        }
      ]
    },
    {
      "cell_type": "code",
      "metadata": {
        "id": "3lUw4-_BrQDh"
      },
      "source": [
        "ds_detail_projects.to_csv('ds_projects.csv')"
      ],
      "execution_count": 26,
      "outputs": []
    },
    {
      "cell_type": "markdown",
      "metadata": {
        "id": "AXdgP8t3q_A-"
      },
      "source": [
        "# Indiegogo Project pages ###\n",
        "\n",
        "Now, the goal is to navigate and download the details of each project and pictures of the houses.\n",
        "\n",
        "**Pandas** provides the *.read_csv* method that allows you to upload in CSV format files within a DataFrame."
      ]
    },
    {
      "cell_type": "code",
      "metadata": {
        "id": "yVnUyfGsvcac",
        "colab": {
          "base_uri": "https://localhost:8080/",
          "height": 614
        },
        "outputId": "55616c09-e1a5-4c91-a217-a8ae09ac0b3f"
      },
      "source": [
        "# open csv file\n",
        "import pandas as pd\n",
        "ds_detail_projects = pd.read_csv(\"ds_projects.csv\", index_col=\"project_id\")\n",
        "ds_detail_projects.head()"
      ],
      "execution_count": 27,
      "outputs": [
        {
          "output_type": "execute_result",
          "data": {
            "text/plain": [
              "                                                    Unnamed: 0  \\\n",
              "project_id                                                       \n",
              "https://www.indiegogo.com/projects/aawireless/pica           0   \n",
              "https://www.indiegogo.com/projects/my-first-kis...           1   \n",
              "https://www.indiegogo.com/projects/mount-the-ul...           2   \n",
              "https://www.indiegogo.com/projects/atreus-29-ho...           3   \n",
              "https://www.indiegogo.com/projects/piano-man--3...           4   \n",
              "\n",
              "                                                                                                  url  \\\n",
              "project_id                                                                                              \n",
              "https://www.indiegogo.com/projects/aawireless/pica  https://www.indiegogo.com/projects/aawireless/...   \n",
              "https://www.indiegogo.com/projects/my-first-kis...  https://www.indiegogo.com/projects/my-first-ki...   \n",
              "https://www.indiegogo.com/projects/mount-the-ul...  https://www.indiegogo.com/projects/mount-the-u...   \n",
              "https://www.indiegogo.com/projects/atreus-29-ho...  https://www.indiegogo.com/projects/atreus-29-h...   \n",
              "https://www.indiegogo.com/projects/piano-man--3...  https://www.indiegogo.com/projects/piano-man--...   \n",
              "\n",
              "                                                                                       title  \\\n",
              "project_id                                                                                     \n",
              "https://www.indiegogo.com/projects/aawireless/pica                                AAWireless   \n",
              "https://www.indiegogo.com/projects/my-first-kis...  My First Kiss- Coming of Age- Short Film   \n",
              "https://www.indiegogo.com/projects/mount-the-ul...   Mount: The Ultimate Smart Digital Frame   \n",
              "https://www.indiegogo.com/projects/atreus-29-ho...                    ATREUS 29-Hour Reading   \n",
              "https://www.indiegogo.com/projects/piano-man--3...                                 Piano Man   \n",
              "\n",
              "                                                                                                image  \\\n",
              "project_id                                                                                              \n",
              "https://www.indiegogo.com/projects/aawireless/pica  https://c1.iggcdn.com/indiegogo-media-prod-cld...   \n",
              "https://www.indiegogo.com/projects/my-first-kis...  https://c1.iggcdn.com/indiegogo-media-prod-cld...   \n",
              "https://www.indiegogo.com/projects/mount-the-ul...  https://c1.iggcdn.com/indiegogo-media-prod-cld...   \n",
              "https://www.indiegogo.com/projects/atreus-29-ho...  https://c1.iggcdn.com/indiegogo-media-prod-cld...   \n",
              "https://www.indiegogo.com/projects/piano-man--3...  https://c1.iggcdn.com/indiegogo-media-prod-cld...   \n",
              "\n",
              "                                                                                          description  \\\n",
              "project_id                                                                                              \n",
              "https://www.indiegogo.com/projects/aawireless/pica  Bring wireless Android Auto connection to your...   \n",
              "https://www.indiegogo.com/projects/my-first-kis...  Coming of age film about two best friends havi...   \n",
              "https://www.indiegogo.com/projects/mount-the-ul...  Mount is the ultimate smart digital frame to d...   \n",
              "https://www.indiegogo.com/projects/atreus-29-ho...  A modern riff on greek tragedy where siblings ...   \n",
              "https://www.indiegogo.com/projects/piano-man--3...  A short film that uses jazz to tell a story of...   \n",
              "\n",
              "                                                                category  \\\n",
              "project_id                                                                 \n",
              "https://www.indiegogo.com/projects/aawireless/pica  PHONES & ACCESSORIES   \n",
              "https://www.indiegogo.com/projects/my-first-kis...                  FILM   \n",
              "https://www.indiegogo.com/projects/mount-the-ul...                  HOME   \n",
              "https://www.indiegogo.com/projects/atreus-29-ho...       DANCE & THEATER   \n",
              "https://www.indiegogo.com/projects/piano-man--3...                  FILM   \n",
              "\n",
              "                                                        balance    currency  \\\n",
              "project_id                                                                    \n",
              "https://www.indiegogo.com/projects/aawireless/pica  $6,636,447   USD raised   \n",
              "https://www.indiegogo.com/projects/my-first-kis...      $7,120   USD raised   \n",
              "https://www.indiegogo.com/projects/mount-the-ul...      $7,044   USD raised   \n",
              "https://www.indiegogo.com/projects/atreus-29-ho...      $5,185   USD raised   \n",
              "https://www.indiegogo.com/projects/piano-man--3...      $4,610   USD raised   \n",
              "\n",
              "                                                   progress  \n",
              "project_id                                                   \n",
              "https://www.indiegogo.com/projects/aawireless/pica     295%  \n",
              "https://www.indiegogo.com/projects/my-first-kis...     128%  \n",
              "https://www.indiegogo.com/projects/mount-the-ul...      70%  \n",
              "https://www.indiegogo.com/projects/atreus-29-ho...     104%  \n",
              "https://www.indiegogo.com/projects/piano-man--3...      38%  "
            ],
            "text/html": [
              "\n",
              "  <div id=\"df-a0fe3785-5585-47b1-add8-b7018d2adb5a\">\n",
              "    <div class=\"colab-df-container\">\n",
              "      <div>\n",
              "<style scoped>\n",
              "    .dataframe tbody tr th:only-of-type {\n",
              "        vertical-align: middle;\n",
              "    }\n",
              "\n",
              "    .dataframe tbody tr th {\n",
              "        vertical-align: top;\n",
              "    }\n",
              "\n",
              "    .dataframe thead th {\n",
              "        text-align: right;\n",
              "    }\n",
              "</style>\n",
              "<table border=\"1\" class=\"dataframe\">\n",
              "  <thead>\n",
              "    <tr style=\"text-align: right;\">\n",
              "      <th></th>\n",
              "      <th>Unnamed: 0</th>\n",
              "      <th>url</th>\n",
              "      <th>title</th>\n",
              "      <th>image</th>\n",
              "      <th>description</th>\n",
              "      <th>category</th>\n",
              "      <th>balance</th>\n",
              "      <th>currency</th>\n",
              "      <th>progress</th>\n",
              "    </tr>\n",
              "    <tr>\n",
              "      <th>project_id</th>\n",
              "      <th></th>\n",
              "      <th></th>\n",
              "      <th></th>\n",
              "      <th></th>\n",
              "      <th></th>\n",
              "      <th></th>\n",
              "      <th></th>\n",
              "      <th></th>\n",
              "      <th></th>\n",
              "    </tr>\n",
              "  </thead>\n",
              "  <tbody>\n",
              "    <tr>\n",
              "      <th>https://www.indiegogo.com/projects/aawireless/pica</th>\n",
              "      <td>0</td>\n",
              "      <td>https://www.indiegogo.com/projects/aawireless/...</td>\n",
              "      <td>AAWireless</td>\n",
              "      <td>https://c1.iggcdn.com/indiegogo-media-prod-cld...</td>\n",
              "      <td>Bring wireless Android Auto connection to your...</td>\n",
              "      <td>PHONES &amp; ACCESSORIES</td>\n",
              "      <td>$6,636,447</td>\n",
              "      <td>USD raised</td>\n",
              "      <td>295%</td>\n",
              "    </tr>\n",
              "    <tr>\n",
              "      <th>https://www.indiegogo.com/projects/my-first-kiss-coming-of-age-short-film/pica</th>\n",
              "      <td>1</td>\n",
              "      <td>https://www.indiegogo.com/projects/my-first-ki...</td>\n",
              "      <td>My First Kiss- Coming of Age- Short Film</td>\n",
              "      <td>https://c1.iggcdn.com/indiegogo-media-prod-cld...</td>\n",
              "      <td>Coming of age film about two best friends havi...</td>\n",
              "      <td>FILM</td>\n",
              "      <td>$7,120</td>\n",
              "      <td>USD raised</td>\n",
              "      <td>128%</td>\n",
              "    </tr>\n",
              "    <tr>\n",
              "      <th>https://www.indiegogo.com/projects/mount-the-ultimate-smart-digital-frame--2/pica</th>\n",
              "      <td>2</td>\n",
              "      <td>https://www.indiegogo.com/projects/mount-the-u...</td>\n",
              "      <td>Mount: The Ultimate Smart Digital Frame</td>\n",
              "      <td>https://c1.iggcdn.com/indiegogo-media-prod-cld...</td>\n",
              "      <td>Mount is the ultimate smart digital frame to d...</td>\n",
              "      <td>HOME</td>\n",
              "      <td>$7,044</td>\n",
              "      <td>USD raised</td>\n",
              "      <td>70%</td>\n",
              "    </tr>\n",
              "    <tr>\n",
              "      <th>https://www.indiegogo.com/projects/atreus-29-hour-reading/pica</th>\n",
              "      <td>3</td>\n",
              "      <td>https://www.indiegogo.com/projects/atreus-29-h...</td>\n",
              "      <td>ATREUS 29-Hour Reading</td>\n",
              "      <td>https://c1.iggcdn.com/indiegogo-media-prod-cld...</td>\n",
              "      <td>A modern riff on greek tragedy where siblings ...</td>\n",
              "      <td>DANCE &amp; THEATER</td>\n",
              "      <td>$5,185</td>\n",
              "      <td>USD raised</td>\n",
              "      <td>104%</td>\n",
              "    </tr>\n",
              "    <tr>\n",
              "      <th>https://www.indiegogo.com/projects/piano-man--3/pica</th>\n",
              "      <td>4</td>\n",
              "      <td>https://www.indiegogo.com/projects/piano-man--...</td>\n",
              "      <td>Piano Man</td>\n",
              "      <td>https://c1.iggcdn.com/indiegogo-media-prod-cld...</td>\n",
              "      <td>A short film that uses jazz to tell a story of...</td>\n",
              "      <td>FILM</td>\n",
              "      <td>$4,610</td>\n",
              "      <td>USD raised</td>\n",
              "      <td>38%</td>\n",
              "    </tr>\n",
              "  </tbody>\n",
              "</table>\n",
              "</div>\n",
              "      <button class=\"colab-df-convert\" onclick=\"convertToInteractive('df-a0fe3785-5585-47b1-add8-b7018d2adb5a')\"\n",
              "              title=\"Convert this dataframe to an interactive table.\"\n",
              "              style=\"display:none;\">\n",
              "        \n",
              "  <svg xmlns=\"http://www.w3.org/2000/svg\" height=\"24px\"viewBox=\"0 0 24 24\"\n",
              "       width=\"24px\">\n",
              "    <path d=\"M0 0h24v24H0V0z\" fill=\"none\"/>\n",
              "    <path d=\"M18.56 5.44l.94 2.06.94-2.06 2.06-.94-2.06-.94-.94-2.06-.94 2.06-2.06.94zm-11 1L8.5 8.5l.94-2.06 2.06-.94-2.06-.94L8.5 2.5l-.94 2.06-2.06.94zm10 10l.94 2.06.94-2.06 2.06-.94-2.06-.94-.94-2.06-.94 2.06-2.06.94z\"/><path d=\"M17.41 7.96l-1.37-1.37c-.4-.4-.92-.59-1.43-.59-.52 0-1.04.2-1.43.59L10.3 9.45l-7.72 7.72c-.78.78-.78 2.05 0 2.83L4 21.41c.39.39.9.59 1.41.59.51 0 1.02-.2 1.41-.59l7.78-7.78 2.81-2.81c.8-.78.8-2.07 0-2.86zM5.41 20L4 18.59l7.72-7.72 1.47 1.35L5.41 20z\"/>\n",
              "  </svg>\n",
              "      </button>\n",
              "      \n",
              "  <style>\n",
              "    .colab-df-container {\n",
              "      display:flex;\n",
              "      flex-wrap:wrap;\n",
              "      gap: 12px;\n",
              "    }\n",
              "\n",
              "    .colab-df-convert {\n",
              "      background-color: #E8F0FE;\n",
              "      border: none;\n",
              "      border-radius: 50%;\n",
              "      cursor: pointer;\n",
              "      display: none;\n",
              "      fill: #1967D2;\n",
              "      height: 32px;\n",
              "      padding: 0 0 0 0;\n",
              "      width: 32px;\n",
              "    }\n",
              "\n",
              "    .colab-df-convert:hover {\n",
              "      background-color: #E2EBFA;\n",
              "      box-shadow: 0px 1px 2px rgba(60, 64, 67, 0.3), 0px 1px 3px 1px rgba(60, 64, 67, 0.15);\n",
              "      fill: #174EA6;\n",
              "    }\n",
              "\n",
              "    [theme=dark] .colab-df-convert {\n",
              "      background-color: #3B4455;\n",
              "      fill: #D2E3FC;\n",
              "    }\n",
              "\n",
              "    [theme=dark] .colab-df-convert:hover {\n",
              "      background-color: #434B5C;\n",
              "      box-shadow: 0px 1px 3px 1px rgba(0, 0, 0, 0.15);\n",
              "      filter: drop-shadow(0px 1px 2px rgba(0, 0, 0, 0.3));\n",
              "      fill: #FFFFFF;\n",
              "    }\n",
              "  </style>\n",
              "\n",
              "      <script>\n",
              "        const buttonEl =\n",
              "          document.querySelector('#df-a0fe3785-5585-47b1-add8-b7018d2adb5a button.colab-df-convert');\n",
              "        buttonEl.style.display =\n",
              "          google.colab.kernel.accessAllowed ? 'block' : 'none';\n",
              "\n",
              "        async function convertToInteractive(key) {\n",
              "          const element = document.querySelector('#df-a0fe3785-5585-47b1-add8-b7018d2adb5a');\n",
              "          const dataTable =\n",
              "            await google.colab.kernel.invokeFunction('convertToInteractive',\n",
              "                                                     [key], {});\n",
              "          if (!dataTable) return;\n",
              "\n",
              "          const docLinkHtml = 'Like what you see? Visit the ' +\n",
              "            '<a target=\"_blank\" href=https://colab.research.google.com/notebooks/data_table.ipynb>data table notebook</a>'\n",
              "            + ' to learn more about interactive tables.';\n",
              "          element.innerHTML = '';\n",
              "          dataTable['output_type'] = 'display_data';\n",
              "          await google.colab.output.renderOutput(dataTable, element);\n",
              "          const docLink = document.createElement('div');\n",
              "          docLink.innerHTML = docLinkHtml;\n",
              "          element.appendChild(docLink);\n",
              "        }\n",
              "      </script>\n",
              "    </div>\n",
              "  </div>\n",
              "  "
            ]
          },
          "metadata": {},
          "execution_count": 27
        }
      ]
    },
    {
      "cell_type": "markdown",
      "metadata": {
        "id": "8VaXQ52Kv2am"
      },
      "source": [
        "***For each project we go to the link... how do you think we do it?***\n",
        "\n",
        "Let's try the first 5 projects.\n",
        "\n",
        "\n",
        "\n",
        "These days most of the web apps are using AJAX techniques. When a page is loaded by the browser, the elements within that page may load at different time intervals. Using waits, we can stop our scraping and wait the loading of a element.\n",
        "\n",
        "Selenium Webdriver provides two types of waits - implicit & explicit. An explicit wait makes WebDriver wait for a certain condition to occur before proceeding further with execution. An implicit wait makes WebDriver poll the DOM for a certain amount of time when trying to locate an element.\n"
      ]
    },
    {
      "cell_type": "code",
      "metadata": {
        "colab": {
          "base_uri": "https://localhost:8080/",
          "height": 614
        },
        "id": "rJDu5yiVFFpS",
        "outputId": "2aa299ff-eed4-4853-d460-97453e348c41"
      },
      "source": [
        "# open csv file\n",
        "import pandas as pd\n",
        "ds_detail_projects = pd.read_csv(\"ds_projects.csv\", index_col=\"project_id\")\n",
        "ds_detail_projects.head()"
      ],
      "execution_count": 28,
      "outputs": [
        {
          "output_type": "execute_result",
          "data": {
            "text/plain": [
              "                                                    Unnamed: 0  \\\n",
              "project_id                                                       \n",
              "https://www.indiegogo.com/projects/aawireless/pica           0   \n",
              "https://www.indiegogo.com/projects/my-first-kis...           1   \n",
              "https://www.indiegogo.com/projects/mount-the-ul...           2   \n",
              "https://www.indiegogo.com/projects/atreus-29-ho...           3   \n",
              "https://www.indiegogo.com/projects/piano-man--3...           4   \n",
              "\n",
              "                                                                                                  url  \\\n",
              "project_id                                                                                              \n",
              "https://www.indiegogo.com/projects/aawireless/pica  https://www.indiegogo.com/projects/aawireless/...   \n",
              "https://www.indiegogo.com/projects/my-first-kis...  https://www.indiegogo.com/projects/my-first-ki...   \n",
              "https://www.indiegogo.com/projects/mount-the-ul...  https://www.indiegogo.com/projects/mount-the-u...   \n",
              "https://www.indiegogo.com/projects/atreus-29-ho...  https://www.indiegogo.com/projects/atreus-29-h...   \n",
              "https://www.indiegogo.com/projects/piano-man--3...  https://www.indiegogo.com/projects/piano-man--...   \n",
              "\n",
              "                                                                                       title  \\\n",
              "project_id                                                                                     \n",
              "https://www.indiegogo.com/projects/aawireless/pica                                AAWireless   \n",
              "https://www.indiegogo.com/projects/my-first-kis...  My First Kiss- Coming of Age- Short Film   \n",
              "https://www.indiegogo.com/projects/mount-the-ul...   Mount: The Ultimate Smart Digital Frame   \n",
              "https://www.indiegogo.com/projects/atreus-29-ho...                    ATREUS 29-Hour Reading   \n",
              "https://www.indiegogo.com/projects/piano-man--3...                                 Piano Man   \n",
              "\n",
              "                                                                                                image  \\\n",
              "project_id                                                                                              \n",
              "https://www.indiegogo.com/projects/aawireless/pica  https://c1.iggcdn.com/indiegogo-media-prod-cld...   \n",
              "https://www.indiegogo.com/projects/my-first-kis...  https://c1.iggcdn.com/indiegogo-media-prod-cld...   \n",
              "https://www.indiegogo.com/projects/mount-the-ul...  https://c1.iggcdn.com/indiegogo-media-prod-cld...   \n",
              "https://www.indiegogo.com/projects/atreus-29-ho...  https://c1.iggcdn.com/indiegogo-media-prod-cld...   \n",
              "https://www.indiegogo.com/projects/piano-man--3...  https://c1.iggcdn.com/indiegogo-media-prod-cld...   \n",
              "\n",
              "                                                                                          description  \\\n",
              "project_id                                                                                              \n",
              "https://www.indiegogo.com/projects/aawireless/pica  Bring wireless Android Auto connection to your...   \n",
              "https://www.indiegogo.com/projects/my-first-kis...  Coming of age film about two best friends havi...   \n",
              "https://www.indiegogo.com/projects/mount-the-ul...  Mount is the ultimate smart digital frame to d...   \n",
              "https://www.indiegogo.com/projects/atreus-29-ho...  A modern riff on greek tragedy where siblings ...   \n",
              "https://www.indiegogo.com/projects/piano-man--3...  A short film that uses jazz to tell a story of...   \n",
              "\n",
              "                                                                category  \\\n",
              "project_id                                                                 \n",
              "https://www.indiegogo.com/projects/aawireless/pica  PHONES & ACCESSORIES   \n",
              "https://www.indiegogo.com/projects/my-first-kis...                  FILM   \n",
              "https://www.indiegogo.com/projects/mount-the-ul...                  HOME   \n",
              "https://www.indiegogo.com/projects/atreus-29-ho...       DANCE & THEATER   \n",
              "https://www.indiegogo.com/projects/piano-man--3...                  FILM   \n",
              "\n",
              "                                                        balance    currency  \\\n",
              "project_id                                                                    \n",
              "https://www.indiegogo.com/projects/aawireless/pica  $6,636,447   USD raised   \n",
              "https://www.indiegogo.com/projects/my-first-kis...      $7,120   USD raised   \n",
              "https://www.indiegogo.com/projects/mount-the-ul...      $7,044   USD raised   \n",
              "https://www.indiegogo.com/projects/atreus-29-ho...      $5,185   USD raised   \n",
              "https://www.indiegogo.com/projects/piano-man--3...      $4,610   USD raised   \n",
              "\n",
              "                                                   progress  \n",
              "project_id                                                   \n",
              "https://www.indiegogo.com/projects/aawireless/pica     295%  \n",
              "https://www.indiegogo.com/projects/my-first-kis...     128%  \n",
              "https://www.indiegogo.com/projects/mount-the-ul...      70%  \n",
              "https://www.indiegogo.com/projects/atreus-29-ho...     104%  \n",
              "https://www.indiegogo.com/projects/piano-man--3...      38%  "
            ],
            "text/html": [
              "\n",
              "  <div id=\"df-53d6d228-c4af-4b36-af97-ec021743643f\">\n",
              "    <div class=\"colab-df-container\">\n",
              "      <div>\n",
              "<style scoped>\n",
              "    .dataframe tbody tr th:only-of-type {\n",
              "        vertical-align: middle;\n",
              "    }\n",
              "\n",
              "    .dataframe tbody tr th {\n",
              "        vertical-align: top;\n",
              "    }\n",
              "\n",
              "    .dataframe thead th {\n",
              "        text-align: right;\n",
              "    }\n",
              "</style>\n",
              "<table border=\"1\" class=\"dataframe\">\n",
              "  <thead>\n",
              "    <tr style=\"text-align: right;\">\n",
              "      <th></th>\n",
              "      <th>Unnamed: 0</th>\n",
              "      <th>url</th>\n",
              "      <th>title</th>\n",
              "      <th>image</th>\n",
              "      <th>description</th>\n",
              "      <th>category</th>\n",
              "      <th>balance</th>\n",
              "      <th>currency</th>\n",
              "      <th>progress</th>\n",
              "    </tr>\n",
              "    <tr>\n",
              "      <th>project_id</th>\n",
              "      <th></th>\n",
              "      <th></th>\n",
              "      <th></th>\n",
              "      <th></th>\n",
              "      <th></th>\n",
              "      <th></th>\n",
              "      <th></th>\n",
              "      <th></th>\n",
              "      <th></th>\n",
              "    </tr>\n",
              "  </thead>\n",
              "  <tbody>\n",
              "    <tr>\n",
              "      <th>https://www.indiegogo.com/projects/aawireless/pica</th>\n",
              "      <td>0</td>\n",
              "      <td>https://www.indiegogo.com/projects/aawireless/...</td>\n",
              "      <td>AAWireless</td>\n",
              "      <td>https://c1.iggcdn.com/indiegogo-media-prod-cld...</td>\n",
              "      <td>Bring wireless Android Auto connection to your...</td>\n",
              "      <td>PHONES &amp; ACCESSORIES</td>\n",
              "      <td>$6,636,447</td>\n",
              "      <td>USD raised</td>\n",
              "      <td>295%</td>\n",
              "    </tr>\n",
              "    <tr>\n",
              "      <th>https://www.indiegogo.com/projects/my-first-kiss-coming-of-age-short-film/pica</th>\n",
              "      <td>1</td>\n",
              "      <td>https://www.indiegogo.com/projects/my-first-ki...</td>\n",
              "      <td>My First Kiss- Coming of Age- Short Film</td>\n",
              "      <td>https://c1.iggcdn.com/indiegogo-media-prod-cld...</td>\n",
              "      <td>Coming of age film about two best friends havi...</td>\n",
              "      <td>FILM</td>\n",
              "      <td>$7,120</td>\n",
              "      <td>USD raised</td>\n",
              "      <td>128%</td>\n",
              "    </tr>\n",
              "    <tr>\n",
              "      <th>https://www.indiegogo.com/projects/mount-the-ultimate-smart-digital-frame--2/pica</th>\n",
              "      <td>2</td>\n",
              "      <td>https://www.indiegogo.com/projects/mount-the-u...</td>\n",
              "      <td>Mount: The Ultimate Smart Digital Frame</td>\n",
              "      <td>https://c1.iggcdn.com/indiegogo-media-prod-cld...</td>\n",
              "      <td>Mount is the ultimate smart digital frame to d...</td>\n",
              "      <td>HOME</td>\n",
              "      <td>$7,044</td>\n",
              "      <td>USD raised</td>\n",
              "      <td>70%</td>\n",
              "    </tr>\n",
              "    <tr>\n",
              "      <th>https://www.indiegogo.com/projects/atreus-29-hour-reading/pica</th>\n",
              "      <td>3</td>\n",
              "      <td>https://www.indiegogo.com/projects/atreus-29-h...</td>\n",
              "      <td>ATREUS 29-Hour Reading</td>\n",
              "      <td>https://c1.iggcdn.com/indiegogo-media-prod-cld...</td>\n",
              "      <td>A modern riff on greek tragedy where siblings ...</td>\n",
              "      <td>DANCE &amp; THEATER</td>\n",
              "      <td>$5,185</td>\n",
              "      <td>USD raised</td>\n",
              "      <td>104%</td>\n",
              "    </tr>\n",
              "    <tr>\n",
              "      <th>https://www.indiegogo.com/projects/piano-man--3/pica</th>\n",
              "      <td>4</td>\n",
              "      <td>https://www.indiegogo.com/projects/piano-man--...</td>\n",
              "      <td>Piano Man</td>\n",
              "      <td>https://c1.iggcdn.com/indiegogo-media-prod-cld...</td>\n",
              "      <td>A short film that uses jazz to tell a story of...</td>\n",
              "      <td>FILM</td>\n",
              "      <td>$4,610</td>\n",
              "      <td>USD raised</td>\n",
              "      <td>38%</td>\n",
              "    </tr>\n",
              "  </tbody>\n",
              "</table>\n",
              "</div>\n",
              "      <button class=\"colab-df-convert\" onclick=\"convertToInteractive('df-53d6d228-c4af-4b36-af97-ec021743643f')\"\n",
              "              title=\"Convert this dataframe to an interactive table.\"\n",
              "              style=\"display:none;\">\n",
              "        \n",
              "  <svg xmlns=\"http://www.w3.org/2000/svg\" height=\"24px\"viewBox=\"0 0 24 24\"\n",
              "       width=\"24px\">\n",
              "    <path d=\"M0 0h24v24H0V0z\" fill=\"none\"/>\n",
              "    <path d=\"M18.56 5.44l.94 2.06.94-2.06 2.06-.94-2.06-.94-.94-2.06-.94 2.06-2.06.94zm-11 1L8.5 8.5l.94-2.06 2.06-.94-2.06-.94L8.5 2.5l-.94 2.06-2.06.94zm10 10l.94 2.06.94-2.06 2.06-.94-2.06-.94-.94-2.06-.94 2.06-2.06.94z\"/><path d=\"M17.41 7.96l-1.37-1.37c-.4-.4-.92-.59-1.43-.59-.52 0-1.04.2-1.43.59L10.3 9.45l-7.72 7.72c-.78.78-.78 2.05 0 2.83L4 21.41c.39.39.9.59 1.41.59.51 0 1.02-.2 1.41-.59l7.78-7.78 2.81-2.81c.8-.78.8-2.07 0-2.86zM5.41 20L4 18.59l7.72-7.72 1.47 1.35L5.41 20z\"/>\n",
              "  </svg>\n",
              "      </button>\n",
              "      \n",
              "  <style>\n",
              "    .colab-df-container {\n",
              "      display:flex;\n",
              "      flex-wrap:wrap;\n",
              "      gap: 12px;\n",
              "    }\n",
              "\n",
              "    .colab-df-convert {\n",
              "      background-color: #E8F0FE;\n",
              "      border: none;\n",
              "      border-radius: 50%;\n",
              "      cursor: pointer;\n",
              "      display: none;\n",
              "      fill: #1967D2;\n",
              "      height: 32px;\n",
              "      padding: 0 0 0 0;\n",
              "      width: 32px;\n",
              "    }\n",
              "\n",
              "    .colab-df-convert:hover {\n",
              "      background-color: #E2EBFA;\n",
              "      box-shadow: 0px 1px 2px rgba(60, 64, 67, 0.3), 0px 1px 3px 1px rgba(60, 64, 67, 0.15);\n",
              "      fill: #174EA6;\n",
              "    }\n",
              "\n",
              "    [theme=dark] .colab-df-convert {\n",
              "      background-color: #3B4455;\n",
              "      fill: #D2E3FC;\n",
              "    }\n",
              "\n",
              "    [theme=dark] .colab-df-convert:hover {\n",
              "      background-color: #434B5C;\n",
              "      box-shadow: 0px 1px 3px 1px rgba(0, 0, 0, 0.15);\n",
              "      filter: drop-shadow(0px 1px 2px rgba(0, 0, 0, 0.3));\n",
              "      fill: #FFFFFF;\n",
              "    }\n",
              "  </style>\n",
              "\n",
              "      <script>\n",
              "        const buttonEl =\n",
              "          document.querySelector('#df-53d6d228-c4af-4b36-af97-ec021743643f button.colab-df-convert');\n",
              "        buttonEl.style.display =\n",
              "          google.colab.kernel.accessAllowed ? 'block' : 'none';\n",
              "\n",
              "        async function convertToInteractive(key) {\n",
              "          const element = document.querySelector('#df-53d6d228-c4af-4b36-af97-ec021743643f');\n",
              "          const dataTable =\n",
              "            await google.colab.kernel.invokeFunction('convertToInteractive',\n",
              "                                                     [key], {});\n",
              "          if (!dataTable) return;\n",
              "\n",
              "          const docLinkHtml = 'Like what you see? Visit the ' +\n",
              "            '<a target=\"_blank\" href=https://colab.research.google.com/notebooks/data_table.ipynb>data table notebook</a>'\n",
              "            + ' to learn more about interactive tables.';\n",
              "          element.innerHTML = '';\n",
              "          dataTable['output_type'] = 'display_data';\n",
              "          await google.colab.output.renderOutput(dataTable, element);\n",
              "          const docLink = document.createElement('div');\n",
              "          docLink.innerHTML = docLinkHtml;\n",
              "          element.appendChild(docLink);\n",
              "        }\n",
              "      </script>\n",
              "    </div>\n",
              "  </div>\n",
              "  "
            ]
          },
          "metadata": {},
          "execution_count": 28
        }
      ]
    },
    {
      "cell_type": "code",
      "metadata": {
        "id": "7RJTIyFfv-Ig",
        "colab": {
          "base_uri": "https://localhost:8080/"
        },
        "outputId": "12443308-7340-44a9-fc20-ebe5f667ed71"
      },
      "source": [
        "from selenium.webdriver.common.by import By\n",
        "from selenium.webdriver.support.ui import WebDriverWait\n",
        "from selenium.webdriver.support import expected_conditions as EC\n",
        "import time\n",
        "details = []\n",
        "for project_id, project in ds_detail_projects.head().iterrows():\n",
        "    time.sleep(10)\n",
        "    link = project[\"url\"]\n",
        "    print(link)\n",
        "    wd.set_window_size(1920, 1080)\n",
        "    wd.get(link)\n",
        "    try:\n",
        "      WebDriverWait(wd, 10).until(\n",
        "          EC.element_to_be_clickable((By.ID, \"div.basicsBackerActions\"))\n",
        "      )\n",
        "    except:\n",
        "      continue\n",
        "\n",
        "    wd.save_screenshot(f'screenshot_1.png')\n",
        "    backers = wd.find_elements(by=By.CSS_SELECTOR, value=\".basicsGoalProgress-claimedOrBackers\")[0].text\n",
        "    goal = wd.find_elements(by=By.CSS_SELECTOR, value=\".basicsGoalProgress-progressDetails-detailsGoal-goalPercentageOrInitiallyRaised\")[0].text\n",
        "    left = wd.find_elements(by=By.CSS_SELECTOR, value=\".basicsGoalProgress-progressDetails-detailsTimeLeft\")[0].text\n",
        "    location = wd.find_elements(by=By.CSS_SELECTOR, value=\".basicsCampaignOwner-details-city\")[0].text\n",
        "    owner = wd.find_elements(by=By.CSS_SELECTOR, value=\".campaignOwnerName-tooltip\")[0].text\n",
        "    details.append({'project_id': project_id,\n",
        "                    'backers': backers,\n",
        "                    'goal': goal,\n",
        "                    'left': left,\n",
        "                    'owner': owner,\n",
        "                    'location': location})\n",
        "  \n",
        "len(details)\n",
        "pprint.pprint(details)\n"
      ],
      "execution_count": 29,
      "outputs": [
        {
          "output_type": "stream",
          "name": "stdout",
          "text": [
            "https://www.indiegogo.com/projects/aawireless/pica\n",
            "https://www.indiegogo.com/projects/my-first-kiss-coming-of-age-short-film/pica\n",
            "https://www.indiegogo.com/projects/mount-the-ultimate-smart-digital-frame--2/pica\n",
            "https://www.indiegogo.com/projects/atreus-29-hour-reading/pica\n",
            "https://www.indiegogo.com/projects/piano-man--3/pica\n",
            "[]\n"
          ]
        }
      ]
    },
    {
      "cell_type": "code",
      "metadata": {
        "id": "xf7bDTWTxLlf",
        "colab": {
          "base_uri": "https://localhost:8080/",
          "height": 136,
          "referenced_widgets": [
            "4fa2b9d4f8f747ebaedbff4e8541b095",
            "ee933956febb41ecbc59f5beca4bdd51",
            "be3a46c5a0bc43ac9c0949ea54d18d03",
            "2a6ea9ca69114dadb696f5722c817398",
            "c73c67243d3e42a4a79db7d6d2303a14",
            "2143f21151844465b8ec589da48e2c16",
            "b10ae481394548e88385cf4273322b7c",
            "954c110466c7488090131dfc77feeb1e",
            "dd17634a3ef4422fac923cd1448e0c38",
            "d716e9977e9d489a90d13b8411dbe336",
            "55ff39c7191142b1a3318dfa1a1efb6f"
          ]
        },
        "outputId": "87a114eb-7ae5-4cfb-d917-f141651fc33a"
      },
      "source": [
        "from selenium.webdriver.common.by import By\n",
        "from selenium.webdriver.support.ui import WebDriverWait\n",
        "from selenium.webdriver.support import expected_conditions as EC\n",
        "import time\n",
        "details = []\n",
        "ds_detail_projects = ds_detail_projects.head(n = 10)\n",
        "for project_id, project in tqdm(ds_detail_projects.iterrows(), total=ds_detail_projects.shape[0]):\n",
        "    time.sleep(1)\n",
        "    link = project[\"url\"]\n",
        "    backers = 0\n",
        "    goal = 0\n",
        "    left = 0\n",
        "    location = \"\"\n",
        "    owner = \"\"\n",
        "    #print(link)\n",
        "    try:\n",
        "      wd.set_window_size(1920, 1080)\n",
        "      wd.get(link)\n",
        "      backers = wd.find_elements(by=By.CSS_SELECTOR, value=\".basicsGoalProgress-claimedOrBackers\")[0].text\n",
        "      goal = wd.find_elements(by=By.CSS_SELECTOR, value=\".basicsGoalProgress-progressDetails-detailsGoal-goalPercentageOrInitiallyRaised\")[0].text\n",
        "      left = wd.find_elements(by=By.CSS_SELECTOR, value=\".basicsGoalProgress-progressDetails-detailsTimeLeft\")[0].text\n",
        "      location = wd.find_elements(by=By.CSS_SELECTOR, value=\".basicsCampaignOwner-details-city\")[0].text\n",
        "      owner = wd.find_elements(by=By.CSS_SELECTOR, value=\".campaignOwnerName-tooltip\")[0].text\n",
        "    except Exception as e:\n",
        "      print(e)\n",
        "    details.append({'project_id': project_id,\n",
        "                    'backers': backers,\n",
        "                    'goal': goal,\n",
        "                    'left': left,\n",
        "                    'owner': owner,\n",
        "                    'location': location})\n",
        "  \n",
        "\n"
      ],
      "execution_count": 32,
      "outputs": [
        {
          "output_type": "stream",
          "name": "stderr",
          "text": [
            "/usr/local/lib/python3.7/dist-packages/ipykernel_launcher.py:7: TqdmDeprecationWarning: This function will be removed in tqdm==5.0.0\n",
            "Please use `tqdm.notebook.tqdm` instead of `tqdm.tqdm_notebook`\n",
            "  import sys\n"
          ]
        },
        {
          "output_type": "display_data",
          "data": {
            "text/plain": [
              "  0%|          | 0/10 [00:00<?, ?it/s]"
            ],
            "application/vnd.jupyter.widget-view+json": {
              "version_major": 2,
              "version_minor": 0,
              "model_id": "4fa2b9d4f8f747ebaedbff4e8541b095"
            }
          },
          "metadata": {}
        },
        {
          "output_type": "stream",
          "name": "stdout",
          "text": [
            "list index out of range\n",
            "list index out of range\n"
          ]
        }
      ]
    },
    {
      "cell_type": "code",
      "metadata": {
        "id": "nmOdNznWXKtj",
        "colab": {
          "base_uri": "https://localhost:8080/"
        },
        "outputId": "36a52920-23fa-4022-aa33-6ffa393dae9a"
      },
      "source": [
        "print(len(details))\n",
        "pprint.pprint(details[0:4])"
      ],
      "execution_count": 33,
      "outputs": [
        {
          "output_type": "stream",
          "name": "stdout",
          "text": [
            "10\n",
            "[{'backers': 'by 69,869 backers',\n",
            "  'goal': '$648,597 USD by 8,595 backers',\n",
            "  'left': 0,\n",
            "  'location': '',\n",
            "  'owner': '',\n",
            "  'project_id': 'https://www.indiegogo.com/projects/aawireless/pica'},\n",
            " {'backers': '23 backers',\n",
            "  'goal': '128% of $5,555',\n",
            "  'left': '51 days left',\n",
            "  'location': 'PHOENIX, United States',\n",
            "  'owner': 'Abbi Jackson',\n",
            "  'project_id': 'https://www.indiegogo.com/projects/my-first-kiss-coming-of-age-short-film/pica'},\n",
            " {'backers': '27 backers',\n",
            "  'goal': '70% of $10,000',\n",
            "  'left': '42 days left',\n",
            "  'location': 'West Hazleton, United States',\n",
            "  'owner': 'Amine Kaddari',\n",
            "  'project_id': 'https://www.indiegogo.com/projects/mount-the-ultimate-smart-digital-frame--2/pica'},\n",
            " {'backers': '56 backers',\n",
            "  'goal': '103% of $5,000',\n",
            "  'left': '11 days left',\n",
            "  'location': 'NEW YORK, United States',\n",
            "  'owner': 'Emily Schultheis',\n",
            "  'project_id': 'https://www.indiegogo.com/projects/atreus-29-hour-reading/pica'}]\n"
          ]
        }
      ]
    },
    {
      "cell_type": "markdown",
      "metadata": {
        "id": "fcfGcK4O4R2-"
      },
      "source": [
        "Store the data with *pandas*"
      ]
    },
    {
      "cell_type": "code",
      "metadata": {
        "id": "4xik7JIr4J-n",
        "colab": {
          "base_uri": "https://localhost:8080/",
          "height": 206
        },
        "outputId": "41976ae7-05b7-4ab2-d85d-475aaf49838b"
      },
      "source": [
        "import pandas as pd\n",
        "ds_details = pd.DataFrame(details)\n",
        "ds_details.set_index(\"project_id\")\n",
        "ds_details.head()"
      ],
      "execution_count": 34,
      "outputs": [
        {
          "output_type": "execute_result",
          "data": {
            "text/plain": [
              "                                          project_id            backers  \\\n",
              "0  https://www.indiegogo.com/projects/aawireless/...  by 69,869 backers   \n",
              "1  https://www.indiegogo.com/projects/my-first-ki...         23 backers   \n",
              "2  https://www.indiegogo.com/projects/mount-the-u...         27 backers   \n",
              "3  https://www.indiegogo.com/projects/atreus-29-h...         56 backers   \n",
              "4  https://www.indiegogo.com/projects/piano-man--...         29 backers   \n",
              "\n",
              "                            goal          left             owner  \\\n",
              "0  $648,597 USD by 8,595 backers             0                     \n",
              "1                 128% of $5,555  51 days left      Abbi Jackson   \n",
              "2                 70% of $10,000  42 days left     Amine Kaddari   \n",
              "3                 103% of $5,000  11 days left  Emily Schultheis   \n",
              "4                 38% of $12,000  28 days left   Zackery Beining   \n",
              "\n",
              "                       location  \n",
              "0                                \n",
              "1        PHOENIX, United States  \n",
              "2  West Hazleton, United States  \n",
              "3       NEW YORK, United States  \n",
              "4       St. Lous, United States  "
            ],
            "text/html": [
              "\n",
              "  <div id=\"df-bd258c47-f428-4a56-9f99-a8206c0ff75e\">\n",
              "    <div class=\"colab-df-container\">\n",
              "      <div>\n",
              "<style scoped>\n",
              "    .dataframe tbody tr th:only-of-type {\n",
              "        vertical-align: middle;\n",
              "    }\n",
              "\n",
              "    .dataframe tbody tr th {\n",
              "        vertical-align: top;\n",
              "    }\n",
              "\n",
              "    .dataframe thead th {\n",
              "        text-align: right;\n",
              "    }\n",
              "</style>\n",
              "<table border=\"1\" class=\"dataframe\">\n",
              "  <thead>\n",
              "    <tr style=\"text-align: right;\">\n",
              "      <th></th>\n",
              "      <th>project_id</th>\n",
              "      <th>backers</th>\n",
              "      <th>goal</th>\n",
              "      <th>left</th>\n",
              "      <th>owner</th>\n",
              "      <th>location</th>\n",
              "    </tr>\n",
              "  </thead>\n",
              "  <tbody>\n",
              "    <tr>\n",
              "      <th>0</th>\n",
              "      <td>https://www.indiegogo.com/projects/aawireless/...</td>\n",
              "      <td>by 69,869 backers</td>\n",
              "      <td>$648,597 USD by 8,595 backers</td>\n",
              "      <td>0</td>\n",
              "      <td></td>\n",
              "      <td></td>\n",
              "    </tr>\n",
              "    <tr>\n",
              "      <th>1</th>\n",
              "      <td>https://www.indiegogo.com/projects/my-first-ki...</td>\n",
              "      <td>23 backers</td>\n",
              "      <td>128% of $5,555</td>\n",
              "      <td>51 days left</td>\n",
              "      <td>Abbi Jackson</td>\n",
              "      <td>PHOENIX, United States</td>\n",
              "    </tr>\n",
              "    <tr>\n",
              "      <th>2</th>\n",
              "      <td>https://www.indiegogo.com/projects/mount-the-u...</td>\n",
              "      <td>27 backers</td>\n",
              "      <td>70% of $10,000</td>\n",
              "      <td>42 days left</td>\n",
              "      <td>Amine Kaddari</td>\n",
              "      <td>West Hazleton, United States</td>\n",
              "    </tr>\n",
              "    <tr>\n",
              "      <th>3</th>\n",
              "      <td>https://www.indiegogo.com/projects/atreus-29-h...</td>\n",
              "      <td>56 backers</td>\n",
              "      <td>103% of $5,000</td>\n",
              "      <td>11 days left</td>\n",
              "      <td>Emily Schultheis</td>\n",
              "      <td>NEW YORK, United States</td>\n",
              "    </tr>\n",
              "    <tr>\n",
              "      <th>4</th>\n",
              "      <td>https://www.indiegogo.com/projects/piano-man--...</td>\n",
              "      <td>29 backers</td>\n",
              "      <td>38% of $12,000</td>\n",
              "      <td>28 days left</td>\n",
              "      <td>Zackery Beining</td>\n",
              "      <td>St. Lous, United States</td>\n",
              "    </tr>\n",
              "  </tbody>\n",
              "</table>\n",
              "</div>\n",
              "      <button class=\"colab-df-convert\" onclick=\"convertToInteractive('df-bd258c47-f428-4a56-9f99-a8206c0ff75e')\"\n",
              "              title=\"Convert this dataframe to an interactive table.\"\n",
              "              style=\"display:none;\">\n",
              "        \n",
              "  <svg xmlns=\"http://www.w3.org/2000/svg\" height=\"24px\"viewBox=\"0 0 24 24\"\n",
              "       width=\"24px\">\n",
              "    <path d=\"M0 0h24v24H0V0z\" fill=\"none\"/>\n",
              "    <path d=\"M18.56 5.44l.94 2.06.94-2.06 2.06-.94-2.06-.94-.94-2.06-.94 2.06-2.06.94zm-11 1L8.5 8.5l.94-2.06 2.06-.94-2.06-.94L8.5 2.5l-.94 2.06-2.06.94zm10 10l.94 2.06.94-2.06 2.06-.94-2.06-.94-.94-2.06-.94 2.06-2.06.94z\"/><path d=\"M17.41 7.96l-1.37-1.37c-.4-.4-.92-.59-1.43-.59-.52 0-1.04.2-1.43.59L10.3 9.45l-7.72 7.72c-.78.78-.78 2.05 0 2.83L4 21.41c.39.39.9.59 1.41.59.51 0 1.02-.2 1.41-.59l7.78-7.78 2.81-2.81c.8-.78.8-2.07 0-2.86zM5.41 20L4 18.59l7.72-7.72 1.47 1.35L5.41 20z\"/>\n",
              "  </svg>\n",
              "      </button>\n",
              "      \n",
              "  <style>\n",
              "    .colab-df-container {\n",
              "      display:flex;\n",
              "      flex-wrap:wrap;\n",
              "      gap: 12px;\n",
              "    }\n",
              "\n",
              "    .colab-df-convert {\n",
              "      background-color: #E8F0FE;\n",
              "      border: none;\n",
              "      border-radius: 50%;\n",
              "      cursor: pointer;\n",
              "      display: none;\n",
              "      fill: #1967D2;\n",
              "      height: 32px;\n",
              "      padding: 0 0 0 0;\n",
              "      width: 32px;\n",
              "    }\n",
              "\n",
              "    .colab-df-convert:hover {\n",
              "      background-color: #E2EBFA;\n",
              "      box-shadow: 0px 1px 2px rgba(60, 64, 67, 0.3), 0px 1px 3px 1px rgba(60, 64, 67, 0.15);\n",
              "      fill: #174EA6;\n",
              "    }\n",
              "\n",
              "    [theme=dark] .colab-df-convert {\n",
              "      background-color: #3B4455;\n",
              "      fill: #D2E3FC;\n",
              "    }\n",
              "\n",
              "    [theme=dark] .colab-df-convert:hover {\n",
              "      background-color: #434B5C;\n",
              "      box-shadow: 0px 1px 3px 1px rgba(0, 0, 0, 0.15);\n",
              "      filter: drop-shadow(0px 1px 2px rgba(0, 0, 0, 0.3));\n",
              "      fill: #FFFFFF;\n",
              "    }\n",
              "  </style>\n",
              "\n",
              "      <script>\n",
              "        const buttonEl =\n",
              "          document.querySelector('#df-bd258c47-f428-4a56-9f99-a8206c0ff75e button.colab-df-convert');\n",
              "        buttonEl.style.display =\n",
              "          google.colab.kernel.accessAllowed ? 'block' : 'none';\n",
              "\n",
              "        async function convertToInteractive(key) {\n",
              "          const element = document.querySelector('#df-bd258c47-f428-4a56-9f99-a8206c0ff75e');\n",
              "          const dataTable =\n",
              "            await google.colab.kernel.invokeFunction('convertToInteractive',\n",
              "                                                     [key], {});\n",
              "          if (!dataTable) return;\n",
              "\n",
              "          const docLinkHtml = 'Like what you see? Visit the ' +\n",
              "            '<a target=\"_blank\" href=https://colab.research.google.com/notebooks/data_table.ipynb>data table notebook</a>'\n",
              "            + ' to learn more about interactive tables.';\n",
              "          element.innerHTML = '';\n",
              "          dataTable['output_type'] = 'display_data';\n",
              "          await google.colab.output.renderOutput(dataTable, element);\n",
              "          const docLink = document.createElement('div');\n",
              "          docLink.innerHTML = docLinkHtml;\n",
              "          element.appendChild(docLink);\n",
              "        }\n",
              "      </script>\n",
              "    </div>\n",
              "  </div>\n",
              "  "
            ]
          },
          "metadata": {},
          "execution_count": 34
        }
      ]
    },
    {
      "cell_type": "code",
      "metadata": {
        "id": "pBkNRigl4b9G",
        "colab": {
          "base_uri": "https://localhost:8080/"
        },
        "outputId": "cdac346b-8866-461f-a2bc-c81671f556de"
      },
      "source": [
        "ds_details.info()"
      ],
      "execution_count": 35,
      "outputs": [
        {
          "output_type": "stream",
          "name": "stdout",
          "text": [
            "<class 'pandas.core.frame.DataFrame'>\n",
            "RangeIndex: 10 entries, 0 to 9\n",
            "Data columns (total 6 columns):\n",
            " #   Column      Non-Null Count  Dtype \n",
            "---  ------      --------------  ----- \n",
            " 0   project_id  10 non-null     object\n",
            " 1   backers     10 non-null     object\n",
            " 2   goal        10 non-null     object\n",
            " 3   left        10 non-null     object\n",
            " 4   owner       10 non-null     object\n",
            " 5   location    10 non-null     object\n",
            "dtypes: object(6)\n",
            "memory usage: 608.0+ bytes\n"
          ]
        }
      ]
    },
    {
      "cell_type": "code",
      "metadata": {
        "id": "YSlNICg94fKj"
      },
      "source": [
        "ds_details.to_csv(\"ds_project_details.csv\")"
      ],
      "execution_count": 36,
      "outputs": []
    },
    {
      "cell_type": "markdown",
      "metadata": {
        "id": "dJdurd8345Jp"
      },
      "source": [
        "# Indiegogo Project images\n",
        "\n",
        "\n",
        "Now we're going to download Indiegogo images for each project.\n",
        "\n",
        "Our goal is to create a dataset of images and a `Dataframe` composed by:\n",
        "- `project_id`\n",
        "- `image_id`\n",
        "\n",
        "We will use the library `requests`.\n",
        "\n",
        "The `requests` library is python library for making HTTP requests.\n",
        "It abstracts the complexities of making requests behind a simple API so that you can focus on interacting with services and consuming data in your application."
      ]
    },
    {
      "cell_type": "code",
      "metadata": {
        "colab": {
          "base_uri": "https://localhost:8080/",
          "height": 614
        },
        "id": "aOqIaqtgGN2J",
        "outputId": "91047962-6c93-41c1-825d-f0545871c249"
      },
      "source": [
        "# open csv file\n",
        "import pandas as pd\n",
        "ds_detail_projects = pd.read_csv(\"ds_projects.csv\", index_col=\"project_id\")\n",
        "ds_detail_projects.head()"
      ],
      "execution_count": 37,
      "outputs": [
        {
          "output_type": "execute_result",
          "data": {
            "text/plain": [
              "                                                    Unnamed: 0  \\\n",
              "project_id                                                       \n",
              "https://www.indiegogo.com/projects/aawireless/pica           0   \n",
              "https://www.indiegogo.com/projects/my-first-kis...           1   \n",
              "https://www.indiegogo.com/projects/mount-the-ul...           2   \n",
              "https://www.indiegogo.com/projects/atreus-29-ho...           3   \n",
              "https://www.indiegogo.com/projects/piano-man--3...           4   \n",
              "\n",
              "                                                                                                  url  \\\n",
              "project_id                                                                                              \n",
              "https://www.indiegogo.com/projects/aawireless/pica  https://www.indiegogo.com/projects/aawireless/...   \n",
              "https://www.indiegogo.com/projects/my-first-kis...  https://www.indiegogo.com/projects/my-first-ki...   \n",
              "https://www.indiegogo.com/projects/mount-the-ul...  https://www.indiegogo.com/projects/mount-the-u...   \n",
              "https://www.indiegogo.com/projects/atreus-29-ho...  https://www.indiegogo.com/projects/atreus-29-h...   \n",
              "https://www.indiegogo.com/projects/piano-man--3...  https://www.indiegogo.com/projects/piano-man--...   \n",
              "\n",
              "                                                                                       title  \\\n",
              "project_id                                                                                     \n",
              "https://www.indiegogo.com/projects/aawireless/pica                                AAWireless   \n",
              "https://www.indiegogo.com/projects/my-first-kis...  My First Kiss- Coming of Age- Short Film   \n",
              "https://www.indiegogo.com/projects/mount-the-ul...   Mount: The Ultimate Smart Digital Frame   \n",
              "https://www.indiegogo.com/projects/atreus-29-ho...                    ATREUS 29-Hour Reading   \n",
              "https://www.indiegogo.com/projects/piano-man--3...                                 Piano Man   \n",
              "\n",
              "                                                                                                image  \\\n",
              "project_id                                                                                              \n",
              "https://www.indiegogo.com/projects/aawireless/pica  https://c1.iggcdn.com/indiegogo-media-prod-cld...   \n",
              "https://www.indiegogo.com/projects/my-first-kis...  https://c1.iggcdn.com/indiegogo-media-prod-cld...   \n",
              "https://www.indiegogo.com/projects/mount-the-ul...  https://c1.iggcdn.com/indiegogo-media-prod-cld...   \n",
              "https://www.indiegogo.com/projects/atreus-29-ho...  https://c1.iggcdn.com/indiegogo-media-prod-cld...   \n",
              "https://www.indiegogo.com/projects/piano-man--3...  https://c1.iggcdn.com/indiegogo-media-prod-cld...   \n",
              "\n",
              "                                                                                          description  \\\n",
              "project_id                                                                                              \n",
              "https://www.indiegogo.com/projects/aawireless/pica  Bring wireless Android Auto connection to your...   \n",
              "https://www.indiegogo.com/projects/my-first-kis...  Coming of age film about two best friends havi...   \n",
              "https://www.indiegogo.com/projects/mount-the-ul...  Mount is the ultimate smart digital frame to d...   \n",
              "https://www.indiegogo.com/projects/atreus-29-ho...  A modern riff on greek tragedy where siblings ...   \n",
              "https://www.indiegogo.com/projects/piano-man--3...  A short film that uses jazz to tell a story of...   \n",
              "\n",
              "                                                                category  \\\n",
              "project_id                                                                 \n",
              "https://www.indiegogo.com/projects/aawireless/pica  PHONES & ACCESSORIES   \n",
              "https://www.indiegogo.com/projects/my-first-kis...                  FILM   \n",
              "https://www.indiegogo.com/projects/mount-the-ul...                  HOME   \n",
              "https://www.indiegogo.com/projects/atreus-29-ho...       DANCE & THEATER   \n",
              "https://www.indiegogo.com/projects/piano-man--3...                  FILM   \n",
              "\n",
              "                                                        balance    currency  \\\n",
              "project_id                                                                    \n",
              "https://www.indiegogo.com/projects/aawireless/pica  $6,636,447   USD raised   \n",
              "https://www.indiegogo.com/projects/my-first-kis...      $7,120   USD raised   \n",
              "https://www.indiegogo.com/projects/mount-the-ul...      $7,044   USD raised   \n",
              "https://www.indiegogo.com/projects/atreus-29-ho...      $5,185   USD raised   \n",
              "https://www.indiegogo.com/projects/piano-man--3...      $4,610   USD raised   \n",
              "\n",
              "                                                   progress  \n",
              "project_id                                                   \n",
              "https://www.indiegogo.com/projects/aawireless/pica     295%  \n",
              "https://www.indiegogo.com/projects/my-first-kis...     128%  \n",
              "https://www.indiegogo.com/projects/mount-the-ul...      70%  \n",
              "https://www.indiegogo.com/projects/atreus-29-ho...     104%  \n",
              "https://www.indiegogo.com/projects/piano-man--3...      38%  "
            ],
            "text/html": [
              "\n",
              "  <div id=\"df-779c01ea-adee-4c72-9424-826dcb1dc883\">\n",
              "    <div class=\"colab-df-container\">\n",
              "      <div>\n",
              "<style scoped>\n",
              "    .dataframe tbody tr th:only-of-type {\n",
              "        vertical-align: middle;\n",
              "    }\n",
              "\n",
              "    .dataframe tbody tr th {\n",
              "        vertical-align: top;\n",
              "    }\n",
              "\n",
              "    .dataframe thead th {\n",
              "        text-align: right;\n",
              "    }\n",
              "</style>\n",
              "<table border=\"1\" class=\"dataframe\">\n",
              "  <thead>\n",
              "    <tr style=\"text-align: right;\">\n",
              "      <th></th>\n",
              "      <th>Unnamed: 0</th>\n",
              "      <th>url</th>\n",
              "      <th>title</th>\n",
              "      <th>image</th>\n",
              "      <th>description</th>\n",
              "      <th>category</th>\n",
              "      <th>balance</th>\n",
              "      <th>currency</th>\n",
              "      <th>progress</th>\n",
              "    </tr>\n",
              "    <tr>\n",
              "      <th>project_id</th>\n",
              "      <th></th>\n",
              "      <th></th>\n",
              "      <th></th>\n",
              "      <th></th>\n",
              "      <th></th>\n",
              "      <th></th>\n",
              "      <th></th>\n",
              "      <th></th>\n",
              "      <th></th>\n",
              "    </tr>\n",
              "  </thead>\n",
              "  <tbody>\n",
              "    <tr>\n",
              "      <th>https://www.indiegogo.com/projects/aawireless/pica</th>\n",
              "      <td>0</td>\n",
              "      <td>https://www.indiegogo.com/projects/aawireless/...</td>\n",
              "      <td>AAWireless</td>\n",
              "      <td>https://c1.iggcdn.com/indiegogo-media-prod-cld...</td>\n",
              "      <td>Bring wireless Android Auto connection to your...</td>\n",
              "      <td>PHONES &amp; ACCESSORIES</td>\n",
              "      <td>$6,636,447</td>\n",
              "      <td>USD raised</td>\n",
              "      <td>295%</td>\n",
              "    </tr>\n",
              "    <tr>\n",
              "      <th>https://www.indiegogo.com/projects/my-first-kiss-coming-of-age-short-film/pica</th>\n",
              "      <td>1</td>\n",
              "      <td>https://www.indiegogo.com/projects/my-first-ki...</td>\n",
              "      <td>My First Kiss- Coming of Age- Short Film</td>\n",
              "      <td>https://c1.iggcdn.com/indiegogo-media-prod-cld...</td>\n",
              "      <td>Coming of age film about two best friends havi...</td>\n",
              "      <td>FILM</td>\n",
              "      <td>$7,120</td>\n",
              "      <td>USD raised</td>\n",
              "      <td>128%</td>\n",
              "    </tr>\n",
              "    <tr>\n",
              "      <th>https://www.indiegogo.com/projects/mount-the-ultimate-smart-digital-frame--2/pica</th>\n",
              "      <td>2</td>\n",
              "      <td>https://www.indiegogo.com/projects/mount-the-u...</td>\n",
              "      <td>Mount: The Ultimate Smart Digital Frame</td>\n",
              "      <td>https://c1.iggcdn.com/indiegogo-media-prod-cld...</td>\n",
              "      <td>Mount is the ultimate smart digital frame to d...</td>\n",
              "      <td>HOME</td>\n",
              "      <td>$7,044</td>\n",
              "      <td>USD raised</td>\n",
              "      <td>70%</td>\n",
              "    </tr>\n",
              "    <tr>\n",
              "      <th>https://www.indiegogo.com/projects/atreus-29-hour-reading/pica</th>\n",
              "      <td>3</td>\n",
              "      <td>https://www.indiegogo.com/projects/atreus-29-h...</td>\n",
              "      <td>ATREUS 29-Hour Reading</td>\n",
              "      <td>https://c1.iggcdn.com/indiegogo-media-prod-cld...</td>\n",
              "      <td>A modern riff on greek tragedy where siblings ...</td>\n",
              "      <td>DANCE &amp; THEATER</td>\n",
              "      <td>$5,185</td>\n",
              "      <td>USD raised</td>\n",
              "      <td>104%</td>\n",
              "    </tr>\n",
              "    <tr>\n",
              "      <th>https://www.indiegogo.com/projects/piano-man--3/pica</th>\n",
              "      <td>4</td>\n",
              "      <td>https://www.indiegogo.com/projects/piano-man--...</td>\n",
              "      <td>Piano Man</td>\n",
              "      <td>https://c1.iggcdn.com/indiegogo-media-prod-cld...</td>\n",
              "      <td>A short film that uses jazz to tell a story of...</td>\n",
              "      <td>FILM</td>\n",
              "      <td>$4,610</td>\n",
              "      <td>USD raised</td>\n",
              "      <td>38%</td>\n",
              "    </tr>\n",
              "  </tbody>\n",
              "</table>\n",
              "</div>\n",
              "      <button class=\"colab-df-convert\" onclick=\"convertToInteractive('df-779c01ea-adee-4c72-9424-826dcb1dc883')\"\n",
              "              title=\"Convert this dataframe to an interactive table.\"\n",
              "              style=\"display:none;\">\n",
              "        \n",
              "  <svg xmlns=\"http://www.w3.org/2000/svg\" height=\"24px\"viewBox=\"0 0 24 24\"\n",
              "       width=\"24px\">\n",
              "    <path d=\"M0 0h24v24H0V0z\" fill=\"none\"/>\n",
              "    <path d=\"M18.56 5.44l.94 2.06.94-2.06 2.06-.94-2.06-.94-.94-2.06-.94 2.06-2.06.94zm-11 1L8.5 8.5l.94-2.06 2.06-.94-2.06-.94L8.5 2.5l-.94 2.06-2.06.94zm10 10l.94 2.06.94-2.06 2.06-.94-2.06-.94-.94-2.06-.94 2.06-2.06.94z\"/><path d=\"M17.41 7.96l-1.37-1.37c-.4-.4-.92-.59-1.43-.59-.52 0-1.04.2-1.43.59L10.3 9.45l-7.72 7.72c-.78.78-.78 2.05 0 2.83L4 21.41c.39.39.9.59 1.41.59.51 0 1.02-.2 1.41-.59l7.78-7.78 2.81-2.81c.8-.78.8-2.07 0-2.86zM5.41 20L4 18.59l7.72-7.72 1.47 1.35L5.41 20z\"/>\n",
              "  </svg>\n",
              "      </button>\n",
              "      \n",
              "  <style>\n",
              "    .colab-df-container {\n",
              "      display:flex;\n",
              "      flex-wrap:wrap;\n",
              "      gap: 12px;\n",
              "    }\n",
              "\n",
              "    .colab-df-convert {\n",
              "      background-color: #E8F0FE;\n",
              "      border: none;\n",
              "      border-radius: 50%;\n",
              "      cursor: pointer;\n",
              "      display: none;\n",
              "      fill: #1967D2;\n",
              "      height: 32px;\n",
              "      padding: 0 0 0 0;\n",
              "      width: 32px;\n",
              "    }\n",
              "\n",
              "    .colab-df-convert:hover {\n",
              "      background-color: #E2EBFA;\n",
              "      box-shadow: 0px 1px 2px rgba(60, 64, 67, 0.3), 0px 1px 3px 1px rgba(60, 64, 67, 0.15);\n",
              "      fill: #174EA6;\n",
              "    }\n",
              "\n",
              "    [theme=dark] .colab-df-convert {\n",
              "      background-color: #3B4455;\n",
              "      fill: #D2E3FC;\n",
              "    }\n",
              "\n",
              "    [theme=dark] .colab-df-convert:hover {\n",
              "      background-color: #434B5C;\n",
              "      box-shadow: 0px 1px 3px 1px rgba(0, 0, 0, 0.15);\n",
              "      filter: drop-shadow(0px 1px 2px rgba(0, 0, 0, 0.3));\n",
              "      fill: #FFFFFF;\n",
              "    }\n",
              "  </style>\n",
              "\n",
              "      <script>\n",
              "        const buttonEl =\n",
              "          document.querySelector('#df-779c01ea-adee-4c72-9424-826dcb1dc883 button.colab-df-convert');\n",
              "        buttonEl.style.display =\n",
              "          google.colab.kernel.accessAllowed ? 'block' : 'none';\n",
              "\n",
              "        async function convertToInteractive(key) {\n",
              "          const element = document.querySelector('#df-779c01ea-adee-4c72-9424-826dcb1dc883');\n",
              "          const dataTable =\n",
              "            await google.colab.kernel.invokeFunction('convertToInteractive',\n",
              "                                                     [key], {});\n",
              "          if (!dataTable) return;\n",
              "\n",
              "          const docLinkHtml = 'Like what you see? Visit the ' +\n",
              "            '<a target=\"_blank\" href=https://colab.research.google.com/notebooks/data_table.ipynb>data table notebook</a>'\n",
              "            + ' to learn more about interactive tables.';\n",
              "          element.innerHTML = '';\n",
              "          dataTable['output_type'] = 'display_data';\n",
              "          await google.colab.output.renderOutput(dataTable, element);\n",
              "          const docLink = document.createElement('div');\n",
              "          docLink.innerHTML = docLinkHtml;\n",
              "          element.appendChild(docLink);\n",
              "        }\n",
              "      </script>\n",
              "    </div>\n",
              "  </div>\n",
              "  "
            ]
          },
          "metadata": {},
          "execution_count": 37
        }
      ]
    },
    {
      "cell_type": "code",
      "metadata": {
        "id": "q1cy5Jzt6ab-",
        "colab": {
          "base_uri": "https://localhost:8080/",
          "height": 101,
          "referenced_widgets": [
            "f2279ae683de4f35b9d20b740d0ad0a3",
            "9cd6f677a50a468fb9e726cec0f651e0",
            "07de5b5f20634a3f98de563c060b77cb",
            "6326ceaa5895472f9bd33cadc631b394",
            "f29bdade1eec4b7f86a71ad0c8fd94e6",
            "65d9d924554e45f1885e7d9fb3256e85",
            "65452f463f194c13a49fe0071ac23189",
            "5e586588272a4917b03c263c8551e9b7",
            "56b0f77c8a5042c3959de5768c3531bb",
            "f1a77432f716490d92171e12de06d7d9",
            "7bc397d076c64b0a8bed4b847f6be2c0"
          ]
        },
        "outputId": "3dccd1da-72f4-4c9a-b484-89c221ce4a8f"
      },
      "source": [
        "import time\n",
        "import requests\n",
        "\n",
        "detail_projects = []\n",
        "list_images = []\n",
        "num = 0\n",
        "for project_id, project in tqdm(ds_detail_projects.iterrows(), total=ds_detail_projects.shape[0]):\n",
        "  num = num + 1\n",
        "  try:\n",
        "    list_images.append({\"project_id\": project_id,\n",
        "                        \"img_file\": \"img_\" + str(num) + \".jpg\"})\n",
        "    src = project['image']\n",
        "    img_file = requests.get(src, stream=True)\n",
        "    if img_file.status_code == 200:\n",
        "      with open(\"/content/images/img_\" + str(num) + \".jpg\", 'wb') as f:\n",
        "        f.write(img_file.content)\n",
        "  except Exception as e:\n",
        "    print(e)\n",
        "\n"
      ],
      "execution_count": 39,
      "outputs": [
        {
          "output_type": "stream",
          "name": "stderr",
          "text": [
            "/usr/local/lib/python3.7/dist-packages/ipykernel_launcher.py:7: TqdmDeprecationWarning: This function will be removed in tqdm==5.0.0\n",
            "Please use `tqdm.notebook.tqdm` instead of `tqdm.tqdm_notebook`\n",
            "  import sys\n"
          ]
        },
        {
          "output_type": "display_data",
          "data": {
            "text/plain": [
              "  0%|          | 0/116 [00:00<?, ?it/s]"
            ],
            "application/vnd.jupyter.widget-view+json": {
              "version_major": 2,
              "version_minor": 0,
              "model_id": "f2279ae683de4f35b9d20b740d0ad0a3"
            }
          },
          "metadata": {}
        }
      ]
    },
    {
      "cell_type": "code",
      "metadata": {
        "id": "wy5AJ3iUj-DO",
        "colab": {
          "base_uri": "https://localhost:8080/"
        },
        "outputId": "bd066709-bcfe-4e4e-fa60-dba6ef620099"
      },
      "source": [
        "print(len(list_images))"
      ],
      "execution_count": 40,
      "outputs": [
        {
          "output_type": "stream",
          "name": "stdout",
          "text": [
            "116\n"
          ]
        }
      ]
    },
    {
      "cell_type": "code",
      "metadata": {
        "id": "BSPk4TWtAvWj",
        "colab": {
          "base_uri": "https://localhost:8080/",
          "height": 338
        },
        "outputId": "cd813836-38fc-4338-b6fb-1af6bd830f93"
      },
      "source": [
        "%pylab inline\n",
        "import matplotlib.pyplot as plt\n",
        "import matplotlib.image as mpimg\n",
        "img=mpimg.imread('/content/images/img_1.jpg')\n",
        "imgplot = plt.imshow(img)\n",
        "plt.show()"
      ],
      "execution_count": 41,
      "outputs": [
        {
          "output_type": "stream",
          "name": "stdout",
          "text": [
            "Populating the interactive namespace from numpy and matplotlib\n"
          ]
        },
        {
          "output_type": "stream",
          "name": "stderr",
          "text": [
            "/usr/local/lib/python3.7/dist-packages/IPython/core/magics/pylab.py:161: UserWarning: pylab import has clobbered these variables: ['title', 'f']\n",
            "`%matplotlib` prevents importing * from pylab and numpy\n",
            "  \"\\n`%matplotlib` prevents importing * from pylab and numpy\"\n"
          ]
        },
        {
          "output_type": "display_data",
          "data": {
            "text/plain": [
              "<Figure size 432x288 with 1 Axes>"
            ],
            "image/png": "[encoded data removed]"
          },
          "metadata": {
            "needs_background": "light"
          }
        }
      ]
    },
    {
      "cell_type": "code",
      "metadata": {
        "id": "9oq-mP-v8LZl",
        "colab": {
          "base_uri": "https://localhost:8080/",
          "height": 206
        },
        "outputId": "7e9ee003-cce4-414d-82c7-34959ac78f03"
      },
      "source": [
        "import pandas as pd\n",
        "ds_images = pd.DataFrame(list_images)\n",
        "ds_images.set_index(\"project_id\")\n",
        "ds_images.head()"
      ],
      "execution_count": 42,
      "outputs": [
        {
          "output_type": "execute_result",
          "data": {
            "text/plain": [
              "                                          project_id   img_file\n",
              "0  https://www.indiegogo.com/projects/aawireless/...  img_1.jpg\n",
              "1  https://www.indiegogo.com/projects/my-first-ki...  img_2.jpg\n",
              "2  https://www.indiegogo.com/projects/mount-the-u...  img_3.jpg\n",
              "3  https://www.indiegogo.com/projects/atreus-29-h...  img_4.jpg\n",
              "4  https://www.indiegogo.com/projects/piano-man--...  img_5.jpg"
            ],
            "text/html": [
              "\n",
              "  <div id=\"df-0d62ab1a-807a-41ec-9d27-2ae070bea29f\">\n",
              "    <div class=\"colab-df-container\">\n",
              "      <div>\n",
              "<style scoped>\n",
              "    .dataframe tbody tr th:only-of-type {\n",
              "        vertical-align: middle;\n",
              "    }\n",
              "\n",
              "    .dataframe tbody tr th {\n",
              "        vertical-align: top;\n",
              "    }\n",
              "\n",
              "    .dataframe thead th {\n",
              "        text-align: right;\n",
              "    }\n",
              "</style>\n",
              "<table border=\"1\" class=\"dataframe\">\n",
              "  <thead>\n",
              "    <tr style=\"text-align: right;\">\n",
              "      <th></th>\n",
              "      <th>project_id</th>\n",
              "      <th>img_file</th>\n",
              "    </tr>\n",
              "  </thead>\n",
              "  <tbody>\n",
              "    <tr>\n",
              "      <th>0</th>\n",
              "      <td>https://www.indiegogo.com/projects/aawireless/...</td>\n",
              "      <td>img_1.jpg</td>\n",
              "    </tr>\n",
              "    <tr>\n",
              "      <th>1</th>\n",
              "      <td>https://www.indiegogo.com/projects/my-first-ki...</td>\n",
              "      <td>img_2.jpg</td>\n",
              "    </tr>\n",
              "    <tr>\n",
              "      <th>2</th>\n",
              "      <td>https://www.indiegogo.com/projects/mount-the-u...</td>\n",
              "      <td>img_3.jpg</td>\n",
              "    </tr>\n",
              "    <tr>\n",
              "      <th>3</th>\n",
              "      <td>https://www.indiegogo.com/projects/atreus-29-h...</td>\n",
              "      <td>img_4.jpg</td>\n",
              "    </tr>\n",
              "    <tr>\n",
              "      <th>4</th>\n",
              "      <td>https://www.indiegogo.com/projects/piano-man--...</td>\n",
              "      <td>img_5.jpg</td>\n",
              "    </tr>\n",
              "  </tbody>\n",
              "</table>\n",
              "</div>\n",
              "      <button class=\"colab-df-convert\" onclick=\"convertToInteractive('df-0d62ab1a-807a-41ec-9d27-2ae070bea29f')\"\n",
              "              title=\"Convert this dataframe to an interactive table.\"\n",
              "              style=\"display:none;\">\n",
              "        \n",
              "  <svg xmlns=\"http://www.w3.org/2000/svg\" height=\"24px\"viewBox=\"0 0 24 24\"\n",
              "       width=\"24px\">\n",
              "    <path d=\"M0 0h24v24H0V0z\" fill=\"none\"/>\n",
              "    <path d=\"M18.56 5.44l.94 2.06.94-2.06 2.06-.94-2.06-.94-.94-2.06-.94 2.06-2.06.94zm-11 1L8.5 8.5l.94-2.06 2.06-.94-2.06-.94L8.5 2.5l-.94 2.06-2.06.94zm10 10l.94 2.06.94-2.06 2.06-.94-2.06-.94-.94-2.06-.94 2.06-2.06.94z\"/><path d=\"M17.41 7.96l-1.37-1.37c-.4-.4-.92-.59-1.43-.59-.52 0-1.04.2-1.43.59L10.3 9.45l-7.72 7.72c-.78.78-.78 2.05 0 2.83L4 21.41c.39.39.9.59 1.41.59.51 0 1.02-.2 1.41-.59l7.78-7.78 2.81-2.81c.8-.78.8-2.07 0-2.86zM5.41 20L4 18.59l7.72-7.72 1.47 1.35L5.41 20z\"/>\n",
              "  </svg>\n",
              "      </button>\n",
              "      \n",
              "  <style>\n",
              "    .colab-df-container {\n",
              "      display:flex;\n",
              "      flex-wrap:wrap;\n",
              "      gap: 12px;\n",
              "    }\n",
              "\n",
              "    .colab-df-convert {\n",
              "      background-color: #E8F0FE;\n",
              "      border: none;\n",
              "      border-radius: 50%;\n",
              "      cursor: pointer;\n",
              "      display: none;\n",
              "      fill: #1967D2;\n",
              "      height: 32px;\n",
              "      padding: 0 0 0 0;\n",
              "      width: 32px;\n",
              "    }\n",
              "\n",
              "    .colab-df-convert:hover {\n",
              "      background-color: #E2EBFA;\n",
              "      box-shadow: 0px 1px 2px rgba(60, 64, 67, 0.3), 0px 1px 3px 1px rgba(60, 64, 67, 0.15);\n",
              "      fill: #174EA6;\n",
              "    }\n",
              "\n",
              "    [theme=dark] .colab-df-convert {\n",
              "      background-color: #3B4455;\n",
              "      fill: #D2E3FC;\n",
              "    }\n",
              "\n",
              "    [theme=dark] .colab-df-convert:hover {\n",
              "      background-color: #434B5C;\n",
              "      box-shadow: 0px 1px 3px 1px rgba(0, 0, 0, 0.15);\n",
              "      filter: drop-shadow(0px 1px 2px rgba(0, 0, 0, 0.3));\n",
              "      fill: #FFFFFF;\n",
              "    }\n",
              "  </style>\n",
              "\n",
              "      <script>\n",
              "        const buttonEl =\n",
              "          document.querySelector('#df-0d62ab1a-807a-41ec-9d27-2ae070bea29f button.colab-df-convert');\n",
              "        buttonEl.style.display =\n",
              "          google.colab.kernel.accessAllowed ? 'block' : 'none';\n",
              "\n",
              "        async function convertToInteractive(key) {\n",
              "          const element = document.querySelector('#df-0d62ab1a-807a-41ec-9d27-2ae070bea29f');\n",
              "          const dataTable =\n",
              "            await google.colab.kernel.invokeFunction('convertToInteractive',\n",
              "                                                     [key], {});\n",
              "          if (!dataTable) return;\n",
              "\n",
              "          const docLinkHtml = 'Like what you see? Visit the ' +\n",
              "            '<a target=\"_blank\" href=https://colab.research.google.com/notebooks/data_table.ipynb>data table notebook</a>'\n",
              "            + ' to learn more about interactive tables.';\n",
              "          element.innerHTML = '';\n",
              "          dataTable['output_type'] = 'display_data';\n",
              "          await google.colab.output.renderOutput(dataTable, element);\n",
              "          const docLink = document.createElement('div');\n",
              "          docLink.innerHTML = docLinkHtml;\n",
              "          element.appendChild(docLink);\n",
              "        }\n",
              "      </script>\n",
              "    </div>\n",
              "  </div>\n",
              "  "
            ]
          },
          "metadata": {},
          "execution_count": 42
        }
      ]
    },
    {
      "cell_type": "code",
      "metadata": {
        "id": "v1A0HPUPhmdT",
        "colab": {
          "base_uri": "https://localhost:8080/"
        },
        "outputId": "fbdbb13a-f80a-4698-c0b5-4de72e1a0028"
      },
      "source": [
        "ds_images.info()"
      ],
      "execution_count": 43,
      "outputs": [
        {
          "output_type": "stream",
          "name": "stdout",
          "text": [
            "<class 'pandas.core.frame.DataFrame'>\n",
            "RangeIndex: 116 entries, 0 to 115\n",
            "Data columns (total 2 columns):\n",
            " #   Column      Non-Null Count  Dtype \n",
            "---  ------      --------------  ----- \n",
            " 0   project_id  116 non-null    object\n",
            " 1   img_file    116 non-null    object\n",
            "dtypes: object(2)\n",
            "memory usage: 1.9+ KB\n"
          ]
        }
      ]
    },
    {
      "cell_type": "code",
      "metadata": {
        "id": "2CLUnkOW8O0Q"
      },
      "source": [
        "ds_images.to_csv(\"ds_images.csv\")\n"
      ],
      "execution_count": 44,
      "outputs": []
    },
    {
      "cell_type": "code",
      "metadata": {
        "id": "v0F53Zz7JRN2",
        "colab": {
          "base_uri": "https://localhost:8080/"
        },
        "outputId": "794227bb-de1b-4601-9709-d98a12de2c6b"
      },
      "source": [
        "!zip -r \"/content/images.zip\" \"/content/images/\"\n"
      ],
      "execution_count": 45,
      "outputs": [
        {
          "output_type": "stream",
          "name": "stdout",
          "text": [
            "  adding: content/images/ (stored 0%)\n",
            "  adding: content/images/img_20.jpg (deflated 3%)\n",
            "  adding: content/images/img_90.jpg (deflated 0%)\n",
            "  adding: content/images/img_111.jpg (deflated 0%)\n",
            "  adding: content/images/img_70.jpg (deflated 0%)\n",
            "  adding: content/images/img_32.jpg (deflated 0%)\n",
            "  adding: content/images/img_62.jpg (deflated 0%)\n",
            "  adding: content/images/img_47.jpg (deflated 0%)\n",
            "  adding: content/images/img_116.jpg (deflated 1%)\n",
            "  adding: content/images/img_16.jpg (deflated 0%)\n",
            "  adding: content/images/img_58.jpg (deflated 0%)\n",
            "  adding: content/images/img_64.jpg (deflated 3%)\n",
            "  adding: content/images/img_21.jpg (deflated 0%)\n",
            "  adding: content/images/img_1.jpg (deflated 3%)\n",
            "  adding: content/images/img_14.jpg (deflated 6%)\n",
            "  adding: content/images/img_52.jpg (deflated 0%)\n",
            "  adding: content/images/img_17.jpg (deflated 2%)\n",
            "  adding: content/images/img_76.jpg (deflated 0%)\n",
            "  adding: content/images/img_85.jpg (deflated 3%)\n",
            "  adding: content/images/img_37.jpg (deflated 3%)\n",
            "  adding: content/images/img_106.jpg (deflated 0%)\n",
            "  adding: content/images/img_110.jpg (deflated 1%)\n",
            "  adding: content/images/img_24.jpg (deflated 0%)\n",
            "  adding: content/images/img_66.jpg (deflated 1%)\n",
            "  adding: content/images/img_29.jpg (deflated 12%)\n",
            "  adding: content/images/img_75.jpg (deflated 4%)\n",
            "  adding: content/images/img_39.jpg (deflated 1%)\n",
            "  adding: content/images/img_38.jpg (deflated 1%)\n",
            "  adding: content/images/img_83.jpg (deflated 0%)\n",
            "  adding: content/images/img_13.jpg (deflated 0%)\n",
            "  adding: content/images/img_15.jpg (deflated 0%)\n",
            "  adding: content/images/img_112.jpg (deflated 0%)\n",
            "  adding: content/images/img_12.jpg (deflated 0%)\n",
            "  adding: content/images/img_107.jpg (deflated 0%)\n",
            "  adding: content/images/img_99.jpg (deflated 0%)\n",
            "  adding: content/images/img_82.jpg (deflated 0%)\n",
            "  adding: content/images/img_43.jpg (deflated 0%)\n",
            "  adding: content/images/img_19.jpg (deflated 24%)\n",
            "  adding: content/images/img_57.jpg (deflated 0%)\n",
            "  adding: content/images/img_59.jpg (deflated 0%)\n",
            "  adding: content/images/img_65.jpg (deflated 3%)\n",
            "  adding: content/images/img_78.jpg (deflated 1%)\n",
            "  adding: content/images/img_80.jpg (deflated 0%)\n",
            "  adding: content/images/img_73.jpg (deflated 2%)\n",
            "  adding: content/images/img_10.jpg (deflated 0%)\n",
            "  adding: content/images/img_67.jpg (deflated 0%)\n",
            "  adding: content/images/img_92.jpg (deflated 0%)\n",
            "  adding: content/images/img_22.jpg (deflated 0%)\n",
            "  adding: content/images/img_45.jpg (deflated 1%)\n",
            "  adding: content/images/img_96.jpg (deflated 0%)\n",
            "  adding: content/images/img_25.jpg (deflated 2%)\n",
            "  adding: content/images/img_98.jpg (deflated 0%)\n",
            "  adding: content/images/img_105.jpg (deflated 2%)\n",
            "  adding: content/images/img_63.jpg (deflated 2%)\n",
            "  adding: content/images/img_109.jpg (deflated 0%)\n",
            "  adding: content/images/img_72.jpg (deflated 1%)\n",
            "  adding: content/images/img_7.jpg (deflated 0%)\n",
            "  adding: content/images/img_49.jpg (deflated 0%)\n",
            "  adding: content/images/img_69.jpg (deflated 0%)\n",
            "  adding: content/images/img_100.jpg (deflated 0%)\n",
            "  adding: content/images/img_68.jpg (deflated 3%)\n",
            "  adding: content/images/img_89.jpg (deflated 0%)\n",
            "  adding: content/images/img_113.jpg (deflated 0%)\n",
            "  adding: content/images/img_102.jpg (deflated 1%)\n",
            "  adding: content/images/img_27.jpg (deflated 0%)\n",
            "  adding: content/images/img_86.jpg (deflated 2%)\n",
            "  adding: content/images/img_48.jpg (deflated 0%)\n",
            "  adding: content/images/img_46.jpg (deflated 0%)\n",
            "  adding: content/images/img_103.jpg (deflated 1%)\n",
            "  adding: content/images/img_18.jpg (deflated 1%)\n",
            "  adding: content/images/img_115.jpg (deflated 1%)\n",
            "  adding: content/images/img_42.jpg (deflated 1%)\n",
            "  adding: content/images/img_93.jpg (deflated 1%)\n",
            "  adding: content/images/img_95.jpg (deflated 8%)\n",
            "  adding: content/images/img_44.jpg (deflated 0%)\n",
            "  adding: content/images/img_61.jpg (deflated 0%)\n",
            "  adding: content/images/img_3.jpg (deflated 0%)\n",
            "  adding: content/images/img_9.jpg (deflated 0%)\n",
            "  adding: content/images/img_56.jpg (deflated 7%)\n",
            "  adding: content/images/img_71.jpg (deflated 0%)\n",
            "  adding: content/images/img_104.jpg (deflated 1%)\n",
            "  adding: content/images/img_91.jpg (deflated 0%)\n",
            "  adding: content/images/img_79.jpg (deflated 2%)\n",
            "  adding: content/images/img_97.jpg (deflated 0%)\n",
            "  adding: content/images/img_84.jpg (deflated 4%)\n",
            "  adding: content/images/img_11.jpg (deflated 0%)\n",
            "  adding: content/images/img_50.jpg (deflated 2%)\n",
            "  adding: content/images/img_101.jpg (deflated 7%)\n",
            "  adding: content/images/img_31.jpg (deflated 2%)\n",
            "  adding: content/images/img_108.jpg (deflated 3%)\n",
            "  adding: content/images/img_6.jpg (deflated 1%)\n",
            "  adding: content/images/img_114.jpg (deflated 0%)\n",
            "  adding: content/images/img_40.jpg (deflated 0%)\n",
            "  adding: content/images/img_2.jpg (deflated 0%)\n",
            "  adding: content/images/img_5.jpg (deflated 0%)\n",
            "  adding: content/images/img_88.jpg (deflated 0%)\n",
            "  adding: content/images/img_8.jpg (deflated 0%)\n",
            "  adding: content/images/img_81.jpg (deflated 0%)\n",
            "  adding: content/images/img_53.jpg (deflated 1%)\n",
            "  adding: content/images/img_87.jpg (deflated 3%)\n",
            "  adding: content/images/img_36.jpg (deflated 0%)\n",
            "  adding: content/images/img_4.jpg (deflated 0%)\n",
            "  adding: content/images/img_54.jpg (deflated 0%)\n",
            "  adding: content/images/img_74.jpg (deflated 0%)\n",
            "  adding: content/images/img_28.jpg (deflated 1%)\n",
            "  adding: content/images/img_35.jpg (deflated 1%)\n",
            "  adding: content/images/img_41.jpg (deflated 1%)\n",
            "  adding: content/images/img_34.jpg (deflated 3%)\n",
            "  adding: content/images/img_30.jpg (deflated 4%)\n",
            "  adding: content/images/img_33.jpg (deflated 9%)\n",
            "  adding: content/images/img_60.jpg (deflated 2%)\n",
            "  adding: content/images/img_51.jpg (deflated 0%)\n",
            "  adding: content/images/img_94.jpg (deflated 0%)\n",
            "  adding: content/images/img_55.jpg (deflated 1%)\n",
            "  adding: content/images/img_26.jpg (deflated 2%)\n",
            "  adding: content/images/img_23.jpg (deflated 0%)\n",
            "  adding: content/images/img_77.jpg (deflated 1%)\n"
          ]
        }
      ]
    },
    {
      "cell_type": "markdown",
      "metadata": {
        "id": "g_f5pD019XW6"
      },
      "source": [
        "# API\n",
        "\n",
        "Let's see how to use the **requests** library to hook APIs provided by our suppliers or colleagues."
      ]
    },
    {
      "cell_type": "markdown",
      "metadata": {
        "id": "GuDgoTW29jH_"
      },
      "source": [
        "## Crarifai\n",
        "\n",
        "Let's try the services provided by Clarifai to increase the data we have available.\n",
        "\n",
        "\n",
        "First, we need to install the `crarifai` python library.\n",
        "For more details, please visit https://github.com/Clarifai/clarifai-python-grpc\n",
        "\n",
        "To install the API client:\n",
        "\n",
        "\n",
        "```\n",
        "pip install clarifai-grpc\n",
        "```\n",
        "\n",
        "\n",
        "\n",
        "\n"
      ]
    },
    {
      "cell_type": "code",
      "metadata": {
        "id": "WgBUGy519fzQ",
        "colab": {
          "base_uri": "https://localhost:8080/",
          "height": 540
        },
        "outputId": "80dfcf58-7b07-44f9-9e57-207e5a644527"
      },
      "source": [
        "##############################################################################\n",
        "# Installation\n",
        "##############################################################################\n",
        "\n",
        "!pip install clarifai-grpc --upgrade\n",
        "\n"
      ],
      "execution_count": 46,
      "outputs": [
        {
          "output_type": "stream",
          "name": "stdout",
          "text": [
            "Looking in indexes: https://pypi.org/simple, https://us-python.pkg.dev/colab-wheels/public/simple/\n",
            "Collecting clarifai-grpc\n",
            "  Downloading clarifai_grpc-8.0.0-py3-none-any.whl (165 kB)\n",
            "\u001b[K     |████████████████████████████████| 165 kB 7.5 MB/s \n",
            "\u001b[?25hRequirement already satisfied: googleapis-common-protos>=1.53.0 in /usr/local/lib/python3.7/dist-packages (from clarifai-grpc) (1.56.2)\n",
            "Requirement already satisfied: grpcio>=1.36.0 in /usr/local/lib/python3.7/dist-packages (from clarifai-grpc) (1.46.3)\n",
            "Collecting requests>=2.25.1\n",
            "  Downloading requests-2.27.1-py2.py3-none-any.whl (63 kB)\n",
            "\u001b[K     |████████████████████████████████| 63 kB 1.7 MB/s \n",
            "\u001b[?25hRequirement already satisfied: protobuf>=3.15.6 in /usr/local/lib/python3.7/dist-packages (from clarifai-grpc) (3.17.3)\n",
            "Requirement already satisfied: six>=1.5.2 in /usr/local/lib/python3.7/dist-packages (from grpcio>=1.36.0->clarifai-grpc) (1.15.0)\n",
            "Requirement already satisfied: idna<4,>=2.5 in /usr/local/lib/python3.7/dist-packages (from requests>=2.25.1->clarifai-grpc) (2.10)\n",
            "Requirement already satisfied: charset-normalizer~=2.0.0 in /usr/local/lib/python3.7/dist-packages (from requests>=2.25.1->clarifai-grpc) (2.0.12)\n",
            "Requirement already satisfied: urllib3<1.27,>=1.21.1 in /usr/local/lib/python3.7/dist-packages (from requests>=2.25.1->clarifai-grpc) (1.26.9)\n",
            "Requirement already satisfied: certifi>=2017.4.17 in /usr/local/lib/python3.7/dist-packages (from requests>=2.25.1->clarifai-grpc) (2022.5.18.1)\n",
            "Installing collected packages: requests, clarifai-grpc\n",
            "  Attempting uninstall: requests\n",
            "    Found existing installation: requests 2.23.0\n",
            "    Uninstalling requests-2.23.0:\n",
            "      Successfully uninstalled requests-2.23.0\n",
            "\u001b[31mERROR: pip's dependency resolver does not currently take into account all the packages that are installed. This behaviour is the source of the following dependency conflicts.\n",
            "google-colab 1.0.0 requires requests~=2.23.0, but you have requests 2.27.1 which is incompatible.\n",
            "datascience 0.10.6 requires folium==0.2.1, but you have folium 0.8.3 which is incompatible.\u001b[0m\n",
            "Successfully installed clarifai-grpc-8.0.0 requests-2.27.1\n"
          ]
        },
        {
          "output_type": "display_data",
          "data": {
            "application/vnd.colab-display-data+json": {
              "pip_warning": {
                "packages": [
                  "requests"
                ]
              }
            }
          },
          "metadata": {}
        }
      ]
    },
    {
      "cell_type": "code",
      "metadata": {
        "id": "L-IGZIOzPECg"
      },
      "source": [
        "##############################################################################\n",
        "# Initialize client\n",
        "##############################################################################\n",
        "\n",
        "from clarifai_grpc.channel.clarifai_channel import ClarifaiChannel\n",
        "from clarifai_grpc.grpc.api import resources_pb2, service_pb2, service_pb2_grpc\n",
        "from clarifai_grpc.grpc.api.status import status_pb2, status_code_pb2\n",
        "\n",
        "channel = ClarifaiChannel.get_grpc_channel()\n",
        "\n",
        "# Note: You can also use a secure (encrypted) ClarifaiChannel.get_grpc_channel() however\n",
        "# it is currently not possible to use it with the latest gRPC version\n",
        "\n",
        "stub = service_pb2_grpc.V2Stub(channel)\n",
        "\n",
        "# This will be used by every Clarifai endpoint call.\n",
        "metadata = (('authorization', 'Key 05a84c8d24f44480bb93b289ac5a8e53'),)"
      ],
      "execution_count": 47,
      "outputs": []
    },
    {
      "cell_type": "markdown",
      "metadata": {
        "id": "vi3vpTjo-JlU"
      },
      "source": [
        "We will use the `predict_by_filename` method to obtain the **concepts** within the page.\n"
      ]
    },
    {
      "cell_type": "code",
      "metadata": {
        "id": "PdE1bYOBPQPv"
      },
      "source": [
        "with open(\"/content/images/img_1.jpg\", \"rb\") as f:\n",
        "    file_bytes = f.read()\n",
        "\n",
        "post_model_outputs_response = stub.PostModelOutputs(\n",
        "    service_pb2.PostModelOutputsRequest(\n",
        "        model_id=\"aaa03c23b3724a16a56b629203edc62c\",\n",
        "        inputs=[\n",
        "            resources_pb2.Input(\n",
        "                data=resources_pb2.Data(\n",
        "                    image=resources_pb2.Image(\n",
        "                        base64=file_bytes\n",
        "                    )\n",
        "                )\n",
        "            )\n",
        "        ]\n",
        "    ),\n",
        "    metadata=metadata\n",
        ")\n",
        "\n",
        "if post_model_outputs_response.status.code != status_code_pb2.SUCCESS:\n",
        "    raise Exception(\"Post model outputs failed, status: \" + post_model_outputs_response.status.description)\n"
      ],
      "execution_count": 48,
      "outputs": []
    },
    {
      "cell_type": "code",
      "metadata": {
        "colab": {
          "base_uri": "https://localhost:8080/"
        },
        "id": "HvIP0I5NTK09",
        "outputId": "8f45a396-4497-4cca-ac9a-ce62a4be5815"
      },
      "source": [
        "post_model_outputs_response"
      ],
      "execution_count": 49,
      "outputs": [
        {
          "output_type": "execute_result",
          "data": {
            "text/plain": [
              "status {\n",
              "  code: SUCCESS\n",
              "  description: \"Ok\"\n",
              "  req_id: \"39bc4d6691f2ff9380bdaa095c8d0100\"\n",
              "}\n",
              "outputs {\n",
              "  id: \"bea2d618d41d4bcbb2655baace922d3d\"\n",
              "  status {\n",
              "    code: SUCCESS\n",
              "    description: \"Ok\"\n",
              "  }\n",
              "  created_at {\n",
              "    seconds: 1654540196\n",
              "    nanos: 93062897\n",
              "  }\n",
              "  model {\n",
              "    id: \"general-image-recognition\"\n",
              "    name: \"general\"\n",
              "    created_at {\n",
              "      seconds: 1457543499\n",
              "      nanos: 608845000\n",
              "    }\n",
              "    app_id: \"main\"\n",
              "    output_info {\n",
              "      output_config {\n",
              "      }\n",
              "      message: \"Show output_info with: GET /models/{model_id}/output_info\"\n",
              "      fields_map {\n",
              "        fields {\n",
              "          key: \"concepts\"\n",
              "          value {\n",
              "            string_value: \"softmax\"\n",
              "          }\n",
              "        }\n",
              "      }\n",
              "    }\n",
              "    model_version {\n",
              "      id: \"aa7f35c01e0642fda5cf400f543e7c40\"\n",
              "      created_at {\n",
              "        seconds: 1520370624\n",
              "        nanos: 454834000\n",
              "      }\n",
              "      status {\n",
              "        code: MODEL_TRAINED\n",
              "        description: \"Model is trained and ready\"\n",
              "      }\n",
              "      visibility {\n",
              "        gettable: PUBLIC\n",
              "      }\n",
              "      app_id: \"main\"\n",
              "      user_id: \"clarifai\"\n",
              "      metadata {\n",
              "      }\n",
              "    }\n",
              "    user_id: \"clarifai\"\n",
              "    input_info {\n",
              "      fields_map {\n",
              "        fields {\n",
              "          key: \"image\"\n",
              "          value {\n",
              "            string_value: \"images\"\n",
              "          }\n",
              "        }\n",
              "      }\n",
              "    }\n",
              "    train_info {\n",
              "    }\n",
              "    model_type_id: \"visual-classifier\"\n",
              "    visibility {\n",
              "      gettable: PUBLIC\n",
              "    }\n",
              "    modified_at {\n",
              "      seconds: 1648153319\n",
              "      nanos: 760183000\n",
              "    }\n",
              "    import_info {\n",
              "    }\n",
              "  }\n",
              "  input {\n",
              "    id: \"17cea62d3b884d6a904df113d68eb20a\"\n",
              "    data {\n",
              "      image {\n",
              "        url: \"https://samples.clarifai.com/placeholder.gif\"\n",
              "        base64: \"true\"\n",
              "      }\n",
              "    }\n",
              "  }\n",
              "  data {\n",
              "    concepts {\n",
              "      id: \"ai_62K34TR4\"\n",
              "      name: \"technology\"\n",
              "      value: 0.985519289970398\n",
              "      app_id: \"main\"\n",
              "    }\n",
              "    concepts {\n",
              "      id: \"ai_XjXrH3qf\"\n",
              "      name: \"electronics\"\n",
              "      value: 0.9566008448600769\n",
              "      app_id: \"main\"\n",
              "    }\n",
              "    concepts {\n",
              "      id: \"ai_GzNlpxwb\"\n",
              "      name: \"equipment\"\n",
              "      value: 0.9510580897331238\n",
              "      app_id: \"main\"\n",
              "    }\n",
              "    concepts {\n",
              "      id: \"ai_hHMzVnx2\"\n",
              "      name: \"internet\"\n",
              "      value: 0.9464861154556274\n",
              "      app_id: \"main\"\n",
              "    }\n",
              "    concepts {\n",
              "      id: \"ai_xBpBSlkz\"\n",
              "      name: \"screen\"\n",
              "      value: 0.9351216554641724\n",
              "      app_id: \"main\"\n",
              "    }\n",
              "    concepts {\n",
              "      id: \"ai_6lhccv44\"\n",
              "      name: \"business\"\n",
              "      value: 0.9196020364761353\n",
              "      app_id: \"main\"\n",
              "    }\n",
              "    concepts {\n",
              "      id: \"ai_Dm5GLXnB\"\n",
              "      name: \"illustration\"\n",
              "      value: 0.9174948930740356\n",
              "      app_id: \"main\"\n",
              "    }\n",
              "    concepts {\n",
              "      id: \"ai_rxcHpHks\"\n",
              "      name: \"isolated\"\n",
              "      value: 0.9146090745925903\n",
              "      app_id: \"main\"\n",
              "    }\n",
              "    concepts {\n",
              "      id: \"ai_4ScHvd0z\"\n",
              "      name: \"movie\"\n",
              "      value: 0.8939766883850098\n",
              "      app_id: \"main\"\n",
              "    }\n",
              "    concepts {\n",
              "      id: \"ai_4Qjv5PTH\"\n",
              "      name: \"modern\"\n",
              "      value: 0.8888587355613708\n",
              "      app_id: \"main\"\n",
              "    }\n",
              "    concepts {\n",
              "      id: \"ai_P2ktCFHk\"\n",
              "      name: \"plastic\"\n",
              "      value: 0.88620924949646\n",
              "      app_id: \"main\"\n",
              "    }\n",
              "    concepts {\n",
              "      id: \"ai_SZ0mBjV8\"\n",
              "      name: \"designing\"\n",
              "      value: 0.8742769956588745\n",
              "      app_id: \"main\"\n",
              "    }\n",
              "    concepts {\n",
              "      id: \"ai_2wK2dkNW\"\n",
              "      name: \"image\"\n",
              "      value: 0.873159646987915\n",
              "      app_id: \"main\"\n",
              "    }\n",
              "    concepts {\n",
              "      id: \"ai_M8sQ9ML9\"\n",
              "      name: \"display\"\n",
              "      value: 0.8722288012504578\n",
              "      app_id: \"main\"\n",
              "    }\n",
              "    concepts {\n",
              "      id: \"ai_vfV1Zf9w\"\n",
              "      name: \"horizontal\"\n",
              "      value: 0.8643726706504822\n",
              "      app_id: \"main\"\n",
              "    }\n",
              "    concepts {\n",
              "      id: \"ai_C63F1bhk\"\n",
              "      name: \"video\"\n",
              "      value: 0.8481804132461548\n",
              "      app_id: \"main\"\n",
              "    }\n",
              "    concepts {\n",
              "      id: \"ai_PpTcwbdQ\"\n",
              "      name: \"computer\"\n",
              "      value: 0.8363500833511353\n",
              "      app_id: \"main\"\n",
              "    }\n",
              "    concepts {\n",
              "      id: \"ai_Lq00FggW\"\n",
              "      name: \"desktop\"\n",
              "      value: 0.8295618891716003\n",
              "      app_id: \"main\"\n",
              "    }\n",
              "    concepts {\n",
              "      id: \"ai_9kHRpGGd\"\n",
              "      name: \"data\"\n",
              "      value: 0.8265551924705505\n",
              "      app_id: \"main\"\n",
              "    }\n",
              "    concepts {\n",
              "      id: \"ai_6KkVGbdm\"\n",
              "      name: \"telephone\"\n",
              "      value: 0.8209148645401001\n",
              "      app_id: \"main\"\n",
              "    }\n",
              "  }\n",
              "}"
            ]
          },
          "metadata": {},
          "execution_count": 49
        }
      ]
    },
    {
      "cell_type": "markdown",
      "metadata": {
        "id": "6gNKcVLk-bU-"
      },
      "source": [
        "What type of data does that give us back?\n",
        "Let's have a look!"
      ]
    },
    {
      "cell_type": "code",
      "metadata": {
        "id": "vUKxISg_-kht",
        "colab": {
          "base_uri": "https://localhost:8080/"
        },
        "outputId": "611b7a67-a279-40ca-c86b-4f7c6acd92ef"
      },
      "source": [
        "# Since we have one input, one output will exist here.\n",
        "output = post_model_outputs_response.outputs[0]\n",
        "\n",
        "print(\"Predicted concepts:\")\n",
        "for concept in output.data.concepts:\n",
        "    print(\"%s %.2f\" % (concept.name, concept.value))"
      ],
      "execution_count": 50,
      "outputs": [
        {
          "output_type": "stream",
          "name": "stdout",
          "text": [
            "Predicted concepts:\n",
            "technology 0.99\n",
            "electronics 0.96\n",
            "equipment 0.95\n",
            "internet 0.95\n",
            "screen 0.94\n",
            "business 0.92\n",
            "illustration 0.92\n",
            "isolated 0.91\n",
            "movie 0.89\n",
            "modern 0.89\n",
            "plastic 0.89\n",
            "designing 0.87\n",
            "image 0.87\n",
            "display 0.87\n",
            "horizontal 0.86\n",
            "video 0.85\n",
            "computer 0.84\n",
            "desktop 0.83\n",
            "data 0.83\n",
            "telephone 0.82\n"
          ]
        }
      ]
    },
    {
      "cell_type": "code",
      "metadata": {
        "id": "LfbwCHBAT-oH"
      },
      "source": [
        "output"
      ],
      "execution_count": null,
      "outputs": []
    },
    {
      "cell_type": "markdown",
      "metadata": {
        "id": "0RiAZbNkB5Au"
      },
      "source": [
        "Now let's go and identify all the concepts for each image of each project."
      ]
    },
    {
      "cell_type": "code",
      "metadata": {
        "id": "uu3J01GhB_w4",
        "colab": {
          "base_uri": "https://localhost:8080/",
          "height": 118,
          "referenced_widgets": [
            "845afb0c6ff2499dbe79bcba2325dc21",
            "21bac7b99fdc4db89d7feff49a37eab3",
            "8aededa86faf4449828811760aac6548",
            "5c03ac470f5a47449c22b9a49e9feb95",
            "e6017b7a032341e6aa96957b9c6e73a4",
            "a9a3afce0d90462c8936f66afc3162a5",
            "599921bfb41c4ae48d3e07dc25489e83",
            "64d5aaa8519844d49e94ddf14d6df935",
            "bf75f82022c942089fdb6d32237373d5",
            "7be060692ee14fb58a7608ec8cc76b80",
            "47cb1191257c46f5ab11a78376343ff5"
          ]
        },
        "outputId": "45a957c5-b8dd-446f-972d-d793287b6728"
      },
      "source": [
        "ds_images = pd.read_csv(\"ds_images.csv\", index_col=\"project_id\")\n",
        "\n",
        "img_details = []\n",
        "for project_id, image in tqdm(ds_images.iterrows(), total=ds_images.shape[0]):\n",
        "  try:\n",
        "    with open('/content/images/' + image['img_file'], \"rb\") as f:\n",
        "      file_bytes = f.read()\n",
        "    response = stub.PostModelOutputs(\n",
        "        service_pb2.PostModelOutputsRequest(\n",
        "            model_id=\"aaa03c23b3724a16a56b629203edc62c\",\n",
        "            inputs=[\n",
        "                resources_pb2.Input(\n",
        "                    data=resources_pb2.Data(\n",
        "                        image=resources_pb2.Image(\n",
        "                            base64=file_bytes\n",
        "                        )\n",
        "                    )\n",
        "                )\n",
        "            ]\n",
        "        ),\n",
        "        metadata=metadata\n",
        "    ).outputs[0]\n",
        "    if(response.status.description == \"Ok\"):\n",
        "      for concept in response.data.concepts:\n",
        "          name = concept.name\n",
        "          value = concept.value\n",
        "          img_details.append({\n",
        "            \"project_id\": project_id,\n",
        "            \"image\": image['img_file'],\n",
        "            \"name\": name,\n",
        "            \"value\": value\n",
        "          })\n",
        "  except Exception as e:\n",
        "    print(e)\n",
        "\n",
        "print(len(img_details))"
      ],
      "execution_count": 52,
      "outputs": [
        {
          "output_type": "stream",
          "name": "stderr",
          "text": [
            "/usr/local/lib/python3.7/dist-packages/ipykernel_launcher.py:4: TqdmDeprecationWarning: This function will be removed in tqdm==5.0.0\n",
            "Please use `tqdm.notebook.tqdm` instead of `tqdm.tqdm_notebook`\n",
            "  after removing the cwd from sys.path.\n"
          ]
        },
        {
          "output_type": "display_data",
          "data": {
            "text/plain": [
              "  0%|          | 0/116 [00:00<?, ?it/s]"
            ],
            "application/vnd.jupyter.widget-view+json": {
              "version_major": 2,
              "version_minor": 0,
              "model_id": "845afb0c6ff2499dbe79bcba2325dc21"
            }
          },
          "metadata": {}
        },
        {
          "output_type": "stream",
          "name": "stdout",
          "text": [
            "2320\n"
          ]
        }
      ]
    },
    {
      "cell_type": "code",
      "metadata": {
        "id": "5nIUezSrDTKK",
        "colab": {
          "base_uri": "https://localhost:8080/",
          "height": 206
        },
        "outputId": "64a23a77-3d64-44f5-ff20-9d8bbc4b9c43"
      },
      "source": [
        "import pandas as pd\n",
        "ds_img_details = pd.DataFrame(img_details)\n",
        "ds_img_details.set_index(\"image\")\n",
        "ds_img_details.head()"
      ],
      "execution_count": 53,
      "outputs": [
        {
          "output_type": "execute_result",
          "data": {
            "text/plain": [
              "                                          project_id      image         name  \\\n",
              "0  https://www.indiegogo.com/projects/aawireless/...  img_1.jpg   technology   \n",
              "1  https://www.indiegogo.com/projects/aawireless/...  img_1.jpg  electronics   \n",
              "2  https://www.indiegogo.com/projects/aawireless/...  img_1.jpg    equipment   \n",
              "3  https://www.indiegogo.com/projects/aawireless/...  img_1.jpg     internet   \n",
              "4  https://www.indiegogo.com/projects/aawireless/...  img_1.jpg       screen   \n",
              "\n",
              "      value  \n",
              "0  0.985519  \n",
              "1  0.956601  \n",
              "2  0.951058  \n",
              "3  0.946486  \n",
              "4  0.935122  "
            ],
            "text/html": [
              "\n",
              "  <div id=\"df-01081029-8b13-48bd-bec4-e6cb51885071\">\n",
              "    <div class=\"colab-df-container\">\n",
              "      <div>\n",
              "<style scoped>\n",
              "    .dataframe tbody tr th:only-of-type {\n",
              "        vertical-align: middle;\n",
              "    }\n",
              "\n",
              "    .dataframe tbody tr th {\n",
              "        vertical-align: top;\n",
              "    }\n",
              "\n",
              "    .dataframe thead th {\n",
              "        text-align: right;\n",
              "    }\n",
              "</style>\n",
              "<table border=\"1\" class=\"dataframe\">\n",
              "  <thead>\n",
              "    <tr style=\"text-align: right;\">\n",
              "      <th></th>\n",
              "      <th>project_id</th>\n",
              "      <th>image</th>\n",
              "      <th>name</th>\n",
              "      <th>value</th>\n",
              "    </tr>\n",
              "  </thead>\n",
              "  <tbody>\n",
              "    <tr>\n",
              "      <th>0</th>\n",
              "      <td>https://www.indiegogo.com/projects/aawireless/...</td>\n",
              "      <td>img_1.jpg</td>\n",
              "      <td>technology</td>\n",
              "      <td>0.985519</td>\n",
              "    </tr>\n",
              "    <tr>\n",
              "      <th>1</th>\n",
              "      <td>https://www.indiegogo.com/projects/aawireless/...</td>\n",
              "      <td>img_1.jpg</td>\n",
              "      <td>electronics</td>\n",
              "      <td>0.956601</td>\n",
              "    </tr>\n",
              "    <tr>\n",
              "      <th>2</th>\n",
              "      <td>https://www.indiegogo.com/projects/aawireless/...</td>\n",
              "      <td>img_1.jpg</td>\n",
              "      <td>equipment</td>\n",
              "      <td>0.951058</td>\n",
              "    </tr>\n",
              "    <tr>\n",
              "      <th>3</th>\n",
              "      <td>https://www.indiegogo.com/projects/aawireless/...</td>\n",
              "      <td>img_1.jpg</td>\n",
              "      <td>internet</td>\n",
              "      <td>0.946486</td>\n",
              "    </tr>\n",
              "    <tr>\n",
              "      <th>4</th>\n",
              "      <td>https://www.indiegogo.com/projects/aawireless/...</td>\n",
              "      <td>img_1.jpg</td>\n",
              "      <td>screen</td>\n",
              "      <td>0.935122</td>\n",
              "    </tr>\n",
              "  </tbody>\n",
              "</table>\n",
              "</div>\n",
              "      <button class=\"colab-df-convert\" onclick=\"convertToInteractive('df-01081029-8b13-48bd-bec4-e6cb51885071')\"\n",
              "              title=\"Convert this dataframe to an interactive table.\"\n",
              "              style=\"display:none;\">\n",
              "        \n",
              "  <svg xmlns=\"http://www.w3.org/2000/svg\" height=\"24px\"viewBox=\"0 0 24 24\"\n",
              "       width=\"24px\">\n",
              "    <path d=\"M0 0h24v24H0V0z\" fill=\"none\"/>\n",
              "    <path d=\"M18.56 5.44l.94 2.06.94-2.06 2.06-.94-2.06-.94-.94-2.06-.94 2.06-2.06.94zm-11 1L8.5 8.5l.94-2.06 2.06-.94-2.06-.94L8.5 2.5l-.94 2.06-2.06.94zm10 10l.94 2.06.94-2.06 2.06-.94-2.06-.94-.94-2.06-.94 2.06-2.06.94z\"/><path d=\"M17.41 7.96l-1.37-1.37c-.4-.4-.92-.59-1.43-.59-.52 0-1.04.2-1.43.59L10.3 9.45l-7.72 7.72c-.78.78-.78 2.05 0 2.83L4 21.41c.39.39.9.59 1.41.59.51 0 1.02-.2 1.41-.59l7.78-7.78 2.81-2.81c.8-.78.8-2.07 0-2.86zM5.41 20L4 18.59l7.72-7.72 1.47 1.35L5.41 20z\"/>\n",
              "  </svg>\n",
              "      </button>\n",
              "      \n",
              "  <style>\n",
              "    .colab-df-container {\n",
              "      display:flex;\n",
              "      flex-wrap:wrap;\n",
              "      gap: 12px;\n",
              "    }\n",
              "\n",
              "    .colab-df-convert {\n",
              "      background-color: #E8F0FE;\n",
              "      border: none;\n",
              "      border-radius: 50%;\n",
              "      cursor: pointer;\n",
              "      display: none;\n",
              "      fill: #1967D2;\n",
              "      height: 32px;\n",
              "      padding: 0 0 0 0;\n",
              "      width: 32px;\n",
              "    }\n",
              "\n",
              "    .colab-df-convert:hover {\n",
              "      background-color: #E2EBFA;\n",
              "      box-shadow: 0px 1px 2px rgba(60, 64, 67, 0.3), 0px 1px 3px 1px rgba(60, 64, 67, 0.15);\n",
              "      fill: #174EA6;\n",
              "    }\n",
              "\n",
              "    [theme=dark] .colab-df-convert {\n",
              "      background-color: #3B4455;\n",
              "      fill: #D2E3FC;\n",
              "    }\n",
              "\n",
              "    [theme=dark] .colab-df-convert:hover {\n",
              "      background-color: #434B5C;\n",
              "      box-shadow: 0px 1px 3px 1px rgba(0, 0, 0, 0.15);\n",
              "      filter: drop-shadow(0px 1px 2px rgba(0, 0, 0, 0.3));\n",
              "      fill: #FFFFFF;\n",
              "    }\n",
              "  </style>\n",
              "\n",
              "      <script>\n",
              "        const buttonEl =\n",
              "          document.querySelector('#df-01081029-8b13-48bd-bec4-e6cb51885071 button.colab-df-convert');\n",
              "        buttonEl.style.display =\n",
              "          google.colab.kernel.accessAllowed ? 'block' : 'none';\n",
              "\n",
              "        async function convertToInteractive(key) {\n",
              "          const element = document.querySelector('#df-01081029-8b13-48bd-bec4-e6cb51885071');\n",
              "          const dataTable =\n",
              "            await google.colab.kernel.invokeFunction('convertToInteractive',\n",
              "                                                     [key], {});\n",
              "          if (!dataTable) return;\n",
              "\n",
              "          const docLinkHtml = 'Like what you see? Visit the ' +\n",
              "            '<a target=\"_blank\" href=https://colab.research.google.com/notebooks/data_table.ipynb>data table notebook</a>'\n",
              "            + ' to learn more about interactive tables.';\n",
              "          element.innerHTML = '';\n",
              "          dataTable['output_type'] = 'display_data';\n",
              "          await google.colab.output.renderOutput(dataTable, element);\n",
              "          const docLink = document.createElement('div');\n",
              "          docLink.innerHTML = docLinkHtml;\n",
              "          element.appendChild(docLink);\n",
              "        }\n",
              "      </script>\n",
              "    </div>\n",
              "  </div>\n",
              "  "
            ]
          },
          "metadata": {},
          "execution_count": 53
        }
      ]
    },
    {
      "cell_type": "code",
      "metadata": {
        "id": "VXJF8-Q4ljK7",
        "colab": {
          "base_uri": "https://localhost:8080/"
        },
        "outputId": "8c8e69f0-1115-409b-d5a7-534eb08fceea"
      },
      "source": [
        "ds_img_details.info()"
      ],
      "execution_count": 54,
      "outputs": [
        {
          "output_type": "stream",
          "name": "stdout",
          "text": [
            "<class 'pandas.core.frame.DataFrame'>\n",
            "RangeIndex: 2320 entries, 0 to 2319\n",
            "Data columns (total 4 columns):\n",
            " #   Column      Non-Null Count  Dtype  \n",
            "---  ------      --------------  -----  \n",
            " 0   project_id  2320 non-null   object \n",
            " 1   image       2320 non-null   object \n",
            " 2   name        2320 non-null   object \n",
            " 3   value       2320 non-null   float64\n",
            "dtypes: float64(1), object(3)\n",
            "memory usage: 72.6+ KB\n"
          ]
        }
      ]
    },
    {
      "cell_type": "code",
      "metadata": {
        "id": "1WR4kQBsDXwx"
      },
      "source": [
        "ds_img_details.to_csv('ds_img_details.csv')"
      ],
      "execution_count": 55,
      "outputs": []
    },
    {
      "cell_type": "markdown",
      "metadata": {
        "id": "Kt_AIhQM-6zi"
      },
      "source": [
        "# Geocoding\n",
        "\n",
        "What's geocoding?\n",
        "\n"
      ]
    },
    {
      "cell_type": "markdown",
      "metadata": {
        "id": "tBcxapgb_lGp"
      },
      "source": [
        "Let's try to geolocalize the projects..."
      ]
    },
    {
      "cell_type": "code",
      "metadata": {
        "id": "B4IO9haO_o7W",
        "colab": {
          "base_uri": "https://localhost:8080/"
        },
        "outputId": "d58cd110-46be-40fe-c1bc-3e126334c8dd"
      },
      "source": [
        "import requests\n",
        "import json\n",
        "import pprint\n",
        "import pandas as pd\n",
        "from tqdm import tqdm_notebook as tqdm\n",
        "\n",
        "address = \"New Orleans, LA\"\n",
        "key = \"r3xgNwBAviBMdOj4Op90kvyy2iO1CDGz\"\n",
        "geocode_url = f\"http://www.mapquestapi.com/geocoding/v1/address?key={key}&location={address}\"\n",
        "response = requests.get(geocode_url)\n",
        "\n",
        "import json\n",
        "geo = json.loads(response.text)\n",
        "pprint.pprint(response.text)"
      ],
      "execution_count": 56,
      "outputs": [
        {
          "output_type": "stream",
          "name": "stdout",
          "text": [
            "('{\"info\":{\"statuscode\":0,\"copyright\":{\"text\":\"\\\\u00A9 2022 MapQuest, '\n",
            " 'Inc.\",\"imageUrl\":\"http://api.mqcdn.com/res/mqlogo.gif\",\"imageAltText\":\"\\\\u00A9 '\n",
            " '2022 MapQuest, '\n",
            " 'Inc.\"},\"messages\":[]},\"options\":{\"maxResults\":-1,\"thumbMaps\":true,\"ignoreLatLngInput\":false},\"results\":[{\"providedLocation\":{\"location\":\"New '\n",
            " 'Orleans, '\n",
            " 'LA\"},\"locations\":[{\"street\":\"\",\"adminArea6\":\"\",\"adminArea6Type\":\"Neighborhood\",\"adminArea5\":\"New '\n",
            " 'Orleans\",\"adminArea5Type\":\"City\",\"adminArea4\":\"Orleans '\n",
            " 'Parish\",\"adminArea4Type\":\"County\",\"adminArea3\":\"LA\",\"adminArea3Type\":\"State\",\"adminArea1\":\"US\",\"adminArea1Type\":\"Country\",\"postalCode\":\"\",\"geocodeQualityCode\":\"A5XAX\",\"geocodeQuality\":\"CITY\",\"dragPoint\":false,\"sideOfStreet\":\"N\",\"linkId\":\"282038950\",\"unknownInput\":\"\",\"type\":\"s\",\"latLng\":{\"lat\":29.950621,\"lng\":-90.074948},\"displayLatLng\":{\"lat\":29.950621,\"lng\":-90.074948},\"mapUrl\":\"http://www.mapquestapi.com/staticmap/v5/map?key=r3xgNwBAviBMdOj4Op90kvyy2iO1CDGz&type=map&size=225,160&locations=29.950621,-90.074948|marker-sm-50318A-1&scalebar=true&zoom=12&rand=-442955559\"}]}]}')\n"
          ]
        }
      ]
    },
    {
      "cell_type": "code",
      "metadata": {
        "id": "LRQ24oZf_0XB",
        "colab": {
          "base_uri": "https://localhost:8080/"
        },
        "outputId": "f0f68841-4bc9-4776-bb26-66feaded8dc9"
      },
      "source": [
        "print(geo['results'][0]['locations'][0]['latLng']['lat'])\n",
        "print(geo['results'][0]['locations'][0]['latLng']['lng'])"
      ],
      "execution_count": 57,
      "outputs": [
        {
          "output_type": "stream",
          "name": "stdout",
          "text": [
            "29.950621\n",
            "-90.074948\n"
          ]
        }
      ]
    },
    {
      "cell_type": "code",
      "metadata": {
        "id": "GQNKNIi1988g",
        "colab": {
          "base_uri": "https://localhost:8080/"
        },
        "outputId": "e5bcd19e-24f6-4237-a495-3f310e1e1ff9"
      },
      "source": [
        "ds_projects = pd.read_csv(\"ds_project_details.csv\", index_col=\"project_id\")\n",
        "ds_projects.info()"
      ],
      "execution_count": 58,
      "outputs": [
        {
          "output_type": "stream",
          "name": "stdout",
          "text": [
            "<class 'pandas.core.frame.DataFrame'>\n",
            "Index: 10 entries, https://www.indiegogo.com/projects/aawireless/pica to https://www.indiegogo.com/projects/light-repel-most-portable-mosquito-repeller-ever/pica\n",
            "Data columns (total 6 columns):\n",
            " #   Column      Non-Null Count  Dtype \n",
            "---  ------      --------------  ----- \n",
            " 0   Unnamed: 0  10 non-null     int64 \n",
            " 1   backers     10 non-null     object\n",
            " 2   goal        10 non-null     object\n",
            " 3   left        10 non-null     object\n",
            " 4   owner       8 non-null      object\n",
            " 5   location    8 non-null      object\n",
            "dtypes: int64(1), object(5)\n",
            "memory usage: 560.0+ bytes\n"
          ]
        }
      ]
    },
    {
      "cell_type": "code",
      "metadata": {
        "id": "feuWng0zDudp",
        "colab": {
          "base_uri": "https://localhost:8080/",
          "height": 118,
          "referenced_widgets": [
            "7f31361ce38145ccab5d8ef5afd859a2",
            "3c10b4ec09e24002ad97cbcb7025676c",
            "81fe856993e941cbbdc743f4059d9253",
            "a974841a7cfa4ff090b3d1276ea0e4f4",
            "5c4b500aa30d42bfb94ca5adede42749",
            "7bf8ec53faf2403caf95ca8e2d1fe339",
            "29645faa18324fabab840eb68b90d73e",
            "09e3c1271e0c4b8d8733777fa87dc5b9",
            "5e931f1d43e5468e997379e59e87f961",
            "be00b7bf91614950989d3236767358bd",
            "f4871f77e90640fea50a7d550911df82"
          ]
        },
        "outputId": "209d5b49-b635-48fa-a2bf-c57fc47f6942"
      },
      "source": [
        "ds_projects = pd.read_csv(\"ds_project_details.csv\", index_col=\"project_id\")\n",
        "\n",
        "import time\n",
        "project_location = []\n",
        "for project_id, project in tqdm(ds_projects.iterrows(), total=ds_projects.shape[0]):\n",
        "  address = project['location']\n",
        "  if(address is None):\n",
        "    print(str(project_id) + \"- \" + project['location'])\n",
        "  else:\n",
        "    key = \"r3xgNwBAviBMdOj4Op90kvyy2iO1CDGz\"\n",
        "    try:\n",
        "      geocode_url = f\"http://www.mapquestapi.com/geocoding/v1/address?key={key}&location={address}\"\n",
        "      response = requests.get(geocode_url)\n",
        "      if(response.status_code == 200):\n",
        "        geo = json.loads(response.text)\n",
        "        lat = geo['results'][0]['locations'][0]['latLng']['lat']\n",
        "        lng = geo['results'][0]['locations'][0]['latLng']['lng']\n",
        "        project_location.append({\n",
        "              \"project_id\": project_id,\n",
        "              \"lat\": lat,\n",
        "              \"lng\": lng\n",
        "            })\n",
        "    except Exception as e:\n",
        "      print(e)\n",
        "    \n",
        "\n",
        "print(len(project_location))"
      ],
      "execution_count": 59,
      "outputs": [
        {
          "output_type": "stream",
          "name": "stderr",
          "text": [
            "/usr/local/lib/python3.7/dist-packages/ipykernel_launcher.py:5: TqdmDeprecationWarning: This function will be removed in tqdm==5.0.0\n",
            "Please use `tqdm.notebook.tqdm` instead of `tqdm.tqdm_notebook`\n",
            "  \"\"\"\n"
          ]
        },
        {
          "output_type": "display_data",
          "data": {
            "text/plain": [
              "  0%|          | 0/10 [00:00<?, ?it/s]"
            ],
            "application/vnd.jupyter.widget-view+json": {
              "version_major": 2,
              "version_minor": 0,
              "model_id": "7f31361ce38145ccab5d8ef5afd859a2"
            }
          },
          "metadata": {}
        },
        {
          "output_type": "stream",
          "name": "stdout",
          "text": [
            "10\n"
          ]
        }
      ]
    },
    {
      "cell_type": "code",
      "metadata": {
        "id": "KdlXXE24E9Es",
        "colab": {
          "base_uri": "https://localhost:8080/",
          "height": 363
        },
        "outputId": "60cd7251-d218-4838-caf4-bacb13c66e88"
      },
      "source": [
        "import pandas as pd\n",
        "ds_project_location = pd.DataFrame(project_location)\n",
        "ds_project_location.set_index(\"project_id\")\n",
        "ds_project_location.head(20)"
      ],
      "execution_count": 60,
      "outputs": [
        {
          "output_type": "execute_result",
          "data": {
            "text/plain": [
              "                                          project_id        lat         lng\n",
              "0  https://www.indiegogo.com/projects/aawireless/...  18.784635  100.777315\n",
              "1  https://www.indiegogo.com/projects/my-first-ki...  33.448204 -112.072585\n",
              "2  https://www.indiegogo.com/projects/mount-the-u...  40.959047  -75.995617\n",
              "3  https://www.indiegogo.com/projects/atreus-29-h...  40.713054  -74.007228\n",
              "4  https://www.indiegogo.com/projects/piano-man--...  40.276131  -96.711486\n",
              "5  https://www.indiegogo.com/projects/cjp-annual-...  28.538331  -81.378879\n",
              "6  https://www.indiegogo.com/projects/multo-your-...  18.784635  100.777315\n",
              "7  https://www.indiegogo.com/projects/ukraine-war...  49.841951   24.031597\n",
              "8  https://www.indiegogo.com/projects/jon-rauhous...  33.448204 -112.072585\n",
              "9  https://www.indiegogo.com/projects/light-repel...  22.264412  114.167061"
            ],
            "text/html": [
              "\n",
              "  <div id=\"df-210011b8-e516-40fa-90b9-b69769c45990\">\n",
              "    <div class=\"colab-df-container\">\n",
              "      <div>\n",
              "<style scoped>\n",
              "    .dataframe tbody tr th:only-of-type {\n",
              "        vertical-align: middle;\n",
              "    }\n",
              "\n",
              "    .dataframe tbody tr th {\n",
              "        vertical-align: top;\n",
              "    }\n",
              "\n",
              "    .dataframe thead th {\n",
              "        text-align: right;\n",
              "    }\n",
              "</style>\n",
              "<table border=\"1\" class=\"dataframe\">\n",
              "  <thead>\n",
              "    <tr style=\"text-align: right;\">\n",
              "      <th></th>\n",
              "      <th>project_id</th>\n",
              "      <th>lat</th>\n",
              "      <th>lng</th>\n",
              "    </tr>\n",
              "  </thead>\n",
              "  <tbody>\n",
              "    <tr>\n",
              "      <th>0</th>\n",
              "      <td>https://www.indiegogo.com/projects/aawireless/...</td>\n",
              "      <td>18.784635</td>\n",
              "      <td>100.777315</td>\n",
              "    </tr>\n",
              "    <tr>\n",
              "      <th>1</th>\n",
              "      <td>https://www.indiegogo.com/projects/my-first-ki...</td>\n",
              "      <td>33.448204</td>\n",
              "      <td>-112.072585</td>\n",
              "    </tr>\n",
              "    <tr>\n",
              "      <th>2</th>\n",
              "      <td>https://www.indiegogo.com/projects/mount-the-u...</td>\n",
              "      <td>40.959047</td>\n",
              "      <td>-75.995617</td>\n",
              "    </tr>\n",
              "    <tr>\n",
              "      <th>3</th>\n",
              "      <td>https://www.indiegogo.com/projects/atreus-29-h...</td>\n",
              "      <td>40.713054</td>\n",
              "      <td>-74.007228</td>\n",
              "    </tr>\n",
              "    <tr>\n",
              "      <th>4</th>\n",
              "      <td>https://www.indiegogo.com/projects/piano-man--...</td>\n",
              "      <td>40.276131</td>\n",
              "      <td>-96.711486</td>\n",
              "    </tr>\n",
              "    <tr>\n",
              "      <th>5</th>\n",
              "      <td>https://www.indiegogo.com/projects/cjp-annual-...</td>\n",
              "      <td>28.538331</td>\n",
              "      <td>-81.378879</td>\n",
              "    </tr>\n",
              "    <tr>\n",
              "      <th>6</th>\n",
              "      <td>https://www.indiegogo.com/projects/multo-your-...</td>\n",
              "      <td>18.784635</td>\n",
              "      <td>100.777315</td>\n",
              "    </tr>\n",
              "    <tr>\n",
              "      <th>7</th>\n",
              "      <td>https://www.indiegogo.com/projects/ukraine-war...</td>\n",
              "      <td>49.841951</td>\n",
              "      <td>24.031597</td>\n",
              "    </tr>\n",
              "    <tr>\n",
              "      <th>8</th>\n",
              "      <td>https://www.indiegogo.com/projects/jon-rauhous...</td>\n",
              "      <td>33.448204</td>\n",
              "      <td>-112.072585</td>\n",
              "    </tr>\n",
              "    <tr>\n",
              "      <th>9</th>\n",
              "      <td>https://www.indiegogo.com/projects/light-repel...</td>\n",
              "      <td>22.264412</td>\n",
              "      <td>114.167061</td>\n",
              "    </tr>\n",
              "  </tbody>\n",
              "</table>\n",
              "</div>\n",
              "      <button class=\"colab-df-convert\" onclick=\"convertToInteractive('df-210011b8-e516-40fa-90b9-b69769c45990')\"\n",
              "              title=\"Convert this dataframe to an interactive table.\"\n",
              "              style=\"display:none;\">\n",
              "        \n",
              "  <svg xmlns=\"http://www.w3.org/2000/svg\" height=\"24px\"viewBox=\"0 0 24 24\"\n",
              "       width=\"24px\">\n",
              "    <path d=\"M0 0h24v24H0V0z\" fill=\"none\"/>\n",
              "    <path d=\"M18.56 5.44l.94 2.06.94-2.06 2.06-.94-2.06-.94-.94-2.06-.94 2.06-2.06.94zm-11 1L8.5 8.5l.94-2.06 2.06-.94-2.06-.94L8.5 2.5l-.94 2.06-2.06.94zm10 10l.94 2.06.94-2.06 2.06-.94-2.06-.94-.94-2.06-.94 2.06-2.06.94z\"/><path d=\"M17.41 7.96l-1.37-1.37c-.4-.4-.92-.59-1.43-.59-.52 0-1.04.2-1.43.59L10.3 9.45l-7.72 7.72c-.78.78-.78 2.05 0 2.83L4 21.41c.39.39.9.59 1.41.59.51 0 1.02-.2 1.41-.59l7.78-7.78 2.81-2.81c.8-.78.8-2.07 0-2.86zM5.41 20L4 18.59l7.72-7.72 1.47 1.35L5.41 20z\"/>\n",
              "  </svg>\n",
              "      </button>\n",
              "      \n",
              "  <style>\n",
              "    .colab-df-container {\n",
              "      display:flex;\n",
              "      flex-wrap:wrap;\n",
              "      gap: 12px;\n",
              "    }\n",
              "\n",
              "    .colab-df-convert {\n",
              "      background-color: #E8F0FE;\n",
              "      border: none;\n",
              "      border-radius: 50%;\n",
              "      cursor: pointer;\n",
              "      display: none;\n",
              "      fill: #1967D2;\n",
              "      height: 32px;\n",
              "      padding: 0 0 0 0;\n",
              "      width: 32px;\n",
              "    }\n",
              "\n",
              "    .colab-df-convert:hover {\n",
              "      background-color: #E2EBFA;\n",
              "      box-shadow: 0px 1px 2px rgba(60, 64, 67, 0.3), 0px 1px 3px 1px rgba(60, 64, 67, 0.15);\n",
              "      fill: #174EA6;\n",
              "    }\n",
              "\n",
              "    [theme=dark] .colab-df-convert {\n",
              "      background-color: #3B4455;\n",
              "      fill: #D2E3FC;\n",
              "    }\n",
              "\n",
              "    [theme=dark] .colab-df-convert:hover {\n",
              "      background-color: #434B5C;\n",
              "      box-shadow: 0px 1px 3px 1px rgba(0, 0, 0, 0.15);\n",
              "      filter: drop-shadow(0px 1px 2px rgba(0, 0, 0, 0.3));\n",
              "      fill: #FFFFFF;\n",
              "    }\n",
              "  </style>\n",
              "\n",
              "      <script>\n",
              "        const buttonEl =\n",
              "          document.querySelector('#df-210011b8-e516-40fa-90b9-b69769c45990 button.colab-df-convert');\n",
              "        buttonEl.style.display =\n",
              "          google.colab.kernel.accessAllowed ? 'block' : 'none';\n",
              "\n",
              "        async function convertToInteractive(key) {\n",
              "          const element = document.querySelector('#df-210011b8-e516-40fa-90b9-b69769c45990');\n",
              "          const dataTable =\n",
              "            await google.colab.kernel.invokeFunction('convertToInteractive',\n",
              "                                                     [key], {});\n",
              "          if (!dataTable) return;\n",
              "\n",
              "          const docLinkHtml = 'Like what you see? Visit the ' +\n",
              "            '<a target=\"_blank\" href=https://colab.research.google.com/notebooks/data_table.ipynb>data table notebook</a>'\n",
              "            + ' to learn more about interactive tables.';\n",
              "          element.innerHTML = '';\n",
              "          dataTable['output_type'] = 'display_data';\n",
              "          await google.colab.output.renderOutput(dataTable, element);\n",
              "          const docLink = document.createElement('div');\n",
              "          docLink.innerHTML = docLinkHtml;\n",
              "          element.appendChild(docLink);\n",
              "        }\n",
              "      </script>\n",
              "    </div>\n",
              "  </div>\n",
              "  "
            ]
          },
          "metadata": {},
          "execution_count": 60
        }
      ]
    },
    {
      "cell_type": "code",
      "metadata": {
        "id": "abHeZZM0mXmL",
        "colab": {
          "base_uri": "https://localhost:8080/"
        },
        "outputId": "62cd48b5-49b5-4652-e764-7b1c6a590ebd"
      },
      "source": [
        "ds_project_location.info()"
      ],
      "execution_count": null,
      "outputs": [
        {
          "output_type": "stream",
          "text": [
            "<class 'pandas.core.frame.DataFrame'>\n",
            "RangeIndex: 100 entries, 0 to 99\n",
            "Data columns (total 3 columns):\n",
            " #   Column      Non-Null Count  Dtype  \n",
            "---  ------      --------------  -----  \n",
            " 0   project_id  100 non-null    object \n",
            " 1   lat         100 non-null    float64\n",
            " 2   lng         100 non-null    float64\n",
            "dtypes: float64(2), object(1)\n",
            "memory usage: 2.5+ KB\n"
          ],
          "name": "stdout"
        }
      ]
    },
    {
      "cell_type": "code",
      "metadata": {
        "id": "sg8TZopsFC3b"
      },
      "source": [
        "ds_project_location.to_csv('ds_project_location.csv')"
      ],
      "execution_count": 61,
      "outputs": []
    },
    {
      "cell_type": "code",
      "metadata": {
        "id": "_n01de28Kb8q"
      },
      "source": [
        ""
      ],
      "execution_count": null,
      "outputs": []
    },
    {
      "cell_type": "markdown",
      "metadata": {
        "id": "vqfnlwdBXluM"
      },
      "source": [
        "# Use API to get data from Indiegogo"
      ]
    },
    {
      "cell_type": "code",
      "metadata": {
        "id": "UYc3v1PbI8me"
      },
      "source": [
        "!pip install selenium\n",
        "!apt-get update\n",
        "!apt install chromium-chromedriver\n",
        "!cp /usr/lib/chromium-browser/chromedriver /usr/bin"
      ],
      "execution_count": null,
      "outputs": []
    },
    {
      "cell_type": "code",
      "metadata": {
        "id": "DMkOAepZXr9J"
      },
      "source": [
        "import sys\n",
        "import logging\n",
        "from selenium.webdriver.remote.remote_connection import LOGGER\n",
        "LOGGER.setLevel(logging.WARNING)\n",
        "sys.path.insert(0,'/usr/lib/chromium-browser/chromedriver')\n",
        "from selenium import webdriver\n",
        "\n",
        "import requests\n",
        "from tqdm import tqdm_notebook as tqdm\n",
        "import pandas\n",
        "import pprint\n",
        "import pandas as pd\n",
        "import json"
      ],
      "execution_count": 63,
      "outputs": []
    },
    {
      "cell_type": "code",
      "metadata": {
        "id": "R6ywKimrYCbD",
        "colab": {
          "base_uri": "https://localhost:8080/",
          "height": 101,
          "referenced_widgets": [
            "12c0c27aa31844d3aedb5459158a6e01",
            "b5cd16f1f5504215ad257fc862c94317",
            "ae0a3ea7f5e64f5b997f45b8807fa5fe",
            "30ceb9a723914e078f2f2b25187214cb",
            "654b53490b0541328c8614b8001f8985",
            "511a4b0738a04b998a1d2ed3c030e9a0",
            "c59345c081b54bee83828cafc486af07",
            "acaf8071294341499d5cc6c256a11566",
            "841bc86bd0ca468a83f8fa88af094ca7",
            "082352fd484c4a9288ab95e6e807f611",
            "05248150418647c39e1a0dd532ad6b1b"
          ]
        },
        "outputId": "1d1f6a71-34d3-46f7-f736-2f4717633e1a"
      },
      "source": [
        "project_list = []\n",
        "for page in tqdm(range(1, 100)):\n",
        "  payload = {\"sort\": \"most_funded\",\n",
        "            \"category_main\": None,\n",
        "            \"category_top_level\": \"Creative Works\",\n",
        "            \"project_timing\": \"all\",\n",
        "            \"project_type\": \"campaign\",\n",
        "            \"tags\":[],\n",
        "            \"page_num\": page,\n",
        "            \"per_page\": 100,\n",
        "            \"q\": \"\"}\n",
        "  r = requests.post('https://www.indiegogo.com/private_api/discover',\n",
        "                  headers={'Content-type': 'application/json; charset=UTF-8', \"User-Agent\": \"curl/7.64.1\"},\n",
        "                  json=payload)\n",
        "  my_projects = r.json()['response']['discoverables']\n",
        "  project_list.extend(my_projects)"
      ],
      "execution_count": 64,
      "outputs": [
        {
          "output_type": "stream",
          "name": "stderr",
          "text": [
            "/usr/local/lib/python3.7/dist-packages/ipykernel_launcher.py:2: TqdmDeprecationWarning: This function will be removed in tqdm==5.0.0\n",
            "Please use `tqdm.notebook.tqdm` instead of `tqdm.tqdm_notebook`\n",
            "  \n"
          ]
        },
        {
          "output_type": "display_data",
          "data": {
            "text/plain": [
              "  0%|          | 0/99 [00:00<?, ?it/s]"
            ],
            "application/vnd.jupyter.widget-view+json": {
              "version_major": 2,
              "version_minor": 0,
              "model_id": "12c0c27aa31844d3aedb5459158a6e01"
            }
          },
          "metadata": {}
        }
      ]
    },
    {
      "cell_type": "code",
      "metadata": {
        "colab": {
          "base_uri": "https://localhost:8080/"
        },
        "id": "Y5HnCa7mdr-y",
        "outputId": "dae53373-38a1-4a5a-ac50-bf4e75c8bbac"
      },
      "source": [
        "len(project_list)"
      ],
      "execution_count": 65,
      "outputs": [
        {
          "output_type": "execute_result",
          "data": {
            "text/plain": [
              "9900"
            ]
          },
          "metadata": {},
          "execution_count": 65
        }
      ]
    },
    {
      "cell_type": "code",
      "metadata": {
        "colab": {
          "base_uri": "https://localhost:8080/"
        },
        "id": "yP3pghryXwqf",
        "outputId": "09628bb3-408f-4620-d611-c3f922b7d473"
      },
      "source": [
        "print(project_list[0:2])"
      ],
      "execution_count": 69,
      "outputs": [
        {
          "output_type": "stream",
          "name": "stdout",
          "text": [
            "[{'bullet_point': None, 'category': 'Video Games', 'category_url': '/explore/video-games', 'clickthrough_url': '/projects/odin-the-ultimate-gaming-handheld', 'close_date': '2021-10-03T23:59:59-07:00', 'currency': 'HKD', 'funds_raised_amount': 29500582, 'funds_raised_percent': 49.71537, 'image_url': 'https://c1.iggcdn.com/indiegogo-media-prod-cld/image/upload/c_fill,f_auto,h_273,w_273/sdbglqsvgdtsiyorbo2i.jpg', 'is_indemand': True, 'is_pre_launch': False, 'is_proven': False, 'offered_by': None, 'open_date': '2021-08-19T00:00:00-07:00', 'perk_goal_percentage': None, 'perks_claimed': None, 'price_offered': None, 'price_retail': None, 'product_stage': None, 'project_id': 2685187, 'project_type': 'campaign', 'tagline': 'Flagship gaming handheld. FHD 1080p 6\" touch screen. 6600 mAh battery.', 'tags': ['computers', 'pc', 'laptops'], 'title': 'Odin: The Ultimate Gaming Handheld'}, {'bullet_point': None, 'category': 'Video Games', 'category_url': '/explore/video-games', 'clickthrough_url': '/projects/g-case-all-in-one-gaming-case-for-switch-oled', 'close_date': '2022-03-11T23:59:59-08:00', 'currency': 'HKD', 'funds_raised_amount': 5335377, 'funds_raised_percent': 30.820761733777893, 'image_url': 'https://c1.iggcdn.com/indiegogo-media-prod-cld/image/upload/c_fill,f_auto,h_273,w_273/gckem6b4tx27n3mctq3n.jpg', 'is_indemand': True, 'is_pre_launch': False, 'is_proven': False, 'offered_by': None, 'open_date': '2022-03-10T23:59:59-08:00', 'perk_goal_percentage': None, 'perks_claimed': None, 'price_offered': None, 'price_retail': None, 'product_stage': None, 'project_id': 2739227, 'project_type': 'campaign', 'tagline': 'Modular Battery | Interchangeable Grips | Detachable Joy-Con Case | Extra Card Slots | Low Latency', 'tags': ['bluetooth', 'batteries', 'design'], 'title': 'G-Case: All-In-One Gaming Case for Switch & OLED'}]\n"
          ]
        }
      ]
    },
    {
      "cell_type": "code",
      "metadata": {
        "colab": {
          "base_uri": "https://localhost:8080/",
          "height": 577
        },
        "id": "BoSlD8TbZPwr",
        "outputId": "e6f85d4e-6373-47b3-bfe2-756da0131ca2"
      },
      "source": [
        "import pandas as pd\n",
        "ds_detail_projects = pd.DataFrame(project_list)\n",
        "ds_detail_projects.set_index(\"project_id\")\n",
        "ds_detail_projects.head()"
      ],
      "execution_count": 70,
      "outputs": [
        {
          "output_type": "execute_result",
          "data": {
            "text/plain": [
              "  bullet_point               category                  category_url  \\\n",
              "0         None            Video Games          /explore/video-games   \n",
              "1         None            Video Games          /explore/video-games   \n",
              "2         None                   Film                 /explore/film   \n",
              "3         None  Web Series & TV Shows  /explore/web-series-tv-shows   \n",
              "4         None                    Art                  /explore/art   \n",
              "\n",
              "                                    clickthrough_url  \\\n",
              "0        /projects/odin-the-ultimate-gaming-handheld   \n",
              "1  /projects/g-case-all-in-one-gaming-case-for-sw...   \n",
              "2                         /projects/super-troopers-2   \n",
              "3                                  /projects/con-man   \n",
              "4  /projects/artbook-that-photographed-gods-who-d...   \n",
              "\n",
              "                  close_date currency  funds_raised_amount  \\\n",
              "0  2021-10-03T23:59:59-07:00      HKD             29500582   \n",
              "1  2022-03-11T23:59:59-08:00      HKD              5335377   \n",
              "2  2015-04-24T23:59:59-07:00      USD              4617223   \n",
              "3  2015-04-10T23:59:59-07:00      USD              3156178   \n",
              "4  2022-02-18T23:59:59-08:00      JPY              3114937   \n",
              "\n",
              "   funds_raised_percent                                          image_url  \\\n",
              "0             49.715370  https://c1.iggcdn.com/indiegogo-media-prod-cld...   \n",
              "1             30.820762  https://c1.iggcdn.com/indiegogo-media-prod-cld...   \n",
              "2              2.081839  https://c1.iggcdn.com/indiegogo-media-prod-cld...   \n",
              "3              7.347459  https://c1.iggcdn.com/indiegogo-media-prod-cld...   \n",
              "4              3.082077  https://c1.iggcdn.com/indiegogo-media-prod-cld...   \n",
              "\n",
              "   is_indemand  ...  perk_goal_percentage  perks_claimed price_offered  \\\n",
              "0         True  ...                   NaN            NaN          None   \n",
              "1         True  ...                   NaN            NaN          None   \n",
              "2        False  ...                   NaN            NaN          None   \n",
              "3        False  ...                   NaN            NaN          None   \n",
              "4         True  ...                   NaN            NaN          None   \n",
              "\n",
              "  price_retail  product_stage  project_id project_type  \\\n",
              "0         None           None     2685187     campaign   \n",
              "1         None           None     2739227     campaign   \n",
              "2         None           None     1166581     campaign   \n",
              "3         None           None     1143140     campaign   \n",
              "4         None           None     2735280     campaign   \n",
              "\n",
              "                                             tagline  \\\n",
              "0  Flagship gaming handheld. FHD 1080p 6\" touch s...   \n",
              "1  Modular Battery | Interchangeable Grips | Deta...   \n",
              "2  The #SuperTroopers2 campaign is over, but the ...   \n",
              "3  A new comedy from Alan Tudyk and Nathan Fillio...   \n",
              "4  This concept is coming from teaching of Shinto...   \n",
              "\n",
              "                                   tags  \\\n",
              "0              [computers, pc, laptops]   \n",
              "1        [bluetooth, batteries, design]   \n",
              "2                               [other]   \n",
              "3                               [other]   \n",
              "4  [books, design, other, professional]   \n",
              "\n",
              "                                               title  \n",
              "0                 Odin: The Ultimate Gaming Handheld  \n",
              "1   G-Case: All-In-One Gaming Case for Switch & OLED  \n",
              "2                                   Super Troopers 2  \n",
              "3                                            Con Man  \n",
              "4  ArtBook that photographed Gods who dwell in na...  \n",
              "\n",
              "[5 rows x 24 columns]"
            ],
            "text/html": [
              "\n",
              "  <div id=\"df-1a94d3f9-e654-4cda-b65d-2a9442f4d1be\">\n",
              "    <div class=\"colab-df-container\">\n",
              "      <div>\n",
              "<style scoped>\n",
              "    .dataframe tbody tr th:only-of-type {\n",
              "        vertical-align: middle;\n",
              "    }\n",
              "\n",
              "    .dataframe tbody tr th {\n",
              "        vertical-align: top;\n",
              "    }\n",
              "\n",
              "    .dataframe thead th {\n",
              "        text-align: right;\n",
              "    }\n",
              "</style>\n",
              "<table border=\"1\" class=\"dataframe\">\n",
              "  <thead>\n",
              "    <tr style=\"text-align: right;\">\n",
              "      <th></th>\n",
              "      <th>bullet_point</th>\n",
              "      <th>category</th>\n",
              "      <th>category_url</th>\n",
              "      <th>clickthrough_url</th>\n",
              "      <th>close_date</th>\n",
              "      <th>currency</th>\n",
              "      <th>funds_raised_amount</th>\n",
              "      <th>funds_raised_percent</th>\n",
              "      <th>image_url</th>\n",
              "      <th>is_indemand</th>\n",
              "      <th>...</th>\n",
              "      <th>perk_goal_percentage</th>\n",
              "      <th>perks_claimed</th>\n",
              "      <th>price_offered</th>\n",
              "      <th>price_retail</th>\n",
              "      <th>product_stage</th>\n",
              "      <th>project_id</th>\n",
              "      <th>project_type</th>\n",
              "      <th>tagline</th>\n",
              "      <th>tags</th>\n",
              "      <th>title</th>\n",
              "    </tr>\n",
              "  </thead>\n",
              "  <tbody>\n",
              "    <tr>\n",
              "      <th>0</th>\n",
              "      <td>None</td>\n",
              "      <td>Video Games</td>\n",
              "      <td>/explore/video-games</td>\n",
              "      <td>/projects/odin-the-ultimate-gaming-handheld</td>\n",
              "      <td>2021-10-03T23:59:59-07:00</td>\n",
              "      <td>HKD</td>\n",
              "      <td>29500582</td>\n",
              "      <td>49.715370</td>\n",
              "      <td>https://c1.iggcdn.com/indiegogo-media-prod-cld...</td>\n",
              "      <td>True</td>\n",
              "      <td>...</td>\n",
              "      <td>NaN</td>\n",
              "      <td>NaN</td>\n",
              "      <td>None</td>\n",
              "      <td>None</td>\n",
              "      <td>None</td>\n",
              "      <td>2685187</td>\n",
              "      <td>campaign</td>\n",
              "      <td>Flagship gaming handheld. FHD 1080p 6\" touch s...</td>\n",
              "      <td>[computers, pc, laptops]</td>\n",
              "      <td>Odin: The Ultimate Gaming Handheld</td>\n",
              "    </tr>\n",
              "    <tr>\n",
              "      <th>1</th>\n",
              "      <td>None</td>\n",
              "      <td>Video Games</td>\n",
              "      <td>/explore/video-games</td>\n",
              "      <td>/projects/g-case-all-in-one-gaming-case-for-sw...</td>\n",
              "      <td>2022-03-11T23:59:59-08:00</td>\n",
              "      <td>HKD</td>\n",
              "      <td>5335377</td>\n",
              "      <td>30.820762</td>\n",
              "      <td>https://c1.iggcdn.com/indiegogo-media-prod-cld...</td>\n",
              "      <td>True</td>\n",
              "      <td>...</td>\n",
              "      <td>NaN</td>\n",
              "      <td>NaN</td>\n",
              "      <td>None</td>\n",
              "      <td>None</td>\n",
              "      <td>None</td>\n",
              "      <td>2739227</td>\n",
              "      <td>campaign</td>\n",
              "      <td>Modular Battery | Interchangeable Grips | Deta...</td>\n",
              "      <td>[bluetooth, batteries, design]</td>\n",
              "      <td>G-Case: All-In-One Gaming Case for Switch &amp; OLED</td>\n",
              "    </tr>\n",
              "    <tr>\n",
              "      <th>2</th>\n",
              "      <td>None</td>\n",
              "      <td>Film</td>\n",
              "      <td>/explore/film</td>\n",
              "      <td>/projects/super-troopers-2</td>\n",
              "      <td>2015-04-24T23:59:59-07:00</td>\n",
              "      <td>USD</td>\n",
              "      <td>4617223</td>\n",
              "      <td>2.081839</td>\n",
              "      <td>https://c1.iggcdn.com/indiegogo-media-prod-cld...</td>\n",
              "      <td>False</td>\n",
              "      <td>...</td>\n",
              "      <td>NaN</td>\n",
              "      <td>NaN</td>\n",
              "      <td>None</td>\n",
              "      <td>None</td>\n",
              "      <td>None</td>\n",
              "      <td>1166581</td>\n",
              "      <td>campaign</td>\n",
              "      <td>The #SuperTroopers2 campaign is over, but the ...</td>\n",
              "      <td>[other]</td>\n",
              "      <td>Super Troopers 2</td>\n",
              "    </tr>\n",
              "    <tr>\n",
              "      <th>3</th>\n",
              "      <td>None</td>\n",
              "      <td>Web Series &amp; TV Shows</td>\n",
              "      <td>/explore/web-series-tv-shows</td>\n",
              "      <td>/projects/con-man</td>\n",
              "      <td>2015-04-10T23:59:59-07:00</td>\n",
              "      <td>USD</td>\n",
              "      <td>3156178</td>\n",
              "      <td>7.347459</td>\n",
              "      <td>https://c1.iggcdn.com/indiegogo-media-prod-cld...</td>\n",
              "      <td>False</td>\n",
              "      <td>...</td>\n",
              "      <td>NaN</td>\n",
              "      <td>NaN</td>\n",
              "      <td>None</td>\n",
              "      <td>None</td>\n",
              "      <td>None</td>\n",
              "      <td>1143140</td>\n",
              "      <td>campaign</td>\n",
              "      <td>A new comedy from Alan Tudyk and Nathan Fillio...</td>\n",
              "      <td>[other]</td>\n",
              "      <td>Con Man</td>\n",
              "    </tr>\n",
              "    <tr>\n",
              "      <th>4</th>\n",
              "      <td>None</td>\n",
              "      <td>Art</td>\n",
              "      <td>/explore/art</td>\n",
              "      <td>/projects/artbook-that-photographed-gods-who-d...</td>\n",
              "      <td>2022-02-18T23:59:59-08:00</td>\n",
              "      <td>JPY</td>\n",
              "      <td>3114937</td>\n",
              "      <td>3.082077</td>\n",
              "      <td>https://c1.iggcdn.com/indiegogo-media-prod-cld...</td>\n",
              "      <td>True</td>\n",
              "      <td>...</td>\n",
              "      <td>NaN</td>\n",
              "      <td>NaN</td>\n",
              "      <td>None</td>\n",
              "      <td>None</td>\n",
              "      <td>None</td>\n",
              "      <td>2735280</td>\n",
              "      <td>campaign</td>\n",
              "      <td>This concept is coming from teaching of Shinto...</td>\n",
              "      <td>[books, design, other, professional]</td>\n",
              "      <td>ArtBook that photographed Gods who dwell in na...</td>\n",
              "    </tr>\n",
              "  </tbody>\n",
              "</table>\n",
              "<p>5 rows × 24 columns</p>\n",
              "</div>\n",
              "      <button class=\"colab-df-convert\" onclick=\"convertToInteractive('df-1a94d3f9-e654-4cda-b65d-2a9442f4d1be')\"\n",
              "              title=\"Convert this dataframe to an interactive table.\"\n",
              "              style=\"display:none;\">\n",
              "        \n",
              "  <svg xmlns=\"http://www.w3.org/2000/svg\" height=\"24px\"viewBox=\"0 0 24 24\"\n",
              "       width=\"24px\">\n",
              "    <path d=\"M0 0h24v24H0V0z\" fill=\"none\"/>\n",
              "    <path d=\"M18.56 5.44l.94 2.06.94-2.06 2.06-.94-2.06-.94-.94-2.06-.94 2.06-2.06.94zm-11 1L8.5 8.5l.94-2.06 2.06-.94-2.06-.94L8.5 2.5l-.94 2.06-2.06.94zm10 10l.94 2.06.94-2.06 2.06-.94-2.06-.94-.94-2.06-.94 2.06-2.06.94z\"/><path d=\"M17.41 7.96l-1.37-1.37c-.4-.4-.92-.59-1.43-.59-.52 0-1.04.2-1.43.59L10.3 9.45l-7.72 7.72c-.78.78-.78 2.05 0 2.83L4 21.41c.39.39.9.59 1.41.59.51 0 1.02-.2 1.41-.59l7.78-7.78 2.81-2.81c.8-.78.8-2.07 0-2.86zM5.41 20L4 18.59l7.72-7.72 1.47 1.35L5.41 20z\"/>\n",
              "  </svg>\n",
              "      </button>\n",
              "      \n",
              "  <style>\n",
              "    .colab-df-container {\n",
              "      display:flex;\n",
              "      flex-wrap:wrap;\n",
              "      gap: 12px;\n",
              "    }\n",
              "\n",
              "    .colab-df-convert {\n",
              "      background-color: #E8F0FE;\n",
              "      border: none;\n",
              "      border-radius: 50%;\n",
              "      cursor: pointer;\n",
              "      display: none;\n",
              "      fill: #1967D2;\n",
              "      height: 32px;\n",
              "      padding: 0 0 0 0;\n",
              "      width: 32px;\n",
              "    }\n",
              "\n",
              "    .colab-df-convert:hover {\n",
              "      background-color: #E2EBFA;\n",
              "      box-shadow: 0px 1px 2px rgba(60, 64, 67, 0.3), 0px 1px 3px 1px rgba(60, 64, 67, 0.15);\n",
              "      fill: #174EA6;\n",
              "    }\n",
              "\n",
              "    [theme=dark] .colab-df-convert {\n",
              "      background-color: #3B4455;\n",
              "      fill: #D2E3FC;\n",
              "    }\n",
              "\n",
              "    [theme=dark] .colab-df-convert:hover {\n",
              "      background-color: #434B5C;\n",
              "      box-shadow: 0px 1px 3px 1px rgba(0, 0, 0, 0.15);\n",
              "      filter: drop-shadow(0px 1px 2px rgba(0, 0, 0, 0.3));\n",
              "      fill: #FFFFFF;\n",
              "    }\n",
              "  </style>\n",
              "\n",
              "      <script>\n",
              "        const buttonEl =\n",
              "          document.querySelector('#df-1a94d3f9-e654-4cda-b65d-2a9442f4d1be button.colab-df-convert');\n",
              "        buttonEl.style.display =\n",
              "          google.colab.kernel.accessAllowed ? 'block' : 'none';\n",
              "\n",
              "        async function convertToInteractive(key) {\n",
              "          const element = document.querySelector('#df-1a94d3f9-e654-4cda-b65d-2a9442f4d1be');\n",
              "          const dataTable =\n",
              "            await google.colab.kernel.invokeFunction('convertToInteractive',\n",
              "                                                     [key], {});\n",
              "          if (!dataTable) return;\n",
              "\n",
              "          const docLinkHtml = 'Like what you see? Visit the ' +\n",
              "            '<a target=\"_blank\" href=https://colab.research.google.com/notebooks/data_table.ipynb>data table notebook</a>'\n",
              "            + ' to learn more about interactive tables.';\n",
              "          element.innerHTML = '';\n",
              "          dataTable['output_type'] = 'display_data';\n",
              "          await google.colab.output.renderOutput(dataTable, element);\n",
              "          const docLink = document.createElement('div');\n",
              "          docLink.innerHTML = docLinkHtml;\n",
              "          element.appendChild(docLink);\n",
              "        }\n",
              "      </script>\n",
              "    </div>\n",
              "  </div>\n",
              "  "
            ]
          },
          "metadata": {},
          "execution_count": 70
        }
      ]
    },
    {
      "cell_type": "code",
      "metadata": {
        "colab": {
          "base_uri": "https://localhost:8080/"
        },
        "id": "-3mbSUvmIguO",
        "outputId": "0ce247b0-8f56-4ff7-cb68-7c36a0c41f90"
      },
      "source": [
        "from google.colab import drive\n",
        "drive.mount('/content/drive')"
      ],
      "execution_count": 68,
      "outputs": [
        {
          "output_type": "stream",
          "name": "stdout",
          "text": [
            "Mounted at /content/drive\n"
          ]
        }
      ]
    },
    {
      "cell_type": "code",
      "metadata": {
        "id": "pzSRqiMcZRGb"
      },
      "source": [
        "ds_detail_projects.to_csv(\"/content/drive/MyDrive/indiegogo_2022/1_ds_project_details_full.csv\")"
      ],
      "execution_count": 71,
      "outputs": []
    },
    {
      "cell_type": "code",
      "metadata": {
        "id": "XY3Fr-m-KarS"
      },
      "source": [
        "ds_detail_projects = pd.read_csv(\"/content/drive/MyDrive/indiegogo_2022/1_ds_project_details_full.csv\", index_col=\"project_id\")\n"
      ],
      "execution_count": 72,
      "outputs": []
    },
    {
      "cell_type": "code",
      "metadata": {
        "id": "xo2tZM_nJH7g"
      },
      "source": [
        "chrome_options = webdriver.ChromeOptions()\n",
        "chrome_options.add_argument('--headless')\n",
        "chrome_options.add_argument('--no-sandbox')\n",
        "chrome_options.add_argument('--disable-dev-shm-usage')\n",
        "chrome_options.add_argument(\"user-agent=Mozilla/5.0 (Macintosh; Intel Mac OS X 10_15_7) AppleWebKit/537.36 (KHTML, like Gecko) Chrome/90.0.4430.212 Safari/537.36\")"
      ],
      "execution_count": 73,
      "outputs": []
    },
    {
      "cell_type": "code",
      "metadata": {
        "colab": {
          "base_uri": "https://localhost:8080/",
          "height": 136,
          "referenced_widgets": [
            "4acc2e525c624923b3764635b49a4453",
            "60beb029c58142619c9d09ac0ce0ea2e",
            "7861874c18b54d3bbe3c1ce1b849c830",
            "25635b1420f94c55bba3e00be474d4e7",
            "efdaaf7c0f0b477da8bda3b93744ee6d",
            "11d75fa8b0514eaba953051759678d0b",
            "42024b9c7897443f84fabfe1d7011378",
            "6e720afcc6ba4f53965852c124641314",
            "dd280cc79bb74fadbe458401d4df0ec5",
            "c6586f695b41435080b67ac8005d6770",
            "fbd793dae69f4dd599fd39f17a5c2ee4"
          ]
        },
        "id": "vxUS-HzyZKJQ",
        "outputId": "591ab7c6-5a6d-487a-d2d0-142b6a1ec7a7"
      },
      "source": [
        "wd = webdriver.Chrome('chromedriver',chrome_options=chrome_options)\n",
        "import time\n",
        "project_location = []\n",
        "for project_id, project in tqdm(ds_detail_projects.iterrows(), total=ds_detail_projects.shape[0]):\n",
        "  key = \"r3xgNwBAviBMdOj4Op90kvyy2iO1CDGz\"\n",
        "  try:\n",
        "    project_url = project[\"clickthrough_url\"]\n",
        "    wd.get(f\"https://www.indiegogo.com/{project_url}\")\n",
        "    address = wd.find_elements(by=By.CSS_SELECTOR, value=\".basicsCampaignOwner-details-city\")[0].text\n",
        "    geocode_url = f\"http://www.mapquestapi.com/geocoding/v1/address?key={key}&location={address}\"\n",
        "    response = requests.get(geocode_url)\n",
        "    if (response.status_code == 200):\n",
        "      geo = json.loads(response.text)\n",
        "      lat = geo['results'][0]['locations'][0]['latLng']['lat']\n",
        "      lng = geo['results'][0]['locations'][0]['latLng']['lng']\n",
        "      project_location.append({\n",
        "            \"project_id\": project_id,\n",
        "            \"lat\": lat,\n",
        "            \"lng\": lng\n",
        "          })\n",
        "  except Exception as e:\n",
        "    print(e)"
      ],
      "execution_count": null,
      "outputs": [
        {
          "output_type": "stream",
          "name": "stderr",
          "text": [
            "/usr/local/lib/python3.7/dist-packages/ipykernel_launcher.py:1: DeprecationWarning: use options instead of chrome_options\n",
            "  \"\"\"Entry point for launching an IPython kernel.\n",
            "/usr/local/lib/python3.7/dist-packages/ipykernel_launcher.py:4: TqdmDeprecationWarning: This function will be removed in tqdm==5.0.0\n",
            "Please use `tqdm.notebook.tqdm` instead of `tqdm.tqdm_notebook`\n",
            "  after removing the cwd from sys.path.\n"
          ]
        },
        {
          "output_type": "display_data",
          "data": {
            "text/plain": [
              "  0%|          | 0/9900 [00:00<?, ?it/s]"
            ],
            "application/vnd.jupyter.widget-view+json": {
              "version_major": 2,
              "version_minor": 0,
              "model_id": "4acc2e525c624923b3764635b49a4453"
            }
          },
          "metadata": {}
        }
      ]
    },
    {
      "cell_type": "code",
      "metadata": {
        "id": "jsxdlYC-JRQg"
      },
      "source": [
        "# project_location"
      ],
      "execution_count": null,
      "outputs": []
    },
    {
      "cell_type": "code",
      "metadata": {
        "id": "DGBoRIWIgRkj"
      },
      "source": [
        "print(len(project_location))"
      ],
      "execution_count": null,
      "outputs": []
    },
    {
      "cell_type": "code",
      "metadata": {
        "id": "Ikhm6pzLZm80"
      },
      "source": [
        "import pandas as pd\n",
        "ds_project_location = pd.DataFrame(project_location)\n",
        "ds_project_location.set_index(\"project_id\")\n",
        "ds_project_location.head(20)"
      ],
      "execution_count": null,
      "outputs": []
    },
    {
      "cell_type": "code",
      "metadata": {
        "id": "BJDDdn7AZocU"
      },
      "source": [
        "ds_project_location.to_csv(\"/content/drive/MyDrive/indiegogo_2022/2_ds_project_location_full.csv\")"
      ],
      "execution_count": null,
      "outputs": []
    },
    {
      "cell_type": "code",
      "metadata": {
        "id": "B1adjPW9J0Mh"
      },
      "source": [
        "!mkdir /content/drive/MyDrive/indiegogo_2022/images/"
      ],
      "execution_count": null,
      "outputs": []
    },
    {
      "cell_type": "code",
      "metadata": {
        "id": "sqCucb1cZGWs"
      },
      "source": [
        "detail_projects = []\n",
        "list_images = []\n",
        "num = 0\n",
        "for project_id, project in tqdm(ds_detail_projects.iterrows(), total=ds_detail_projects.shape[0]):\n",
        "  num = num + 1\n",
        "  try:\n",
        "    list_images.append({\"project_id\": project_id,\n",
        "                        \"img_file\": \"img_\" + str(num) + \".jpg\"})\n",
        "    src = project['image_url']\n",
        "    img_file = requests.get(src, stream=True)\n",
        "    if img_file.status_code == 200:\n",
        "      with open(\"/content/drive/MyDrive/indiegogo_2022/images/img_\" + str(num) + \".jpg\", 'wb') as f:\n",
        "        f.write(img_file.content)\n",
        "  except Exception as e:\n",
        "    print(e)"
      ],
      "execution_count": null,
      "outputs": []
    },
    {
      "cell_type": "code",
      "metadata": {
        "id": "yR1EovvlJ_Tb"
      },
      "source": [
        "# list_images"
      ],
      "execution_count": null,
      "outputs": []
    },
    {
      "cell_type": "code",
      "metadata": {
        "id": "cVb-JxkgZtdk"
      },
      "source": [
        "import pandas as pd\n",
        "ds_images = pd.DataFrame(list_images)\n",
        "ds_images.set_index(\"project_id\")\n",
        "ds_images.head()"
      ],
      "execution_count": null,
      "outputs": []
    },
    {
      "cell_type": "code",
      "metadata": {
        "id": "99fsubzYZzWJ"
      },
      "source": [
        "ds_images.to_csv(\"/content/drive/MyDrive/indiegogo_2022/3_ds_images_full.csv\")"
      ],
      "execution_count": null,
      "outputs": []
    },
    {
      "cell_type": "code",
      "metadata": {
        "id": "m4koOtiJKQTh"
      },
      "source": [
        "# !pip install clarifai-grpc --upgrade"
      ],
      "execution_count": null,
      "outputs": []
    },
    {
      "cell_type": "code",
      "metadata": {
        "id": "cH38lqwmY4PK"
      },
      "source": [
        "from clarifai_grpc.channel.clarifai_channel import ClarifaiChannel\n",
        "from clarifai_grpc.grpc.api import resources_pb2, service_pb2, service_pb2_grpc\n",
        "from clarifai_grpc.grpc.api.status import status_pb2, status_code_pb2\n",
        "\n",
        "channel = ClarifaiChannel.get_grpc_channel()\n",
        "\n",
        "# Note: You can also use a secure (encrypted) ClarifaiChannel.get_grpc_channel() however\n",
        "# it is currently not possible to use it with the latest gRPC version\n",
        "\n",
        "stub = service_pb2_grpc.V2Stub(channel)\n",
        "\n",
        "# This will be used by every Clarifai endpoint call.\n",
        "metadata = (('authorization', 'Key 41a0bb727c0c462d8cd09aa359fa9649'),)"
      ],
      "execution_count": null,
      "outputs": []
    },
    {
      "cell_type": "code",
      "metadata": {
        "id": "AdF3P2q9e-h4"
      },
      "source": [
        "!zip -r \"/content/drive/MyDrive/indiegogo_2022/images_full.zip\" \"/content/drive/MyDrive/indiegogo_2022/images/\""
      ],
      "execution_count": null,
      "outputs": []
    },
    {
      "cell_type": "code",
      "metadata": {
        "id": "80-jiMJ8LGI6"
      },
      "source": [
        "ds_images = pd.read_csv(\"/content/drive/MyDrive/indiegogo_2022/3_ds_images_full.csv\", index_col=\"project_id\")\n",
        "ds_images.head()"
      ],
      "execution_count": null,
      "outputs": []
    },
    {
      "cell_type": "code",
      "metadata": {
        "id": "pZPGgcbWZ6ul"
      },
      "source": [
        "\n",
        "img_details = []\n",
        "for project_id, image in tqdm(ds_images.iterrows(), total=ds_images.shape[0]):\n",
        "  try:\n",
        "    with open('/content/drive/MyDrive/indiegogo_2022/images/' + image['img_file'], \"rb\") as f:\n",
        "      file_bytes = f.read()\n",
        "    response = stub.PostModelOutputs(\n",
        "        service_pb2.PostModelOutputsRequest(\n",
        "            model_id=\"aaa03c23b3724a16a56b629203edc62c\",\n",
        "            inputs=[\n",
        "                resources_pb2.Input(\n",
        "                    data=resources_pb2.Data(\n",
        "                        image=resources_pb2.Image(\n",
        "                            base64=file_bytes\n",
        "                        )\n",
        "                    )\n",
        "                )\n",
        "            ]\n",
        "        ),\n",
        "        metadata=metadata\n",
        "    ).outputs[0]\n",
        "    print(response.status)\n",
        "    if(response.status.description == \"Ok\"):\n",
        "      for concept in response.data.concepts:\n",
        "          name = concept.name\n",
        "          value = concept.value\n",
        "          img_details.append({\n",
        "            \"project_id\": project_id,\n",
        "            \"image\": image['img_file'],\n",
        "            \"name\": name,\n",
        "            \"value\": value\n",
        "          })\n",
        "  except Exception as e:\n",
        "    print(e)"
      ],
      "execution_count": null,
      "outputs": []
    },
    {
      "cell_type": "code",
      "metadata": {
        "id": "RsZE3XcALO0w"
      },
      "source": [
        "# img_details"
      ],
      "execution_count": null,
      "outputs": []
    },
    {
      "cell_type": "code",
      "metadata": {
        "id": "JQ-qR4Y7aEbM"
      },
      "source": [
        "import pandas as pd\n",
        "ds_img_details = pd.DataFrame(img_details)\n",
        "ds_img_details.set_index(\"image\")\n",
        "ds_img_details.head()"
      ],
      "execution_count": null,
      "outputs": []
    },
    {
      "cell_type": "code",
      "metadata": {
        "id": "PrhKjhrqfM7z"
      },
      "source": [
        "ds_img_details.to_csv('/content/drive/MyDrive/indiegogo_2022/4_ds_img_details_full.csv')"
      ],
      "execution_count": null,
      "outputs": []
    },
    {
      "cell_type": "code",
      "metadata": {
        "id": "QcF0f1aNfQEY"
      },
      "source": [
        ""
      ],
      "execution_count": null,
      "outputs": []
    }
  ]
}