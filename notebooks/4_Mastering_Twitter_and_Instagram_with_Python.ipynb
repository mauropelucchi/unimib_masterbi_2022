{
  "nbformat": 4,
  "nbformat_minor": 0,
  "metadata": {
    "colab": {
      "name": "4_Mastering_Twitter_and_Instagram_with_Python.ipynb",
      "provenance": [],
      "collapsed_sections": []
    },
    "kernelspec": {
      "display_name": "Python 3",
      "name": "python3"
    },
    "language_info": {
      "name": "python"
    },
    "gpuClass": "standard"
  },
  "cells": [
    {
      "cell_type": "markdown",
      "metadata": {
        "id": "Yuq1AB4RXxTa"
      },
      "source": [
        "# Mastering Twitter and Instagram with Python\n",
        "\n"
      ]
    },
    {
      "cell_type": "markdown",
      "metadata": {
        "id": "ESInfKkxXxTe"
      },
      "source": [
        "In this notebook we will see how to master data analysis from social networks.\n",
        "\n",
        "We will use data from **Twitter** and **Instagram**.\n",
        "\n",
        "## Twitter\n",
        "Let's see, first of all, how to interact with Twitter through the REST API.\n",
        "\n",
        "The code you will see is \"ready to use\", so you can easily use and reuse this notebook with few modifications.\n",
        "\n",
        "I will use a library, **tweepy**, which will allow us to search for messages that interest us and **pandas** to put our data in quality.\n",
        "\n",
        "So we don't use the API provided directly by Twitter (it's still possible to do so), but a **wrapper** written and maintained by a community.\n",
        "\n",
        "In object programming languages, a wrapper is \"an object that contains other objects\": we build a frame that makes the functions contained in a library available abroad, in an easy way. "
      ]
    },
    {
      "cell_type": "markdown",
      "metadata": {
        "id": "KgeLyG6CXxTf"
      },
      "source": [
        "Let's go install everything we need for the lab...\n",
        "\n",
        "*   tweepy (https://github.com/tweepy/tweepy)\n",
        "*   pandas\n",
        "\n"
      ]
    },
    {
      "cell_type": "code",
      "source": [
        "!pip uninstall tweepy"
      ],
      "metadata": {
        "colab": {
          "base_uri": "https://localhost:8080/",
          "height": 0
        },
        "id": "j3ecqWrC_Vwg",
        "outputId": "9bafa74c-9ded-4d48-9724-eb889de2e6b0"
      },
      "execution_count": 6,
      "outputs": [
        {
          "output_type": "stream",
          "name": "stdout",
          "text": [
            "\u001b[33mWARNING: Skipping tweepy as it is not installed.\u001b[0m\n"
          ]
        }
      ]
    },
    {
      "cell_type": "code",
      "metadata": {
        "colab": {
          "base_uri": "https://localhost:8080/",
          "height": 436
        },
        "id": "E7hyHqQ3XxTg",
        "outputId": "75c2bca8-5d71-4c13-8bae-0b2f289604d8"
      },
      "source": [
        "!pip install --user tweepy==4.10.0"
      ],
      "execution_count": 7,
      "outputs": [
        {
          "output_type": "stream",
          "name": "stdout",
          "text": [
            "Looking in indexes: https://pypi.org/simple, https://us-python.pkg.dev/colab-wheels/public/simple/\n",
            "Collecting tweepy==4.10.0\n",
            "  Downloading tweepy-4.10.0-py3-none-any.whl (94 kB)\n",
            "\u001b[K     |████████████████████████████████| 94 kB 2.1 MB/s \n",
            "\u001b[?25hCollecting requests<3,>=2.27.0\n",
            "  Downloading requests-2.28.0-py3-none-any.whl (62 kB)\n",
            "\u001b[K     |████████████████████████████████| 62 kB 785 kB/s \n",
            "\u001b[?25hRequirement already satisfied: requests-oauthlib<2,>=1.2.0 in /usr/local/lib/python3.7/dist-packages (from tweepy==4.10.0) (1.3.1)\n",
            "Requirement already satisfied: oauthlib<4,>=3.2.0 in /usr/local/lib/python3.7/dist-packages (from tweepy==4.10.0) (3.2.0)\n",
            "Requirement already satisfied: idna<4,>=2.5 in /usr/local/lib/python3.7/dist-packages (from requests<3,>=2.27.0->tweepy==4.10.0) (2.10)\n",
            "Requirement already satisfied: urllib3<1.27,>=1.21.1 in /usr/local/lib/python3.7/dist-packages (from requests<3,>=2.27.0->tweepy==4.10.0) (1.24.3)\n",
            "Requirement already satisfied: charset-normalizer~=2.0.0 in /usr/local/lib/python3.7/dist-packages (from requests<3,>=2.27.0->tweepy==4.10.0) (2.0.12)\n",
            "Requirement already satisfied: certifi>=2017.4.17 in /usr/local/lib/python3.7/dist-packages (from requests<3,>=2.27.0->tweepy==4.10.0) (2022.6.15)\n",
            "Installing collected packages: requests, tweepy\n",
            "\u001b[31mERROR: pip's dependency resolver does not currently take into account all the packages that are installed. This behaviour is the source of the following dependency conflicts.\n",
            "google-colab 1.0.0 requires requests~=2.23.0, but you have requests 2.28.0 which is incompatible.\n",
            "datascience 0.10.6 requires folium==0.2.1, but you have folium 0.8.3 which is incompatible.\u001b[0m\n",
            "Successfully installed requests-2.28.0 tweepy-4.10.0\n"
          ]
        },
        {
          "output_type": "display_data",
          "data": {
            "application/vnd.colab-display-data+json": {
              "pip_warning": {
                "packages": [
                  "requests",
                  "tweepy"
                ]
              }
            }
          },
          "metadata": {}
        }
      ]
    },
    {
      "cell_type": "markdown",
      "metadata": {
        "id": "5Kr8aZk3XxTv"
      },
      "source": [
        "Let's go import the modules we need for our work:\n",
        "- numpy\n",
        "- pandas\n",
        "- tqdm \n",
        "- **tweepy**"
      ]
    },
    {
      "cell_type": "code",
      "metadata": {
        "id": "b7X1kjQJXxTw"
      },
      "source": [
        "import tweepy\n",
        "import numpy as np\n",
        "import pandas as pd\n",
        "import pprint\n",
        "from tqdm import tqdm_notebook as tqdm "
      ],
      "execution_count": 16,
      "outputs": []
    },
    {
      "cell_type": "markdown",
      "metadata": {
        "id": "v0AM4cEKXxT2"
      },
      "source": [
        "First, we have to authorize our \"app\", we use the keys we generated for this purpose.\n",
        "\n",
        "We need the four values to authenticate with OAuth2:\n",
        "- consumer key\n",
        "- consumer secret\n",
        "- access token\n",
        "- access secret\n",
        "- bearer_token\n",
        "\n",
        "(specify your **keys**... )"
      ]
    },
    {
      "cell_type": "code",
      "metadata": {
        "id": "H73kob0hXxT2"
      },
      "source": [
        "consumer_key = 'relzm0nIaDnta3gJZu9hgCm7M'\n",
        "consumer_secret = '8g9BJEHg6AnmwPY6IbZusKFMxlFi4LmudW53td57eCOTZ6A9u2'\n",
        "access_token = '164224789-AmWFzkhBrIjGBYHzYrpGX0dp4aD90KhcPHAO9f3t'\n",
        "access_token_secret = 'B0rr4zyo8MqL6AQDOl26V8lWysZb9ZdzsrkE51bS58jOI'\n",
        "bearer_token = 'AAAAAAAAAAAAAAAAAAAAAGisdQEAAAAAl0kJBkk3IOavUNl7EvkIfbKmsj0%3DNnlAW0AgADhAes5GEYMWwuZy945qNNivTQG6j40iJJ73PgVdWZ'\n",
        "\n",
        "client = tweepy.Client( bearer_token=bearer_token, \n",
        "                        consumer_key=consumer_key, \n",
        "                        consumer_secret=consumer_secret, \n",
        "                        access_token=access_token, \n",
        "                        access_token_secret=access_token_secret, \n",
        "                        wait_on_rate_limit=True)"
      ],
      "execution_count": 17,
      "outputs": []
    },
    {
      "cell_type": "markdown",
      "metadata": {
        "id": "mfs301zuXxT5"
      },
      "source": [
        "\n",
        "\n",
        "\n",
        "The variable **client** is now the starting point for all our operations with **Twitter**.\n",
        "\n",
        "The **wait_on_rate_limit** parameter enables management of the client-side **rate_limit**. In this way we avoid *being blocked* for too much traffic.\n",
        "\n",
        "\n",
        "Let’s search Tweets from Atalanta_BC’s Twitter account (@Atalanta_BC)\n",
        "from the last 7 days (search_recent_tweets).\n",
        "\n",
        "We exclude Retweets and limit the result to a maximum of 100 Tweets.\n",
        "We also include some additional information with tweet_fields (author id and when the Tweet was created).\n"
      ]
    },
    {
      "cell_type": "code",
      "source": [
        "# Define query\n",
        "query = 'from:Atalanta_BC -is:retweet'\n",
        "\n",
        "# get max. 100 tweets\n",
        "tweets = client.search_recent_tweets(query=query, \n",
        "                                     tweet_fields = [\"created_at\", \"text\", \"source\", \"context_annotations\", \"author_id\"],\n",
        "                                     user_fields = [\"name\", \"username\", \"location\", \"verified\", \"description\"],\n",
        "                                     expansions='author_id',\n",
        "                                     max_results=100)"
      ],
      "metadata": {
        "id": "o7eh2Udv0Hdh"
      },
      "execution_count": 45,
      "outputs": []
    },
    {
      "cell_type": "code",
      "source": [
        "first_tweet = tweets.data[0]\n",
        "dict(first_tweet)"
      ],
      "metadata": {
        "colab": {
          "base_uri": "https://localhost:8080/"
        },
        "id": "yw6WmAhNGoMy",
        "outputId": "a935375d-97ae-4429-c73a-40a09bd04661"
      },
      "execution_count": 46,
      "outputs": [
        {
          "output_type": "execute_result",
          "data": {
            "text/plain": [
              "{'author_id': 338995273,\n",
              " 'context_annotations': [{'domain': {'description': 'A sports team organization, like Arsenal and the Boston Celtics',\n",
              "    'id': '12',\n",
              "    'name': 'Sports Team'},\n",
              "   'entity': {'id': '731226167089332224', 'name': 'Atalanta BC'}}],\n",
              " 'created_at': datetime.datetime(2022, 6, 21, 18, 0, 2, tzinfo=datetime.timezone.utc),\n",
              " 'id': 1539307166854782976,\n",
              " 'source': 'Twitter Web App',\n",
              " 'text': '#OnThisDay 📆 2020\\n\\nLa ripartenza 🔄🙏 The restart\\n\\n#GoAtalantaGo ⚫️🔵 https://t.co/sYVwhgS9RG'}"
            ]
          },
          "metadata": {},
          "execution_count": 46
        }
      ]
    },
    {
      "cell_type": "code",
      "source": [
        "# user information for the first tweet\n",
        "first_tweet_user = tweets.includes[\"users\"][0]\n",
        "dict(first_tweet_user)"
      ],
      "metadata": {
        "colab": {
          "base_uri": "https://localhost:8080/"
        },
        "id": "fYD5LGnDG1EI",
        "outputId": "3ed52f61-ef5c-4719-fe39-f6e2b9053c85"
      },
      "execution_count": 47,
      "outputs": [
        {
          "output_type": "execute_result",
          "data": {
            "text/plain": [
              "{'description': '⚽ Official profile of Atalanta Bergamasca Calcio \\n📍 Bergamo \\n🏟 Gewiss Stadium\\n🎮 @atalantaesports\\n🖤💙 #GoAtalantaGo #ForzaAtalanta',\n",
              " 'id': 338995273,\n",
              " 'location': 'Bergamo (BG) - Italy',\n",
              " 'name': 'Atalanta B.C.',\n",
              " 'username': 'Atalanta_BC',\n",
              " 'verified': True}"
            ]
          },
          "metadata": {},
          "execution_count": 47
        }
      ]
    },
    {
      "cell_type": "code",
      "source": [
        "tweets_data = tweets.data\n",
        "for tweet in tweets_data[:2]:\n",
        "    print(tweet[\"text\"])\n",
        "    if len(tweet[\"context_annotations\"]) > 0:\n",
        "        pprint.pprint(tweet[\"context_annotations\"])\n",
        "    print('-----------------------------------------------')"
      ],
      "metadata": {
        "colab": {
          "base_uri": "https://localhost:8080/"
        },
        "id": "iMkAEIjz1SUs",
        "outputId": "b2c8c33f-bdbd-4600-a4bd-4e524e972b01"
      },
      "execution_count": 48,
      "outputs": [
        {
          "output_type": "stream",
          "name": "stdout",
          "text": [
            "#OnThisDay 📆 2020\n",
            "\n",
            "La ripartenza 🔄🙏 The restart\n",
            "\n",
            "#GoAtalantaGo ⚫️🔵 https://t.co/sYVwhgS9RG\n",
            "[{'domain': {'description': 'A sports team organization, like Arsenal and the '\n",
            "                            'Boston Celtics',\n",
            "             'id': '12',\n",
            "             'name': 'Sports Team'},\n",
            "  'entity': {'id': '731226167089332224', 'name': 'Atalanta BC'}}]\n",
            "-----------------------------------------------\n",
            "Cheeese 😁 #NationalSelfieDay \n",
            "\n",
            "@musso_juan #GoAtalantaGo ⚫️🔵 https://t.co/LInHGFohQo\n",
            "[{'domain': {'description': 'Named people in the world like Nelson Mandela',\n",
            "             'id': '10',\n",
            "             'name': 'Person'},\n",
            "  'entity': {'id': '733774501435953152', 'name': 'Juan Musso'}},\n",
            " {'domain': {'description': 'A sports team organization, like Arsenal and the '\n",
            "                            'Boston Celtics',\n",
            "             'id': '12',\n",
            "             'name': 'Sports Team'},\n",
            "  'entity': {'id': '731226167089332224', 'name': 'Atalanta BC'}},\n",
            " {'domain': {'description': 'Entity Service related Events domain',\n",
            "             'id': '29',\n",
            "             'name': 'Events [Entity Service]'},\n",
            "  'entity': {'description': 'This entity for all conversations going all years '\n",
            "                            'for National Selfie Day',\n",
            "             'id': '1253283751733293058',\n",
            "             'name': 'National Selfie Day '}},\n",
            " {'domain': {'description': 'An athlete in the world, like Serena Williams or '\n",
            "                            'Lionel Messi',\n",
            "             'id': '60',\n",
            "             'name': 'Athlete'},\n",
            "  'entity': {'id': '733774501435953152', 'name': 'Juan Musso'}},\n",
            " {'domain': {'description': 'Twitter generated Trends that occur on a daily, '\n",
            "                            'weekly, monthly, or yearly basis',\n",
            "             'id': '109',\n",
            "             'name': 'Reoccurring Trends'},\n",
            "  'entity': {'description': 'This entity for all conversations going all years '\n",
            "                            'for National Selfie Day',\n",
            "             'id': '1253283751733293058',\n",
            "             'name': 'National Selfie Day '}},\n",
            " {'domain': {'description': 'Holidays like Christmas or Halloween',\n",
            "             'id': '119',\n",
            "             'name': 'Holiday'},\n",
            "  'entity': {'id': '1402287578343088130', 'name': 'Days of celebration'}}]\n",
            "-----------------------------------------------\n"
          ]
        }
      ]
    },
    {
      "cell_type": "markdown",
      "source": [
        "Convert tweets to a Pandas dataframe"
      ],
      "metadata": {
        "id": "13fzFRSe0xsM"
      }
    },
    {
      "cell_type": "code",
      "source": [
        "tweets.includes"
      ],
      "metadata": {
        "colab": {
          "base_uri": "https://localhost:8080/"
        },
        "id": "fVr98UoMH4k4",
        "outputId": "fce67d5b-e3fc-46c5-dc11-defa47a308b6"
      },
      "execution_count": 54,
      "outputs": [
        {
          "output_type": "execute_result",
          "data": {
            "text/plain": [
              "{'users': [<User id=338995273 name=Atalanta B.C. username=Atalanta_BC>]}"
            ]
          },
          "metadata": {},
          "execution_count": 54
        }
      ]
    },
    {
      "cell_type": "code",
      "source": [
        "import pandas as pd\n",
        "tweet_info_ls = []\n",
        "user_info_ls = []\n",
        "\n",
        "# iterate over each tweet and corresponding user details\n",
        "for tweet in tweets.data:\n",
        "    tweet_info = {\n",
        "        'created_at': tweet.created_at,\n",
        "        'text': tweet.text,\n",
        "        'source': tweet.source,\n",
        "        'author_id': tweet.author_id\n",
        "    }\n",
        "    tweet_info_ls.append(tweet_info)\n",
        "\n",
        "\n",
        "for user in tweets.includes[\"users\"]:\n",
        "    user_info = {\n",
        "        'author_id': user.id,\n",
        "        'name': user.name,\n",
        "        'username': user.username,\n",
        "        'location': user.location,\n",
        "        'verified': user.verified,\n",
        "        'description': user.description\n",
        "    }\n",
        "    user_info_ls.append(user_info)\n",
        "\n",
        "tweets_df = pd.DataFrame(tweet_info_ls)\n",
        "users_df = pd.DataFrame(user_info_ls)\n",
        "\n",
        "tweets_final_df = tweets_df.merge(users_df, on=[\"author_id\"], how=\"left\")\n"
      ],
      "metadata": {
        "id": "7OKBuuTs01IB"
      },
      "execution_count": 58,
      "outputs": []
    },
    {
      "cell_type": "code",
      "source": [
        "len(users_df)"
      ],
      "metadata": {
        "colab": {
          "base_uri": "https://localhost:8080/"
        },
        "id": "tmlQnv98ILKf",
        "outputId": "3562f252-2b76-4c7f-f0eb-17d917daa6cd"
      },
      "execution_count": 59,
      "outputs": [
        {
          "output_type": "execute_result",
          "data": {
            "text/plain": [
              "1"
            ]
          },
          "metadata": {},
          "execution_count": 59
        }
      ]
    },
    {
      "cell_type": "code",
      "source": [
        "len(tweets_df)"
      ],
      "metadata": {
        "colab": {
          "base_uri": "https://localhost:8080/"
        },
        "id": "T5TT_gcnHV_W",
        "outputId": "78e1f17e-fade-48f5-c94f-e5eb2b280dda"
      },
      "execution_count": 60,
      "outputs": [
        {
          "output_type": "execute_result",
          "data": {
            "text/plain": [
              "27"
            ]
          },
          "metadata": {},
          "execution_count": 60
        }
      ]
    },
    {
      "cell_type": "code",
      "source": [
        "# display the dataframe\n",
        "tweets_final_df.head()"
      ],
      "metadata": {
        "colab": {
          "base_uri": "https://localhost:8080/",
          "height": 337
        },
        "id": "0Z4U_AtQFScC",
        "outputId": "b975c817-e213-4d50-f136-70542e894176"
      },
      "execution_count": 61,
      "outputs": [
        {
          "output_type": "execute_result",
          "data": {
            "text/plain": [
              "                 created_at  \\\n",
              "0 2022-06-21 18:00:02+00:00   \n",
              "1 2022-06-21 17:15:00+00:00   \n",
              "2 2022-06-21 15:59:56+00:00   \n",
              "3 2022-06-21 15:58:44+00:00   \n",
              "4 2022-06-21 11:09:32+00:00   \n",
              "\n",
              "                                                text                source  \\\n",
              "0  #OnThisDay 📆 2020\\n\\nLa ripartenza 🔄🙏 The rest...       Twitter Web App   \n",
              "1  Cheeese 😁 #NationalSelfieDay \\n\\n@musso_juan #...       Twitter Web App   \n",
              "2  ... The celebration ⬇️🤪\\n\\n#Palomino #GoAtalan...       Twitter Web App   \n",
              "3  21/22 Moments 🎬 \\n\\nThe goal 🤯 ⬇️  ...\\n\\n#Pal...  Twitter Media Studio   \n",
              "4  𝗚𝗨𝗘𝗦𝗦 𝗪𝗛𝗢 | ✅\\n\\nAnd it was... \\nIGOR BUDAN\\n\\...   Twitter for Android   \n",
              "\n",
              "   author_id           name     username              location  verified  \\\n",
              "0  338995273  Atalanta B.C.  Atalanta_BC  Bergamo (BG) - Italy      True   \n",
              "1  338995273  Atalanta B.C.  Atalanta_BC  Bergamo (BG) - Italy      True   \n",
              "2  338995273  Atalanta B.C.  Atalanta_BC  Bergamo (BG) - Italy      True   \n",
              "3  338995273  Atalanta B.C.  Atalanta_BC  Bergamo (BG) - Italy      True   \n",
              "4  338995273  Atalanta B.C.  Atalanta_BC  Bergamo (BG) - Italy      True   \n",
              "\n",
              "                                         description  \n",
              "0  ⚽ Official profile of Atalanta Bergamasca Calc...  \n",
              "1  ⚽ Official profile of Atalanta Bergamasca Calc...  \n",
              "2  ⚽ Official profile of Atalanta Bergamasca Calc...  \n",
              "3  ⚽ Official profile of Atalanta Bergamasca Calc...  \n",
              "4  ⚽ Official profile of Atalanta Bergamasca Calc...  "
            ],
            "text/html": [
              "\n",
              "  <div id=\"df-b62201d4-049c-4cd6-8abc-a63a0dd27dd6\">\n",
              "    <div class=\"colab-df-container\">\n",
              "      <div>\n",
              "<style scoped>\n",
              "    .dataframe tbody tr th:only-of-type {\n",
              "        vertical-align: middle;\n",
              "    }\n",
              "\n",
              "    .dataframe tbody tr th {\n",
              "        vertical-align: top;\n",
              "    }\n",
              "\n",
              "    .dataframe thead th {\n",
              "        text-align: right;\n",
              "    }\n",
              "</style>\n",
              "<table border=\"1\" class=\"dataframe\">\n",
              "  <thead>\n",
              "    <tr style=\"text-align: right;\">\n",
              "      <th></th>\n",
              "      <th>created_at</th>\n",
              "      <th>text</th>\n",
              "      <th>source</th>\n",
              "      <th>author_id</th>\n",
              "      <th>name</th>\n",
              "      <th>username</th>\n",
              "      <th>location</th>\n",
              "      <th>verified</th>\n",
              "      <th>description</th>\n",
              "    </tr>\n",
              "  </thead>\n",
              "  <tbody>\n",
              "    <tr>\n",
              "      <th>0</th>\n",
              "      <td>2022-06-21 18:00:02+00:00</td>\n",
              "      <td>#OnThisDay 📆 2020\\n\\nLa ripartenza 🔄🙏 The rest...</td>\n",
              "      <td>Twitter Web App</td>\n",
              "      <td>338995273</td>\n",
              "      <td>Atalanta B.C.</td>\n",
              "      <td>Atalanta_BC</td>\n",
              "      <td>Bergamo (BG) - Italy</td>\n",
              "      <td>True</td>\n",
              "      <td>⚽ Official profile of Atalanta Bergamasca Calc...</td>\n",
              "    </tr>\n",
              "    <tr>\n",
              "      <th>1</th>\n",
              "      <td>2022-06-21 17:15:00+00:00</td>\n",
              "      <td>Cheeese 😁 #NationalSelfieDay \\n\\n@musso_juan #...</td>\n",
              "      <td>Twitter Web App</td>\n",
              "      <td>338995273</td>\n",
              "      <td>Atalanta B.C.</td>\n",
              "      <td>Atalanta_BC</td>\n",
              "      <td>Bergamo (BG) - Italy</td>\n",
              "      <td>True</td>\n",
              "      <td>⚽ Official profile of Atalanta Bergamasca Calc...</td>\n",
              "    </tr>\n",
              "    <tr>\n",
              "      <th>2</th>\n",
              "      <td>2022-06-21 15:59:56+00:00</td>\n",
              "      <td>... The celebration ⬇️🤪\\n\\n#Palomino #GoAtalan...</td>\n",
              "      <td>Twitter Web App</td>\n",
              "      <td>338995273</td>\n",
              "      <td>Atalanta B.C.</td>\n",
              "      <td>Atalanta_BC</td>\n",
              "      <td>Bergamo (BG) - Italy</td>\n",
              "      <td>True</td>\n",
              "      <td>⚽ Official profile of Atalanta Bergamasca Calc...</td>\n",
              "    </tr>\n",
              "    <tr>\n",
              "      <th>3</th>\n",
              "      <td>2022-06-21 15:58:44+00:00</td>\n",
              "      <td>21/22 Moments 🎬 \\n\\nThe goal 🤯 ⬇️  ...\\n\\n#Pal...</td>\n",
              "      <td>Twitter Media Studio</td>\n",
              "      <td>338995273</td>\n",
              "      <td>Atalanta B.C.</td>\n",
              "      <td>Atalanta_BC</td>\n",
              "      <td>Bergamo (BG) - Italy</td>\n",
              "      <td>True</td>\n",
              "      <td>⚽ Official profile of Atalanta Bergamasca Calc...</td>\n",
              "    </tr>\n",
              "    <tr>\n",
              "      <th>4</th>\n",
              "      <td>2022-06-21 11:09:32+00:00</td>\n",
              "      <td>𝗚𝗨𝗘𝗦𝗦 𝗪𝗛𝗢 | ✅\\n\\nAnd it was... \\nIGOR BUDAN\\n\\...</td>\n",
              "      <td>Twitter for Android</td>\n",
              "      <td>338995273</td>\n",
              "      <td>Atalanta B.C.</td>\n",
              "      <td>Atalanta_BC</td>\n",
              "      <td>Bergamo (BG) - Italy</td>\n",
              "      <td>True</td>\n",
              "      <td>⚽ Official profile of Atalanta Bergamasca Calc...</td>\n",
              "    </tr>\n",
              "  </tbody>\n",
              "</table>\n",
              "</div>\n",
              "      <button class=\"colab-df-convert\" onclick=\"convertToInteractive('df-b62201d4-049c-4cd6-8abc-a63a0dd27dd6')\"\n",
              "              title=\"Convert this dataframe to an interactive table.\"\n",
              "              style=\"display:none;\">\n",
              "        \n",
              "  <svg xmlns=\"http://www.w3.org/2000/svg\" height=\"24px\"viewBox=\"0 0 24 24\"\n",
              "       width=\"24px\">\n",
              "    <path d=\"M0 0h24v24H0V0z\" fill=\"none\"/>\n",
              "    <path d=\"M18.56 5.44l.94 2.06.94-2.06 2.06-.94-2.06-.94-.94-2.06-.94 2.06-2.06.94zm-11 1L8.5 8.5l.94-2.06 2.06-.94-2.06-.94L8.5 2.5l-.94 2.06-2.06.94zm10 10l.94 2.06.94-2.06 2.06-.94-2.06-.94-.94-2.06-.94 2.06-2.06.94z\"/><path d=\"M17.41 7.96l-1.37-1.37c-.4-.4-.92-.59-1.43-.59-.52 0-1.04.2-1.43.59L10.3 9.45l-7.72 7.72c-.78.78-.78 2.05 0 2.83L4 21.41c.39.39.9.59 1.41.59.51 0 1.02-.2 1.41-.59l7.78-7.78 2.81-2.81c.8-.78.8-2.07 0-2.86zM5.41 20L4 18.59l7.72-7.72 1.47 1.35L5.41 20z\"/>\n",
              "  </svg>\n",
              "      </button>\n",
              "      \n",
              "  <style>\n",
              "    .colab-df-container {\n",
              "      display:flex;\n",
              "      flex-wrap:wrap;\n",
              "      gap: 12px;\n",
              "    }\n",
              "\n",
              "    .colab-df-convert {\n",
              "      background-color: #E8F0FE;\n",
              "      border: none;\n",
              "      border-radius: 50%;\n",
              "      cursor: pointer;\n",
              "      display: none;\n",
              "      fill: #1967D2;\n",
              "      height: 32px;\n",
              "      padding: 0 0 0 0;\n",
              "      width: 32px;\n",
              "    }\n",
              "\n",
              "    .colab-df-convert:hover {\n",
              "      background-color: #E2EBFA;\n",
              "      box-shadow: 0px 1px 2px rgba(60, 64, 67, 0.3), 0px 1px 3px 1px rgba(60, 64, 67, 0.15);\n",
              "      fill: #174EA6;\n",
              "    }\n",
              "\n",
              "    [theme=dark] .colab-df-convert {\n",
              "      background-color: #3B4455;\n",
              "      fill: #D2E3FC;\n",
              "    }\n",
              "\n",
              "    [theme=dark] .colab-df-convert:hover {\n",
              "      background-color: #434B5C;\n",
              "      box-shadow: 0px 1px 3px 1px rgba(0, 0, 0, 0.15);\n",
              "      filter: drop-shadow(0px 1px 2px rgba(0, 0, 0, 0.3));\n",
              "      fill: #FFFFFF;\n",
              "    }\n",
              "  </style>\n",
              "\n",
              "      <script>\n",
              "        const buttonEl =\n",
              "          document.querySelector('#df-b62201d4-049c-4cd6-8abc-a63a0dd27dd6 button.colab-df-convert');\n",
              "        buttonEl.style.display =\n",
              "          google.colab.kernel.accessAllowed ? 'block' : 'none';\n",
              "\n",
              "        async function convertToInteractive(key) {\n",
              "          const element = document.querySelector('#df-b62201d4-049c-4cd6-8abc-a63a0dd27dd6');\n",
              "          const dataTable =\n",
              "            await google.colab.kernel.invokeFunction('convertToInteractive',\n",
              "                                                     [key], {});\n",
              "          if (!dataTable) return;\n",
              "\n",
              "          const docLinkHtml = 'Like what you see? Visit the ' +\n",
              "            '<a target=\"_blank\" href=https://colab.research.google.com/notebooks/data_table.ipynb>data table notebook</a>'\n",
              "            + ' to learn more about interactive tables.';\n",
              "          element.innerHTML = '';\n",
              "          dataTable['output_type'] = 'display_data';\n",
              "          await google.colab.output.renderOutput(dataTable, element);\n",
              "          const docLink = document.createElement('div');\n",
              "          docLink.innerHTML = docLinkHtml;\n",
              "          element.appendChild(docLink);\n",
              "        }\n",
              "      </script>\n",
              "    </div>\n",
              "  </div>\n",
              "  "
            ]
          },
          "metadata": {},
          "execution_count": 61
        }
      ]
    },
    {
      "cell_type": "markdown",
      "source": [
        "# Search\n"
      ],
      "metadata": {
        "id": "tQpfXtU015NZ"
      }
    },
    {
      "cell_type": "markdown",
      "metadata": {
        "id": "n1J8esYyXxT_"
      },
      "source": [
        "\n",
        "Let's look for all tweets related to **#Spread**\n",
        "(or you can specify a search to your liking)\n",
        "\n",
        "We use the bee `.search_recent_tweets` which provides these parameters:\n",
        "- `query` the query string to submit to Twitter\n",
        "\n",
        "Let's collect more than 10,000 status and go save them in a list."
      ]
    },
    {
      "cell_type": "code",
      "source": [
        "query = 'maturita2022'\n",
        "\n",
        "\n",
        "tweets_data_total = []\n",
        "for tweet in tweepy.Paginator(client.search_recent_tweets, query=query,\n",
        "                              tweet_fields=['context_annotations', \"text\", \"source\", 'created_at', 'author_id', 'public_metrics', 'geo'],\n",
        "                              #media_fields=['preview_image_url'],\n",
        "                              #place_fields=['place_type', 'geo'],\n",
        "                              user_fields = [\"name\", \"username\", \"location\", \"verified\", \"description\"],\n",
        "                              expansions='author_id',\n",
        "                              max_results=100, limit=100):\n",
        "    tweets_data_total.append(tweet)\n",
        "\n"
      ],
      "metadata": {
        "id": "0Q4aNeGo2WC5"
      },
      "execution_count": 157,
      "outputs": []
    },
    {
      "cell_type": "code",
      "source": [
        "len(tweets_data_total)"
      ],
      "metadata": {
        "colab": {
          "base_uri": "https://localhost:8080/"
        },
        "id": "Gps_p45jJBz7",
        "outputId": "a2b52fa2-cde5-452b-9f49-7aa414374ddf"
      },
      "execution_count": 163,
      "outputs": [
        {
          "output_type": "execute_result",
          "data": {
            "text/plain": [
              "100"
            ]
          },
          "metadata": {},
          "execution_count": 163
        }
      ]
    },
    {
      "cell_type": "code",
      "source": [
        "tweet_info_ls = []\n",
        "user_info_ls = []\n",
        "\n",
        "def extract_hash_tags(s):\n",
        "  return set(part[1:] for part in s.split() if part.startswith('#'))\n",
        "\n",
        "# iterate over each tweet and corresponding user details\n",
        "for t in tweets_data_total:\n",
        "    tweets = t.data\n",
        "    for tweet in tweets:\n",
        "      tweet_info = {\n",
        "          'created_at': tweet.created_at,\n",
        "          'text': tweet.text,\n",
        "          'source': tweet.source,\n",
        "          'author_id': tweet.author_id,\n",
        "          'retweet_count': tweet.public_metrics[\"retweet_count\"] if 'retweet_count' in tweet.public_metrics else 0,\n",
        "          'like_count': tweet.public_metrics[\"like_count\"],\n",
        "          'hashtags': extract_hash_tags(tweet.text)\n",
        "      }\n",
        "      tweet_info_ls.append(tweet_info)\n",
        "\n",
        "\n",
        "for t in tweets_data_total:\n",
        "    users = t.includes[\"users\"]\n",
        "    for user in users:\n",
        "      user_info = {\n",
        "          'author_id': user.id,\n",
        "          'name': user.name,\n",
        "          'username': user.username,\n",
        "          'location': user.location,\n",
        "          'verified': user.verified,\n",
        "          'user_description': user.description\n",
        "      }\n",
        "      user_info_ls.append(user_info)\n",
        "\n",
        "tweets_df = pd.DataFrame(tweet_info_ls)\n",
        "users_df = pd.DataFrame(user_info_ls)\n",
        "\n",
        "tweets_final_df = tweets_df.merge(users_df, on=[\"author_id\"], how=\"left\")\n"
      ],
      "metadata": {
        "id": "TWoUOZOQBSkj"
      },
      "execution_count": 160,
      "outputs": []
    },
    {
      "cell_type": "code",
      "source": [
        "len(tweets_final_df)"
      ],
      "metadata": {
        "colab": {
          "base_uri": "https://localhost:8080/"
        },
        "id": "CyHTJuhD4CZV",
        "outputId": "04583357-15b6-4265-f699-e1a01bf100b4"
      },
      "execution_count": 161,
      "outputs": [
        {
          "output_type": "execute_result",
          "data": {
            "text/plain": [
              "30753"
            ]
          },
          "metadata": {},
          "execution_count": 161
        }
      ]
    },
    {
      "cell_type": "code",
      "source": [
        "tweets_final_df"
      ],
      "metadata": {
        "colab": {
          "base_uri": "https://localhost:8080/",
          "height": 832
        },
        "id": "I-uTTrAjTDHa",
        "outputId": "52c28616-deda-4a32-b019-fa6a411a0745"
      },
      "execution_count": 162,
      "outputs": [
        {
          "output_type": "execute_result",
          "data": {
            "text/plain": [
              "                     created_at  \\\n",
              "0     2022-06-21 22:12:55+00:00   \n",
              "1     2022-06-21 22:12:50+00:00   \n",
              "2     2022-06-21 22:12:50+00:00   \n",
              "3     2022-06-21 22:12:50+00:00   \n",
              "4     2022-06-21 22:12:50+00:00   \n",
              "...                         ...   \n",
              "30748 2022-06-21 08:36:29+00:00   \n",
              "30749 2022-06-21 08:36:29+00:00   \n",
              "30750 2022-06-21 08:36:29+00:00   \n",
              "30751 2022-06-21 08:36:18+00:00   \n",
              "30752 2022-06-21 08:36:14+00:00   \n",
              "\n",
              "                                                    text               source  \\\n",
              "0      RT @howajtow: la commissione orale mentre dirò...   Twitter for iPhone   \n",
              "1      Che ansia ora mi metto a ripassare qualcosa\\n#...   Twitter for iPhone   \n",
              "2      Che ansia ora mi metto a ripassare qualcosa\\n#...   Twitter for iPhone   \n",
              "3      Che ansia ora mi metto a ripassare qualcosa\\n#...   Twitter for iPhone   \n",
              "4      Che ansia ora mi metto a ripassare qualcosa\\n#...   Twitter for iPhone   \n",
              "...                                                  ...                  ...   \n",
              "30748  Io domani punto alla traccia B o C sperando ch...  Twitter for Android   \n",
              "30749  Io domani punto alla traccia B o C sperando ch...  Twitter for Android   \n",
              "30750  Io domani punto alla traccia B o C sperando ch...  Twitter for Android   \n",
              "30751  RT @lov3lss: #maturita2022 \\normai così disper...   Twitter for iPhone   \n",
              "30752  RT @vantaegra: non ci resta che affidarci  a d...   Twitter for iPhone   \n",
              "\n",
              "                 author_id  retweet_count  like_count        hashtags  \\\n",
              "0      1380560416410116097            285           0  {maturita2022}   \n",
              "1       905001220414345217              0           0  {Maturità2022}   \n",
              "2       905001220414345217              0           0  {Maturità2022}   \n",
              "3       905001220414345217              0           0  {Maturità2022}   \n",
              "4       905001220414345217              0           0  {Maturità2022}   \n",
              "...                    ...            ...         ...             ...   \n",
              "30748           3304595717              0           1  {maturita2022}   \n",
              "30749           3304595717              0           1  {maturita2022}   \n",
              "30750           3304595717              0           1  {maturita2022}   \n",
              "30751           3624299914            594           0  {maturita2022}   \n",
              "30752  1148359176101531648             75           0  {maturita2022}   \n",
              "\n",
              "                      name       username                      location  \\\n",
              "0                     ΛƧIΛ  asiaortolanii  Forlì-Cesena, Emilia Romagna   \n",
              "1      ℛ𝑜𝑠 𝘥𝘦𝘷𝘦 𝘮𝘢𝘵𝘶𝘳𝘢𝘳𝘴𝘪🥵   roserome1927                   Caput Mundi   \n",
              "2      ℛ𝑜𝑠 𝘥𝘦𝘷𝘦 𝘮𝘢𝘵𝘶𝘳𝘢𝘳𝘴𝘪🥵   roserome1927                   Caput Mundi   \n",
              "3      ℛ𝑜𝑠 𝘥𝘦𝘷𝘦 𝘮𝘢𝘵𝘶𝘳𝘢𝘳𝘴𝘪🥵   roserome1927                   Caput Mundi   \n",
              "4      ℛ𝑜𝑠 𝘥𝘦𝘷𝘦 𝘮𝘢𝘵𝘶𝘳𝘢𝘳𝘴𝘪🥵   roserome1927                   Caput Mundi   \n",
              "...                    ...            ...                           ...   \n",
              "30748             djoker19      celi_luca                          None   \n",
              "30749             djoker19      celi_luca                          None   \n",
              "30750             djoker19      celi_luca                          None   \n",
              "30751               Marta🐧    _martuccia_                          None   \n",
              "30752                 Fra🐍     G3m1n1Soul                        Italia   \n",
              "\n",
              "       verified                                   user_description  \n",
              "0         False  in allegato: problemi esistenziali ma tante ri...  \n",
              "1         False  Parlo di tante cose | she/her | ASR - EL92 & L...  \n",
              "2         False  Parlo di tante cose | she/her | ASR - EL92 & L...  \n",
              "3         False  Parlo di tante cose | she/her | ASR - EL92 & L...  \n",
              "4         False  Parlo di tante cose | she/her | ASR - EL92 & L...  \n",
              "...         ...                                                ...  \n",
              "30748     False                                                     \n",
              "30749     False                                                     \n",
              "30750     False                                                     \n",
              "30751     False                                                     \n",
              "30752     False                                     she/her INTP-T  \n",
              "\n",
              "[30753 rows x 12 columns]"
            ],
            "text/html": [
              "\n",
              "  <div id=\"df-bd3cb6b3-46e1-423d-a227-c0c52c4eb52a\">\n",
              "    <div class=\"colab-df-container\">\n",
              "      <div>\n",
              "<style scoped>\n",
              "    .dataframe tbody tr th:only-of-type {\n",
              "        vertical-align: middle;\n",
              "    }\n",
              "\n",
              "    .dataframe tbody tr th {\n",
              "        vertical-align: top;\n",
              "    }\n",
              "\n",
              "    .dataframe thead th {\n",
              "        text-align: right;\n",
              "    }\n",
              "</style>\n",
              "<table border=\"1\" class=\"dataframe\">\n",
              "  <thead>\n",
              "    <tr style=\"text-align: right;\">\n",
              "      <th></th>\n",
              "      <th>created_at</th>\n",
              "      <th>text</th>\n",
              "      <th>source</th>\n",
              "      <th>author_id</th>\n",
              "      <th>retweet_count</th>\n",
              "      <th>like_count</th>\n",
              "      <th>hashtags</th>\n",
              "      <th>name</th>\n",
              "      <th>username</th>\n",
              "      <th>location</th>\n",
              "      <th>verified</th>\n",
              "      <th>user_description</th>\n",
              "    </tr>\n",
              "  </thead>\n",
              "  <tbody>\n",
              "    <tr>\n",
              "      <th>0</th>\n",
              "      <td>2022-06-21 22:12:55+00:00</td>\n",
              "      <td>RT @howajtow: la commissione orale mentre dirò...</td>\n",
              "      <td>Twitter for iPhone</td>\n",
              "      <td>1380560416410116097</td>\n",
              "      <td>285</td>\n",
              "      <td>0</td>\n",
              "      <td>{maturita2022}</td>\n",
              "      <td>ΛƧIΛ</td>\n",
              "      <td>asiaortolanii</td>\n",
              "      <td>Forlì-Cesena, Emilia Romagna</td>\n",
              "      <td>False</td>\n",
              "      <td>in allegato: problemi esistenziali ma tante ri...</td>\n",
              "    </tr>\n",
              "    <tr>\n",
              "      <th>1</th>\n",
              "      <td>2022-06-21 22:12:50+00:00</td>\n",
              "      <td>Che ansia ora mi metto a ripassare qualcosa\\n#...</td>\n",
              "      <td>Twitter for iPhone</td>\n",
              "      <td>905001220414345217</td>\n",
              "      <td>0</td>\n",
              "      <td>0</td>\n",
              "      <td>{Maturità2022}</td>\n",
              "      <td>ℛ𝑜𝑠 𝘥𝘦𝘷𝘦 𝘮𝘢𝘵𝘶𝘳𝘢𝘳𝘴𝘪🥵</td>\n",
              "      <td>roserome1927</td>\n",
              "      <td>Caput Mundi</td>\n",
              "      <td>False</td>\n",
              "      <td>Parlo di tante cose | she/her | ASR - EL92 &amp; L...</td>\n",
              "    </tr>\n",
              "    <tr>\n",
              "      <th>2</th>\n",
              "      <td>2022-06-21 22:12:50+00:00</td>\n",
              "      <td>Che ansia ora mi metto a ripassare qualcosa\\n#...</td>\n",
              "      <td>Twitter for iPhone</td>\n",
              "      <td>905001220414345217</td>\n",
              "      <td>0</td>\n",
              "      <td>0</td>\n",
              "      <td>{Maturità2022}</td>\n",
              "      <td>ℛ𝑜𝑠 𝘥𝘦𝘷𝘦 𝘮𝘢𝘵𝘶𝘳𝘢𝘳𝘴𝘪🥵</td>\n",
              "      <td>roserome1927</td>\n",
              "      <td>Caput Mundi</td>\n",
              "      <td>False</td>\n",
              "      <td>Parlo di tante cose | she/her | ASR - EL92 &amp; L...</td>\n",
              "    </tr>\n",
              "    <tr>\n",
              "      <th>3</th>\n",
              "      <td>2022-06-21 22:12:50+00:00</td>\n",
              "      <td>Che ansia ora mi metto a ripassare qualcosa\\n#...</td>\n",
              "      <td>Twitter for iPhone</td>\n",
              "      <td>905001220414345217</td>\n",
              "      <td>0</td>\n",
              "      <td>0</td>\n",
              "      <td>{Maturità2022}</td>\n",
              "      <td>ℛ𝑜𝑠 𝘥𝘦𝘷𝘦 𝘮𝘢𝘵𝘶𝘳𝘢𝘳𝘴𝘪🥵</td>\n",
              "      <td>roserome1927</td>\n",
              "      <td>Caput Mundi</td>\n",
              "      <td>False</td>\n",
              "      <td>Parlo di tante cose | she/her | ASR - EL92 &amp; L...</td>\n",
              "    </tr>\n",
              "    <tr>\n",
              "      <th>4</th>\n",
              "      <td>2022-06-21 22:12:50+00:00</td>\n",
              "      <td>Che ansia ora mi metto a ripassare qualcosa\\n#...</td>\n",
              "      <td>Twitter for iPhone</td>\n",
              "      <td>905001220414345217</td>\n",
              "      <td>0</td>\n",
              "      <td>0</td>\n",
              "      <td>{Maturità2022}</td>\n",
              "      <td>ℛ𝑜𝑠 𝘥𝘦𝘷𝘦 𝘮𝘢𝘵𝘶𝘳𝘢𝘳𝘴𝘪🥵</td>\n",
              "      <td>roserome1927</td>\n",
              "      <td>Caput Mundi</td>\n",
              "      <td>False</td>\n",
              "      <td>Parlo di tante cose | she/her | ASR - EL92 &amp; L...</td>\n",
              "    </tr>\n",
              "    <tr>\n",
              "      <th>...</th>\n",
              "      <td>...</td>\n",
              "      <td>...</td>\n",
              "      <td>...</td>\n",
              "      <td>...</td>\n",
              "      <td>...</td>\n",
              "      <td>...</td>\n",
              "      <td>...</td>\n",
              "      <td>...</td>\n",
              "      <td>...</td>\n",
              "      <td>...</td>\n",
              "      <td>...</td>\n",
              "      <td>...</td>\n",
              "    </tr>\n",
              "    <tr>\n",
              "      <th>30748</th>\n",
              "      <td>2022-06-21 08:36:29+00:00</td>\n",
              "      <td>Io domani punto alla traccia B o C sperando ch...</td>\n",
              "      <td>Twitter for Android</td>\n",
              "      <td>3304595717</td>\n",
              "      <td>0</td>\n",
              "      <td>1</td>\n",
              "      <td>{maturita2022}</td>\n",
              "      <td>djoker19</td>\n",
              "      <td>celi_luca</td>\n",
              "      <td>None</td>\n",
              "      <td>False</td>\n",
              "      <td></td>\n",
              "    </tr>\n",
              "    <tr>\n",
              "      <th>30749</th>\n",
              "      <td>2022-06-21 08:36:29+00:00</td>\n",
              "      <td>Io domani punto alla traccia B o C sperando ch...</td>\n",
              "      <td>Twitter for Android</td>\n",
              "      <td>3304595717</td>\n",
              "      <td>0</td>\n",
              "      <td>1</td>\n",
              "      <td>{maturita2022}</td>\n",
              "      <td>djoker19</td>\n",
              "      <td>celi_luca</td>\n",
              "      <td>None</td>\n",
              "      <td>False</td>\n",
              "      <td></td>\n",
              "    </tr>\n",
              "    <tr>\n",
              "      <th>30750</th>\n",
              "      <td>2022-06-21 08:36:29+00:00</td>\n",
              "      <td>Io domani punto alla traccia B o C sperando ch...</td>\n",
              "      <td>Twitter for Android</td>\n",
              "      <td>3304595717</td>\n",
              "      <td>0</td>\n",
              "      <td>1</td>\n",
              "      <td>{maturita2022}</td>\n",
              "      <td>djoker19</td>\n",
              "      <td>celi_luca</td>\n",
              "      <td>None</td>\n",
              "      <td>False</td>\n",
              "      <td></td>\n",
              "    </tr>\n",
              "    <tr>\n",
              "      <th>30751</th>\n",
              "      <td>2022-06-21 08:36:18+00:00</td>\n",
              "      <td>RT @lov3lss: #maturita2022 \\normai così disper...</td>\n",
              "      <td>Twitter for iPhone</td>\n",
              "      <td>3624299914</td>\n",
              "      <td>594</td>\n",
              "      <td>0</td>\n",
              "      <td>{maturita2022}</td>\n",
              "      <td>Marta🐧</td>\n",
              "      <td>_martuccia_</td>\n",
              "      <td>None</td>\n",
              "      <td>False</td>\n",
              "      <td></td>\n",
              "    </tr>\n",
              "    <tr>\n",
              "      <th>30752</th>\n",
              "      <td>2022-06-21 08:36:14+00:00</td>\n",
              "      <td>RT @vantaegra: non ci resta che affidarci  a d...</td>\n",
              "      <td>Twitter for iPhone</td>\n",
              "      <td>1148359176101531648</td>\n",
              "      <td>75</td>\n",
              "      <td>0</td>\n",
              "      <td>{maturita2022}</td>\n",
              "      <td>Fra🐍</td>\n",
              "      <td>G3m1n1Soul</td>\n",
              "      <td>Italia</td>\n",
              "      <td>False</td>\n",
              "      <td>she/her INTP-T</td>\n",
              "    </tr>\n",
              "  </tbody>\n",
              "</table>\n",
              "<p>30753 rows × 12 columns</p>\n",
              "</div>\n",
              "      <button class=\"colab-df-convert\" onclick=\"convertToInteractive('df-bd3cb6b3-46e1-423d-a227-c0c52c4eb52a')\"\n",
              "              title=\"Convert this dataframe to an interactive table.\"\n",
              "              style=\"display:none;\">\n",
              "        \n",
              "  <svg xmlns=\"http://www.w3.org/2000/svg\" height=\"24px\"viewBox=\"0 0 24 24\"\n",
              "       width=\"24px\">\n",
              "    <path d=\"M0 0h24v24H0V0z\" fill=\"none\"/>\n",
              "    <path d=\"M18.56 5.44l.94 2.06.94-2.06 2.06-.94-2.06-.94-.94-2.06-.94 2.06-2.06.94zm-11 1L8.5 8.5l.94-2.06 2.06-.94-2.06-.94L8.5 2.5l-.94 2.06-2.06.94zm10 10l.94 2.06.94-2.06 2.06-.94-2.06-.94-.94-2.06-.94 2.06-2.06.94z\"/><path d=\"M17.41 7.96l-1.37-1.37c-.4-.4-.92-.59-1.43-.59-.52 0-1.04.2-1.43.59L10.3 9.45l-7.72 7.72c-.78.78-.78 2.05 0 2.83L4 21.41c.39.39.9.59 1.41.59.51 0 1.02-.2 1.41-.59l7.78-7.78 2.81-2.81c.8-.78.8-2.07 0-2.86zM5.41 20L4 18.59l7.72-7.72 1.47 1.35L5.41 20z\"/>\n",
              "  </svg>\n",
              "      </button>\n",
              "      \n",
              "  <style>\n",
              "    .colab-df-container {\n",
              "      display:flex;\n",
              "      flex-wrap:wrap;\n",
              "      gap: 12px;\n",
              "    }\n",
              "\n",
              "    .colab-df-convert {\n",
              "      background-color: #E8F0FE;\n",
              "      border: none;\n",
              "      border-radius: 50%;\n",
              "      cursor: pointer;\n",
              "      display: none;\n",
              "      fill: #1967D2;\n",
              "      height: 32px;\n",
              "      padding: 0 0 0 0;\n",
              "      width: 32px;\n",
              "    }\n",
              "\n",
              "    .colab-df-convert:hover {\n",
              "      background-color: #E2EBFA;\n",
              "      box-shadow: 0px 1px 2px rgba(60, 64, 67, 0.3), 0px 1px 3px 1px rgba(60, 64, 67, 0.15);\n",
              "      fill: #174EA6;\n",
              "    }\n",
              "\n",
              "    [theme=dark] .colab-df-convert {\n",
              "      background-color: #3B4455;\n",
              "      fill: #D2E3FC;\n",
              "    }\n",
              "\n",
              "    [theme=dark] .colab-df-convert:hover {\n",
              "      background-color: #434B5C;\n",
              "      box-shadow: 0px 1px 3px 1px rgba(0, 0, 0, 0.15);\n",
              "      filter: drop-shadow(0px 1px 2px rgba(0, 0, 0, 0.3));\n",
              "      fill: #FFFFFF;\n",
              "    }\n",
              "  </style>\n",
              "\n",
              "      <script>\n",
              "        const buttonEl =\n",
              "          document.querySelector('#df-bd3cb6b3-46e1-423d-a227-c0c52c4eb52a button.colab-df-convert');\n",
              "        buttonEl.style.display =\n",
              "          google.colab.kernel.accessAllowed ? 'block' : 'none';\n",
              "\n",
              "        async function convertToInteractive(key) {\n",
              "          const element = document.querySelector('#df-bd3cb6b3-46e1-423d-a227-c0c52c4eb52a');\n",
              "          const dataTable =\n",
              "            await google.colab.kernel.invokeFunction('convertToInteractive',\n",
              "                                                     [key], {});\n",
              "          if (!dataTable) return;\n",
              "\n",
              "          const docLinkHtml = 'Like what you see? Visit the ' +\n",
              "            '<a target=\"_blank\" href=https://colab.research.google.com/notebooks/data_table.ipynb>data table notebook</a>'\n",
              "            + ' to learn more about interactive tables.';\n",
              "          element.innerHTML = '';\n",
              "          dataTable['output_type'] = 'display_data';\n",
              "          await google.colab.output.renderOutput(dataTable, element);\n",
              "          const docLink = document.createElement('div');\n",
              "          docLink.innerHTML = docLinkHtml;\n",
              "          element.appendChild(docLink);\n",
              "        }\n",
              "      </script>\n",
              "    </div>\n",
              "  </div>\n",
              "  "
            ]
          },
          "metadata": {},
          "execution_count": 162
        }
      ]
    },
    {
      "cell_type": "code",
      "source": [
        "tweets_final_df[tweets_final_df[\"hashtags\"].str.len()>0][\"hashtags\"]"
      ],
      "metadata": {
        "id": "Cb6z03txQPUL"
      },
      "execution_count": null,
      "outputs": []
    },
    {
      "cell_type": "markdown",
      "metadata": {
        "id": "2KYB-dWPXxWH"
      },
      "source": [
        "Okay, we have about **30,000** status.\n",
        "\n",
        "Let's see how we can use them for our analysis. We use, as always, `Pandas`...\n"
      ]
    },
    {
      "cell_type": "code",
      "metadata": {
        "id": "wsGWGGfgXxWt"
      },
      "source": [
        "tweets_final_df.to_csv('sc_twitter.csv')"
      ],
      "execution_count": 164,
      "outputs": []
    },
    {
      "cell_type": "markdown",
      "metadata": {
        "id": "oEvDBsoqXxWx"
      },
      "source": [
        "### Hashtag analysis\n",
        "\n",
        "Let's go pull out the hashtags and try to put them on a list."
      ]
    },
    {
      "cell_type": "code",
      "metadata": {
        "colab": {
          "base_uri": "https://localhost:8080/"
        },
        "id": "m__PeYPHXxWx",
        "outputId": "8c61256b-4b2a-441e-82c8-ab2bd2b0e1c9"
      },
      "source": [
        "list_hashtag_strings = []\n",
        "for i, entry in tweets_final_df.iterrows():\n",
        "    for hashtag in entry[\"hashtags\"]:\n",
        "        list_hashtag_strings.append(hashtag.strip().lower().replace(' ',','))\n",
        "list_hashtag_strings[:10]"
      ],
      "execution_count": 165,
      "outputs": [
        {
          "output_type": "execute_result",
          "data": {
            "text/plain": [
              "['maturita2022',\n",
              " 'maturità2022',\n",
              " 'maturità2022',\n",
              " 'maturità2022',\n",
              " 'maturità2022',\n",
              " 'maturità2022',\n",
              " 'maturita2013',\n",
              " 'maturita2022',\n",
              " 'maturita2022',\n",
              " 'maturita2022']"
            ]
          },
          "metadata": {},
          "execution_count": 165
        }
      ]
    },
    {
      "cell_type": "markdown",
      "metadata": {
        "id": "8yaZRKjWXxW0"
      },
      "source": [
        "Let's group the hashtags, move them to a DataFrame and count them by looking for the most common ones.\n",
        "\n",
        "To do this we use the `groupby` method of pandas."
      ]
    },
    {
      "cell_type": "code",
      "metadata": {
        "colab": {
          "base_uri": "https://localhost:8080/"
        },
        "id": "xZXBbvl9XxW0",
        "outputId": "2aaa6266-69f3-45be-b8b9-61c9d7892995"
      },
      "source": [
        "hashtag = pd.DataFrame(list_hashtag_strings)\n",
        "hashtag.columns = ['hashtag']\n",
        "df_hashtag = hashtag.groupby(['hashtag'])['hashtag'].count().sort_values(ascending=False)\n",
        "df_hashtag.head(20)\n"
      ],
      "execution_count": 166,
      "outputs": [
        {
          "output_type": "execute_result",
          "data": {
            "text/plain": [
              "hashtag\n",
              "maturita2022            23845\n",
              "maturità2022             2868\n",
              "notteprimadegliesami      796\n",
              "21giugno                  318\n",
              "maturità                  245\n",
              "sanremo2023               213\n",
              "qualcosapercui            179\n",
              "maturita2022…             149\n",
              "briatore                  147\n",
              "vauro                     140\n",
              "uomoniedonne              140\n",
              "isola                     138\n",
              "maturità2022,             119\n",
              "lockdownsubito            114\n",
              "dimaio                    103\n",
              "notteprimadegl…            91\n",
              "lituania                   91\n",
              "discorddown                81\n",
              "maturita                   79\n",
              "fearwomen                  74\n",
              "Name: hashtag, dtype: int64"
            ]
          },
          "metadata": {},
          "execution_count": 166
        }
      ]
    },
    {
      "cell_type": "markdown",
      "metadata": {
        "id": "39WPWA6DXxW6"
      },
      "source": [
        "We save the results in two files\n",
        "- the first file will contain the hashtag list\n",
        "- the second file will contain the relationship between status and hashtag"
      ]
    },
    {
      "cell_type": "code",
      "metadata": {
        "id": "SwOAyH9sXxW7"
      },
      "source": [
        "df_hashtag.to_csv('sc_hashtag.csv', header=True)"
      ],
      "execution_count": 167,
      "outputs": []
    },
    {
      "cell_type": "code",
      "metadata": {
        "id": "6o0kef_fXxW8"
      },
      "source": [
        "status_hashtag = []\n",
        "for status_id, entry in tweets_final_df.iterrows():\n",
        "    for hashtag in entry['hashtags']:\n",
        "        status_hashtag.append({'id': status_id, 'hashtag': hashtag.strip().lower()})"
      ],
      "execution_count": 168,
      "outputs": []
    },
    {
      "cell_type": "code",
      "metadata": {
        "id": "LkfJ_kz0XxXA"
      },
      "source": [
        "df_status_hashtag = pd.DataFrame(status_hashtag)\n",
        "df_status_hashtag.set_index(['id','hashtag'])\n",
        "df_status_hashtag.to_csv('sc_hashtag_status.csv', header=True)"
      ],
      "execution_count": 169,
      "outputs": []
    },
    {
      "cell_type": "markdown",
      "metadata": {
        "id": "hY9JU3yJXxXD"
      },
      "source": [
        "### Wordcloud\n",
        "\n",
        "Let's try some visualization libraries in **Python**.\n",
        "One of the most used (and perhaps least useful) ways to display text is WordCloud.\n",
        "\n",
        "Let's install the `wordcloud` library."
      ]
    },
    {
      "cell_type": "code",
      "metadata": {
        "colab": {
          "base_uri": "https://localhost:8080/"
        },
        "id": "VdUC162UXxXD",
        "outputId": "cba9f0e9-f286-4609-f2f0-03f163a9aa38"
      },
      "source": [
        "!pip install --user wordcloud\n",
        "!pip install --user matplotlib"
      ],
      "execution_count": 170,
      "outputs": [
        {
          "output_type": "stream",
          "name": "stdout",
          "text": [
            "Looking in indexes: https://pypi.org/simple, https://us-python.pkg.dev/colab-wheels/public/simple/\n",
            "Requirement already satisfied: wordcloud in /usr/local/lib/python3.7/dist-packages (1.5.0)\n",
            "Requirement already satisfied: numpy>=1.6.1 in /usr/local/lib/python3.7/dist-packages (from wordcloud) (1.21.6)\n",
            "Requirement already satisfied: pillow in /usr/local/lib/python3.7/dist-packages (from wordcloud) (7.1.2)\n",
            "Looking in indexes: https://pypi.org/simple, https://us-python.pkg.dev/colab-wheels/public/simple/\n",
            "Requirement already satisfied: matplotlib in /usr/local/lib/python3.7/dist-packages (3.2.2)\n",
            "Requirement already satisfied: cycler>=0.10 in /usr/local/lib/python3.7/dist-packages (from matplotlib) (0.11.0)\n",
            "Requirement already satisfied: python-dateutil>=2.1 in /usr/local/lib/python3.7/dist-packages (from matplotlib) (2.8.2)\n",
            "Requirement already satisfied: numpy>=1.11 in /usr/local/lib/python3.7/dist-packages (from matplotlib) (1.21.6)\n",
            "Requirement already satisfied: kiwisolver>=1.0.1 in /usr/local/lib/python3.7/dist-packages (from matplotlib) (1.4.3)\n",
            "Requirement already satisfied: pyparsing!=2.0.4,!=2.1.2,!=2.1.6,>=2.0.1 in /usr/local/lib/python3.7/dist-packages (from matplotlib) (3.0.9)\n",
            "Requirement already satisfied: typing-extensions in /usr/local/lib/python3.7/dist-packages (from kiwisolver>=1.0.1->matplotlib) (4.1.1)\n",
            "Requirement already satisfied: six>=1.5 in /usr/local/lib/python3.7/dist-packages (from python-dateutil>=2.1->matplotlib) (1.15.0)\n"
          ]
        }
      ]
    },
    {
      "cell_type": "code",
      "metadata": {
        "id": "OrQ3xkxcXxXV"
      },
      "source": [
        "from wordcloud import WordCloud\n",
        "import matplotlib.pyplot as plt"
      ],
      "execution_count": 171,
      "outputs": []
    },
    {
      "cell_type": "markdown",
      "metadata": {
        "id": "Utj_z5MDXxXl"
      },
      "source": [
        "We create a list of hashtags by concatenating all the elements of the original list and separating them with a space."
      ]
    },
    {
      "cell_type": "code",
      "metadata": {
        "colab": {
          "base_uri": "https://localhost:8080/",
          "height": 575
        },
        "id": "V5prXOfLXxXl",
        "outputId": "9ce8288c-a66b-4d17-adae-14fd96bb6dfd"
      },
      "source": [
        "all_hashtags = ' '.join(list_hashtag_strings)\n",
        "wordcloud = WordCloud(max_font_size=70, max_words=30, \n",
        "                      background_color=\"white\", \n",
        "                      collocations=False).generate(all_hashtags)\n",
        "plt.imshow(wordcloud, interpolation=\"bilinear\")\n",
        "plt.axis(\"off\")\n",
        "plt.show()"
      ],
      "execution_count": 172,
      "outputs": [
        {
          "output_type": "display_data",
          "data": {
            "text/plain": [
              "<Figure size 1440x720 with 1 Axes>"
            ],
            "image/png": "[encoded data removed]"
          },
          "metadata": {
            "needs_background": "light"
          }
        }
      ]
    },
    {
      "cell_type": "markdown",
      "metadata": {
        "id": "ZH2x4FV4XxXy"
      },
      "source": [
        "### Locations \n",
        "\n"
      ]
    },
    {
      "cell_type": "code",
      "metadata": {
        "colab": {
          "base_uri": "https://localhost:8080/",
          "height": 394
        },
        "id": "dvOYvRgyXxYE",
        "outputId": "4b773c65-8fe7-476c-9b87-24df4cd6f93f"
      },
      "source": [
        "counts = tweets_final_df.groupby('location').size()  \n",
        "df_location = pd.DataFrame(counts, columns = ['size'])    \n",
        "\n",
        "# we only keep significant cases\n",
        "df_location = df_location[df_location['size']>3] \n",
        "df_location = df_location.sort_values(by='size', ascending=False)\n",
        "df_location.head(10)"
      ],
      "execution_count": 173,
      "outputs": [
        {
          "output_type": "execute_result",
          "data": {
            "text/plain": [
              "                                                    size\n",
              "location                                                \n",
              "Italia                                              1162\n",
              "19 y.o. italy                                        833\n",
              "the world’s a little blurry \\nmy yellow? oh you...   760\n",
              "she/her                                              743\n",
              "Puglia, Italia                                       597\n",
              "nowhere                                              379\n",
              "she\\her                                              378\n",
              "Roma, Lazio                                          376\n",
              "xviii ♡ ❪ˢ╱her❫                                      364\n",
              "Verona, Veneto                                       356"
            ],
            "text/html": [
              "\n",
              "  <div id=\"df-5504e379-c897-4cbb-a7f4-f7660f705555\">\n",
              "    <div class=\"colab-df-container\">\n",
              "      <div>\n",
              "<style scoped>\n",
              "    .dataframe tbody tr th:only-of-type {\n",
              "        vertical-align: middle;\n",
              "    }\n",
              "\n",
              "    .dataframe tbody tr th {\n",
              "        vertical-align: top;\n",
              "    }\n",
              "\n",
              "    .dataframe thead th {\n",
              "        text-align: right;\n",
              "    }\n",
              "</style>\n",
              "<table border=\"1\" class=\"dataframe\">\n",
              "  <thead>\n",
              "    <tr style=\"text-align: right;\">\n",
              "      <th></th>\n",
              "      <th>size</th>\n",
              "    </tr>\n",
              "    <tr>\n",
              "      <th>location</th>\n",
              "      <th></th>\n",
              "    </tr>\n",
              "  </thead>\n",
              "  <tbody>\n",
              "    <tr>\n",
              "      <th>Italia</th>\n",
              "      <td>1162</td>\n",
              "    </tr>\n",
              "    <tr>\n",
              "      <th>19 y.o. italy</th>\n",
              "      <td>833</td>\n",
              "    </tr>\n",
              "    <tr>\n",
              "      <th>the world’s a little blurry \\nmy yellow? oh you meant zayn \\nbella hadid love bot \\nmy home(n.) billie \\nHS2 track 12</th>\n",
              "      <td>760</td>\n",
              "    </tr>\n",
              "    <tr>\n",
              "      <th>she/her</th>\n",
              "      <td>743</td>\n",
              "    </tr>\n",
              "    <tr>\n",
              "      <th>Puglia, Italia</th>\n",
              "      <td>597</td>\n",
              "    </tr>\n",
              "    <tr>\n",
              "      <th>nowhere</th>\n",
              "      <td>379</td>\n",
              "    </tr>\n",
              "    <tr>\n",
              "      <th>she\\her</th>\n",
              "      <td>378</td>\n",
              "    </tr>\n",
              "    <tr>\n",
              "      <th>Roma, Lazio</th>\n",
              "      <td>376</td>\n",
              "    </tr>\n",
              "    <tr>\n",
              "      <th>xviii ♡ ❪ˢ╱her❫</th>\n",
              "      <td>364</td>\n",
              "    </tr>\n",
              "    <tr>\n",
              "      <th>Verona, Veneto</th>\n",
              "      <td>356</td>\n",
              "    </tr>\n",
              "  </tbody>\n",
              "</table>\n",
              "</div>\n",
              "      <button class=\"colab-df-convert\" onclick=\"convertToInteractive('df-5504e379-c897-4cbb-a7f4-f7660f705555')\"\n",
              "              title=\"Convert this dataframe to an interactive table.\"\n",
              "              style=\"display:none;\">\n",
              "        \n",
              "  <svg xmlns=\"http://www.w3.org/2000/svg\" height=\"24px\"viewBox=\"0 0 24 24\"\n",
              "       width=\"24px\">\n",
              "    <path d=\"M0 0h24v24H0V0z\" fill=\"none\"/>\n",
              "    <path d=\"M18.56 5.44l.94 2.06.94-2.06 2.06-.94-2.06-.94-.94-2.06-.94 2.06-2.06.94zm-11 1L8.5 8.5l.94-2.06 2.06-.94-2.06-.94L8.5 2.5l-.94 2.06-2.06.94zm10 10l.94 2.06.94-2.06 2.06-.94-2.06-.94-.94-2.06-.94 2.06-2.06.94z\"/><path d=\"M17.41 7.96l-1.37-1.37c-.4-.4-.92-.59-1.43-.59-.52 0-1.04.2-1.43.59L10.3 9.45l-7.72 7.72c-.78.78-.78 2.05 0 2.83L4 21.41c.39.39.9.59 1.41.59.51 0 1.02-.2 1.41-.59l7.78-7.78 2.81-2.81c.8-.78.8-2.07 0-2.86zM5.41 20L4 18.59l7.72-7.72 1.47 1.35L5.41 20z\"/>\n",
              "  </svg>\n",
              "      </button>\n",
              "      \n",
              "  <style>\n",
              "    .colab-df-container {\n",
              "      display:flex;\n",
              "      flex-wrap:wrap;\n",
              "      gap: 12px;\n",
              "    }\n",
              "\n",
              "    .colab-df-convert {\n",
              "      background-color: #E8F0FE;\n",
              "      border: none;\n",
              "      border-radius: 50%;\n",
              "      cursor: pointer;\n",
              "      display: none;\n",
              "      fill: #1967D2;\n",
              "      height: 32px;\n",
              "      padding: 0 0 0 0;\n",
              "      width: 32px;\n",
              "    }\n",
              "\n",
              "    .colab-df-convert:hover {\n",
              "      background-color: #E2EBFA;\n",
              "      box-shadow: 0px 1px 2px rgba(60, 64, 67, 0.3), 0px 1px 3px 1px rgba(60, 64, 67, 0.15);\n",
              "      fill: #174EA6;\n",
              "    }\n",
              "\n",
              "    [theme=dark] .colab-df-convert {\n",
              "      background-color: #3B4455;\n",
              "      fill: #D2E3FC;\n",
              "    }\n",
              "\n",
              "    [theme=dark] .colab-df-convert:hover {\n",
              "      background-color: #434B5C;\n",
              "      box-shadow: 0px 1px 3px 1px rgba(0, 0, 0, 0.15);\n",
              "      filter: drop-shadow(0px 1px 2px rgba(0, 0, 0, 0.3));\n",
              "      fill: #FFFFFF;\n",
              "    }\n",
              "  </style>\n",
              "\n",
              "      <script>\n",
              "        const buttonEl =\n",
              "          document.querySelector('#df-5504e379-c897-4cbb-a7f4-f7660f705555 button.colab-df-convert');\n",
              "        buttonEl.style.display =\n",
              "          google.colab.kernel.accessAllowed ? 'block' : 'none';\n",
              "\n",
              "        async function convertToInteractive(key) {\n",
              "          const element = document.querySelector('#df-5504e379-c897-4cbb-a7f4-f7660f705555');\n",
              "          const dataTable =\n",
              "            await google.colab.kernel.invokeFunction('convertToInteractive',\n",
              "                                                     [key], {});\n",
              "          if (!dataTable) return;\n",
              "\n",
              "          const docLinkHtml = 'Like what you see? Visit the ' +\n",
              "            '<a target=\"_blank\" href=https://colab.research.google.com/notebooks/data_table.ipynb>data table notebook</a>'\n",
              "            + ' to learn more about interactive tables.';\n",
              "          element.innerHTML = '';\n",
              "          dataTable['output_type'] = 'display_data';\n",
              "          await google.colab.output.renderOutput(dataTable, element);\n",
              "          const docLink = document.createElement('div');\n",
              "          docLink.innerHTML = docLinkHtml;\n",
              "          element.appendChild(docLink);\n",
              "        }\n",
              "      </script>\n",
              "    </div>\n",
              "  </div>\n",
              "  "
            ]
          },
          "metadata": {},
          "execution_count": 173
        }
      ]
    },
    {
      "cell_type": "code",
      "metadata": {
        "colab": {
          "base_uri": "https://localhost:8080/",
          "height": 770
        },
        "id": "eoGT1MH4XxYI",
        "outputId": "106f5e0d-8545-4c45-d238-5ab549c2e864"
      },
      "source": [
        "import matplotlib.pyplot as plt\n",
        "plt.rcParams['figure.figsize'] = (20, 10)\n",
        "df_location.head(10).plot(kind='bar')"
      ],
      "execution_count": 174,
      "outputs": [
        {
          "output_type": "execute_result",
          "data": {
            "text/plain": [
              "<matplotlib.axes._subplots.AxesSubplot at 0x7f87e6bfed10>"
            ]
          },
          "metadata": {},
          "execution_count": 174
        },
        {
          "output_type": "display_data",
          "data": {
            "text/plain": [
              "<Figure size 1440x720 with 1 Axes>"
            ],
            "image/png": "[encoded data removed]"
          },
          "metadata": {
            "needs_background": "light"
          }
        }
      ]
    },
    {
      "cell_type": "markdown",
      "metadata": {
        "id": "WAHodF71XxYP"
      },
      "source": [
        "### Users\n",
        "\n",
        "We use the same technique to analyze the **users**."
      ]
    },
    {
      "cell_type": "code",
      "source": [
        "tweets_final_df"
      ],
      "metadata": {
        "colab": {
          "base_uri": "https://localhost:8080/",
          "height": 832
        },
        "id": "Vi_4FJjEULj-",
        "outputId": "4c3f5c00-fa84-42f8-d449-88956429b44e"
      },
      "execution_count": 175,
      "outputs": [
        {
          "output_type": "execute_result",
          "data": {
            "text/plain": [
              "                     created_at  \\\n",
              "0     2022-06-21 22:12:55+00:00   \n",
              "1     2022-06-21 22:12:50+00:00   \n",
              "2     2022-06-21 22:12:50+00:00   \n",
              "3     2022-06-21 22:12:50+00:00   \n",
              "4     2022-06-21 22:12:50+00:00   \n",
              "...                         ...   \n",
              "30748 2022-06-21 08:36:29+00:00   \n",
              "30749 2022-06-21 08:36:29+00:00   \n",
              "30750 2022-06-21 08:36:29+00:00   \n",
              "30751 2022-06-21 08:36:18+00:00   \n",
              "30752 2022-06-21 08:36:14+00:00   \n",
              "\n",
              "                                                    text               source  \\\n",
              "0      RT @howajtow: la commissione orale mentre dirò...   Twitter for iPhone   \n",
              "1      Che ansia ora mi metto a ripassare qualcosa\\n#...   Twitter for iPhone   \n",
              "2      Che ansia ora mi metto a ripassare qualcosa\\n#...   Twitter for iPhone   \n",
              "3      Che ansia ora mi metto a ripassare qualcosa\\n#...   Twitter for iPhone   \n",
              "4      Che ansia ora mi metto a ripassare qualcosa\\n#...   Twitter for iPhone   \n",
              "...                                                  ...                  ...   \n",
              "30748  Io domani punto alla traccia B o C sperando ch...  Twitter for Android   \n",
              "30749  Io domani punto alla traccia B o C sperando ch...  Twitter for Android   \n",
              "30750  Io domani punto alla traccia B o C sperando ch...  Twitter for Android   \n",
              "30751  RT @lov3lss: #maturita2022 \\normai così disper...   Twitter for iPhone   \n",
              "30752  RT @vantaegra: non ci resta che affidarci  a d...   Twitter for iPhone   \n",
              "\n",
              "                 author_id  retweet_count  like_count        hashtags  \\\n",
              "0      1380560416410116097            285           0  {maturita2022}   \n",
              "1       905001220414345217              0           0  {Maturità2022}   \n",
              "2       905001220414345217              0           0  {Maturità2022}   \n",
              "3       905001220414345217              0           0  {Maturità2022}   \n",
              "4       905001220414345217              0           0  {Maturità2022}   \n",
              "...                    ...            ...         ...             ...   \n",
              "30748           3304595717              0           1  {maturita2022}   \n",
              "30749           3304595717              0           1  {maturita2022}   \n",
              "30750           3304595717              0           1  {maturita2022}   \n",
              "30751           3624299914            594           0  {maturita2022}   \n",
              "30752  1148359176101531648             75           0  {maturita2022}   \n",
              "\n",
              "                      name       username                      location  \\\n",
              "0                     ΛƧIΛ  asiaortolanii  Forlì-Cesena, Emilia Romagna   \n",
              "1      ℛ𝑜𝑠 𝘥𝘦𝘷𝘦 𝘮𝘢𝘵𝘶𝘳𝘢𝘳𝘴𝘪🥵   roserome1927                   Caput Mundi   \n",
              "2      ℛ𝑜𝑠 𝘥𝘦𝘷𝘦 𝘮𝘢𝘵𝘶𝘳𝘢𝘳𝘴𝘪🥵   roserome1927                   Caput Mundi   \n",
              "3      ℛ𝑜𝑠 𝘥𝘦𝘷𝘦 𝘮𝘢𝘵𝘶𝘳𝘢𝘳𝘴𝘪🥵   roserome1927                   Caput Mundi   \n",
              "4      ℛ𝑜𝑠 𝘥𝘦𝘷𝘦 𝘮𝘢𝘵𝘶𝘳𝘢𝘳𝘴𝘪🥵   roserome1927                   Caput Mundi   \n",
              "...                    ...            ...                           ...   \n",
              "30748             djoker19      celi_luca                          None   \n",
              "30749             djoker19      celi_luca                          None   \n",
              "30750             djoker19      celi_luca                          None   \n",
              "30751               Marta🐧    _martuccia_                          None   \n",
              "30752                 Fra🐍     G3m1n1Soul                        Italia   \n",
              "\n",
              "       verified                                   user_description  \n",
              "0         False  in allegato: problemi esistenziali ma tante ri...  \n",
              "1         False  Parlo di tante cose | she/her | ASR - EL92 & L...  \n",
              "2         False  Parlo di tante cose | she/her | ASR - EL92 & L...  \n",
              "3         False  Parlo di tante cose | she/her | ASR - EL92 & L...  \n",
              "4         False  Parlo di tante cose | she/her | ASR - EL92 & L...  \n",
              "...         ...                                                ...  \n",
              "30748     False                                                     \n",
              "30749     False                                                     \n",
              "30750     False                                                     \n",
              "30751     False                                                     \n",
              "30752     False                                     she/her INTP-T  \n",
              "\n",
              "[30753 rows x 12 columns]"
            ],
            "text/html": [
              "\n",
              "  <div id=\"df-42bc8c7b-5477-497e-80b3-64a71ae7e5d7\">\n",
              "    <div class=\"colab-df-container\">\n",
              "      <div>\n",
              "<style scoped>\n",
              "    .dataframe tbody tr th:only-of-type {\n",
              "        vertical-align: middle;\n",
              "    }\n",
              "\n",
              "    .dataframe tbody tr th {\n",
              "        vertical-align: top;\n",
              "    }\n",
              "\n",
              "    .dataframe thead th {\n",
              "        text-align: right;\n",
              "    }\n",
              "</style>\n",
              "<table border=\"1\" class=\"dataframe\">\n",
              "  <thead>\n",
              "    <tr style=\"text-align: right;\">\n",
              "      <th></th>\n",
              "      <th>created_at</th>\n",
              "      <th>text</th>\n",
              "      <th>source</th>\n",
              "      <th>author_id</th>\n",
              "      <th>retweet_count</th>\n",
              "      <th>like_count</th>\n",
              "      <th>hashtags</th>\n",
              "      <th>name</th>\n",
              "      <th>username</th>\n",
              "      <th>location</th>\n",
              "      <th>verified</th>\n",
              "      <th>user_description</th>\n",
              "    </tr>\n",
              "  </thead>\n",
              "  <tbody>\n",
              "    <tr>\n",
              "      <th>0</th>\n",
              "      <td>2022-06-21 22:12:55+00:00</td>\n",
              "      <td>RT @howajtow: la commissione orale mentre dirò...</td>\n",
              "      <td>Twitter for iPhone</td>\n",
              "      <td>1380560416410116097</td>\n",
              "      <td>285</td>\n",
              "      <td>0</td>\n",
              "      <td>{maturita2022}</td>\n",
              "      <td>ΛƧIΛ</td>\n",
              "      <td>asiaortolanii</td>\n",
              "      <td>Forlì-Cesena, Emilia Romagna</td>\n",
              "      <td>False</td>\n",
              "      <td>in allegato: problemi esistenziali ma tante ri...</td>\n",
              "    </tr>\n",
              "    <tr>\n",
              "      <th>1</th>\n",
              "      <td>2022-06-21 22:12:50+00:00</td>\n",
              "      <td>Che ansia ora mi metto a ripassare qualcosa\\n#...</td>\n",
              "      <td>Twitter for iPhone</td>\n",
              "      <td>905001220414345217</td>\n",
              "      <td>0</td>\n",
              "      <td>0</td>\n",
              "      <td>{Maturità2022}</td>\n",
              "      <td>ℛ𝑜𝑠 𝘥𝘦𝘷𝘦 𝘮𝘢𝘵𝘶𝘳𝘢𝘳𝘴𝘪🥵</td>\n",
              "      <td>roserome1927</td>\n",
              "      <td>Caput Mundi</td>\n",
              "      <td>False</td>\n",
              "      <td>Parlo di tante cose | she/her | ASR - EL92 &amp; L...</td>\n",
              "    </tr>\n",
              "    <tr>\n",
              "      <th>2</th>\n",
              "      <td>2022-06-21 22:12:50+00:00</td>\n",
              "      <td>Che ansia ora mi metto a ripassare qualcosa\\n#...</td>\n",
              "      <td>Twitter for iPhone</td>\n",
              "      <td>905001220414345217</td>\n",
              "      <td>0</td>\n",
              "      <td>0</td>\n",
              "      <td>{Maturità2022}</td>\n",
              "      <td>ℛ𝑜𝑠 𝘥𝘦𝘷𝘦 𝘮𝘢𝘵𝘶𝘳𝘢𝘳𝘴𝘪🥵</td>\n",
              "      <td>roserome1927</td>\n",
              "      <td>Caput Mundi</td>\n",
              "      <td>False</td>\n",
              "      <td>Parlo di tante cose | she/her | ASR - EL92 &amp; L...</td>\n",
              "    </tr>\n",
              "    <tr>\n",
              "      <th>3</th>\n",
              "      <td>2022-06-21 22:12:50+00:00</td>\n",
              "      <td>Che ansia ora mi metto a ripassare qualcosa\\n#...</td>\n",
              "      <td>Twitter for iPhone</td>\n",
              "      <td>905001220414345217</td>\n",
              "      <td>0</td>\n",
              "      <td>0</td>\n",
              "      <td>{Maturità2022}</td>\n",
              "      <td>ℛ𝑜𝑠 𝘥𝘦𝘷𝘦 𝘮𝘢𝘵𝘶𝘳𝘢𝘳𝘴𝘪🥵</td>\n",
              "      <td>roserome1927</td>\n",
              "      <td>Caput Mundi</td>\n",
              "      <td>False</td>\n",
              "      <td>Parlo di tante cose | she/her | ASR - EL92 &amp; L...</td>\n",
              "    </tr>\n",
              "    <tr>\n",
              "      <th>4</th>\n",
              "      <td>2022-06-21 22:12:50+00:00</td>\n",
              "      <td>Che ansia ora mi metto a ripassare qualcosa\\n#...</td>\n",
              "      <td>Twitter for iPhone</td>\n",
              "      <td>905001220414345217</td>\n",
              "      <td>0</td>\n",
              "      <td>0</td>\n",
              "      <td>{Maturità2022}</td>\n",
              "      <td>ℛ𝑜𝑠 𝘥𝘦𝘷𝘦 𝘮𝘢𝘵𝘶𝘳𝘢𝘳𝘴𝘪🥵</td>\n",
              "      <td>roserome1927</td>\n",
              "      <td>Caput Mundi</td>\n",
              "      <td>False</td>\n",
              "      <td>Parlo di tante cose | she/her | ASR - EL92 &amp; L...</td>\n",
              "    </tr>\n",
              "    <tr>\n",
              "      <th>...</th>\n",
              "      <td>...</td>\n",
              "      <td>...</td>\n",
              "      <td>...</td>\n",
              "      <td>...</td>\n",
              "      <td>...</td>\n",
              "      <td>...</td>\n",
              "      <td>...</td>\n",
              "      <td>...</td>\n",
              "      <td>...</td>\n",
              "      <td>...</td>\n",
              "      <td>...</td>\n",
              "      <td>...</td>\n",
              "    </tr>\n",
              "    <tr>\n",
              "      <th>30748</th>\n",
              "      <td>2022-06-21 08:36:29+00:00</td>\n",
              "      <td>Io domani punto alla traccia B o C sperando ch...</td>\n",
              "      <td>Twitter for Android</td>\n",
              "      <td>3304595717</td>\n",
              "      <td>0</td>\n",
              "      <td>1</td>\n",
              "      <td>{maturita2022}</td>\n",
              "      <td>djoker19</td>\n",
              "      <td>celi_luca</td>\n",
              "      <td>None</td>\n",
              "      <td>False</td>\n",
              "      <td></td>\n",
              "    </tr>\n",
              "    <tr>\n",
              "      <th>30749</th>\n",
              "      <td>2022-06-21 08:36:29+00:00</td>\n",
              "      <td>Io domani punto alla traccia B o C sperando ch...</td>\n",
              "      <td>Twitter for Android</td>\n",
              "      <td>3304595717</td>\n",
              "      <td>0</td>\n",
              "      <td>1</td>\n",
              "      <td>{maturita2022}</td>\n",
              "      <td>djoker19</td>\n",
              "      <td>celi_luca</td>\n",
              "      <td>None</td>\n",
              "      <td>False</td>\n",
              "      <td></td>\n",
              "    </tr>\n",
              "    <tr>\n",
              "      <th>30750</th>\n",
              "      <td>2022-06-21 08:36:29+00:00</td>\n",
              "      <td>Io domani punto alla traccia B o C sperando ch...</td>\n",
              "      <td>Twitter for Android</td>\n",
              "      <td>3304595717</td>\n",
              "      <td>0</td>\n",
              "      <td>1</td>\n",
              "      <td>{maturita2022}</td>\n",
              "      <td>djoker19</td>\n",
              "      <td>celi_luca</td>\n",
              "      <td>None</td>\n",
              "      <td>False</td>\n",
              "      <td></td>\n",
              "    </tr>\n",
              "    <tr>\n",
              "      <th>30751</th>\n",
              "      <td>2022-06-21 08:36:18+00:00</td>\n",
              "      <td>RT @lov3lss: #maturita2022 \\normai così disper...</td>\n",
              "      <td>Twitter for iPhone</td>\n",
              "      <td>3624299914</td>\n",
              "      <td>594</td>\n",
              "      <td>0</td>\n",
              "      <td>{maturita2022}</td>\n",
              "      <td>Marta🐧</td>\n",
              "      <td>_martuccia_</td>\n",
              "      <td>None</td>\n",
              "      <td>False</td>\n",
              "      <td></td>\n",
              "    </tr>\n",
              "    <tr>\n",
              "      <th>30752</th>\n",
              "      <td>2022-06-21 08:36:14+00:00</td>\n",
              "      <td>RT @vantaegra: non ci resta che affidarci  a d...</td>\n",
              "      <td>Twitter for iPhone</td>\n",
              "      <td>1148359176101531648</td>\n",
              "      <td>75</td>\n",
              "      <td>0</td>\n",
              "      <td>{maturita2022}</td>\n",
              "      <td>Fra🐍</td>\n",
              "      <td>G3m1n1Soul</td>\n",
              "      <td>Italia</td>\n",
              "      <td>False</td>\n",
              "      <td>she/her INTP-T</td>\n",
              "    </tr>\n",
              "  </tbody>\n",
              "</table>\n",
              "<p>30753 rows × 12 columns</p>\n",
              "</div>\n",
              "      <button class=\"colab-df-convert\" onclick=\"convertToInteractive('df-42bc8c7b-5477-497e-80b3-64a71ae7e5d7')\"\n",
              "              title=\"Convert this dataframe to an interactive table.\"\n",
              "              style=\"display:none;\">\n",
              "        \n",
              "  <svg xmlns=\"http://www.w3.org/2000/svg\" height=\"24px\"viewBox=\"0 0 24 24\"\n",
              "       width=\"24px\">\n",
              "    <path d=\"M0 0h24v24H0V0z\" fill=\"none\"/>\n",
              "    <path d=\"M18.56 5.44l.94 2.06.94-2.06 2.06-.94-2.06-.94-.94-2.06-.94 2.06-2.06.94zm-11 1L8.5 8.5l.94-2.06 2.06-.94-2.06-.94L8.5 2.5l-.94 2.06-2.06.94zm10 10l.94 2.06.94-2.06 2.06-.94-2.06-.94-.94-2.06-.94 2.06-2.06.94z\"/><path d=\"M17.41 7.96l-1.37-1.37c-.4-.4-.92-.59-1.43-.59-.52 0-1.04.2-1.43.59L10.3 9.45l-7.72 7.72c-.78.78-.78 2.05 0 2.83L4 21.41c.39.39.9.59 1.41.59.51 0 1.02-.2 1.41-.59l7.78-7.78 2.81-2.81c.8-.78.8-2.07 0-2.86zM5.41 20L4 18.59l7.72-7.72 1.47 1.35L5.41 20z\"/>\n",
              "  </svg>\n",
              "      </button>\n",
              "      \n",
              "  <style>\n",
              "    .colab-df-container {\n",
              "      display:flex;\n",
              "      flex-wrap:wrap;\n",
              "      gap: 12px;\n",
              "    }\n",
              "\n",
              "    .colab-df-convert {\n",
              "      background-color: #E8F0FE;\n",
              "      border: none;\n",
              "      border-radius: 50%;\n",
              "      cursor: pointer;\n",
              "      display: none;\n",
              "      fill: #1967D2;\n",
              "      height: 32px;\n",
              "      padding: 0 0 0 0;\n",
              "      width: 32px;\n",
              "    }\n",
              "\n",
              "    .colab-df-convert:hover {\n",
              "      background-color: #E2EBFA;\n",
              "      box-shadow: 0px 1px 2px rgba(60, 64, 67, 0.3), 0px 1px 3px 1px rgba(60, 64, 67, 0.15);\n",
              "      fill: #174EA6;\n",
              "    }\n",
              "\n",
              "    [theme=dark] .colab-df-convert {\n",
              "      background-color: #3B4455;\n",
              "      fill: #D2E3FC;\n",
              "    }\n",
              "\n",
              "    [theme=dark] .colab-df-convert:hover {\n",
              "      background-color: #434B5C;\n",
              "      box-shadow: 0px 1px 3px 1px rgba(0, 0, 0, 0.15);\n",
              "      filter: drop-shadow(0px 1px 2px rgba(0, 0, 0, 0.3));\n",
              "      fill: #FFFFFF;\n",
              "    }\n",
              "  </style>\n",
              "\n",
              "      <script>\n",
              "        const buttonEl =\n",
              "          document.querySelector('#df-42bc8c7b-5477-497e-80b3-64a71ae7e5d7 button.colab-df-convert');\n",
              "        buttonEl.style.display =\n",
              "          google.colab.kernel.accessAllowed ? 'block' : 'none';\n",
              "\n",
              "        async function convertToInteractive(key) {\n",
              "          const element = document.querySelector('#df-42bc8c7b-5477-497e-80b3-64a71ae7e5d7');\n",
              "          const dataTable =\n",
              "            await google.colab.kernel.invokeFunction('convertToInteractive',\n",
              "                                                     [key], {});\n",
              "          if (!dataTable) return;\n",
              "\n",
              "          const docLinkHtml = 'Like what you see? Visit the ' +\n",
              "            '<a target=\"_blank\" href=https://colab.research.google.com/notebooks/data_table.ipynb>data table notebook</a>'\n",
              "            + ' to learn more about interactive tables.';\n",
              "          element.innerHTML = '';\n",
              "          dataTable['output_type'] = 'display_data';\n",
              "          await google.colab.output.renderOutput(dataTable, element);\n",
              "          const docLink = document.createElement('div');\n",
              "          docLink.innerHTML = docLinkHtml;\n",
              "          element.appendChild(docLink);\n",
              "        }\n",
              "      </script>\n",
              "    </div>\n",
              "  </div>\n",
              "  "
            ]
          },
          "metadata": {},
          "execution_count": 175
        }
      ]
    },
    {
      "cell_type": "code",
      "metadata": {
        "colab": {
          "base_uri": "https://localhost:8080/",
          "height": 394
        },
        "id": "dcz9LZ9-XxYQ",
        "outputId": "8063e5e2-c281-41be-e090-ead8f79a0f4d"
      },
      "source": [
        "counts = tweets_final_df.groupby('username').size()  \n",
        "df_user = pd.DataFrame(counts, columns = ['size'])    \n",
        "\n",
        "df_user = df_user[df_user['size']>3] \n",
        "df_user = df_user.sort_values(by='size', ascending=False)\n",
        "df_user.head(10)"
      ],
      "execution_count": 176,
      "outputs": [
        {
          "output_type": "execute_result",
          "data": {
            "text/plain": [
              "                 size\n",
              "username             \n",
              "__bubbletae___    833\n",
              "l0velyh0stage     760\n",
              "prinxesschia      572\n",
              "italianfangirl_   518\n",
              "hivlia_           425\n",
              "rooosk1           378\n",
              "V0IDSUGA          364\n",
              "francxh           360\n",
              "robyntommo        360\n",
              "alejb__           340"
            ],
            "text/html": [
              "\n",
              "  <div id=\"df-714b0809-7f5b-4ead-835c-8432fc0e738b\">\n",
              "    <div class=\"colab-df-container\">\n",
              "      <div>\n",
              "<style scoped>\n",
              "    .dataframe tbody tr th:only-of-type {\n",
              "        vertical-align: middle;\n",
              "    }\n",
              "\n",
              "    .dataframe tbody tr th {\n",
              "        vertical-align: top;\n",
              "    }\n",
              "\n",
              "    .dataframe thead th {\n",
              "        text-align: right;\n",
              "    }\n",
              "</style>\n",
              "<table border=\"1\" class=\"dataframe\">\n",
              "  <thead>\n",
              "    <tr style=\"text-align: right;\">\n",
              "      <th></th>\n",
              "      <th>size</th>\n",
              "    </tr>\n",
              "    <tr>\n",
              "      <th>username</th>\n",
              "      <th></th>\n",
              "    </tr>\n",
              "  </thead>\n",
              "  <tbody>\n",
              "    <tr>\n",
              "      <th>__bubbletae___</th>\n",
              "      <td>833</td>\n",
              "    </tr>\n",
              "    <tr>\n",
              "      <th>l0velyh0stage</th>\n",
              "      <td>760</td>\n",
              "    </tr>\n",
              "    <tr>\n",
              "      <th>prinxesschia</th>\n",
              "      <td>572</td>\n",
              "    </tr>\n",
              "    <tr>\n",
              "      <th>italianfangirl_</th>\n",
              "      <td>518</td>\n",
              "    </tr>\n",
              "    <tr>\n",
              "      <th>hivlia_</th>\n",
              "      <td>425</td>\n",
              "    </tr>\n",
              "    <tr>\n",
              "      <th>rooosk1</th>\n",
              "      <td>378</td>\n",
              "    </tr>\n",
              "    <tr>\n",
              "      <th>V0IDSUGA</th>\n",
              "      <td>364</td>\n",
              "    </tr>\n",
              "    <tr>\n",
              "      <th>francxh</th>\n",
              "      <td>360</td>\n",
              "    </tr>\n",
              "    <tr>\n",
              "      <th>robyntommo</th>\n",
              "      <td>360</td>\n",
              "    </tr>\n",
              "    <tr>\n",
              "      <th>alejb__</th>\n",
              "      <td>340</td>\n",
              "    </tr>\n",
              "  </tbody>\n",
              "</table>\n",
              "</div>\n",
              "      <button class=\"colab-df-convert\" onclick=\"convertToInteractive('df-714b0809-7f5b-4ead-835c-8432fc0e738b')\"\n",
              "              title=\"Convert this dataframe to an interactive table.\"\n",
              "              style=\"display:none;\">\n",
              "        \n",
              "  <svg xmlns=\"http://www.w3.org/2000/svg\" height=\"24px\"viewBox=\"0 0 24 24\"\n",
              "       width=\"24px\">\n",
              "    <path d=\"M0 0h24v24H0V0z\" fill=\"none\"/>\n",
              "    <path d=\"M18.56 5.44l.94 2.06.94-2.06 2.06-.94-2.06-.94-.94-2.06-.94 2.06-2.06.94zm-11 1L8.5 8.5l.94-2.06 2.06-.94-2.06-.94L8.5 2.5l-.94 2.06-2.06.94zm10 10l.94 2.06.94-2.06 2.06-.94-2.06-.94-.94-2.06-.94 2.06-2.06.94z\"/><path d=\"M17.41 7.96l-1.37-1.37c-.4-.4-.92-.59-1.43-.59-.52 0-1.04.2-1.43.59L10.3 9.45l-7.72 7.72c-.78.78-.78 2.05 0 2.83L4 21.41c.39.39.9.59 1.41.59.51 0 1.02-.2 1.41-.59l7.78-7.78 2.81-2.81c.8-.78.8-2.07 0-2.86zM5.41 20L4 18.59l7.72-7.72 1.47 1.35L5.41 20z\"/>\n",
              "  </svg>\n",
              "      </button>\n",
              "      \n",
              "  <style>\n",
              "    .colab-df-container {\n",
              "      display:flex;\n",
              "      flex-wrap:wrap;\n",
              "      gap: 12px;\n",
              "    }\n",
              "\n",
              "    .colab-df-convert {\n",
              "      background-color: #E8F0FE;\n",
              "      border: none;\n",
              "      border-radius: 50%;\n",
              "      cursor: pointer;\n",
              "      display: none;\n",
              "      fill: #1967D2;\n",
              "      height: 32px;\n",
              "      padding: 0 0 0 0;\n",
              "      width: 32px;\n",
              "    }\n",
              "\n",
              "    .colab-df-convert:hover {\n",
              "      background-color: #E2EBFA;\n",
              "      box-shadow: 0px 1px 2px rgba(60, 64, 67, 0.3), 0px 1px 3px 1px rgba(60, 64, 67, 0.15);\n",
              "      fill: #174EA6;\n",
              "    }\n",
              "\n",
              "    [theme=dark] .colab-df-convert {\n",
              "      background-color: #3B4455;\n",
              "      fill: #D2E3FC;\n",
              "    }\n",
              "\n",
              "    [theme=dark] .colab-df-convert:hover {\n",
              "      background-color: #434B5C;\n",
              "      box-shadow: 0px 1px 3px 1px rgba(0, 0, 0, 0.15);\n",
              "      filter: drop-shadow(0px 1px 2px rgba(0, 0, 0, 0.3));\n",
              "      fill: #FFFFFF;\n",
              "    }\n",
              "  </style>\n",
              "\n",
              "      <script>\n",
              "        const buttonEl =\n",
              "          document.querySelector('#df-714b0809-7f5b-4ead-835c-8432fc0e738b button.colab-df-convert');\n",
              "        buttonEl.style.display =\n",
              "          google.colab.kernel.accessAllowed ? 'block' : 'none';\n",
              "\n",
              "        async function convertToInteractive(key) {\n",
              "          const element = document.querySelector('#df-714b0809-7f5b-4ead-835c-8432fc0e738b');\n",
              "          const dataTable =\n",
              "            await google.colab.kernel.invokeFunction('convertToInteractive',\n",
              "                                                     [key], {});\n",
              "          if (!dataTable) return;\n",
              "\n",
              "          const docLinkHtml = 'Like what you see? Visit the ' +\n",
              "            '<a target=\"_blank\" href=https://colab.research.google.com/notebooks/data_table.ipynb>data table notebook</a>'\n",
              "            + ' to learn more about interactive tables.';\n",
              "          element.innerHTML = '';\n",
              "          dataTable['output_type'] = 'display_data';\n",
              "          await google.colab.output.renderOutput(dataTable, element);\n",
              "          const docLink = document.createElement('div');\n",
              "          docLink.innerHTML = docLinkHtml;\n",
              "          element.appendChild(docLink);\n",
              "        }\n",
              "      </script>\n",
              "    </div>\n",
              "  </div>\n",
              "  "
            ]
          },
          "metadata": {},
          "execution_count": 176
        }
      ]
    },
    {
      "cell_type": "code",
      "metadata": {
        "colab": {
          "base_uri": "https://localhost:8080/",
          "height": 609
        },
        "id": "6B9Ddy0BXxYS",
        "outputId": "9244e790-e971-4c8a-ed67-1606bc1940c7"
      },
      "source": [
        "df_user.head(10).plot(kind='barh')"
      ],
      "execution_count": 177,
      "outputs": [
        {
          "output_type": "execute_result",
          "data": {
            "text/plain": [
              "<matplotlib.axes._subplots.AxesSubplot at 0x7f87e6904d50>"
            ]
          },
          "metadata": {},
          "execution_count": 177
        },
        {
          "output_type": "display_data",
          "data": {
            "text/plain": [
              "<Figure size 1440x720 with 1 Axes>"
            ],
            "image/png": "[encoded data removed]"
          },
          "metadata": {
            "needs_background": "light"
          }
        }
      ]
    },
    {
      "cell_type": "markdown",
      "metadata": {
        "id": "U1EFBJqEXxZV"
      },
      "source": [
        "## Instagram\n",
        "\n",
        "\n",
        "Let's see what you can do with Instagram.\n",
        "There are several libraries but they are all very experimental. Something can still be done.\n",
        "\n",
        "Let's try using **instaloader**."
      ]
    },
    {
      "cell_type": "code",
      "metadata": {
        "colab": {
          "base_uri": "https://localhost:8080/"
        },
        "id": "wqvNV5rdXxZV",
        "outputId": "ce1a59a8-8ea8-4910-c213-c8c2c3cc3765"
      },
      "source": [
        "!pip3 install instaloader==4.9.1"
      ],
      "execution_count": 178,
      "outputs": [
        {
          "output_type": "stream",
          "name": "stdout",
          "text": [
            "Looking in indexes: https://pypi.org/simple, https://us-python.pkg.dev/colab-wheels/public/simple/\n",
            "Collecting instaloader==4.9.1\n",
            "  Downloading instaloader-4.9.1.tar.gz (59 kB)\n",
            "\u001b[K     |████████████████████████████████| 59 kB 2.6 MB/s \n",
            "\u001b[?25hRequirement already satisfied: requests>=2.4 in /root/.local/lib/python3.7/site-packages (from instaloader==4.9.1) (2.28.0)\n",
            "Requirement already satisfied: certifi>=2017.4.17 in /usr/local/lib/python3.7/dist-packages (from requests>=2.4->instaloader==4.9.1) (2022.6.15)\n",
            "Requirement already satisfied: idna<4,>=2.5 in /usr/local/lib/python3.7/dist-packages (from requests>=2.4->instaloader==4.9.1) (2.10)\n",
            "Requirement already satisfied: urllib3<1.27,>=1.21.1 in /usr/local/lib/python3.7/dist-packages (from requests>=2.4->instaloader==4.9.1) (1.24.3)\n",
            "Requirement already satisfied: charset-normalizer~=2.0.0 in /usr/local/lib/python3.7/dist-packages (from requests>=2.4->instaloader==4.9.1) (2.0.12)\n",
            "Building wheels for collected packages: instaloader\n",
            "  Building wheel for instaloader (setup.py) ... \u001b[?25l\u001b[?25hdone\n",
            "  Created wheel for instaloader: filename=instaloader-4.9.1-py3-none-any.whl size=61250 sha256=44a65ead6dba772bc13b84e87cee72b8b1efbf35a8831aee4963f15ff63d1f3a\n",
            "  Stored in directory: /root/.cache/pip/wheels/06/47/51/f85718f7b5c840626ef455f7e6f14246262e42aaa6bef68f9b\n",
            "Successfully built instaloader\n",
            "Installing collected packages: instaloader\n",
            "Successfully installed instaloader-4.9.1\n"
          ]
        }
      ]
    },
    {
      "cell_type": "code",
      "metadata": {
        "id": "LRjCJ7SAXxZZ"
      },
      "source": [
        "from itertools import islice\n",
        "from math import ceil\n",
        "\n",
        "import instaloader"
      ],
      "execution_count": 179,
      "outputs": []
    },
    {
      "cell_type": "markdown",
      "metadata": {
        "id": "gBR61d9eXxZe"
      },
      "source": [
        "To download the profile of a user, from command line\n",
        "\n",
        "\n",
        "\n",
        "```\n",
        "instaloader profile esselunga\n",
        "```\n",
        "\n",
        "\n",
        "\n",
        "(found at this link https://instaloader.github.io/basic-usage.html \n",
        "all documentation for command line execution)"
      ]
    },
    {
      "cell_type": "markdown",
      "metadata": {
        "id": "xvVtVqKeXxZe"
      },
      "source": [
        "\n",
        "```\n",
        "instaloader -l your_user_name\n",
        "instaloader profile [profile....]\n",
        "\n",
        "```\n",
        "To create a corpus of images:\n",
        "\n",
        "instaloader --no-videos --no-metadata-json --no-captions \"#running\"\n"
      ]
    },
    {
      "cell_type": "markdown",
      "metadata": {
        "id": "Sjz3C3B_XxZf"
      },
      "source": [
        "I am now looking for all the posts with the hashtag **unimib** of June 2021.\n",
        "I use `dropwhile` and `takewhile` that allow me to easily filter the data.\n",
        "\n",
        "\n",
        "Please specify your username..."
      ]
    },
    {
      "cell_type": "code",
      "metadata": {
        "colab": {
          "base_uri": "https://localhost:8080/"
        },
        "id": "HPpZDOciju4Y",
        "outputId": "c6485788-d107-431e-b25c-563d5bdc6f38"
      },
      "source": [
        "!instaloader -l mauropelucchi"
      ],
      "execution_count": 183,
      "outputs": [
        {
          "output_type": "stream",
          "name": "stdout",
          "text": [
            "Session file does not exist yet - Logging in.\n",
            "Enter Instagram password for mauropelucchi: \n",
            "Logged in as mauropelucchi.\n",
            "Saved session to /root/.config/instaloader/session-mauropelucchi.\n",
            "No targets were specified, thus nothing has been downloaded.\n"
          ]
        }
      ]
    },
    {
      "cell_type": "code",
      "metadata": {
        "id": "nVAoTcykXxZh",
        "colab": {
          "base_uri": "https://localhost:8080/"
        },
        "outputId": "058b5c1e-415e-49aa-8a2f-9c894e174ef7"
      },
      "source": [
        "from datetime import datetime\n",
        "from itertools import dropwhile, takewhile\n",
        "\n",
        "L = instaloader.Instaloader()\n",
        "L.load_session_from_file(\"mauropelucchi\")\n",
        "HASHTAG = 'unimib'\n",
        "\n",
        "posts = instaloader.NodeIterator(\n",
        "    L.context, \"9b498c08113f1e09617a1703c22b2f32\",\n",
        "    lambda d: d['data']['hashtag']['edge_hashtag_to_media'],\n",
        "    lambda n: instaloader.Post(L.context, n),\n",
        "    {'tag_name': HASHTAG},\n",
        "    f\"https://www.instagram.com/explore/tags/{HASHTAG}/\"\n",
        ")\n",
        "\n",
        "SINCE = datetime(2021, 6, 30)\n",
        "UNTIL = datetime(2021, 6, 1)\n",
        "\n",
        "for post in takewhile(lambda p: p.date > UNTIL, dropwhile(lambda p: p.date > SINCE, posts)):\n",
        "    print(post.date)\n",
        "    L.download_post(post, '#unimib')"
      ],
      "execution_count": 184,
      "outputs": [
        {
          "output_type": "stream",
          "name": "stdout",
          "text": [
            "Loaded session from /root/.config/instaloader/session-mauropelucchi.\n"
          ]
        }
      ]
    },
    {
      "cell_type": "markdown",
      "metadata": {
        "id": "7JwXSi6AXxZl"
      },
      "source": [
        "I find all the data in the folder **#unimib** under the directory of my notebook"
      ]
    },
    {
      "cell_type": "markdown",
      "metadata": {
        "id": "eKXW-aj2XxZl"
      },
      "source": [
        "Let's now try to understand who are the most active and the least active followers of an Instagram account (let's take the month of May)"
      ]
    },
    {
      "cell_type": "code",
      "metadata": {
        "colab": {
          "base_uri": "https://localhost:8080/"
        },
        "id": "H-98O31FXxZl",
        "outputId": "b7d7e721-ad15-4a4e-bcb1-1a4506c43053"
      },
      "source": [
        "\n",
        "PROFILE = 'unimib'\n",
        "\n",
        "profile = instaloader.Profile.from_username(L.context, PROFILE)\n",
        "\n",
        "SINCE = datetime(2021, 6, 2)\n",
        "UNTIL = datetime(2021, 6, 1)\n",
        "\n",
        "likes = set()\n",
        "print('Fetching likes of all posts of profile {}.'.format(profile.username))\n",
        "posts = profile.get_posts()\n",
        "for post in takewhile(lambda p: p.date > UNTIL, dropwhile(lambda p: p.date > SINCE, posts)):\n",
        "    print(post)\n",
        "    likes = likes | set(post.get_likes())\n"
      ],
      "execution_count": 185,
      "outputs": [
        {
          "output_type": "stream",
          "name": "stdout",
          "text": [
            "Fetching likes of all posts of profile unimib.\n",
            "<Post CPk6DU9KCOz>\n"
          ]
        }
      ]
    },
    {
      "cell_type": "code",
      "metadata": {
        "id": "Mhm6eE6SXxZp"
      },
      "source": [
        "likes"
      ],
      "execution_count": null,
      "outputs": []
    },
    {
      "cell_type": "code",
      "metadata": {
        "colab": {
          "base_uri": "https://localhost:8080/"
        },
        "id": "5PYe5lfbXxZv",
        "outputId": "eb1c7743-2472-41e8-8ce9-f94b0abe7b76"
      },
      "source": [
        "SINCE = datetime(2021, 5, 2)\n",
        "UNTIL = datetime(2021, 5, 1)\n",
        "\n",
        "likes_5 = set()\n",
        "print('Fetching likes of all posts of profile {}.'.format(profile.username))\n",
        "posts = profile.get_posts()\n",
        "for post in takewhile(lambda p: p.date > UNTIL, dropwhile(lambda p: p.date > SINCE, posts)):\n",
        "    print(post)\n",
        "    likes_5 = likes_5 | set(post.get_likes())\n"
      ],
      "execution_count": 187,
      "outputs": [
        {
          "output_type": "stream",
          "name": "stdout",
          "text": [
            "Fetching likes of all posts of profile unimib.\n"
          ]
        }
      ]
    },
    {
      "cell_type": "code",
      "metadata": {
        "colab": {
          "base_uri": "https://localhost:8080/"
        },
        "id": "lRk_PnBrXxZy",
        "outputId": "e2db1bd9-48b1-46d9-f3d8-bd36659b3308"
      },
      "source": [
        "likes_5"
      ],
      "execution_count": 188,
      "outputs": [
        {
          "output_type": "execute_result",
          "data": {
            "text/plain": [
              "set()"
            ]
          },
          "metadata": {},
          "execution_count": 188
        }
      ]
    },
    {
      "cell_type": "code",
      "metadata": {
        "id": "ae4wgkqPXxZ5"
      },
      "source": [
        "ghosts = likes_5 - likes"
      ],
      "execution_count": 189,
      "outputs": []
    },
    {
      "cell_type": "code",
      "metadata": {
        "colab": {
          "base_uri": "https://localhost:8080/"
        },
        "id": "IZ2a2CaVXxZ_",
        "outputId": "37bfff6c-aab4-4b0d-f11a-677df46d13be"
      },
      "source": [
        "ghosts"
      ],
      "execution_count": 190,
      "outputs": [
        {
          "output_type": "execute_result",
          "data": {
            "text/plain": [
              "set()"
            ]
          },
          "metadata": {},
          "execution_count": 190
        }
      ]
    },
    {
      "cell_type": "markdown",
      "metadata": {
        "id": "HUGbMK_CXxaJ"
      },
      "source": [
        "new users?"
      ]
    },
    {
      "cell_type": "code",
      "metadata": {
        "id": "1MBLWLkLXxaJ"
      },
      "source": [
        "new = likes - likes_5"
      ],
      "execution_count": 191,
      "outputs": []
    },
    {
      "cell_type": "code",
      "metadata": {
        "id": "7xqlr1ZTXxaL"
      },
      "source": [
        "new"
      ],
      "execution_count": null,
      "outputs": []
    },
    {
      "cell_type": "code",
      "metadata": {
        "id": "HU426xBVXxaN"
      },
      "source": [
        "list_new = []\n",
        "for profile in new:\n",
        "    list_new.append({'profile': profile.username})"
      ],
      "execution_count": 193,
      "outputs": []
    },
    {
      "cell_type": "code",
      "metadata": {
        "id": "L8OLA_PnXxaT"
      },
      "source": [
        "list_ghost = []\n",
        "for profile in ghosts:\n",
        "    list_ghost.append({'profile': profile.username})"
      ],
      "execution_count": 194,
      "outputs": []
    },
    {
      "cell_type": "code",
      "metadata": {
        "id": "NzE7QAFnXxaY"
      },
      "source": [
        "import pandas as pd\n",
        "pd.DataFrame(list_new).to_csv('new.csv')\n",
        "pd.DataFrame(list_ghost).to_csv('ghost.csv')"
      ],
      "execution_count": 195,
      "outputs": []
    },
    {
      "cell_type": "code",
      "metadata": {
        "id": "0E7pN-fRXxao"
      },
      "source": [
        ""
      ],
      "execution_count": null,
      "outputs": []
    }
  ]
}